{
 "cells": [
  {
   "cell_type": "markdown",
   "metadata": {},
   "source": [
    "## CNN BASELINE MODEL"
   ]
  },
  {
   "cell_type": "code",
   "execution_count": 1,
   "metadata": {},
   "outputs": [],
   "source": [
    "import os \n",
    "os.environ[\"CUDA_VISIBLE_DEVICES\"]=\"0,1\""
   ]
  },
  {
   "cell_type": "code",
   "execution_count": 2,
   "metadata": {},
   "outputs": [
    {
     "name": "stderr",
     "output_type": "stream",
     "text": [
      "Using TensorFlow backend.\n"
     ]
    }
   ],
   "source": [
    "import json\n",
    "\n",
    "import numpy as np\n",
    "import pandas as pd\n",
    "import keras\n",
    "from keras.callbacks import Callback\n",
    "from keras.datasets import cifar10\n",
    "from keras.preprocessing.image import ImageDataGenerator\n",
    "from keras.models import Sequential\n",
    "from keras.layers import Dense, Dropout, Activation, Flatten\n",
    "from keras.layers import Conv2D, MaxPooling2D\n",
    "from sklearn.metrics import confusion_matrix, f1_score, precision_score, recall_score\n",
    "from sklearn.model_selection import train_test_split"
   ]
  },
  {
   "cell_type": "markdown",
   "metadata": {},
   "source": [
    "### 1.Loading 32x32 dataset"
   ]
  },
  {
   "cell_type": "code",
   "execution_count": 3,
   "metadata": {},
   "outputs": [],
   "source": [
    "X_train = np.load('/home/zxt/data/22_category/32/2k/X_train.npy')\n",
    "X_validate = np.load('/home/zxt/data/22_category/32/2k/X_validate.npy')\n",
    "X_test = np.load('/home/zxt/data/22_category/32/2k/X_test.npy')\n",
    "Y_train = np.load('/home/zxt/data/22_category/32/2k/Y_train.npy')\n",
    "Y_validate = np.load('/home/zxt/data/22_category/32/2k/Y_validate.npy')\n",
    "Y_test = np.load('/home/zxt/data/22_category/32/2k/Y_test.npy')"
   ]
  },
  {
   "cell_type": "code",
   "execution_count": 4,
   "metadata": {},
   "outputs": [
    {
     "name": "stdout",
     "output_type": "stream",
     "text": [
      "X_train shape: (35200, 32, 32, 3)\n",
      "35200 train samples\n",
      "4400 validate samples\n",
      "4400 test samples\n"
     ]
    }
   ],
   "source": [
    "print('X_train shape:', X_train.shape)\n",
    "print(X_train.shape[0], 'train samples')\n",
    "print(X_validate.shape[0], 'validate samples')\n",
    "print(X_test.shape[0], 'test samples')"
   ]
  },
  {
   "cell_type": "code",
   "execution_count": 5,
   "metadata": {},
   "outputs": [],
   "source": [
    "# Convert the images to float and scale it to a range of 0 to 1\n",
    "# x_train = X_train.astype('float32')\n",
    "# x_validate = X_validate.astype('float32')\n",
    "# x_test = X_test.astype('float32')\n",
    "\n",
    "X_train /=255.\n",
    "X_validate /=  255.\n",
    "X_test /= 255."
   ]
  },
  {
   "cell_type": "code",
   "execution_count": 11,
   "metadata": {},
   "outputs": [],
   "source": [
    "# Y_train label\n",
    "for i in Y_train:\n",
    "    if i[0]=='elephant':\n",
    "        i[0]=0\n",
    "    if i[0]=='wild_boar':\n",
    "        i[0]=1\n",
    "    if i[0]=='gazellethomosons':\n",
    "        i[0]=2\n",
    "    if i[0]=='squirrel':\n",
    "        i[0]=3 \n",
    "    if i[0]=='hedgehog':\n",
    "        i[0]=4\n",
    "    if i[0]=='guineafowl':\n",
    "        i[0]=5\n",
    "    if i[0]=='moose':\n",
    "        i[0]=6\n",
    "    if i[0]=='bobcat':\n",
    "        i[0]=7   \n",
    "    if i[0]=='bird':\n",
    "        i[0]=8\n",
    "    if i[0]=='fox':\n",
    "        i[0]=9\n",
    "    if i[0]=='giraffe':\n",
    "        i[0]=10\n",
    "    if i[0]=='buffalo':\n",
    "        i[0]=11\n",
    "    if i[0]=='hare':\n",
    "        i[0]=12\n",
    "    if i[0]=='vehicle':\n",
    "        i[0]=13\n",
    "    if i[0]=='wildebeest':\n",
    "        i[0]=14\n",
    "    if i[0]=='cattle':\n",
    "        i[0]=15 \n",
    "    if i[0]=='skunk':\n",
    "        i[0]=16\n",
    "    if i[0]=='lion':\n",
    "        i[0]=17\n",
    "    if i[0]=='zebra':\n",
    "        i[0]=18\n",
    "    if i[0]=='black_bear':\n",
    "        i[0]=19\n",
    "    if i[0]=='racoon':\n",
    "        i[0]=20\n",
    "    if i[0]=='coyote':\n",
    "        i[0]=21"
   ]
  },
  {
   "cell_type": "code",
   "execution_count": 12,
   "metadata": {},
   "outputs": [],
   "source": [
    "for i in Y_validate:\n",
    "    if i[0]=='elephant':\n",
    "        i[0]=0\n",
    "    if i[0]=='wild_boar':\n",
    "        i[0]=1\n",
    "    if i[0]=='gazellethomosons':\n",
    "        i[0]=2\n",
    "    if i[0]=='squirrel':\n",
    "        i[0]=3 \n",
    "    if i[0]=='hedgehog':\n",
    "        i[0]=4\n",
    "    if i[0]=='guineafowl':\n",
    "        i[0]=5\n",
    "    if i[0]=='moose':\n",
    "        i[0]=6\n",
    "    if i[0]=='bobcat':\n",
    "        i[0]=7   \n",
    "    if i[0]=='bird':\n",
    "        i[0]=8\n",
    "    if i[0]=='fox':\n",
    "        i[0]=9\n",
    "    if i[0]=='giraffe':\n",
    "        i[0]=10\n",
    "    if i[0]=='buffalo':\n",
    "        i[0]=11\n",
    "    if i[0]=='hare':\n",
    "        i[0]=12\n",
    "    if i[0]=='vehicle':\n",
    "        i[0]=13\n",
    "    if i[0]=='wildebeest':\n",
    "        i[0]=14\n",
    "    if i[0]=='cattle':\n",
    "        i[0]=15 \n",
    "    if i[0]=='skunk':\n",
    "        i[0]=16\n",
    "    if i[0]=='lion':\n",
    "        i[0]=17\n",
    "    if i[0]=='zebra':\n",
    "        i[0]=18\n",
    "    if i[0]=='black_bear':\n",
    "        i[0]=19\n",
    "    if i[0]=='racoon':\n",
    "        i[0]=20\n",
    "    if i[0]=='coyote':\n",
    "        i[0]=21"
   ]
  },
  {
   "cell_type": "code",
   "execution_count": 13,
   "metadata": {},
   "outputs": [],
   "source": [
    "for i in Y_test:\n",
    "    if i[0]=='elephant':\n",
    "        i[0]=0\n",
    "    if i[0]=='wild_boar':\n",
    "        i[0]=1\n",
    "    if i[0]=='gazellethomosons':\n",
    "        i[0]=2\n",
    "    if i[0]=='squirrel':\n",
    "        i[0]=3 \n",
    "    if i[0]=='hedgehog':\n",
    "        i[0]=4\n",
    "    if i[0]=='guineafowl':\n",
    "        i[0]=5\n",
    "    if i[0]=='moose':\n",
    "        i[0]=6\n",
    "    if i[0]=='bobcat':\n",
    "        i[0]=7   \n",
    "    if i[0]=='bird':\n",
    "        i[0]=8\n",
    "    if i[0]=='fox':\n",
    "        i[0]=9\n",
    "    if i[0]=='giraffe':\n",
    "        i[0]=10\n",
    "    if i[0]=='buffalo':\n",
    "        i[0]=11\n",
    "    if i[0]=='hare':\n",
    "        i[0]=12\n",
    "    if i[0]=='vehicle':\n",
    "        i[0]=13\n",
    "    if i[0]=='wildebeest':\n",
    "        i[0]=14\n",
    "    if i[0]=='cattle':\n",
    "        i[0]=15 \n",
    "    if i[0]=='skunk':\n",
    "        i[0]=16\n",
    "    if i[0]=='lion':\n",
    "        i[0]=17\n",
    "    if i[0]=='zebra':\n",
    "        i[0]=18\n",
    "    if i[0]=='black_bear':\n",
    "        i[0]=19\n",
    "    if i[0]=='racoon':\n",
    "        i[0]=20\n",
    "    if i[0]=='coyote':\n",
    "        i[0]=21"
   ]
  },
  {
   "cell_type": "code",
   "execution_count": 15,
   "metadata": {},
   "outputs": [],
   "source": [
    "from keras.utils import np_utils\n",
    "y_train=np_utils.to_categorical(Y_train,22)\n",
    "y_valid=np_utils.to_categorical(Y_validate,22)\n",
    "y_test=np_utils.to_categorical(Y_test,22)"
   ]
  },
  {
   "cell_type": "code",
   "execution_count": 16,
   "metadata": {},
   "outputs": [
    {
     "data": {
      "text/plain": [
       "array([[0., 0., 0., ..., 0., 0., 0.],\n",
       "       [0., 0., 0., ..., 0., 0., 0.],\n",
       "       [0., 0., 0., ..., 0., 0., 0.],\n",
       "       ...,\n",
       "       [0., 0., 0., ..., 0., 0., 0.],\n",
       "       [0., 0., 0., ..., 0., 0., 0.],\n",
       "       [0., 0., 0., ..., 1., 0., 0.]], dtype=float32)"
      ]
     },
     "execution_count": 16,
     "metadata": {},
     "output_type": "execute_result"
    }
   ],
   "source": [
    "y_test"
   ]
  },
  {
   "cell_type": "markdown",
   "metadata": {},
   "source": [
    "### 2. Create Callback for F1 score"
   ]
  },
  {
   "cell_type": "code",
   "execution_count": 17,
   "metadata": {},
   "outputs": [],
   "source": [
    "class Metrics(Callback):\n",
    "\n",
    "    def on_train_begin(self, logs={}):\n",
    "        self.val_f1s = []\n",
    "        self.val_recalls = []\n",
    "        self.val_precisions = []\n",
    "\n",
    "    def on_epoch_end(self, epoch, logs={}):\n",
    "        X_val, y_val = self.validation_data[:2]\n",
    "        y_pred = self.model.predict(X_val)\n",
    "\n",
    "        y_pred_cat = keras.utils.to_categorical(\n",
    "            y_pred.argmax(axis=1),\n",
    "            num_classes=num_classes\n",
    "        )\n",
    "\n",
    "        _val_f1 = f1_score(y_val, y_pred_cat, average='macro')\n",
    "        _val_recall = recall_score(y_val, y_pred_cat, average='macro')\n",
    "        _val_precision = precision_score(y_val, y_pred_cat, average='macro')\n",
    "\n",
    "        self.val_f1s.append(_val_f1)\n",
    "        self.val_recalls.append(_val_recall)\n",
    "        self.val_precisions.append(_val_precision)\n",
    "\n",
    "        print((f\"val_f1: {_val_f1:.4f}\"\n",
    "               f\" - val_precision: {_val_precision:.4f}\"\n",
    "               f\" - val_recall: {_val_recall:.4f}\"))\n",
    "\n",
    "        return"
   ]
  },
  {
   "cell_type": "markdown",
   "metadata": {},
   "source": [
    "### 3. Creating and Training the Model¶"
   ]
  },
  {
   "cell_type": "code",
   "execution_count": 19,
   "metadata": {},
   "outputs": [],
   "source": [
    "batch_size = 64\n",
    "num_classes = 22\n",
    "epochs = 30\n",
    "save_dir = os.path.join(os.getcwd(), 'models')\n",
    "model_name = 'keras_cnn_2k_aug_model.h5'"
   ]
  },
  {
   "cell_type": "code",
   "execution_count": 20,
   "metadata": {},
   "outputs": [],
   "source": [
    "model = Sequential()\n",
    "model.add(Conv2D(32, (3, 3), padding='same',\n",
    "                 input_shape=X_train.shape[1:]))\n",
    "model.add(Activation('relu'))\n",
    "model.add(Conv2D(32, (3, 3)))\n",
    "model.add(Activation('relu'))\n",
    "model.add(MaxPooling2D(pool_size=(2, 2)))\n",
    "model.add(Dropout(0.25))\n",
    "\n",
    "model.add(Conv2D(64, (3, 3), padding='same'))\n",
    "model.add(Activation('relu'))\n",
    "model.add(Conv2D(64, (3, 3)))\n",
    "model.add(Activation('relu'))\n",
    "model.add(MaxPooling2D(pool_size=(2, 2)))\n",
    "model.add(Dropout(0.25))\n",
    "\n",
    "model.add(Flatten())\n",
    "model.add(Dense(512))\n",
    "model.add(Activation('relu'))\n",
    "model.add(Dropout(0.5))\n",
    "model.add(Dense(num_classes))\n",
    "model.add(Activation('softmax'))"
   ]
  },
  {
   "cell_type": "code",
   "execution_count": 21,
   "metadata": {},
   "outputs": [],
   "source": [
    "os.environ[\"CUDA_VISIBLE_DEVICES\"]=\"0,1\"\n",
    "\n",
    "from keras.utils import multi_gpu_model\n",
    "parallel_model = multi_gpu_model(model,gpus=2,cpu_merge=True)"
   ]
  },
  {
   "cell_type": "markdown",
   "metadata": {},
   "source": [
    "#### Data Augmentation"
   ]
  },
  {
   "cell_type": "code",
   "execution_count": 30,
   "metadata": {},
   "outputs": [],
   "source": [
    "image_datagen = ImageDataGenerator(\n",
    "    rotation_range=30,\n",
    "    width_shift_range=0.2,\n",
    "    height_shift_range=0.2,\n",
    "    shear_range=0.2,\n",
    "    zoom_range=0.2,\n",
    "    horizontal_flip=True,\n",
    "    brightness_range=[0.2,1],\n",
    "    fill_mode=\"nearest\")"
   ]
  },
  {
   "cell_type": "code",
   "execution_count": 18,
   "metadata": {},
   "outputs": [],
   "source": [
    "#training the image preprocessing\n",
    "image_datagen.fit(X_train, augment=True)"
   ]
  },
  {
   "cell_type": "code",
   "execution_count": 22,
   "metadata": {},
   "outputs": [
    {
     "name": "stdout",
     "output_type": "stream",
     "text": [
      "Train on 35200 samples, validate on 4400 samples\n",
      "Epoch 1/30\n",
      "35200/35200 [==============================] - 26s 745us/step - loss: 1.9710 - accuracy: 0.3389 - val_loss: 1.4775 - val_accuracy: 0.4991\n",
      "val_f1: 0.4678 - val_precision: 0.4820 - val_recall: 0.4967\n",
      "Epoch 2/30\n",
      "35200/35200 [==============================] - 10s 296us/step - loss: 1.4568 - accuracy: 0.4943 - val_loss: 1.2809 - val_accuracy: 0.5675\n",
      "val_f1: 0.5490 - val_precision: 0.5675 - val_recall: 0.5676\n",
      "Epoch 3/30\n",
      "35200/35200 [==============================] - 10s 294us/step - loss: 1.2946 - accuracy: 0.5516 - val_loss: 1.1806 - val_accuracy: 0.5900\n",
      "val_f1: 0.5671 - val_precision: 0.5982 - val_recall: 0.5906\n",
      "Epoch 4/30\n",
      "35200/35200 [==============================] - 10s 297us/step - loss: 1.1915 - accuracy: 0.5848 - val_loss: 1.1106 - val_accuracy: 0.6211\n",
      "val_f1: 0.6051 - val_precision: 0.6164 - val_recall: 0.6218\n",
      "Epoch 5/30\n",
      "35200/35200 [==============================] - 10s 293us/step - loss: 1.1161 - accuracy: 0.6113 - val_loss: 1.0500 - val_accuracy: 0.6420\n",
      "val_f1: 0.6261 - val_precision: 0.6368 - val_recall: 0.6408\n",
      "Epoch 6/30\n",
      "35200/35200 [==============================] - 10s 294us/step - loss: 1.0498 - accuracy: 0.6323 - val_loss: 1.0171 - val_accuracy: 0.6484\n",
      "val_f1: 0.6399 - val_precision: 0.6445 - val_recall: 0.6479\n",
      "Epoch 7/30\n",
      "35200/35200 [==============================] - 10s 294us/step - loss: 0.9871 - accuracy: 0.6580 - val_loss: 0.9788 - val_accuracy: 0.6661\n",
      "val_f1: 0.6471 - val_precision: 0.6685 - val_recall: 0.6653\n",
      "Epoch 8/30\n",
      "35200/35200 [==============================] - 10s 293us/step - loss: 0.9382 - accuracy: 0.6682 - val_loss: 0.9571 - val_accuracy: 0.6734\n",
      "val_f1: 0.6629 - val_precision: 0.6703 - val_recall: 0.6731\n",
      "Epoch 9/30\n",
      "35200/35200 [==============================] - 10s 295us/step - loss: 0.8982 - accuracy: 0.6845 - val_loss: 0.8981 - val_accuracy: 0.6968\n",
      "val_f1: 0.6841 - val_precision: 0.6920 - val_recall: 0.6955\n",
      "Epoch 10/30\n",
      "35200/35200 [==============================] - 10s 296us/step - loss: 0.8560 - accuracy: 0.6978 - val_loss: 0.8879 - val_accuracy: 0.7043\n",
      "val_f1: 0.6944 - val_precision: 0.7021 - val_recall: 0.7038\n",
      "Epoch 11/30\n",
      "35200/35200 [==============================] - 10s 295us/step - loss: 0.8148 - accuracy: 0.7157 - val_loss: 0.8749 - val_accuracy: 0.7061\n",
      "val_f1: 0.6964 - val_precision: 0.6988 - val_recall: 0.7056\n",
      "Epoch 12/30\n",
      "35200/35200 [==============================] - 10s 294us/step - loss: 0.7868 - accuracy: 0.7246 - val_loss: 0.8662 - val_accuracy: 0.7080\n",
      "val_f1: 0.6992 - val_precision: 0.7011 - val_recall: 0.7074\n",
      "Epoch 13/30\n",
      "35200/35200 [==============================] - 10s 293us/step - loss: 0.7664 - accuracy: 0.7294 - val_loss: 0.8487 - val_accuracy: 0.7195\n",
      "val_f1: 0.7128 - val_precision: 0.7126 - val_recall: 0.7192\n",
      "Epoch 14/30\n",
      "35200/35200 [==============================] - 10s 292us/step - loss: 0.7404 - accuracy: 0.7408 - val_loss: 0.8553 - val_accuracy: 0.7193\n",
      "val_f1: 0.7096 - val_precision: 0.7127 - val_recall: 0.7189\n",
      "Epoch 15/30\n",
      "35200/35200 [==============================] - 10s 292us/step - loss: 0.7249 - accuracy: 0.7427 - val_loss: 0.8524 - val_accuracy: 0.7200\n",
      "val_f1: 0.7136 - val_precision: 0.7180 - val_recall: 0.7201\n",
      "Epoch 16/30\n",
      "35200/35200 [==============================] - 10s 293us/step - loss: 0.6905 - accuracy: 0.7555 - val_loss: 0.8333 - val_accuracy: 0.7286\n",
      "val_f1: 0.7206 - val_precision: 0.7227 - val_recall: 0.7286\n",
      "Epoch 17/30\n",
      "35200/35200 [==============================] - 10s 293us/step - loss: 0.6658 - accuracy: 0.7631 - val_loss: 0.8333 - val_accuracy: 0.7293\n",
      "val_f1: 0.7230 - val_precision: 0.7246 - val_recall: 0.7292\n",
      "Epoch 18/30\n",
      "35200/35200 [==============================] - 10s 294us/step - loss: 0.6584 - accuracy: 0.7691 - val_loss: 0.8364 - val_accuracy: 0.7295\n",
      "val_f1: 0.7246 - val_precision: 0.7280 - val_recall: 0.7295\n",
      "Epoch 19/30\n",
      "35200/35200 [==============================] - 10s 293us/step - loss: 0.6366 - accuracy: 0.7738 - val_loss: 0.8448 - val_accuracy: 0.7295\n",
      "val_f1: 0.7233 - val_precision: 0.7263 - val_recall: 0.7295\n",
      "Epoch 20/30\n",
      "35200/35200 [==============================] - 10s 295us/step - loss: 0.6262 - accuracy: 0.7776 - val_loss: 0.8264 - val_accuracy: 0.7327\n",
      "val_f1: 0.7281 - val_precision: 0.7313 - val_recall: 0.7332\n",
      "Epoch 21/30\n",
      "35200/35200 [==============================] - 10s 295us/step - loss: 0.6051 - accuracy: 0.7872 - val_loss: 0.8229 - val_accuracy: 0.7384\n",
      "val_f1: 0.7329 - val_precision: 0.7362 - val_recall: 0.7379\n",
      "Epoch 22/30\n",
      "35200/35200 [==============================] - 11s 301us/step - loss: 0.5942 - accuracy: 0.7886 - val_loss: 0.8293 - val_accuracy: 0.7380\n",
      "val_f1: 0.7331 - val_precision: 0.7353 - val_recall: 0.7378\n",
      "Epoch 23/30\n",
      "35200/35200 [==============================] - 10s 295us/step - loss: 0.5734 - accuracy: 0.7961 - val_loss: 0.8402 - val_accuracy: 0.7434\n",
      "val_f1: 0.7382 - val_precision: 0.7397 - val_recall: 0.7432\n",
      "Epoch 24/30\n",
      "35200/35200 [==============================] - 10s 294us/step - loss: 0.5690 - accuracy: 0.7969 - val_loss: 0.8198 - val_accuracy: 0.7484\n",
      "val_f1: 0.7441 - val_precision: 0.7486 - val_recall: 0.7478\n",
      "Epoch 25/30\n",
      "35200/35200 [==============================] - 10s 283us/step - loss: 0.5519 - accuracy: 0.8044 - val_loss: 0.8235 - val_accuracy: 0.7484\n",
      "val_f1: 0.7426 - val_precision: 0.7438 - val_recall: 0.7481\n",
      "Epoch 26/30\n",
      "35200/35200 [==============================] - 10s 293us/step - loss: 0.5491 - accuracy: 0.8064 - val_loss: 0.8435 - val_accuracy: 0.7430\n",
      "val_f1: 0.7372 - val_precision: 0.7400 - val_recall: 0.7419\n",
      "Epoch 27/30\n",
      "35200/35200 [==============================] - 10s 292us/step - loss: 0.5371 - accuracy: 0.8106 - val_loss: 0.8220 - val_accuracy: 0.7398\n",
      "val_f1: 0.7369 - val_precision: 0.7411 - val_recall: 0.7401\n",
      "Epoch 28/30\n",
      "35200/35200 [==============================] - 10s 293us/step - loss: 0.5391 - accuracy: 0.8091 - val_loss: 0.8139 - val_accuracy: 0.7559\n",
      "val_f1: 0.7522 - val_precision: 0.7530 - val_recall: 0.7560\n",
      "Epoch 29/30\n",
      "35200/35200 [==============================] - 10s 292us/step - loss: 0.5197 - accuracy: 0.8143 - val_loss: 0.8356 - val_accuracy: 0.7500\n",
      "val_f1: 0.7463 - val_precision: 0.7466 - val_recall: 0.7508\n",
      "Epoch 30/30\n",
      "35200/35200 [==============================] - 10s 293us/step - loss: 0.5184 - accuracy: 0.8175 - val_loss: 0.8375 - val_accuracy: 0.7511\n",
      "val_f1: 0.7480 - val_precision: 0.7505 - val_recall: 0.7514\n"
     ]
    }
   ],
   "source": [
    "f1_metrics = Metrics()\n",
    "\n",
    "parallel_model.compile(\n",
    "    loss='categorical_crossentropy',\n",
    "    optimizer='adam',\n",
    "    metrics=['accuracy']\n",
    ")\n",
    "\n",
    "hist = parallel_model.fit(\n",
    "    X_train, \n",
    "    y_train,\n",
    "    batch_size=batch_size,\n",
    "    epochs=epochs,\n",
    "    callbacks=[f1_metrics],\n",
    "    validation_data=(X_validate, y_valid)\n",
    ")"
   ]
  },
  {
   "cell_type": "markdown",
   "metadata": {},
   "source": [
    "### 3."
   ]
  },
  {
   "cell_type": "code",
   "execution_count": 23,
   "metadata": {},
   "outputs": [],
   "source": [
    "model.save('/home/zxt/data/model/cnn_baseline_2k_32_64batchsize30epoch.h5')"
   ]
  },
  {
   "cell_type": "code",
   "execution_count": null,
   "metadata": {},
   "outputs": [],
   "source": []
  },
  {
   "cell_type": "markdown",
   "metadata": {},
   "source": [
    "### 4. Evaluation"
   ]
  },
  {
   "cell_type": "code",
   "execution_count": 24,
   "metadata": {},
   "outputs": [],
   "source": [
    "history_df = pd.DataFrame(hist.history)\n",
    "history_df['val_f1'] = f1_metrics.val_f1s\n",
    "history_df['val_precision'] = f1_metrics.val_precisions\n",
    "history_df['val_recall'] = f1_metrics.val_recalls\n",
    "\n",
    "# history_df[['loss', 'val_loss']].plot()\n",
    "# history_df[['acc', 'val_acc']].plot()\n",
    "# history_df[['val_f1', 'val_precision', 'val_recall']].plot()"
   ]
  },
  {
   "cell_type": "code",
   "execution_count": 27,
   "metadata": {},
   "outputs": [
    {
     "data": {
      "text/plain": [
       "<matplotlib.axes._subplots.AxesSubplot at 0x7fadfc128ad0>"
      ]
     },
     "execution_count": 27,
     "metadata": {},
     "output_type": "execute_result"
    },
    {
     "data": {
      "image/png": "[encoded data removed]",
      "text/plain": [
       "<Figure size 432x288 with 1 Axes>"
      ]
     },
     "metadata": {
      "needs_background": "light"
     },
     "output_type": "display_data"
    }
   ],
   "source": [
    "history_df[['loss', 'val_loss']].plot()"
   ]
  },
  {
   "cell_type": "code",
   "execution_count": 26,
   "metadata": {},
   "outputs": [
    {
     "data": {
      "text/plain": [
       "<matplotlib.axes._subplots.AxesSubplot at 0x7fadfc136f90>"
      ]
     },
     "execution_count": 26,
     "metadata": {},
     "output_type": "execute_result"
    },
    {
     "data": {
      "image/png": "[encoded data removed]",
      "text/plain": [
       "<Figure size 432x288 with 1 Axes>"
      ]
     },
     "metadata": {
      "needs_background": "light"
     },
     "output_type": "display_data"
    }
   ],
   "source": [
    "history_df[['val_f1', 'val_precision', 'val_recall']].plot()"
   ]
  },
  {
   "cell_type": "code",
   "execution_count": 28,
   "metadata": {},
   "outputs": [
    {
     "data": {
      "text/plain": [
       "<matplotlib.axes._subplots.AxesSubplot at 0x7fadfc062810>"
      ]
     },
     "execution_count": 28,
     "metadata": {},
     "output_type": "execute_result"
    },
    {
     "data": {
      "image/png": "[encoded data removed]",
      "text/plain": [
       "<Figure size 432x288 with 1 Axes>"
      ]
     },
     "metadata": {
      "needs_background": "light"
     },
     "output_type": "display_data"
    }
   ],
   "source": [
    "history_df[['accuracy', 'val_accuracy']].plot()"
   ]
  },
  {
   "cell_type": "markdown",
   "metadata": {},
   "source": [
    "### 5. Prediction"
   ]
  },
  {
   "cell_type": "code",
   "execution_count": 29,
   "metadata": {},
   "outputs": [
    {
     "name": "stdout",
     "output_type": "stream",
     "text": [
      "4400/4400 [==============================] - 1s 193us/step\n",
      "\n",
      "test loss 0.7890304691141302\n",
      "accuracy 0.7577272653579712\n"
     ]
    }
   ],
   "source": [
    "loss,accuracy = parallel_model.evaluate(X_test,y_test)\n",
    "print('\\ntest loss',loss)\n",
    "print('accuracy',accuracy)"
   ]
  },
  {
   "cell_type": "code",
   "execution_count": null,
   "metadata": {},
   "outputs": [],
   "source": []
  },
  {
   "cell_type": "code",
   "execution_count": null,
   "metadata": {},
   "outputs": [],
   "source": []
  },
  {
   "cell_type": "code",
   "execution_count": null,
   "metadata": {},
   "outputs": [],
   "source": []
  }
 ],
 "metadata": {
  "kernelspec": {
   "display_name": "Python 3",
   "language": "python",
   "name": "python3"
  },
  "language_info": {
   "codemirror_mode": {
    "name": "ipython",
    "version": 3
   },
   "file_extension": ".py",
   "mimetype": "text/x-python",
   "name": "python",
   "nbconvert_exporter": "python",
   "pygments_lexer": "ipython3",
   "version": "3.7.4"
  }
 },
 "nbformat": 4,
 "nbformat_minor": 4
}
