{
 "cells": [
  {
   "cell_type": "markdown",
   "metadata": {},
   "source": [
    "## CNN BASELINE MODEL"
   ]
  },
  {
   "cell_type": "code",
   "execution_count": 1,
   "metadata": {},
   "outputs": [],
   "source": [
    "import os \n",
    "os.environ[\"CUDA_VISIBLE_DEVICES\"]=\"0,1,2,3\""
   ]
  },
  {
   "cell_type": "code",
   "execution_count": 2,
   "metadata": {},
   "outputs": [
    {
     "name": "stderr",
     "output_type": "stream",
     "text": [
      "Using TensorFlow backend.\n"
     ]
    }
   ],
   "source": [
    "import json\n",
    "\n",
    "import numpy as np\n",
    "import pandas as pd\n",
    "import keras\n",
    "from keras.callbacks import Callback\n",
    "from keras.datasets import cifar10\n",
    "from keras.preprocessing.image import ImageDataGenerator\n",
    "from keras.models import Sequential\n",
    "from keras.layers import Dense, Dropout, Activation, Flatten\n",
    "from keras.layers import Conv2D, MaxPooling2D\n",
    "from sklearn.metrics import confusion_matrix, f1_score, precision_score, recall_score\n",
    "from sklearn.model_selection import train_test_split"
   ]
  },
  {
   "cell_type": "markdown",
   "metadata": {},
   "source": [
    "### 1.Loading 224x224 dataset"
   ]
  },
  {
   "cell_type": "code",
   "execution_count": 3,
   "metadata": {},
   "outputs": [],
   "source": [
    "X_train = np.load('/home/zxt/data/32/5k/X_train.npy')\n",
    "X_validate = np.load('/home/zxt/data/32/5k/X_validate.npy')\n",
    "X_test = np.load('/home/zxt/data/32/5k/X_test.npy')\n",
    "Y_train = np.load('/home/zxt/data/32/5k/Y_train.npy')\n",
    "Y_validate = np.load('/home/zxt/data/32/5k/Y_validate.npy')\n",
    "Y_test = np.load('/home/zxt/data/32/5k/Y_test.npy')"
   ]
  },
  {
   "cell_type": "code",
   "execution_count": 4,
   "metadata": {},
   "outputs": [
    {
     "name": "stdout",
     "output_type": "stream",
     "text": [
      "X_train shape: (70000, 32, 32, 3)\n",
      "70000 train samples\n",
      "21000 validate samples\n",
      "9000 test samples\n"
     ]
    }
   ],
   "source": [
    "print('X_train shape:', X_train.shape)\n",
    "print(X_train.shape[0], 'train samples')\n",
    "print(X_validate.shape[0], 'validate samples')\n",
    "print(X_test.shape[0], 'test samples')"
   ]
  },
  {
   "cell_type": "code",
   "execution_count": 5,
   "metadata": {},
   "outputs": [],
   "source": [
    "# Convert the images to float and scale it to a range of 0 to 1\n",
    "# x_train = X_train.astype('float32')\n",
    "# x_validate = X_validate.astype('float32')\n",
    "# x_test = X_test.astype('float32')\n",
    "\n",
    "X_train /=255.\n",
    "X_validate /=  255.\n",
    "X_test /= 255."
   ]
  },
  {
   "cell_type": "code",
   "execution_count": 6,
   "metadata": {},
   "outputs": [],
   "source": [
    "# Y_train label\n",
    "for i in Y_train:\n",
    "    if i[0]=='elephant':\n",
    "        i[0]=0\n",
    "    if i[0]=='wild_boar':\n",
    "        i[0]=1\n",
    "    if i[0]=='gazellethomosons':\n",
    "        i[0]=2\n",
    "    if i[0]=='squirrel':\n",
    "        i[0]=3 \n",
    "    if i[0]=='hedgehog':\n",
    "        i[0]=4\n",
    "    if i[0]=='guineafowl':\n",
    "        i[0]=5\n",
    "    if i[0]=='moose':\n",
    "        i[0]=6\n",
    "    if i[0]=='bobcat':\n",
    "        i[0]=7   \n",
    "    if i[0]=='bird':\n",
    "        i[0]=8\n",
    "    if i[0]=='fox':\n",
    "        i[0]=9\n",
    "    if i[0]=='giraffe':\n",
    "        i[0]=10\n",
    "    if i[0]=='buffalo':\n",
    "        i[0]=11\n",
    "    if i[0]=='hare':\n",
    "        i[0]=12\n",
    "    if i[0]=='vehicle':\n",
    "        i[0]=13\n",
    "    if i[0]=='wildebeest':\n",
    "        i[0]=14\n",
    "    if i[0]=='cattle':\n",
    "        i[0]=15 \n",
    "    if i[0]=='skunk':\n",
    "        i[0]=16\n",
    "    if i[0]=='lion':\n",
    "        i[0]=17\n",
    "    if i[0]=='zebra':\n",
    "        i[0]=18\n",
    "    if i[0]=='black_bear':\n",
    "        i[0]=19"
   ]
  },
  {
   "cell_type": "code",
   "execution_count": 7,
   "metadata": {},
   "outputs": [],
   "source": [
    "for i in Y_validate:\n",
    "    if i[0]=='elephant':\n",
    "        i[0]=0\n",
    "    if i[0]=='wild_boar':\n",
    "        i[0]=1\n",
    "    if i[0]=='gazellethomosons':\n",
    "        i[0]=2\n",
    "    if i[0]=='squirrel':\n",
    "        i[0]=3 \n",
    "    if i[0]=='hedgehog':\n",
    "        i[0]=4\n",
    "    if i[0]=='guineafowl':\n",
    "        i[0]=5\n",
    "    if i[0]=='moose':\n",
    "        i[0]=6\n",
    "    if i[0]=='bobcat':\n",
    "        i[0]=7   \n",
    "    if i[0]=='bird':\n",
    "        i[0]=8\n",
    "    if i[0]=='fox':\n",
    "        i[0]=9\n",
    "    if i[0]=='giraffe':\n",
    "        i[0]=10\n",
    "    if i[0]=='buffalo':\n",
    "        i[0]=11\n",
    "    if i[0]=='hare':\n",
    "        i[0]=12\n",
    "    if i[0]=='vehicle':\n",
    "        i[0]=13\n",
    "    if i[0]=='wildebeest':\n",
    "        i[0]=14\n",
    "    if i[0]=='cattle':\n",
    "        i[0]=15 \n",
    "    if i[0]=='skunk':\n",
    "        i[0]=16\n",
    "    if i[0]=='lion':\n",
    "        i[0]=17\n",
    "    if i[0]=='zebra':\n",
    "        i[0]=18\n",
    "    if i[0]=='black_bear':\n",
    "        i[0]=19"
   ]
  },
  {
   "cell_type": "code",
   "execution_count": 8,
   "metadata": {},
   "outputs": [],
   "source": [
    "for i in Y_test:\n",
    "    if i[0]=='elephant':\n",
    "        i[0]=0\n",
    "    if i[0]=='wild_boar':\n",
    "        i[0]=1\n",
    "    if i[0]=='gazellethomosons':\n",
    "        i[0]=2\n",
    "    if i[0]=='squirrel':\n",
    "        i[0]=3 \n",
    "    if i[0]=='hedgehog':\n",
    "        i[0]=4\n",
    "    if i[0]=='guineafowl':\n",
    "        i[0]=5\n",
    "    if i[0]=='moose':\n",
    "        i[0]=6\n",
    "    if i[0]=='bobcat':\n",
    "        i[0]=7   \n",
    "    if i[0]=='bird':\n",
    "        i[0]=8\n",
    "    if i[0]=='fox':\n",
    "        i[0]=9\n",
    "    if i[0]=='giraffe':\n",
    "        i[0]=10\n",
    "    if i[0]=='buffalo':\n",
    "        i[0]=11\n",
    "    if i[0]=='hare':\n",
    "        i[0]=12\n",
    "    if i[0]=='vehicle':\n",
    "        i[0]=13\n",
    "    if i[0]=='wildebeest':\n",
    "        i[0]=14\n",
    "    if i[0]=='cattle':\n",
    "        i[0]=15 \n",
    "    if i[0]=='skunk':\n",
    "        i[0]=16\n",
    "    if i[0]=='lion':\n",
    "        i[0]=17\n",
    "    if i[0]=='zebra':\n",
    "        i[0]=18\n",
    "    if i[0]=='black_bear':\n",
    "        i[0]=19"
   ]
  },
  {
   "cell_type": "code",
   "execution_count": 9,
   "metadata": {},
   "outputs": [],
   "source": [
    "from keras.utils import np_utils\n",
    "y_train=np_utils.to_categorical(Y_train,20)\n",
    "y_valid=np_utils.to_categorical(Y_validate,20)\n",
    "y_test=np_utils.to_categorical(Y_test,20)\n"
   ]
  },
  {
   "cell_type": "code",
   "execution_count": 10,
   "metadata": {},
   "outputs": [
    {
     "data": {
      "text/plain": [
       "array([[0., 0., 0., ..., 0., 0., 0.],\n",
       "       [0., 0., 0., ..., 0., 0., 1.],\n",
       "       [0., 0., 0., ..., 0., 0., 0.],\n",
       "       ...,\n",
       "       [0., 0., 1., ..., 0., 0., 0.],\n",
       "       [0., 0., 0., ..., 0., 1., 0.],\n",
       "       [1., 0., 0., ..., 0., 0., 0.]], dtype=float32)"
      ]
     },
     "execution_count": 10,
     "metadata": {},
     "output_type": "execute_result"
    }
   ],
   "source": [
    "y_test"
   ]
  },
  {
   "cell_type": "markdown",
   "metadata": {},
   "source": [
    "### 2. Create Callback for F1 score"
   ]
  },
  {
   "cell_type": "code",
   "execution_count": 11,
   "metadata": {},
   "outputs": [],
   "source": [
    "class Metrics(Callback):\n",
    "\n",
    "    def on_train_begin(self, logs={}):\n",
    "        self.val_f1s = []\n",
    "        self.val_recalls = []\n",
    "        self.val_precisions = []\n",
    "\n",
    "    def on_epoch_end(self, epoch, logs={}):\n",
    "        X_val, y_val = self.validation_data[:2]\n",
    "        y_pred = self.model.predict(X_val)\n",
    "\n",
    "        y_pred_cat = keras.utils.to_categorical(\n",
    "            y_pred.argmax(axis=1),\n",
    "            num_classes=num_classes\n",
    "        )\n",
    "\n",
    "        _val_f1 = f1_score(y_val, y_pred_cat, average='macro')\n",
    "        _val_recall = recall_score(y_val, y_pred_cat, average='macro')\n",
    "        _val_precision = precision_score(y_val, y_pred_cat, average='macro')\n",
    "\n",
    "        self.val_f1s.append(_val_f1)\n",
    "        self.val_recalls.append(_val_recall)\n",
    "        self.val_precisions.append(_val_precision)\n",
    "\n",
    "        print((f\"val_f1: {_val_f1:.4f}\"\n",
    "               f\" - val_precision: {_val_precision:.4f}\"\n",
    "               f\" - val_recall: {_val_recall:.4f}\"))\n",
    "\n",
    "        return"
   ]
  },
  {
   "cell_type": "markdown",
   "metadata": {},
   "source": [
    "### 3. Creating and Training the Model¶"
   ]
  },
  {
   "cell_type": "code",
   "execution_count": 31,
   "metadata": {},
   "outputs": [],
   "source": [
    "batch_size = 256\n",
    "num_classes = 20\n",
    "epochs = 30\n",
    "save_dir = os.path.join(os.getcwd(), 'models')\n",
    "model_name = 'keras_cnn_5k_aug_model.h5'"
   ]
  },
  {
   "cell_type": "code",
   "execution_count": 32,
   "metadata": {},
   "outputs": [],
   "source": [
    "model = Sequential()\n",
    "model.add(Conv2D(32, (3, 3), padding='same',\n",
    "                 input_shape=X_train.shape[1:]))\n",
    "model.add(Activation('relu'))\n",
    "model.add(Conv2D(32, (3, 3)))\n",
    "model.add(Activation('relu'))\n",
    "model.add(MaxPooling2D(pool_size=(2, 2)))\n",
    "model.add(Dropout(0.25))\n",
    "\n",
    "model.add(Conv2D(64, (3, 3), padding='same'))\n",
    "model.add(Activation('relu'))\n",
    "model.add(Conv2D(64, (3, 3)))\n",
    "model.add(Activation('relu'))\n",
    "model.add(MaxPooling2D(pool_size=(2, 2)))\n",
    "model.add(Dropout(0.25))\n",
    "\n",
    "model.add(Flatten())\n",
    "model.add(Dense(512))\n",
    "model.add(Activation('relu'))\n",
    "model.add(Dropout(0.5))\n",
    "model.add(Dense(num_classes))\n",
    "model.add(Activation('softmax'))"
   ]
  },
  {
   "cell_type": "code",
   "execution_count": 14,
   "metadata": {},
   "outputs": [],
   "source": [
    "os.environ[\"CUDA_VISIBLE_DEVICES\"]=\"0,1,2,3\"\n",
    "\n",
    "from keras.utils import multi_gpu_model\n",
    "parallel_model = multi_gpu_model(model,gpus=4,cpu_merge=True)"
   ]
  },
  {
   "cell_type": "markdown",
   "metadata": {},
   "source": [
    "#### Data Augmentation"
   ]
  },
  {
   "cell_type": "code",
   "execution_count": 30,
   "metadata": {},
   "outputs": [],
   "source": [
    "image_datagen = ImageDataGenerator(\n",
    "    rotation_range=30,\n",
    "    width_shift_range=0.2,\n",
    "    height_shift_range=0.2,\n",
    "    shear_range=0.2,\n",
    "    zoom_range=0.2,\n",
    "    horizontal_flip=True,\n",
    "    brightness_range=[0.2,1],\n",
    "    fill_mode=\"nearest\")"
   ]
  },
  {
   "cell_type": "code",
   "execution_count": 18,
   "metadata": {},
   "outputs": [],
   "source": [
    "#training the image preprocessing\n",
    "image_datagen.fit(X_train, augment=True)"
   ]
  },
  {
   "cell_type": "code",
   "execution_count": 33,
   "metadata": {},
   "outputs": [
    {
     "name": "stdout",
     "output_type": "stream",
     "text": [
      "Train on 70000 samples, validate on 21000 samples\n",
      "Epoch 1/30\n",
      "70000/70000 [==============================] - 17s 240us/step - loss: 0.4701 - accuracy: 0.8339 - val_loss: 0.6028 - val_accuracy: 0.8110\n",
      "val_f1: 0.8106 - val_precision: 0.8114 - val_recall: 0.8125\n",
      "Epoch 2/30\n",
      "70000/70000 [==============================] - 15s 217us/step - loss: 0.4550 - accuracy: 0.8395 - val_loss: 0.6067 - val_accuracy: 0.8092\n",
      "val_f1: 0.8088 - val_precision: 0.8100 - val_recall: 0.8107\n",
      "Epoch 3/30\n",
      "70000/70000 [==============================] - 15s 217us/step - loss: 0.4400 - accuracy: 0.8445 - val_loss: 0.6004 - val_accuracy: 0.8112\n",
      "val_f1: 0.8102 - val_precision: 0.8110 - val_recall: 0.8127\n",
      "Epoch 4/30\n",
      "70000/70000 [==============================] - 15s 217us/step - loss: 0.4423 - accuracy: 0.8420 - val_loss: 0.5940 - val_accuracy: 0.8132\n",
      "val_f1: 0.8128 - val_precision: 0.8150 - val_recall: 0.8147\n",
      "Epoch 5/30\n",
      "70000/70000 [==============================] - 15s 218us/step - loss: 0.4341 - accuracy: 0.8468 - val_loss: 0.5915 - val_accuracy: 0.8126\n",
      "val_f1: 0.8123 - val_precision: 0.8131 - val_recall: 0.8139\n",
      "Epoch 6/30\n",
      "70000/70000 [==============================] - 15s 217us/step - loss: 0.4295 - accuracy: 0.8478 - val_loss: 0.6002 - val_accuracy: 0.8139\n",
      "val_f1: 0.8126 - val_precision: 0.8134 - val_recall: 0.8154\n",
      "Epoch 7/30\n",
      "70000/70000 [==============================] - 15s 218us/step - loss: 0.4273 - accuracy: 0.8491 - val_loss: 0.5964 - val_accuracy: 0.8117\n",
      "val_f1: 0.8114 - val_precision: 0.8118 - val_recall: 0.8130\n",
      "Epoch 8/30\n",
      "70000/70000 [==============================] - 15s 218us/step - loss: 0.4150 - accuracy: 0.8515 - val_loss: 0.6056 - val_accuracy: 0.8163\n",
      "val_f1: 0.8155 - val_precision: 0.8171 - val_recall: 0.8178\n",
      "Epoch 9/30\n",
      "70000/70000 [==============================] - 15s 218us/step - loss: 0.4144 - accuracy: 0.8531 - val_loss: 0.5977 - val_accuracy: 0.8117\n",
      "val_f1: 0.8113 - val_precision: 0.8138 - val_recall: 0.8130\n",
      "Epoch 10/30\n",
      "70000/70000 [==============================] - 15s 217us/step - loss: 0.4063 - accuracy: 0.8541 - val_loss: 0.6032 - val_accuracy: 0.8146\n",
      "val_f1: 0.8144 - val_precision: 0.8163 - val_recall: 0.8160\n",
      "Epoch 11/30\n",
      "70000/70000 [==============================] - 15s 218us/step - loss: 0.4130 - accuracy: 0.8529 - val_loss: 0.5975 - val_accuracy: 0.8156\n",
      "val_f1: 0.8146 - val_precision: 0.8154 - val_recall: 0.8170\n",
      "Epoch 12/30\n",
      "70000/70000 [==============================] - 15s 218us/step - loss: 0.4035 - accuracy: 0.8550 - val_loss: 0.5958 - val_accuracy: 0.8172\n",
      "val_f1: 0.8161 - val_precision: 0.8178 - val_recall: 0.8185\n",
      "Epoch 13/30\n",
      "70000/70000 [==============================] - 15s 218us/step - loss: 0.3970 - accuracy: 0.8591 - val_loss: 0.5902 - val_accuracy: 0.8172\n",
      "val_f1: 0.8172 - val_precision: 0.8187 - val_recall: 0.8185\n",
      "Epoch 14/30\n",
      "70000/70000 [==============================] - 15s 218us/step - loss: 0.3933 - accuracy: 0.8608 - val_loss: 0.5884 - val_accuracy: 0.8206\n",
      "val_f1: 0.8196 - val_precision: 0.8201 - val_recall: 0.8220\n",
      "Epoch 15/30\n",
      "70000/70000 [==============================] - 15s 218us/step - loss: 0.3939 - accuracy: 0.8596 - val_loss: 0.5901 - val_accuracy: 0.8180\n",
      "val_f1: 0.8172 - val_precision: 0.8176 - val_recall: 0.8193\n",
      "Epoch 16/30\n",
      "70000/70000 [==============================] - 15s 217us/step - loss: 0.3868 - accuracy: 0.8632 - val_loss: 0.5860 - val_accuracy: 0.8187\n",
      "val_f1: 0.8179 - val_precision: 0.8187 - val_recall: 0.8200\n",
      "Epoch 17/30\n",
      "70000/70000 [==============================] - 15s 218us/step - loss: 0.3809 - accuracy: 0.8630 - val_loss: 0.5942 - val_accuracy: 0.8210\n",
      "val_f1: 0.8203 - val_precision: 0.8207 - val_recall: 0.8223\n",
      "Epoch 18/30\n",
      "70000/70000 [==============================] - 15s 217us/step - loss: 0.3815 - accuracy: 0.8635 - val_loss: 0.6013 - val_accuracy: 0.8191\n",
      "val_f1: 0.8178 - val_precision: 0.8181 - val_recall: 0.8205\n",
      "Epoch 19/30\n",
      "70000/70000 [==============================] - 15s 218us/step - loss: 0.3774 - accuracy: 0.8645 - val_loss: 0.5957 - val_accuracy: 0.8160\n",
      "val_f1: 0.8152 - val_precision: 0.8165 - val_recall: 0.8174\n",
      "Epoch 20/30\n",
      "70000/70000 [==============================] - 15s 218us/step - loss: 0.3764 - accuracy: 0.8663 - val_loss: 0.6020 - val_accuracy: 0.8203\n",
      "val_f1: 0.8193 - val_precision: 0.8202 - val_recall: 0.8218\n",
      "Epoch 21/30\n",
      "70000/70000 [==============================] - 15s 218us/step - loss: 0.3719 - accuracy: 0.8668 - val_loss: 0.5902 - val_accuracy: 0.8212\n",
      "val_f1: 0.8210 - val_precision: 0.8229 - val_recall: 0.8228\n",
      "Epoch 22/30\n",
      "70000/70000 [==============================] - 15s 218us/step - loss: 0.3739 - accuracy: 0.8682 - val_loss: 0.5922 - val_accuracy: 0.8202\n",
      "val_f1: 0.8194 - val_precision: 0.8199 - val_recall: 0.8216\n",
      "Epoch 23/30\n",
      "70000/70000 [==============================] - 15s 217us/step - loss: 0.3616 - accuracy: 0.8709 - val_loss: 0.6070 - val_accuracy: 0.8180\n",
      "val_f1: 0.8173 - val_precision: 0.8177 - val_recall: 0.8194\n",
      "Epoch 24/30\n",
      "70000/70000 [==============================] - 15s 218us/step - loss: 0.3707 - accuracy: 0.8692 - val_loss: 0.5916 - val_accuracy: 0.8215\n",
      "val_f1: 0.8210 - val_precision: 0.8216 - val_recall: 0.8230\n",
      "Epoch 25/30\n",
      "70000/70000 [==============================] - 15s 218us/step - loss: 0.3609 - accuracy: 0.8719 - val_loss: 0.5902 - val_accuracy: 0.8234\n",
      "val_f1: 0.8233 - val_precision: 0.8241 - val_recall: 0.8246\n",
      "Epoch 26/30\n",
      "70000/70000 [==============================] - 15s 218us/step - loss: 0.3592 - accuracy: 0.8725 - val_loss: 0.6084 - val_accuracy: 0.8212\n",
      "val_f1: 0.8208 - val_precision: 0.8215 - val_recall: 0.8227\n",
      "Epoch 27/30\n",
      "70000/70000 [==============================] - 15s 219us/step - loss: 0.3616 - accuracy: 0.8712 - val_loss: 0.5986 - val_accuracy: 0.8239\n",
      "val_f1: 0.8234 - val_precision: 0.8235 - val_recall: 0.8253\n",
      "Epoch 28/30\n",
      "70000/70000 [==============================] - 15s 218us/step - loss: 0.3547 - accuracy: 0.8736 - val_loss: 0.5896 - val_accuracy: 0.8235\n",
      "val_f1: 0.8231 - val_precision: 0.8237 - val_recall: 0.8248\n",
      "Epoch 29/30\n",
      "70000/70000 [==============================] - 15s 218us/step - loss: 0.3582 - accuracy: 0.8734 - val_loss: 0.5918 - val_accuracy: 0.8216\n",
      "val_f1: 0.8213 - val_precision: 0.8231 - val_recall: 0.8230\n",
      "Epoch 30/30\n",
      "70000/70000 [==============================] - 15s 217us/step - loss: 0.3562 - accuracy: 0.8734 - val_loss: 0.5989 - val_accuracy: 0.8243\n",
      "val_f1: 0.8233 - val_precision: 0.8241 - val_recall: 0.8258\n"
     ]
    }
   ],
   "source": [
    "f1_metrics = Metrics()\n",
    "\n",
    "parallel_model.compile(\n",
    "    loss='categorical_crossentropy',\n",
    "    optimizer='adam',\n",
    "    metrics=['accuracy']\n",
    ")\n",
    "\n",
    "hist = parallel_model.fit(\n",
    "    X_train, \n",
    "    y_train,\n",
    "    batch_size=batch_size,\n",
    "    epochs=epochs,\n",
    "    callbacks=[f1_metrics],\n",
    "    validation_data=(X_validate, y_valid)\n",
    ")"
   ]
  },
  {
   "cell_type": "markdown",
   "metadata": {},
   "source": [
    "### 3."
   ]
  },
  {
   "cell_type": "code",
   "execution_count": 21,
   "metadata": {},
   "outputs": [],
   "source": [
    "model.save('/home/zxt/data/model/cnn_baseline_5k_32_128batchsize100epoch.h5')"
   ]
  },
  {
   "cell_type": "code",
   "execution_count": null,
   "metadata": {},
   "outputs": [],
   "source": []
  },
  {
   "cell_type": "markdown",
   "metadata": {},
   "source": [
    "### 4. Evaluation"
   ]
  },
  {
   "cell_type": "code",
   "execution_count": 34,
   "metadata": {},
   "outputs": [],
   "source": [
    "history_df = pd.DataFrame(hist.history)\n",
    "history_df['val_f1'] = f1_metrics.val_f1s\n",
    "history_df['val_precision'] = f1_metrics.val_precisions\n",
    "history_df['val_recall'] = f1_metrics.val_recalls\n",
    "\n",
    "# history_df[['loss', 'val_loss']].plot()\n",
    "# history_df[['acc', 'val_acc']].plot()\n",
    "# history_df[['val_f1', 'val_precision', 'val_recall']].plot()"
   ]
  },
  {
   "cell_type": "code",
   "execution_count": 35,
   "metadata": {},
   "outputs": [
    {
     "data": {
      "text/plain": [
       "<matplotlib.axes._subplots.AxesSubplot at 0x7f8114582090>"
      ]
     },
     "execution_count": 35,
     "metadata": {},
     "output_type": "execute_result"
    },
    {
     "data": {
      "image/png": "[encoded data removed]",
      "text/plain": [
       "<Figure size 432x288 with 1 Axes>"
      ]
     },
     "metadata": {
      "needs_background": "light"
     },
     "output_type": "display_data"
    }
   ],
   "source": [
    "history_df[['loss', 'val_loss']].plot()"
   ]
  },
  {
   "cell_type": "code",
   "execution_count": 36,
   "metadata": {},
   "outputs": [
    {
     "data": {
      "text/plain": [
       "<matplotlib.axes._subplots.AxesSubplot at 0x7f80700798d0>"
      ]
     },
     "execution_count": 36,
     "metadata": {},
     "output_type": "execute_result"
    },
    {
     "data": {
      "image/png": "[encoded data removed]",
      "text/plain": [
       "<Figure size 432x288 with 1 Axes>"
      ]
     },
     "metadata": {
      "needs_background": "light"
     },
     "output_type": "display_data"
    }
   ],
   "source": [
    "history_df[['val_f1', 'val_precision', 'val_recall']].plot()"
   ]
  },
  {
   "cell_type": "code",
   "execution_count": 37,
   "metadata": {},
   "outputs": [
    {
     "data": {
      "text/plain": [
       "<matplotlib.axes._subplots.AxesSubplot at 0x7f8070058890>"
      ]
     },
     "execution_count": 37,
     "metadata": {},
     "output_type": "execute_result"
    },
    {
     "data": {
      "image/png": "[encoded data removed]",
      "text/plain": [
       "<Figure size 432x288 with 1 Axes>"
      ]
     },
     "metadata": {
      "needs_background": "light"
     },
     "output_type": "display_data"
    }
   ],
   "source": [
    "history_df[['accuracy', 'val_accuracy']].plot()"
   ]
  },
  {
   "cell_type": "markdown",
   "metadata": {},
   "source": [
    "### 5. Prediction"
   ]
  },
  {
   "cell_type": "code",
   "execution_count": 38,
   "metadata": {},
   "outputs": [
    {
     "name": "stdout",
     "output_type": "stream",
     "text": [
      "9000/9000 [==============================] - 2s 197us/step\n",
      "\n",
      "test loss 0.6165305501222611\n",
      "accuracy 0.8213333487510681\n"
     ]
    }
   ],
   "source": [
    "loss,accuracy = parallel_model.evaluate(X_test,y_test)\n",
    "print('\\ntest loss',loss)\n",
    "print('accuracy',accuracy)"
   ]
  },
  {
   "cell_type": "code",
   "execution_count": null,
   "metadata": {},
   "outputs": [],
   "source": []
  },
  {
   "cell_type": "code",
   "execution_count": null,
   "metadata": {},
   "outputs": [],
   "source": []
  },
  {
   "cell_type": "code",
   "execution_count": null,
   "metadata": {},
   "outputs": [],
   "source": []
  }
 ],
 "metadata": {
  "kernelspec": {
   "display_name": "Python 3",
   "language": "python",
   "name": "python3"
  },
  "language_info": {
   "codemirror_mode": {
    "name": "ipython",
    "version": 3
   },
   "file_extension": ".py",
   "mimetype": "text/x-python",
   "name": "python",
   "nbconvert_exporter": "python",
   "pygments_lexer": "ipython3",
   "version": "3.7.4"
  }
 },
 "nbformat": 4,
 "nbformat_minor": 4
}
