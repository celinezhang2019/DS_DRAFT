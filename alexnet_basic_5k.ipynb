{
 "cells": [
  {
   "cell_type": "code",
   "execution_count": 5,
   "metadata": {},
   "outputs": [],
   "source": [
    "%%capture\n",
    "import keras\n",
    "import keras.backend as K\n",
    "from keras.models import Model\n",
    "from keras.layers import Input, Dense, Conv2D, Conv3D, DepthwiseConv2D, SeparableConv2D, Conv3DTranspose\n",
    "from keras.layers import Flatten, MaxPool2D, AvgPool2D, GlobalAvgPool2D, UpSampling2D, BatchNormalization\n",
    "from keras.layers import Concatenate, Add, Dropout, ReLU, Lambda, Activation, LeakyReLU, PReLU\n",
    "from keras.utils import np_utils\n",
    "from IPython.display import SVG\n",
    "from keras.utils.vis_utils import model_to_dot\n",
    "from keras.optimizers import SGD\n",
    "from time import time\n",
    "from keras.callbacks import EarlyStopping\n",
    "\n",
    "import numpy as np\n",
    "import pandas as pd\n",
    "import matplotlib, os, math\n",
    "\n",
    "os.environ[\"CUDA_VISIBLE_DEVICES\"]=\"0,1,2,3\""
   ]
  },
  {
   "cell_type": "markdown",
   "metadata": {},
   "source": [
    "### 1.Prepare data"
   ]
  },
  {
   "cell_type": "code",
   "execution_count": 3,
   "metadata": {},
   "outputs": [],
   "source": [
    "p1 = X_train_part1[:5000]\n",
    "p2 = X_train_part1[5000:10000]"
   ]
  },
  {
   "cell_type": "code",
   "execution_count": null,
   "metadata": {},
   "outputs": [],
   "source": [
    "p1[]"
   ]
  },
  {
   "cell_type": "code",
   "execution_count": 2,
   "metadata": {},
   "outputs": [
    {
     "name": "stdout",
     "output_type": "stream",
     "text": [
      "Loading X_train...\n",
      "Running time: 671.02454662323 seconds\n"
     ]
    }
   ],
   "source": [
    "from time import time\n",
    "import numpy as np\n",
    "\n",
    "start_time = time()\n",
    "\n",
    "print('Loading X_train...')\n",
    "X_train = np.load('/home/zxt/data/224/5k/X_train_224.npy')\n",
    "\n",
    "\n",
    "end_time = time()\n",
    "print('Running time: %s seconds'%(end_time - start_time))"
   ]
  },
  {
   "cell_type": "code",
   "execution_count": 3,
   "metadata": {},
   "outputs": [
    {
     "data": {
      "text/plain": [
       "70000"
      ]
     },
     "execution_count": 3,
     "metadata": {},
     "output_type": "execute_result"
    }
   ],
   "source": [
    "len(X_train_part1)"
   ]
  },
  {
   "cell_type": "code",
   "execution_count": 4,
   "metadata": {},
   "outputs": [
    {
     "name": "stdout",
     "output_type": "stream",
     "text": [
      "Loading X_validate...\n",
      "Loading X_test...\n",
      "Loading labels...\n",
      "Running time: 287.6623902320862 seconds\n"
     ]
    }
   ],
   "source": [
    "from time import time\n",
    "import numpy as np\n",
    "\n",
    "start_time = time()\n",
    "\n",
    "print('Loading X_validate...')\n",
    "X_validate = np.load('/home/zxt/data/224/5k/X_validate_224.npy')\n",
    "\n",
    "print('Loading X_test...')\n",
    "X_test = np.load('/home/zxt/data/224/5k/X_test_224.npy')\n",
    "\n",
    "print('Loading labels...')\n",
    "Y_train = np.load('/home/zxt/data/224/5k/Y_train_224.npy')\n",
    "Y_validate = np.load('/home/zxt/data/224/5k/Y_validate_224.npy')\n",
    "Y_test = np.load('/home/zxt/data/224/5k/Y_test_224.npy')\n",
    "\n",
    "end_time = time()\n",
    "print('Running time: %s seconds'%(end_time - start_time))"
   ]
  },
  {
   "cell_type": "code",
   "execution_count": 2,
   "metadata": {},
   "outputs": [
    {
     "name": "stdout",
     "output_type": "stream",
     "text": [
      "Loading X_train_part1\n",
      "Loading X_train_part2\n",
      "Loading X_train_part3\n",
      "Loading X_train_part4\n",
      "Loading X_train_part5\n",
      "Loading X_train_part6\n",
      "Loading X_train_part7\n",
      "Loading X_validate_part1\n",
      "Loading X_validate_part2\n",
      "Loading X_test\n",
      "Loading labels......\n",
      "Running time: 867.654994726181 seconds\n"
     ]
    }
   ],
   "source": [
    "# # import the npy dataset\n",
    "# # 2k 224 npy\n",
    "# from time import time\n",
    "# import numpy as np\n",
    "\n",
    "# start_time = time()\n",
    "\n",
    "# # print('Loading X_train_part1')\n",
    "# # X_train_part1 = np.load('/home/zxt/data/new_npy/224/5k/X_train_part1.npy')\n",
    "# # print('Loading X_train_part2')\n",
    "# # X_train_part2 = np.load('/home/zxt/data/new_npy/224/5k/X_train_part2.npy')\n",
    "# # print('Loading X_train_part3')\n",
    "# # X_train_part3 = np.load('/home/zxt/data/new_npy/224/5k/X_train_part3.npy')\n",
    "# # print('Loading X_train_part4')\n",
    "# # X_train_part4 = np.load('/home/zxt/data/new_npy/224/5k/X_train_part4.npy')\n",
    "# # print('Loading X_train_part5')\n",
    "# # X_train_part5 = np.load('/home/zxt/data/new_npy/224/5k/X_train_part5.npy')\n",
    "# # print('Loading X_train_part6')\n",
    "# # X_train_part6 = np.load('/home/zxt/data/new_npy/224/5k/X_train_part6.npy')\n",
    "# # print('Loading X_train_part7')\n",
    "# # X_train_part7 = np.load('/home/zxt/data/new_npy/224/5k/X_train_part7.npy')\n",
    "\n",
    "# print('Loading X_validate_part1')\n",
    "# X_validate_part1 = np.load('/home/zxt/data/new_npy/224/5k/X_validate_part1.npy')\n",
    "# print('Loading X_validate_part2')\n",
    "# X_validate_part2 = np.load('/home/zxt/data/new_npy/224/5k/X_validate_part2.npy')\n",
    "\n",
    "# print('Loading X_test')\n",
    "# X_test = np.load('/home/zxt/data/new_npy/224/5k/X_test.npy')\n",
    "\n",
    "# print('Loading labels......')\n",
    "# Y_train = np.load('/home/zxt/data/new_npy/224/5k/Y_train.npy')\n",
    "# Y_validate = np.load('/home/zxt/data/new_npy/224/5k/Y_validate.npy')\n",
    "# Y_test = np.load('/home/zxt/data/new_npy/224/5k/Y_test.npy')\n",
    "\n",
    "# end_time = time()\n",
    "# print('Running time: %s seconds'%(end_time - start_time))"
   ]
  },
  {
   "cell_type": "code",
   "execution_count": 3,
   "metadata": {},
   "outputs": [
    {
     "name": "stdout",
     "output_type": "stream",
     "text": [
      "X_train_part1: 10000\n",
      "X_train_part2: 10000\n",
      "X_train_part3: 10000\n",
      "X_train_part4: 10000\n",
      "X_train_part5: 10000\n",
      "X_train_part6: 10000\n",
      "X_train_part7: 10000\n",
      "X_validate_part1: 10000\n",
      "X_validate_part2: 11000\n"
     ]
    }
   ],
   "source": [
    "# print('X_train_part1: '+str(len(X_train_part1)))\n",
    "# print('X_train_part2: '+str(len(X_train_part2)))\n",
    "# print('X_train_part3: '+str(len(X_train_part3)))\n",
    "# print('X_train_part4: '+str(len(X_train_part4)))\n",
    "# print('X_train_part5: '+str(len(X_train_part5)))\n",
    "# print('X_train_part6: '+str(len(X_train_part6)))\n",
    "# print('X_train_part7: '+str(len(X_train_part7)))\n",
    "\n",
    "# print('X_validate_part1: '+str(len(X_validate_part1)))\n",
    "# print('X_validate_part2: '+str(len(X_validate_part2)))"
   ]
  },
  {
   "cell_type": "code",
   "execution_count": null,
   "metadata": {},
   "outputs": [],
   "source": [
    "# X_train = np.vstack((X_train_part1,X_train_part2,X_train_part3,X_train_part4,X_train_part5,X_train_part6,X_train_part7))"
   ]
  },
  {
   "cell_type": "code",
   "execution_count": null,
   "metadata": {},
   "outputs": [],
   "source": [
    "# X_validate = np.vstack((X_validate_part1, X_validate_part2))"
   ]
  },
  {
   "cell_type": "code",
   "execution_count": 10,
   "metadata": {},
   "outputs": [
    {
     "name": "stdout",
     "output_type": "stream",
     "text": [
      "X_train shape: (70000, 224, 224, 3)\n",
      "70000 train samples\n",
      "21000 validate samples\n",
      "9000 test samples\n"
     ]
    }
   ],
   "source": [
    "print('X_train shape:', X_train.shape)\n",
    "print(X_train.shape[0], 'train samples')\n",
    "print(X_validate.shape[0], 'validate samples')\n",
    "print(X_test.shape[0], 'test samples')"
   ]
  },
  {
   "cell_type": "code",
   "execution_count": 9,
   "metadata": {},
   "outputs": [],
   "source": [
    "X_train=X_train_part1"
   ]
  },
  {
   "cell_type": "code",
   "execution_count": 11,
   "metadata": {},
   "outputs": [],
   "source": [
    "X_train /=255.\n",
    "X_validate /=  255.\n",
    "X_test /= 255."
   ]
  },
  {
   "cell_type": "code",
   "execution_count": 12,
   "metadata": {},
   "outputs": [],
   "source": [
    "# Y_train label\n",
    "for i in Y_train:\n",
    "    if i[0]=='elephant':\n",
    "        i[0]=0\n",
    "    if i[0]=='wild_boar':\n",
    "        i[0]=1\n",
    "    if i[0]=='gazellethomosons':\n",
    "        i[0]=2\n",
    "    if i[0]=='squirrel':\n",
    "        i[0]=3 \n",
    "    if i[0]=='hedgehog':\n",
    "        i[0]=4\n",
    "    if i[0]=='guineafowl':\n",
    "        i[0]=5\n",
    "    if i[0]=='moose':\n",
    "        i[0]=6\n",
    "    if i[0]=='bobcat':\n",
    "        i[0]=7   \n",
    "    if i[0]=='bird':\n",
    "        i[0]=8\n",
    "    if i[0]=='fox':\n",
    "        i[0]=9\n",
    "    if i[0]=='giraffe':\n",
    "        i[0]=10\n",
    "    if i[0]=='buffalo':\n",
    "        i[0]=11\n",
    "    if i[0]=='hare':\n",
    "        i[0]=12\n",
    "    if i[0]=='vehicle':\n",
    "        i[0]=13\n",
    "    if i[0]=='wildebeest':\n",
    "        i[0]=14\n",
    "    if i[0]=='cattle':\n",
    "        i[0]=15 \n",
    "    if i[0]=='skunk':\n",
    "        i[0]=16\n",
    "    if i[0]=='lion':\n",
    "        i[0]=17\n",
    "    if i[0]=='zebra':\n",
    "        i[0]=18\n",
    "    if i[0]=='black_bear':\n",
    "        i[0]=19"
   ]
  },
  {
   "cell_type": "code",
   "execution_count": 13,
   "metadata": {},
   "outputs": [],
   "source": [
    "for i in Y_validate:\n",
    "    if i[0]=='elephant':\n",
    "        i[0]=0\n",
    "    if i[0]=='wild_boar':\n",
    "        i[0]=1\n",
    "    if i[0]=='gazellethomosons':\n",
    "        i[0]=2\n",
    "    if i[0]=='squirrel':\n",
    "        i[0]=3 \n",
    "    if i[0]=='hedgehog':\n",
    "        i[0]=4\n",
    "    if i[0]=='guineafowl':\n",
    "        i[0]=5\n",
    "    if i[0]=='moose':\n",
    "        i[0]=6\n",
    "    if i[0]=='bobcat':\n",
    "        i[0]=7   \n",
    "    if i[0]=='bird':\n",
    "        i[0]=8\n",
    "    if i[0]=='fox':\n",
    "        i[0]=9\n",
    "    if i[0]=='giraffe':\n",
    "        i[0]=10\n",
    "    if i[0]=='buffalo':\n",
    "        i[0]=11\n",
    "    if i[0]=='hare':\n",
    "        i[0]=12\n",
    "    if i[0]=='vehicle':\n",
    "        i[0]=13\n",
    "    if i[0]=='wildebeest':\n",
    "        i[0]=14\n",
    "    if i[0]=='cattle':\n",
    "        i[0]=15 \n",
    "    if i[0]=='skunk':\n",
    "        i[0]=16\n",
    "    if i[0]=='lion':\n",
    "        i[0]=17\n",
    "    if i[0]=='zebra':\n",
    "        i[0]=18\n",
    "    if i[0]=='black_bear':\n",
    "        i[0]=19"
   ]
  },
  {
   "cell_type": "code",
   "execution_count": 14,
   "metadata": {},
   "outputs": [],
   "source": [
    "for i in Y_test:\n",
    "    if i[0]=='elephant':\n",
    "        i[0]=0\n",
    "    if i[0]=='wild_boar':\n",
    "        i[0]=1\n",
    "    if i[0]=='gazellethomosons':\n",
    "        i[0]=2\n",
    "    if i[0]=='squirrel':\n",
    "        i[0]=3 \n",
    "    if i[0]=='hedgehog':\n",
    "        i[0]=4\n",
    "    if i[0]=='guineafowl':\n",
    "        i[0]=5\n",
    "    if i[0]=='moose':\n",
    "        i[0]=6\n",
    "    if i[0]=='bobcat':\n",
    "        i[0]=7   \n",
    "    if i[0]=='bird':\n",
    "        i[0]=8\n",
    "    if i[0]=='fox':\n",
    "        i[0]=9\n",
    "    if i[0]=='giraffe':\n",
    "        i[0]=10\n",
    "    if i[0]=='buffalo':\n",
    "        i[0]=11\n",
    "    if i[0]=='hare':\n",
    "        i[0]=12\n",
    "    if i[0]=='vehicle':\n",
    "        i[0]=13\n",
    "    if i[0]=='wildebeest':\n",
    "        i[0]=14\n",
    "    if i[0]=='cattle':\n",
    "        i[0]=15 \n",
    "    if i[0]=='skunk':\n",
    "        i[0]=16\n",
    "    if i[0]=='lion':\n",
    "        i[0]=17\n",
    "    if i[0]=='zebra':\n",
    "        i[0]=18\n",
    "    if i[0]=='black_bear':\n",
    "        i[0]=19"
   ]
  },
  {
   "cell_type": "code",
   "execution_count": 15,
   "metadata": {},
   "outputs": [],
   "source": [
    "# one-hot encoder[only accpet int]\n",
    "Y_train=np_utils.to_categorical(Y_train,20)\n",
    "Y_validate=np_utils.to_categorical(Y_validate,20)\n",
    "Y_test=np_utils.to_categorical(Y_test,20)"
   ]
  },
  {
   "cell_type": "code",
   "execution_count": 16,
   "metadata": {},
   "outputs": [
    {
     "data": {
      "text/plain": [
       "array([[0., 0., 0., ..., 0., 0., 0.],\n",
       "       [0., 0., 0., ..., 0., 0., 1.],\n",
       "       [0., 0., 0., ..., 0., 0., 0.],\n",
       "       ...,\n",
       "       [0., 0., 1., ..., 0., 0., 0.],\n",
       "       [0., 0., 0., ..., 0., 1., 0.],\n",
       "       [1., 0., 0., ..., 0., 0., 0.]], dtype=float32)"
      ]
     },
     "execution_count": 16,
     "metadata": {},
     "output_type": "execute_result"
    }
   ],
   "source": [
    "Y_test"
   ]
  },
  {
   "cell_type": "markdown",
   "metadata": {},
   "source": [
    "### 2.Model structure"
   ]
  },
  {
   "cell_type": "code",
   "execution_count": 17,
   "metadata": {},
   "outputs": [],
   "source": [
    "def alexnet(input_shape, n_classes):\n",
    "    input = Input(input_shape)\n",
    "  \n",
    "    # actually batch normalization didn't exist back then\n",
    "    # they used LRN (Local Response Normalization) for regularization\n",
    "    x = Conv2D(96, 11, strides=4, padding='same', activation='relu')(input)\n",
    "    x = BatchNormalization()(x)\n",
    "    x = MaxPool2D(3, strides=2)(x)\n",
    "  \n",
    "    x = Conv2D(256, 5, padding='same', activation='relu')(x)\n",
    "    x = BatchNormalization()(x)\n",
    "    x = MaxPool2D(3, strides=2)(x)\n",
    "  \n",
    "    x = Conv2D(384, 3, strides=1, padding='same', activation='relu')(x)\n",
    "  \n",
    "    x = Conv2D(384, 3, strides=1, padding='same', activation='relu')(x)\n",
    "  \n",
    "    x = Conv2D(256, 3, strides=1, padding='same', activation='relu')(x)\n",
    "    x = BatchNormalization()(x)\n",
    "    x = MaxPool2D(3, strides=2)(x)\n",
    "  \n",
    "    x = Flatten()(x)\n",
    "    x = Dense(4096, activation='relu')(x)\n",
    "    x = Dense(4096, activation='relu')(x)\n",
    "  \n",
    "    output = Dense(n_classes, activation='softmax')(x)\n",
    "  \n",
    "    model = Model(input, output)\n",
    "    return model"
   ]
  },
  {
   "cell_type": "code",
   "execution_count": 19,
   "metadata": {},
   "outputs": [],
   "source": [
    "# prevent overfitting\n",
    "early_stopping = EarlyStopping(monitor='val_loss', patience=20, verbose=1)"
   ]
  },
  {
   "cell_type": "markdown",
   "metadata": {},
   "source": [
    "### 3.Modeling"
   ]
  },
  {
   "cell_type": "code",
   "execution_count": 20,
   "metadata": {},
   "outputs": [],
   "source": [
    "num_train_samples = len(Y_train)\n",
    "num_val_samples = len(Y_validate)\n",
    "batch_size = 128\n",
    "epochs = 30\n",
    "n_classes = 20\n",
    "input_shape = 224,224,3"
   ]
  },
  {
   "cell_type": "code",
   "execution_count": 21,
   "metadata": {},
   "outputs": [
    {
     "name": "stdout",
     "output_type": "stream",
     "text": [
      "Model: \"model_1\"\n",
      "_________________________________________________________________\n",
      "Layer (type)                 Output Shape              Param #   \n",
      "=================================================================\n",
      "input_1 (InputLayer)         (None, 224, 224, 3)       0         \n",
      "_________________________________________________________________\n",
      "conv2d_1 (Conv2D)            (None, 56, 56, 96)        34944     \n",
      "_________________________________________________________________\n",
      "batch_normalization_1 (Batch (None, 56, 56, 96)        384       \n",
      "_________________________________________________________________\n",
      "max_pooling2d_1 (MaxPooling2 (None, 27, 27, 96)        0         \n",
      "_________________________________________________________________\n",
      "conv2d_2 (Conv2D)            (None, 27, 27, 256)       614656    \n",
      "_________________________________________________________________\n",
      "batch_normalization_2 (Batch (None, 27, 27, 256)       1024      \n",
      "_________________________________________________________________\n",
      "max_pooling2d_2 (MaxPooling2 (None, 13, 13, 256)       0         \n",
      "_________________________________________________________________\n",
      "conv2d_3 (Conv2D)            (None, 13, 13, 384)       885120    \n",
      "_________________________________________________________________\n",
      "conv2d_4 (Conv2D)            (None, 13, 13, 384)       1327488   \n",
      "_________________________________________________________________\n",
      "conv2d_5 (Conv2D)            (None, 13, 13, 256)       884992    \n",
      "_________________________________________________________________\n",
      "batch_normalization_3 (Batch (None, 13, 13, 256)       1024      \n",
      "_________________________________________________________________\n",
      "max_pooling2d_3 (MaxPooling2 (None, 6, 6, 256)         0         \n",
      "_________________________________________________________________\n",
      "flatten_1 (Flatten)          (None, 9216)              0         \n",
      "_________________________________________________________________\n",
      "dense_1 (Dense)              (None, 4096)              37752832  \n",
      "_________________________________________________________________\n",
      "dense_2 (Dense)              (None, 4096)              16781312  \n",
      "_________________________________________________________________\n",
      "dense_3 (Dense)              (None, 20)                81940     \n",
      "=================================================================\n",
      "Total params: 58,365,716\n",
      "Trainable params: 58,364,500\n",
      "Non-trainable params: 1,216\n",
      "_________________________________________________________________\n"
     ]
    }
   ],
   "source": [
    "K.clear_session()\n",
    "model = alexnet(input_shape, n_classes)\n",
    "model.summary()"
   ]
  },
  {
   "cell_type": "code",
   "execution_count": 23,
   "metadata": {},
   "outputs": [],
   "source": [
    "os.environ[\"CUDA_VISIBLE_DEVICES\"]=\"0,1,2,3\""
   ]
  },
  {
   "cell_type": "code",
   "execution_count": 25,
   "metadata": {},
   "outputs": [],
   "source": [
    "from keras.utils import multi_gpu_model"
   ]
  },
  {
   "cell_type": "code",
   "execution_count": 26,
   "metadata": {},
   "outputs": [],
   "source": [
    "parallel_model = multi_gpu_model(model,gpus=4)"
   ]
  },
  {
   "cell_type": "code",
   "execution_count": 28,
   "metadata": {},
   "outputs": [],
   "source": [
    "parallel_model.compile(loss='categorical_crossentropy',optimizer='sgd',metrics=['accuracy'])"
   ]
  },
  {
   "cell_type": "code",
   "execution_count": 29,
   "metadata": {},
   "outputs": [
    {
     "name": "stdout",
     "output_type": "stream",
     "text": [
      "Train on 70000 samples, validate on 21000 samples\n",
      "Epoch 1/30\n",
      "70000/70000 [==============================] - 402s 6ms/step - loss: 1.3056 - accuracy: 0.5519 - val_loss: 1.2957 - val_accuracy: 0.5470\n",
      "Epoch 2/30\n",
      "70000/70000 [==============================] - 395s 6ms/step - loss: 0.9715 - accuracy: 0.6661 - val_loss: 1.0209 - val_accuracy: 0.6506\n",
      "Epoch 3/30\n",
      "70000/70000 [==============================] - 396s 6ms/step - loss: 0.7833 - accuracy: 0.7308 - val_loss: 0.8737 - val_accuracy: 0.6959\n",
      "Epoch 4/30\n",
      "70000/70000 [==============================] - 395s 6ms/step - loss: 0.6367 - accuracy: 0.7810 - val_loss: 0.8292 - val_accuracy: 0.7120\n",
      "Epoch 5/30\n",
      "70000/70000 [==============================] - 396s 6ms/step - loss: 0.5135 - accuracy: 0.8247 - val_loss: 1.0353 - val_accuracy: 0.6925\n",
      "Epoch 6/30\n",
      "70000/70000 [==============================] - 395s 6ms/step - loss: 0.4164 - accuracy: 0.8598 - val_loss: 0.6294 - val_accuracy: 0.7878\n",
      "Epoch 7/30\n",
      "70000/70000 [==============================] - 395s 6ms/step - loss: 0.3348 - accuracy: 0.8873 - val_loss: 0.6432 - val_accuracy: 0.7932\n",
      "Epoch 8/30\n",
      "70000/70000 [==============================] - 394s 6ms/step - loss: 0.2688 - accuracy: 0.9122 - val_loss: 0.5780 - val_accuracy: 0.8163\n",
      "Epoch 9/30\n",
      "70000/70000 [==============================] - 394s 6ms/step - loss: 0.2157 - accuracy: 0.9309 - val_loss: 0.5692 - val_accuracy: 0.8180\n",
      "Epoch 10/30\n",
      "70000/70000 [==============================] - 393s 6ms/step - loss: 0.1734 - accuracy: 0.9444 - val_loss: 0.5991 - val_accuracy: 0.8228\n",
      "Epoch 11/30\n",
      "70000/70000 [==============================] - 393s 6ms/step - loss: 0.1388 - accuracy: 0.9566 - val_loss: 0.5720 - val_accuracy: 0.8320\n",
      "Epoch 12/30\n",
      "70000/70000 [==============================] - 393s 6ms/step - loss: 0.1082 - accuracy: 0.9673 - val_loss: 0.5320 - val_accuracy: 0.8501\n",
      "Epoch 13/30\n",
      "70000/70000 [==============================] - 393s 6ms/step - loss: 0.0870 - accuracy: 0.9741 - val_loss: 0.4979 - val_accuracy: 0.8586\n",
      "Epoch 14/30\n",
      "70000/70000 [==============================] - 392s 6ms/step - loss: 0.0702 - accuracy: 0.9802 - val_loss: 0.5071 - val_accuracy: 0.8624\n",
      "Epoch 15/30\n",
      "70000/70000 [==============================] - 392s 6ms/step - loss: 0.0549 - accuracy: 0.9851 - val_loss: 0.5257 - val_accuracy: 0.8567\n",
      "Epoch 16/30\n",
      "70000/70000 [==============================] - 392s 6ms/step - loss: 0.0422 - accuracy: 0.9893 - val_loss: 0.5191 - val_accuracy: 0.8611\n",
      "Epoch 17/30\n",
      "70000/70000 [==============================] - 392s 6ms/step - loss: 0.0356 - accuracy: 0.9906 - val_loss: 0.5199 - val_accuracy: 0.8629\n",
      "Epoch 18/30\n",
      "70000/70000 [==============================] - 392s 6ms/step - loss: 0.0268 - accuracy: 0.9941 - val_loss: 0.5422 - val_accuracy: 0.8651\n",
      "Epoch 19/30\n",
      "70000/70000 [==============================] - 392s 6ms/step - loss: 0.0221 - accuracy: 0.9952 - val_loss: 0.5260 - val_accuracy: 0.8701\n",
      "Epoch 20/30\n",
      "70000/70000 [==============================] - 392s 6ms/step - loss: 0.0176 - accuracy: 0.9964 - val_loss: 0.5190 - val_accuracy: 0.8742\n",
      "Epoch 21/30\n",
      "70000/70000 [==============================] - 392s 6ms/step - loss: 0.0141 - accuracy: 0.9972 - val_loss: 0.5170 - val_accuracy: 0.8773\n",
      "Epoch 22/30\n",
      "70000/70000 [==============================] - 392s 6ms/step - loss: 0.0085 - accuracy: 0.9989 - val_loss: 0.5180 - val_accuracy: 0.8790\n",
      "Epoch 23/30\n",
      "70000/70000 [==============================] - 392s 6ms/step - loss: 0.0072 - accuracy: 0.9992 - val_loss: 0.5405 - val_accuracy: 0.8744\n",
      "Epoch 24/30\n",
      "70000/70000 [==============================] - 392s 6ms/step - loss: 0.0054 - accuracy: 0.9995 - val_loss: 0.5309 - val_accuracy: 0.8820\n",
      "Epoch 25/30\n",
      "70000/70000 [==============================] - 391s 6ms/step - loss: 0.0057 - accuracy: 0.9992 - val_loss: 0.5465 - val_accuracy: 0.8810\n",
      "Epoch 26/30\n",
      "70000/70000 [==============================] - 392s 6ms/step - loss: 0.0046 - accuracy: 0.9994 - val_loss: 0.5369 - val_accuracy: 0.8836\n",
      "Epoch 27/30\n",
      "70000/70000 [==============================] - 393s 6ms/step - loss: 0.0031 - accuracy: 0.9997 - val_loss: 0.5465 - val_accuracy: 0.8810\n",
      "Epoch 28/30\n",
      "70000/70000 [==============================] - 394s 6ms/step - loss: 0.0030 - accuracy: 0.9998 - val_loss: 0.5431 - val_accuracy: 0.8836\n",
      "Epoch 29/30\n",
      "70000/70000 [==============================] - 393s 6ms/step - loss: 0.0019 - accuracy: 0.9999 - val_loss: 0.5496 - val_accuracy: 0.8819\n",
      "Epoch 30/30\n",
      "70000/70000 [==============================] - 394s 6ms/step - loss: 0.0016 - accuracy: 0.9999 - val_loss: 0.5495 - val_accuracy: 0.8837\n"
     ]
    }
   ],
   "source": [
    "hist = parallel_model.fit(\n",
    "    X_train, \n",
    "    Y_train,\n",
    "    batch_size=batch_size,\n",
    "    epochs=epochs,\n",
    "    callbacks=[early_stopping],\n",
    "#     steps_per_epoch=math.ceil(num_train_samples / batch_size),\n",
    "#     validation_steps=math.ceil(num_val_samples / batch_size),\n",
    "    validation_data = (X_validate,Y_validate))"
   ]
  },
  {
   "cell_type": "code",
   "execution_count": 30,
   "metadata": {},
   "outputs": [],
   "source": [
    "parallel_model.save('/home/zxt/data/model/alex_basic_5k_224.h5')"
   ]
  },
  {
   "cell_type": "code",
   "execution_count": 32,
   "metadata": {},
   "outputs": [],
   "source": [
    "model.save('/home/zxt/data/model/alex_basic_5k_224_model.h5')"
   ]
  },
  {
   "cell_type": "markdown",
   "metadata": {},
   "source": [
    "### 4.Evaluation"
   ]
  },
  {
   "cell_type": "code",
   "execution_count": 35,
   "metadata": {},
   "outputs": [
    {
     "data": {
      "text/plain": [
       "<matplotlib.axes._subplots.AxesSubplot at 0x7f23daecd810>"
      ]
     },
     "execution_count": 35,
     "metadata": {},
     "output_type": "execute_result"
    },
    {
     "data": {
      "image/png": "[encoded data removed]",
      "text/plain": [
       "<Figure size 432x288 with 1 Axes>"
      ]
     },
     "metadata": {
      "needs_background": "light"
     },
     "output_type": "display_data"
    },
    {
     "data": {
      "image/png": "[encoded data removed]",
      "text/plain": [
       "<Figure size 432x288 with 1 Axes>"
      ]
     },
     "metadata": {
      "needs_background": "light"
     },
     "output_type": "display_data"
    }
   ],
   "source": [
    "history_df = pd.DataFrame(hist.history)\n",
    "history_df[['loss', 'val_loss']].plot()\n",
    "history_df[['accuracy', 'val_accuracy']].plot()\n"
   ]
  },
  {
   "cell_type": "markdown",
   "metadata": {},
   "source": [
    "### 5.Prediction on X_test dataset"
   ]
  },
  {
   "cell_type": "code",
   "execution_count": 36,
   "metadata": {},
   "outputs": [
    {
     "name": "stdout",
     "output_type": "stream",
     "text": [
      "9000/9000 [==============================] - 27s 3ms/step\n",
      "\n",
      "test loss 0.5622684538459612\n",
      "accuracy 0.883222222328186\n"
     ]
    }
   ],
   "source": [
    "loss,accuracy = model.evaluate(X_test,Y_test)\n",
    "print('\\ntest loss',loss)\n",
    "print('accuracy',accuracy)"
   ]
  },
  {
   "cell_type": "code",
   "execution_count": null,
   "metadata": {},
   "outputs": [],
   "source": []
  }
 ],
 "metadata": {
  "kernelspec": {
   "display_name": "Python 3",
   "language": "python",
   "name": "python3"
  },
  "language_info": {
   "codemirror_mode": {
    "name": "ipython",
    "version": 3
   },
   "file_extension": ".py",
   "mimetype": "text/x-python",
   "name": "python",
   "nbconvert_exporter": "python",
   "pygments_lexer": "ipython3",
   "version": "3.7.4"
  }
 },
 "nbformat": 4,
 "nbformat_minor": 4
}
