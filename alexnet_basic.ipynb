{
 "cells": [
  {
   "cell_type": "code",
   "execution_count": 29,
   "metadata": {},
   "outputs": [],
   "source": [
    "%%capture\n",
    "import keras\n",
    "import keras.backend as K\n",
    "from keras.models import Model\n",
    "from keras.layers import Input, Dense, Conv2D, Conv3D, DepthwiseConv2D, SeparableConv2D, Conv3DTranspose\n",
    "from keras.layers import Flatten, MaxPool2D, AvgPool2D, GlobalAvgPool2D, UpSampling2D, BatchNormalization\n",
    "from keras.layers import Concatenate, Add, Dropout, ReLU, Lambda, Activation, LeakyReLU, PReLU\n",
    "from keras.utils import np_utils\n",
    "from IPython.display import SVG\n",
    "from keras.utils.vis_utils import model_to_dot\n",
    "from keras.optimizers import SGD\n",
    "from time import time\n",
    "from keras.callbacks import EarlyStopping\n",
    "\n",
    "import numpy as np\n",
    "import pandas as pd\n",
    "import matplotlib, os, math\n",
    "\n",
    "os.environ[\"CUDA_VISIBLE_DEVICES\"]=\"0\""
   ]
  },
  {
   "cell_type": "markdown",
   "metadata": {},
   "source": [
    "### 1.Prepare data"
   ]
  },
  {
   "cell_type": "code",
   "execution_count": 2,
   "metadata": {},
   "outputs": [],
   "source": [
    "# import the npy dataset\n",
    "# 2k 224 npy\n",
    "X_train = np.load('/home/zxt/data/224/2k/X_train_224.npy')\n",
    "X_validate = np.load('/home/zxt/data/224/2k/X_validate_224.npy')\n",
    "X_test = np.load('/home/zxt/data/224/2k/X_test_224.npy')\n",
    "Y_train = np.load('/home/zxt/data/224/2k/Y_train_224.npy')\n",
    "Y_validate = np.load('/home/zxt/data/224/2k/Y_validate_224.npy')\n",
    "Y_test = np.load('/home/zxt/data/224/2k/Y_test_224.npy')"
   ]
  },
  {
   "cell_type": "code",
   "execution_count": 3,
   "metadata": {},
   "outputs": [
    {
     "name": "stdout",
     "output_type": "stream",
     "text": [
      "X_train shape: (28000, 224, 224, 3)\n",
      "28000 train samples\n",
      "8400 validate samples\n",
      "3600 test samples\n"
     ]
    }
   ],
   "source": [
    "print('X_train shape:', X_train.shape)\n",
    "print(X_train.shape[0], 'train samples')\n",
    "print(X_validate.shape[0], 'validate samples')\n",
    "print(X_test.shape[0], 'test samples')"
   ]
  },
  {
   "cell_type": "code",
   "execution_count": 4,
   "metadata": {},
   "outputs": [],
   "source": [
    "X_train /=255.\n",
    "X_validate /=  255.\n",
    "X_test /= 255."
   ]
  },
  {
   "cell_type": "code",
   "execution_count": 15,
   "metadata": {},
   "outputs": [],
   "source": [
    "# Y_train label\n",
    "for i in Y_train:\n",
    "    if i[0]=='elephant':\n",
    "        i[0]=0\n",
    "    if i[0]=='wild_boar':\n",
    "        i[0]=1\n",
    "    if i[0]=='gazellethomosons':\n",
    "        i[0]=2\n",
    "    if i[0]=='squirrel':\n",
    "        i[0]=3 \n",
    "    if i[0]=='hedgehog':\n",
    "        i[0]=4\n",
    "    if i[0]=='guineafowl':\n",
    "        i[0]=5\n",
    "    if i[0]=='moose':\n",
    "        i[0]=6\n",
    "    if i[0]=='bobcat':\n",
    "        i[0]=7   \n",
    "    if i[0]=='bird':\n",
    "        i[0]=8\n",
    "    if i[0]=='fox':\n",
    "        i[0]=9\n",
    "    if i[0]=='giraffe':\n",
    "        i[0]=10\n",
    "    if i[0]=='buffalo':\n",
    "        i[0]=11\n",
    "    if i[0]=='hare':\n",
    "        i[0]=12\n",
    "    if i[0]=='vehicle':\n",
    "        i[0]=13\n",
    "    if i[0]=='wildebeest':\n",
    "        i[0]=14\n",
    "    if i[0]=='cattle':\n",
    "        i[0]=15 \n",
    "    if i[0]=='skunk':\n",
    "        i[0]=16\n",
    "    if i[0]=='lion':\n",
    "        i[0]=17\n",
    "    if i[0]=='zebra':\n",
    "        i[0]=18\n",
    "    if i[0]=='black_bear':\n",
    "        i[0]=19"
   ]
  },
  {
   "cell_type": "code",
   "execution_count": 16,
   "metadata": {},
   "outputs": [],
   "source": [
    "for i in Y_validate:\n",
    "    if i[0]=='elephant':\n",
    "        i[0]=0\n",
    "    if i[0]=='wild_boar':\n",
    "        i[0]=1\n",
    "    if i[0]=='gazellethomosons':\n",
    "        i[0]=2\n",
    "    if i[0]=='squirrel':\n",
    "        i[0]=3 \n",
    "    if i[0]=='hedgehog':\n",
    "        i[0]=4\n",
    "    if i[0]=='guineafowl':\n",
    "        i[0]=5\n",
    "    if i[0]=='moose':\n",
    "        i[0]=6\n",
    "    if i[0]=='bobcat':\n",
    "        i[0]=7   \n",
    "    if i[0]=='bird':\n",
    "        i[0]=8\n",
    "    if i[0]=='fox':\n",
    "        i[0]=9\n",
    "    if i[0]=='giraffe':\n",
    "        i[0]=10\n",
    "    if i[0]=='buffalo':\n",
    "        i[0]=11\n",
    "    if i[0]=='hare':\n",
    "        i[0]=12\n",
    "    if i[0]=='vehicle':\n",
    "        i[0]=13\n",
    "    if i[0]=='wildebeest':\n",
    "        i[0]=14\n",
    "    if i[0]=='cattle':\n",
    "        i[0]=15 \n",
    "    if i[0]=='skunk':\n",
    "        i[0]=16\n",
    "    if i[0]=='lion':\n",
    "        i[0]=17\n",
    "    if i[0]=='zebra':\n",
    "        i[0]=18\n",
    "    if i[0]=='black_bear':\n",
    "        i[0]=19"
   ]
  },
  {
   "cell_type": "code",
   "execution_count": 17,
   "metadata": {},
   "outputs": [],
   "source": [
    "for i in Y_test:\n",
    "    if i[0]=='elephant':\n",
    "        i[0]=0\n",
    "    if i[0]=='wild_boar':\n",
    "        i[0]=1\n",
    "    if i[0]=='gazellethomosons':\n",
    "        i[0]=2\n",
    "    if i[0]=='squirrel':\n",
    "        i[0]=3 \n",
    "    if i[0]=='hedgehog':\n",
    "        i[0]=4\n",
    "    if i[0]=='guineafowl':\n",
    "        i[0]=5\n",
    "    if i[0]=='moose':\n",
    "        i[0]=6\n",
    "    if i[0]=='bobcat':\n",
    "        i[0]=7   \n",
    "    if i[0]=='bird':\n",
    "        i[0]=8\n",
    "    if i[0]=='fox':\n",
    "        i[0]=9\n",
    "    if i[0]=='giraffe':\n",
    "        i[0]=10\n",
    "    if i[0]=='buffalo':\n",
    "        i[0]=11\n",
    "    if i[0]=='hare':\n",
    "        i[0]=12\n",
    "    if i[0]=='vehicle':\n",
    "        i[0]=13\n",
    "    if i[0]=='wildebeest':\n",
    "        i[0]=14\n",
    "    if i[0]=='cattle':\n",
    "        i[0]=15 \n",
    "    if i[0]=='skunk':\n",
    "        i[0]=16\n",
    "    if i[0]=='lion':\n",
    "        i[0]=17\n",
    "    if i[0]=='zebra':\n",
    "        i[0]=18\n",
    "    if i[0]=='black_bear':\n",
    "        i[0]=19"
   ]
  },
  {
   "cell_type": "code",
   "execution_count": 18,
   "metadata": {},
   "outputs": [],
   "source": [
    "# one-hot encoder[only accpet int]\n",
    "Y_train=np_utils.to_categorical(Y_train,20)\n",
    "Y_validate=np_utils.to_categorical(Y_validate,20)\n",
    "Y_test=np_utils.to_categorical(Y_test,20)"
   ]
  },
  {
   "cell_type": "markdown",
   "metadata": {},
   "source": [
    "### 2.Model structure"
   ]
  },
  {
   "cell_type": "code",
   "execution_count": 19,
   "metadata": {},
   "outputs": [],
   "source": [
    "def alexnet(input_shape, n_classes):\n",
    "    input = Input(input_shape)\n",
    "  \n",
    "    # actually batch normalization didn't exist back then\n",
    "    # they used LRN (Local Response Normalization) for regularization\n",
    "    x = Conv2D(96, 11, strides=4, padding='same', activation='relu')(input)\n",
    "    x = BatchNormalization()(x)\n",
    "    x = MaxPool2D(3, strides=2)(x)\n",
    "  \n",
    "    x = Conv2D(256, 5, padding='same', activation='relu')(x)\n",
    "    x = BatchNormalization()(x)\n",
    "    x = MaxPool2D(3, strides=2)(x)\n",
    "  \n",
    "    x = Conv2D(384, 3, strides=1, padding='same', activation='relu')(x)\n",
    "  \n",
    "    x = Conv2D(384, 3, strides=1, padding='same', activation='relu')(x)\n",
    "  \n",
    "    x = Conv2D(256, 3, strides=1, padding='same', activation='relu')(x)\n",
    "    x = BatchNormalization()(x)\n",
    "    x = MaxPool2D(3, strides=2)(x)\n",
    "  \n",
    "    x = Flatten()(x)\n",
    "    x = Dense(4096, activation='relu')(x)\n",
    "    x = Dense(4096, activation='relu')(x)\n",
    "  \n",
    "    output = Dense(n_classes, activation='softmax')(x)\n",
    "  \n",
    "    model = Model(input, output)\n",
    "    return model"
   ]
  },
  {
   "cell_type": "code",
   "execution_count": 20,
   "metadata": {},
   "outputs": [],
   "source": [
    "# prevent overfitting\n",
    "early_stopping = EarlyStopping(monitor='val_loss', patience=10, verbose=1)"
   ]
  },
  {
   "cell_type": "markdown",
   "metadata": {},
   "source": [
    "### 3.Modeling"
   ]
  },
  {
   "cell_type": "code",
   "execution_count": 24,
   "metadata": {},
   "outputs": [],
   "source": [
    "num_train_samples = len(Y_train)\n",
    "num_val_samples = len(Y_validate)\n",
    "batch_size = 128\n",
    "epochs = 30\n",
    "n_classes = 20\n",
    "input_shape = 224,224,3"
   ]
  },
  {
   "cell_type": "code",
   "execution_count": 25,
   "metadata": {},
   "outputs": [
    {
     "name": "stdout",
     "output_type": "stream",
     "text": [
      "Model: \"model_1\"\n",
      "_________________________________________________________________\n",
      "Layer (type)                 Output Shape              Param #   \n",
      "=================================================================\n",
      "input_1 (InputLayer)         (None, 224, 224, 3)       0         \n",
      "_________________________________________________________________\n",
      "conv2d_1 (Conv2D)            (None, 56, 56, 96)        34944     \n",
      "_________________________________________________________________\n",
      "batch_normalization_1 (Batch (None, 56, 56, 96)        384       \n",
      "_________________________________________________________________\n",
      "max_pooling2d_1 (MaxPooling2 (None, 27, 27, 96)        0         \n",
      "_________________________________________________________________\n",
      "conv2d_2 (Conv2D)            (None, 27, 27, 256)       614656    \n",
      "_________________________________________________________________\n",
      "batch_normalization_2 (Batch (None, 27, 27, 256)       1024      \n",
      "_________________________________________________________________\n",
      "max_pooling2d_2 (MaxPooling2 (None, 13, 13, 256)       0         \n",
      "_________________________________________________________________\n",
      "conv2d_3 (Conv2D)            (None, 13, 13, 384)       885120    \n",
      "_________________________________________________________________\n",
      "conv2d_4 (Conv2D)            (None, 13, 13, 384)       1327488   \n",
      "_________________________________________________________________\n",
      "conv2d_5 (Conv2D)            (None, 13, 13, 256)       884992    \n",
      "_________________________________________________________________\n",
      "batch_normalization_3 (Batch (None, 13, 13, 256)       1024      \n",
      "_________________________________________________________________\n",
      "max_pooling2d_3 (MaxPooling2 (None, 6, 6, 256)         0         \n",
      "_________________________________________________________________\n",
      "flatten_1 (Flatten)          (None, 9216)              0         \n",
      "_________________________________________________________________\n",
      "dense_1 (Dense)              (None, 4096)              37752832  \n",
      "_________________________________________________________________\n",
      "dense_2 (Dense)              (None, 4096)              16781312  \n",
      "_________________________________________________________________\n",
      "dense_3 (Dense)              (None, 20)                81940     \n",
      "=================================================================\n",
      "Total params: 58,365,716\n",
      "Trainable params: 58,364,500\n",
      "Non-trainable params: 1,216\n",
      "_________________________________________________________________\n"
     ]
    }
   ],
   "source": [
    "K.clear_session()\n",
    "model = alexnet(input_shape, n_classes)\n",
    "model.summary()"
   ]
  },
  {
   "cell_type": "code",
   "execution_count": 26,
   "metadata": {},
   "outputs": [],
   "source": [
    "model.compile(loss='categorical_crossentropy',optimizer='sgd',metrics=['accuracy'])"
   ]
  },
  {
   "cell_type": "code",
   "execution_count": 27,
   "metadata": {},
   "outputs": [],
   "source": [
    "os.environ[\"CUDA_VISIBLE_DEVICES\"]=\"0\""
   ]
  },
  {
   "cell_type": "code",
   "execution_count": 32,
   "metadata": {},
   "outputs": [
    {
     "name": "stdout",
     "output_type": "stream",
     "text": [
      "Train on 28000 samples, validate on 8400 samples\n",
      "Epoch 1/30\n",
      "28000/28000 [==============================] - 160s 6ms/step - loss: 1.8991 - accuracy: 0.4019 - val_loss: 3.0520 - val_accuracy: 0.1162\n",
      "Epoch 2/30\n",
      "28000/28000 [==============================] - 136s 5ms/step - loss: 1.2701 - accuracy: 0.5610 - val_loss: 1.8805 - val_accuracy: 0.3833\n",
      "Epoch 3/30\n",
      "28000/28000 [==============================] - 136s 5ms/step - loss: 1.0619 - accuracy: 0.6359 - val_loss: 1.3131 - val_accuracy: 0.5420\n",
      "Epoch 4/30\n",
      "28000/28000 [==============================] - 136s 5ms/step - loss: 0.9088 - accuracy: 0.6905 - val_loss: 1.3457 - val_accuracy: 0.5445\n",
      "Epoch 5/30\n",
      "28000/28000 [==============================] - 136s 5ms/step - loss: 0.7863 - accuracy: 0.7319 - val_loss: 1.2643 - val_accuracy: 0.5614\n",
      "Epoch 6/30\n",
      "28000/28000 [==============================] - 136s 5ms/step - loss: 0.6786 - accuracy: 0.7673 - val_loss: 1.5858 - val_accuracy: 0.4676\n",
      "Epoch 7/30\n",
      "28000/28000 [==============================] - 136s 5ms/step - loss: 0.5781 - accuracy: 0.8056 - val_loss: 0.9954 - val_accuracy: 0.6670\n",
      "Epoch 8/30\n",
      "28000/28000 [==============================] - 136s 5ms/step - loss: 0.4777 - accuracy: 0.8429 - val_loss: 0.9832 - val_accuracy: 0.6702\n",
      "Epoch 9/30\n",
      "28000/28000 [==============================] - 136s 5ms/step - loss: 0.4050 - accuracy: 0.8674 - val_loss: 0.9705 - val_accuracy: 0.6911\n",
      "Epoch 10/30\n",
      "28000/28000 [==============================] - 136s 5ms/step - loss: 0.3328 - accuracy: 0.8938 - val_loss: 0.8403 - val_accuracy: 0.7327\n",
      "Epoch 11/30\n",
      "28000/28000 [==============================] - 136s 5ms/step - loss: 0.2730 - accuracy: 0.9123 - val_loss: 0.8377 - val_accuracy: 0.7280\n",
      "Epoch 12/30\n",
      "28000/28000 [==============================] - 136s 5ms/step - loss: 0.2235 - accuracy: 0.9323 - val_loss: 0.8866 - val_accuracy: 0.7195\n",
      "Epoch 13/30\n",
      "28000/28000 [==============================] - 136s 5ms/step - loss: 0.1841 - accuracy: 0.9457 - val_loss: 0.8726 - val_accuracy: 0.7386\n",
      "Epoch 14/30\n",
      "28000/28000 [==============================] - 136s 5ms/step - loss: 0.1459 - accuracy: 0.9595 - val_loss: 0.8055 - val_accuracy: 0.7619\n",
      "Epoch 15/30\n",
      "28000/28000 [==============================] - 136s 5ms/step - loss: 0.1144 - accuracy: 0.9686 - val_loss: 0.7961 - val_accuracy: 0.7674\n",
      "Epoch 16/30\n",
      "28000/28000 [==============================] - 136s 5ms/step - loss: 0.0962 - accuracy: 0.9739 - val_loss: 0.8139 - val_accuracy: 0.7730\n",
      "Epoch 17/30\n",
      "28000/28000 [==============================] - 136s 5ms/step - loss: 0.0776 - accuracy: 0.9802 - val_loss: 0.8212 - val_accuracy: 0.7718\n",
      "Epoch 18/30\n",
      "28000/28000 [==============================] - 136s 5ms/step - loss: 0.0681 - accuracy: 0.9820 - val_loss: 0.7709 - val_accuracy: 0.7874\n",
      "Epoch 19/30\n",
      "28000/28000 [==============================] - 136s 5ms/step - loss: 0.0498 - accuracy: 0.9884 - val_loss: 0.8386 - val_accuracy: 0.7767\n",
      "Epoch 20/30\n",
      "28000/28000 [==============================] - 136s 5ms/step - loss: 0.0410 - accuracy: 0.9905 - val_loss: 0.7868 - val_accuracy: 0.7937\n",
      "Epoch 21/30\n",
      "28000/28000 [==============================] - 136s 5ms/step - loss: 0.0303 - accuracy: 0.9935 - val_loss: 0.8753 - val_accuracy: 0.7725\n",
      "Epoch 22/30\n",
      "28000/28000 [==============================] - 136s 5ms/step - loss: 0.0271 - accuracy: 0.9945 - val_loss: 0.7992 - val_accuracy: 0.7939\n",
      "Epoch 23/30\n",
      "28000/28000 [==============================] - 136s 5ms/step - loss: 0.0219 - accuracy: 0.9962 - val_loss: 0.8680 - val_accuracy: 0.7844\n",
      "Epoch 24/30\n",
      "28000/28000 [==============================] - 136s 5ms/step - loss: 0.0122 - accuracy: 0.9985 - val_loss: 0.8382 - val_accuracy: 0.7992\n",
      "Epoch 25/30\n",
      "28000/28000 [==============================] - 136s 5ms/step - loss: 0.0089 - accuracy: 0.9992 - val_loss: 0.8289 - val_accuracy: 0.7975\n",
      "Epoch 26/30\n",
      "28000/28000 [==============================] - 136s 5ms/step - loss: 0.0060 - accuracy: 0.9998 - val_loss: 0.8244 - val_accuracy: 0.8065\n",
      "Epoch 27/30\n",
      "28000/28000 [==============================] - 136s 5ms/step - loss: 0.0045 - accuracy: 0.9998 - val_loss: 0.8273 - val_accuracy: 0.8051\n",
      "Epoch 28/30\n",
      "28000/28000 [==============================] - 136s 5ms/step - loss: 0.0036 - accuracy: 0.9999 - val_loss: 0.8485 - val_accuracy: 0.8048\n",
      "Epoch 00028: early stopping\n"
     ]
    }
   ],
   "source": [
    "hist = model.fit(\n",
    "    X_train, \n",
    "    Y_train,\n",
    "    batch_size=batch_size,\n",
    "    epochs=epochs,\n",
    "    callbacks=[early_stopping],\n",
    "#     steps_per_epoch=math.ceil(num_train_samples / batch_size),\n",
    "#     validation_steps=math.ceil(num_val_samples / batch_size),\n",
    "    validation_data = (X_validate,Y_validate))"
   ]
  },
  {
   "cell_type": "code",
   "execution_count": 33,
   "metadata": {},
   "outputs": [],
   "source": [
    "model.save('/home/zxt/data/model/alex_basic_2k_224.h5')"
   ]
  },
  {
   "cell_type": "markdown",
   "metadata": {},
   "source": [
    "### 4.Evaluation"
   ]
  },
  {
   "cell_type": "code",
   "execution_count": 35,
   "metadata": {},
   "outputs": [
    {
     "data": {
      "text/plain": [
       "<matplotlib.axes._subplots.AxesSubplot at 0x7fab2c8a8d10>"
      ]
     },
     "execution_count": 35,
     "metadata": {},
     "output_type": "execute_result"
    },
    {
     "data": {
      "image/png": "[encoded data removed]",
      "text/plain": [
       "<Figure size 432x288 with 1 Axes>"
      ]
     },
     "metadata": {
      "needs_background": "light"
     },
     "output_type": "display_data"
    },
    {
     "data": {
      "image/png": "[encoded data removed]",
      "text/plain": [
       "<Figure size 432x288 with 1 Axes>"
      ]
     },
     "metadata": {
      "needs_background": "light"
     },
     "output_type": "display_data"
    }
   ],
   "source": [
    "history_df = pd.DataFrame(hist.history)\n",
    "history_df[['loss', 'val_loss']].plot()\n",
    "history_df[['accuracy', 'val_accuracy']].plot()"
   ]
  },
  {
   "cell_type": "markdown",
   "metadata": {},
   "source": [
    "### 5.Prediction on X_test dataset"
   ]
  },
  {
   "cell_type": "code",
   "execution_count": 36,
   "metadata": {},
   "outputs": [
    {
     "name": "stdout",
     "output_type": "stream",
     "text": [
      "3600/3600 [==============================] - 8s 2ms/step\n",
      "\n",
      "test loss 0.8602802191840278\n",
      "accuracy 0.8016666769981384\n"
     ]
    }
   ],
   "source": [
    "loss,accuracy = model.evaluate(X_test,Y_test)\n",
    "print('\\ntest loss',loss)\n",
    "print('accuracy',accuracy)"
   ]
  },
  {
   "cell_type": "code",
   "execution_count": null,
   "metadata": {},
   "outputs": [],
   "source": []
  }
 ],
 "metadata": {
  "kernelspec": {
   "display_name": "Python 3",
   "language": "python",
   "name": "python3"
  },
  "language_info": {
   "codemirror_mode": {
    "name": "ipython",
    "version": 3
   },
   "file_extension": ".py",
   "mimetype": "text/x-python",
   "name": "python",
   "nbconvert_exporter": "python",
   "pygments_lexer": "ipython3",
   "version": "3.7.4"
  }
 },
 "nbformat": 4,
 "nbformat_minor": 4
}
