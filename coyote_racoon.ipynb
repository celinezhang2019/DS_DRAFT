{
 "cells": [
  {
   "cell_type": "code",
   "execution_count": 2,
   "metadata": {},
   "outputs": [
    {
     "data": {
      "text/plain": [
       "11390"
      ]
     },
     "execution_count": 2,
     "metadata": {},
     "output_type": "execute_result"
    }
   ],
   "source": [
    "import random,os,shutil,json\n",
    "\n",
    "animal2 = [3,9]\n",
    "label_dict={3:[],9:[]}\n",
    "\n",
    "train_file = \"/home/zxt/data/cal.json\"\n",
    "with open(train_file)  as data_file:\n",
    "    train_anns = json.load(data_file)\n",
    "for i in train_anns['annotations']:\n",
    "    if i['category_id'] in animal2:\n",
    "        label_dict[i['category_id']].append(i['image_id']+'.jpg')\n",
    "        \n",
    "len(label_dict[3])"
   ]
  },
  {
   "cell_type": "code",
   "execution_count": 4,
   "metadata": {},
   "outputs": [
    {
     "data": {
      "text/plain": [
       "16601"
      ]
     },
     "execution_count": 4,
     "metadata": {},
     "output_type": "execute_result"
    }
   ],
   "source": [
    "len(label_dict[9])"
   ]
  },
  {
   "cell_type": "code",
   "execution_count": 5,
   "metadata": {},
   "outputs": [
    {
     "data": {
      "text/plain": [
       "['588f67b8-23d2-11e8-a6a3-ec086b02610b.jpg',\n",
       " '59328b52-23d2-11e8-a6a3-ec086b02610b.jpg',\n",
       " '58df69fb-23d2-11e8-a6a3-ec086b02610b.jpg']"
      ]
     },
     "execution_count": 5,
     "metadata": {},
     "output_type": "execute_result"
    }
   ],
   "source": [
    "label_dict[3][:3]"
   ]
  },
  {
   "cell_type": "code",
   "execution_count": 6,
   "metadata": {},
   "outputs": [
    {
     "data": {
      "text/plain": [
       "['58ff0cef-23d2-11e8-a6a3-ec086b02610b.jpg',\n",
       " '58ddd7d6-23d2-11e8-a6a3-ec086b02610b.jpg',\n",
       " '590b9bbe-23d2-11e8-a6a3-ec086b02610b.jpg']"
      ]
     },
     "execution_count": 6,
     "metadata": {},
     "output_type": "execute_result"
    }
   ],
   "source": [
    "label_dict[9][:3]"
   ]
  },
  {
   "cell_type": "code",
   "execution_count": 21,
   "metadata": {},
   "outputs": [],
   "source": [
    "random.seed(365)\n",
    "sample_racoon = random.sample(label_dict[3],11000)\n",
    "sample_coyote = random.sample(label_dict[9],11000)"
   ]
  },
  {
   "cell_type": "code",
   "execution_count": 22,
   "metadata": {},
   "outputs": [],
   "source": [
    "sample_all = sample_racoon+sample_coyote"
   ]
  },
  {
   "cell_type": "code",
   "execution_count": 23,
   "metadata": {},
   "outputs": [
    {
     "data": {
      "text/plain": [
       "22000"
      ]
     },
     "execution_count": 23,
     "metadata": {},
     "output_type": "execute_result"
    }
   ],
   "source": [
    "\n",
    "len(sample_all)"
   ]
  },
  {
   "cell_type": "code",
   "execution_count": 24,
   "metadata": {},
   "outputs": [
    {
     "data": {
      "text/plain": [
       "11000"
      ]
     },
     "execution_count": 24,
     "metadata": {},
     "output_type": "execute_result"
    }
   ],
   "source": [
    "len(sample_racoon)"
   ]
  },
  {
   "cell_type": "code",
   "execution_count": 25,
   "metadata": {},
   "outputs": [
    {
     "data": {
      "text/plain": [
       "11000"
      ]
     },
     "execution_count": 25,
     "metadata": {},
     "output_type": "execute_result"
    }
   ],
   "source": [
    "len(sample_coyote)"
   ]
  },
  {
   "cell_type": "code",
   "execution_count": 95,
   "metadata": {},
   "outputs": [],
   "source": [
    "racoon_nodup = set(sample_racoon)"
   ]
  },
  {
   "cell_type": "code",
   "execution_count": 96,
   "metadata": {},
   "outputs": [
    {
     "data": {
      "text/plain": [
       "10616"
      ]
     },
     "execution_count": 96,
     "metadata": {},
     "output_type": "execute_result"
    }
   ],
   "source": [
    "len(racoon_nodup)"
   ]
  },
  {
   "cell_type": "code",
   "execution_count": 97,
   "metadata": {},
   "outputs": [],
   "source": [
    "coyote_nodup = set(sample_coyote)"
   ]
  },
  {
   "cell_type": "code",
   "execution_count": 98,
   "metadata": {},
   "outputs": [
    {
     "data": {
      "text/plain": [
       "10879"
      ]
     },
     "execution_count": 98,
     "metadata": {},
     "output_type": "execute_result"
    }
   ],
   "source": [
    "len(coyote_nodup)"
   ]
  },
  {
   "cell_type": "code",
   "execution_count": 99,
   "metadata": {},
   "outputs": [
    {
     "data": {
      "text/plain": [
       "21495"
      ]
     },
     "execution_count": 99,
     "metadata": {},
     "output_type": "execute_result"
    }
   ],
   "source": [
    "10616+10879"
   ]
  },
  {
   "cell_type": "code",
   "execution_count": 100,
   "metadata": {},
   "outputs": [],
   "source": [
    "racoon_nodup1 = list(racoon_nodup)"
   ]
  },
  {
   "cell_type": "code",
   "execution_count": 101,
   "metadata": {},
   "outputs": [],
   "source": [
    "coyote_nodup1 = list(coyote_nodup)"
   ]
  },
  {
   "cell_type": "code",
   "execution_count": 102,
   "metadata": {},
   "outputs": [],
   "source": [
    "import pandas as pd\n",
    "df_racoon = pd.DataFrame(racoon_nodup1, columns = ['image_id'])\n",
    "df_coyote = pd.DataFrame(coyote_nodup1, columns = ['image_id'])"
   ]
  },
  {
   "cell_type": "code",
   "execution_count": 103,
   "metadata": {},
   "outputs": [],
   "source": [
    "df_racoon['label'] = 'racoon'"
   ]
  },
  {
   "cell_type": "code",
   "execution_count": 104,
   "metadata": {},
   "outputs": [],
   "source": [
    "df_coyote['label']='coyote'"
   ]
  },
  {
   "cell_type": "code",
   "execution_count": 106,
   "metadata": {},
   "outputs": [
    {
     "data": {
      "text/html": [
       "<div>\n",
       "<style scoped>\n",
       "    .dataframe tbody tr th:only-of-type {\n",
       "        vertical-align: middle;\n",
       "    }\n",
       "\n",
       "    .dataframe tbody tr th {\n",
       "        vertical-align: top;\n",
       "    }\n",
       "\n",
       "    .dataframe thead th {\n",
       "        text-align: right;\n",
       "    }\n",
       "</style>\n",
       "<table border=\"1\" class=\"dataframe\">\n",
       "  <thead>\n",
       "    <tr style=\"text-align: right;\">\n",
       "      <th></th>\n",
       "      <th>image_id</th>\n",
       "      <th>label</th>\n",
       "    </tr>\n",
       "  </thead>\n",
       "  <tbody>\n",
       "    <tr>\n",
       "      <td>0</td>\n",
       "      <td>59a7bd15-23d2-11e8-a6a3-ec086b02610b.jpg</td>\n",
       "      <td>racoon</td>\n",
       "    </tr>\n",
       "    <tr>\n",
       "      <td>1</td>\n",
       "      <td>598ad0d5-23d2-11e8-a6a3-ec086b02610b.jpg</td>\n",
       "      <td>racoon</td>\n",
       "    </tr>\n",
       "    <tr>\n",
       "      <td>2</td>\n",
       "      <td>59e5de8a-23d2-11e8-a6a3-ec086b02610b.jpg</td>\n",
       "      <td>racoon</td>\n",
       "    </tr>\n",
       "    <tr>\n",
       "      <td>3</td>\n",
       "      <td>594846c8-23d2-11e8-a6a3-ec086b02610b.jpg</td>\n",
       "      <td>racoon</td>\n",
       "    </tr>\n",
       "    <tr>\n",
       "      <td>4</td>\n",
       "      <td>5a1979ea-23d2-11e8-a6a3-ec086b02610b.jpg</td>\n",
       "      <td>racoon</td>\n",
       "    </tr>\n",
       "  </tbody>\n",
       "</table>\n",
       "</div>"
      ],
      "text/plain": [
       "                                   image_id   label\n",
       "0  59a7bd15-23d2-11e8-a6a3-ec086b02610b.jpg  racoon\n",
       "1  598ad0d5-23d2-11e8-a6a3-ec086b02610b.jpg  racoon\n",
       "2  59e5de8a-23d2-11e8-a6a3-ec086b02610b.jpg  racoon\n",
       "3  594846c8-23d2-11e8-a6a3-ec086b02610b.jpg  racoon\n",
       "4  5a1979ea-23d2-11e8-a6a3-ec086b02610b.jpg  racoon"
      ]
     },
     "execution_count": 106,
     "metadata": {},
     "output_type": "execute_result"
    }
   ],
   "source": [
    "df_racoon.head()"
   ]
  },
  {
   "cell_type": "code",
   "execution_count": 105,
   "metadata": {},
   "outputs": [
    {
     "data": {
      "text/html": [
       "<div>\n",
       "<style scoped>\n",
       "    .dataframe tbody tr th:only-of-type {\n",
       "        vertical-align: middle;\n",
       "    }\n",
       "\n",
       "    .dataframe tbody tr th {\n",
       "        vertical-align: top;\n",
       "    }\n",
       "\n",
       "    .dataframe thead th {\n",
       "        text-align: right;\n",
       "    }\n",
       "</style>\n",
       "<table border=\"1\" class=\"dataframe\">\n",
       "  <thead>\n",
       "    <tr style=\"text-align: right;\">\n",
       "      <th></th>\n",
       "      <th>image_id</th>\n",
       "      <th>label</th>\n",
       "    </tr>\n",
       "  </thead>\n",
       "  <tbody>\n",
       "    <tr>\n",
       "      <td>0</td>\n",
       "      <td>59b2e902-23d2-11e8-a6a3-ec086b02610b.jpg</td>\n",
       "      <td>coyote</td>\n",
       "    </tr>\n",
       "    <tr>\n",
       "      <td>1</td>\n",
       "      <td>59da89d8-23d2-11e8-a6a3-ec086b02610b.jpg</td>\n",
       "      <td>coyote</td>\n",
       "    </tr>\n",
       "    <tr>\n",
       "      <td>2</td>\n",
       "      <td>59cb39f4-23d2-11e8-a6a3-ec086b02610b.jpg</td>\n",
       "      <td>coyote</td>\n",
       "    </tr>\n",
       "    <tr>\n",
       "      <td>3</td>\n",
       "      <td>59341906-23d2-11e8-a6a3-ec086b02610b.jpg</td>\n",
       "      <td>coyote</td>\n",
       "    </tr>\n",
       "    <tr>\n",
       "      <td>4</td>\n",
       "      <td>593bdda6-23d2-11e8-a6a3-ec086b02610b.jpg</td>\n",
       "      <td>coyote</td>\n",
       "    </tr>\n",
       "  </tbody>\n",
       "</table>\n",
       "</div>"
      ],
      "text/plain": [
       "                                   image_id   label\n",
       "0  59b2e902-23d2-11e8-a6a3-ec086b02610b.jpg  coyote\n",
       "1  59da89d8-23d2-11e8-a6a3-ec086b02610b.jpg  coyote\n",
       "2  59cb39f4-23d2-11e8-a6a3-ec086b02610b.jpg  coyote\n",
       "3  59341906-23d2-11e8-a6a3-ec086b02610b.jpg  coyote\n",
       "4  593bdda6-23d2-11e8-a6a3-ec086b02610b.jpg  coyote"
      ]
     },
     "execution_count": 105,
     "metadata": {},
     "output_type": "execute_result"
    }
   ],
   "source": [
    "df_coyote.head()"
   ]
  },
  {
   "cell_type": "code",
   "execution_count": 107,
   "metadata": {},
   "outputs": [],
   "source": [
    "df_sum = pd.concat([df_racoon,df_coyote])"
   ]
  },
  {
   "cell_type": "code",
   "execution_count": 108,
   "metadata": {},
   "outputs": [
    {
     "data": {
      "text/plain": [
       "21495"
      ]
     },
     "execution_count": 108,
     "metadata": {},
     "output_type": "execute_result"
    }
   ],
   "source": [
    "len(df_sum)"
   ]
  },
  {
   "cell_type": "code",
   "execution_count": 110,
   "metadata": {},
   "outputs": [
    {
     "data": {
      "text/html": [
       "<div>\n",
       "<style scoped>\n",
       "    .dataframe tbody tr th:only-of-type {\n",
       "        vertical-align: middle;\n",
       "    }\n",
       "\n",
       "    .dataframe tbody tr th {\n",
       "        vertical-align: top;\n",
       "    }\n",
       "\n",
       "    .dataframe thead th {\n",
       "        text-align: right;\n",
       "    }\n",
       "</style>\n",
       "<table border=\"1\" class=\"dataframe\">\n",
       "  <thead>\n",
       "    <tr style=\"text-align: right;\">\n",
       "      <th></th>\n",
       "      <th>image_id</th>\n",
       "      <th>label</th>\n",
       "    </tr>\n",
       "  </thead>\n",
       "  <tbody>\n",
       "    <tr>\n",
       "      <td>0</td>\n",
       "      <td>59a7bd15-23d2-11e8-a6a3-ec086b02610b.jpg</td>\n",
       "      <td>racoon</td>\n",
       "    </tr>\n",
       "    <tr>\n",
       "      <td>1</td>\n",
       "      <td>598ad0d5-23d2-11e8-a6a3-ec086b02610b.jpg</td>\n",
       "      <td>racoon</td>\n",
       "    </tr>\n",
       "    <tr>\n",
       "      <td>2</td>\n",
       "      <td>59e5de8a-23d2-11e8-a6a3-ec086b02610b.jpg</td>\n",
       "      <td>racoon</td>\n",
       "    </tr>\n",
       "    <tr>\n",
       "      <td>3</td>\n",
       "      <td>594846c8-23d2-11e8-a6a3-ec086b02610b.jpg</td>\n",
       "      <td>racoon</td>\n",
       "    </tr>\n",
       "    <tr>\n",
       "      <td>4</td>\n",
       "      <td>5a1979ea-23d2-11e8-a6a3-ec086b02610b.jpg</td>\n",
       "      <td>racoon</td>\n",
       "    </tr>\n",
       "    <tr>\n",
       "      <td>...</td>\n",
       "      <td>...</td>\n",
       "      <td>...</td>\n",
       "    </tr>\n",
       "    <tr>\n",
       "      <td>10874</td>\n",
       "      <td>5919982e-23d2-11e8-a6a3-ec086b02610b.jpg</td>\n",
       "      <td>coyote</td>\n",
       "    </tr>\n",
       "    <tr>\n",
       "      <td>10875</td>\n",
       "      <td>58c7f24b-23d2-11e8-a6a3-ec086b02610b.jpg</td>\n",
       "      <td>coyote</td>\n",
       "    </tr>\n",
       "    <tr>\n",
       "      <td>10876</td>\n",
       "      <td>59292e33-23d2-11e8-a6a3-ec086b02610b.jpg</td>\n",
       "      <td>coyote</td>\n",
       "    </tr>\n",
       "    <tr>\n",
       "      <td>10877</td>\n",
       "      <td>58f5b13a-23d2-11e8-a6a3-ec086b02610b.jpg</td>\n",
       "      <td>coyote</td>\n",
       "    </tr>\n",
       "    <tr>\n",
       "      <td>10878</td>\n",
       "      <td>5883e977-23d2-11e8-a6a3-ec086b02610b.jpg</td>\n",
       "      <td>coyote</td>\n",
       "    </tr>\n",
       "  </tbody>\n",
       "</table>\n",
       "<p>21495 rows × 2 columns</p>\n",
       "</div>"
      ],
      "text/plain": [
       "                                       image_id   label\n",
       "0      59a7bd15-23d2-11e8-a6a3-ec086b02610b.jpg  racoon\n",
       "1      598ad0d5-23d2-11e8-a6a3-ec086b02610b.jpg  racoon\n",
       "2      59e5de8a-23d2-11e8-a6a3-ec086b02610b.jpg  racoon\n",
       "3      594846c8-23d2-11e8-a6a3-ec086b02610b.jpg  racoon\n",
       "4      5a1979ea-23d2-11e8-a6a3-ec086b02610b.jpg  racoon\n",
       "...                                         ...     ...\n",
       "10874  5919982e-23d2-11e8-a6a3-ec086b02610b.jpg  coyote\n",
       "10875  58c7f24b-23d2-11e8-a6a3-ec086b02610b.jpg  coyote\n",
       "10876  59292e33-23d2-11e8-a6a3-ec086b02610b.jpg  coyote\n",
       "10877  58f5b13a-23d2-11e8-a6a3-ec086b02610b.jpg  coyote\n",
       "10878  5883e977-23d2-11e8-a6a3-ec086b02610b.jpg  coyote\n",
       "\n",
       "[21495 rows x 2 columns]"
      ]
     },
     "execution_count": 110,
     "metadata": {},
     "output_type": "execute_result"
    }
   ],
   "source": [
    "df_sum"
   ]
  },
  {
   "cell_type": "code",
   "execution_count": 111,
   "metadata": {},
   "outputs": [],
   "source": [
    "csv_file = '/home/zxt/data/all/data.csv'\n",
    "csv_data = pd.read_csv(csv_file, low_memory=False)\n",
    "df = pd.DataFrame(csv_data)"
   ]
  },
  {
   "cell_type": "code",
   "execution_count": 112,
   "metadata": {},
   "outputs": [
    {
     "data": {
      "text/plain": [
       "212266"
      ]
     },
     "execution_count": 112,
     "metadata": {},
     "output_type": "execute_result"
    }
   ],
   "source": [
    "len(df)"
   ]
  },
  {
   "cell_type": "code",
   "execution_count": 113,
   "metadata": {},
   "outputs": [],
   "source": [
    "df = df[df['image_id']!='S7_T12_R1_IMAG0179.JPG']"
   ]
  },
  {
   "cell_type": "code",
   "execution_count": 114,
   "metadata": {},
   "outputs": [
    {
     "data": {
      "text/plain": [
       "212265"
      ]
     },
     "execution_count": 114,
     "metadata": {},
     "output_type": "execute_result"
    }
   ],
   "source": [
    "len(df)"
   ]
  },
  {
   "cell_type": "code",
   "execution_count": 115,
   "metadata": {},
   "outputs": [],
   "source": [
    "df_22 = pd.concat([df,df_sum])"
   ]
  },
  {
   "cell_type": "code",
   "execution_count": 116,
   "metadata": {},
   "outputs": [
    {
     "data": {
      "text/plain": [
       "233760"
      ]
     },
     "execution_count": 116,
     "metadata": {},
     "output_type": "execute_result"
    }
   ],
   "source": [
    "\n",
    "len(df_22)"
   ]
  },
  {
   "cell_type": "code",
   "execution_count": 117,
   "metadata": {},
   "outputs": [
    {
     "data": {
      "text/plain": [
       "21495"
      ]
     },
     "execution_count": 117,
     "metadata": {},
     "output_type": "execute_result"
    }
   ],
   "source": [
    "233760-212265"
   ]
  },
  {
   "cell_type": "code",
   "execution_count": 118,
   "metadata": {},
   "outputs": [
    {
     "data": {
      "text/html": [
       "<div>\n",
       "<style scoped>\n",
       "    .dataframe tbody tr th:only-of-type {\n",
       "        vertical-align: middle;\n",
       "    }\n",
       "\n",
       "    .dataframe tbody tr th {\n",
       "        vertical-align: top;\n",
       "    }\n",
       "\n",
       "    .dataframe thead th {\n",
       "        text-align: right;\n",
       "    }\n",
       "</style>\n",
       "<table border=\"1\" class=\"dataframe\">\n",
       "  <thead>\n",
       "    <tr style=\"text-align: right;\">\n",
       "      <th></th>\n",
       "      <th>image_id</th>\n",
       "      <th>label</th>\n",
       "    </tr>\n",
       "  </thead>\n",
       "  <tbody>\n",
       "    <tr>\n",
       "      <td>0</td>\n",
       "      <td>S7_F07_R1_IMAG0140.JPG</td>\n",
       "      <td>elephant</td>\n",
       "    </tr>\n",
       "    <tr>\n",
       "      <td>1</td>\n",
       "      <td>CA-44_09_11_2015_CA-44_0007006.jpg</td>\n",
       "      <td>wild_boar</td>\n",
       "    </tr>\n",
       "    <tr>\n",
       "      <td>2</td>\n",
       "      <td>S10_F10_R1_IMAG1959.JPG</td>\n",
       "      <td>gazellethomosons</td>\n",
       "    </tr>\n",
       "    <tr>\n",
       "      <td>3</td>\n",
       "      <td>CA-41_08_04_2015_CA-41_0006076.jpg</td>\n",
       "      <td>squirrel</td>\n",
       "    </tr>\n",
       "    <tr>\n",
       "      <td>4</td>\n",
       "      <td>1603150213300952S194.JPG</td>\n",
       "      <td>hedgehog</td>\n",
       "    </tr>\n",
       "    <tr>\n",
       "      <td>...</td>\n",
       "      <td>...</td>\n",
       "      <td>...</td>\n",
       "    </tr>\n",
       "    <tr>\n",
       "      <td>10874</td>\n",
       "      <td>5919982e-23d2-11e8-a6a3-ec086b02610b.jpg</td>\n",
       "      <td>coyote</td>\n",
       "    </tr>\n",
       "    <tr>\n",
       "      <td>10875</td>\n",
       "      <td>58c7f24b-23d2-11e8-a6a3-ec086b02610b.jpg</td>\n",
       "      <td>coyote</td>\n",
       "    </tr>\n",
       "    <tr>\n",
       "      <td>10876</td>\n",
       "      <td>59292e33-23d2-11e8-a6a3-ec086b02610b.jpg</td>\n",
       "      <td>coyote</td>\n",
       "    </tr>\n",
       "    <tr>\n",
       "      <td>10877</td>\n",
       "      <td>58f5b13a-23d2-11e8-a6a3-ec086b02610b.jpg</td>\n",
       "      <td>coyote</td>\n",
       "    </tr>\n",
       "    <tr>\n",
       "      <td>10878</td>\n",
       "      <td>5883e977-23d2-11e8-a6a3-ec086b02610b.jpg</td>\n",
       "      <td>coyote</td>\n",
       "    </tr>\n",
       "  </tbody>\n",
       "</table>\n",
       "<p>233760 rows × 2 columns</p>\n",
       "</div>"
      ],
      "text/plain": [
       "                                       image_id             label\n",
       "0                        S7_F07_R1_IMAG0140.JPG          elephant\n",
       "1            CA-44_09_11_2015_CA-44_0007006.jpg         wild_boar\n",
       "2                       S10_F10_R1_IMAG1959.JPG  gazellethomosons\n",
       "3            CA-41_08_04_2015_CA-41_0006076.jpg          squirrel\n",
       "4                      1603150213300952S194.JPG          hedgehog\n",
       "...                                         ...               ...\n",
       "10874  5919982e-23d2-11e8-a6a3-ec086b02610b.jpg            coyote\n",
       "10875  58c7f24b-23d2-11e8-a6a3-ec086b02610b.jpg            coyote\n",
       "10876  59292e33-23d2-11e8-a6a3-ec086b02610b.jpg            coyote\n",
       "10877  58f5b13a-23d2-11e8-a6a3-ec086b02610b.jpg            coyote\n",
       "10878  5883e977-23d2-11e8-a6a3-ec086b02610b.jpg            coyote\n",
       "\n",
       "[233760 rows x 2 columns]"
      ]
     },
     "execution_count": 118,
     "metadata": {},
     "output_type": "execute_result"
    }
   ],
   "source": [
    "df_22"
   ]
  },
  {
   "cell_type": "code",
   "execution_count": 119,
   "metadata": {},
   "outputs": [],
   "source": [
    "df_22.to_csv(r'/home/zxt/data/all/dict_22.csv', index=False)"
   ]
  },
  {
   "cell_type": "code",
   "execution_count": null,
   "metadata": {},
   "outputs": [],
   "source": []
  }
 ],
 "metadata": {
  "kernelspec": {
   "display_name": "Python 3",
   "language": "python",
   "name": "python3"
  },
  "language_info": {
   "codemirror_mode": {
    "name": "ipython",
    "version": 3
   },
   "file_extension": ".py",
   "mimetype": "text/x-python",
   "name": "python",
   "nbconvert_exporter": "python",
   "pygments_lexer": "ipython3",
   "version": "3.7.4"
  }
 },
 "nbformat": 4,
 "nbformat_minor": 4
}
