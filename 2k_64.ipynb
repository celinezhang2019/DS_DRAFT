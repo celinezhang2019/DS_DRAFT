{
 "cells": [
  {
   "cell_type": "code",
   "execution_count": 1,
   "metadata": {},
   "outputs": [],
   "source": [
    "import json,pandas as pd, numpy as np, os,csv,random,time\n",
    "import matplotlib.pyplot as plt\n",
    "from sklearn.model_selection import train_test_split\n",
    "import csv,time\n",
    "import numpy as np\n",
    "import pandas as pd\n",
    "import os\n",
    "import matplotlib.pyplot as plt\n",
    "from sklearn.model_selection import train_test_split\n",
    "from tensorflow.keras.preprocessing import image\n",
    "from time import time"
   ]
  },
  {
   "cell_type": "code",
   "execution_count": 2,
   "metadata": {},
   "outputs": [
    {
     "data": {
      "text/plain": [
       "'/home/zxt/code/final/2k_new'"
      ]
     },
     "execution_count": 2,
     "metadata": {},
     "output_type": "execute_result"
    }
   ],
   "source": [
    "import os\n",
    "os.getcwd()"
   ]
  },
  {
   "cell_type": "code",
   "execution_count": 3,
   "metadata": {},
   "outputs": [],
   "source": [
    "csv_file = '/home/zxt/data/final/data.csv'\n",
    "csv_data = pd.read_csv(csv_file, low_memory=False)\n",
    "df = pd.DataFrame(csv_data)"
   ]
  },
  {
   "cell_type": "code",
   "execution_count": 4,
   "metadata": {},
   "outputs": [
    {
     "data": {
      "text/plain": [
       "212266"
      ]
     },
     "execution_count": 4,
     "metadata": {},
     "output_type": "execute_result"
    }
   ],
   "source": [
    "len(df)"
   ]
  },
  {
   "cell_type": "code",
   "execution_count": 5,
   "metadata": {},
   "outputs": [],
   "source": [
    "df = df[df['image_id']!='S7_T12_R1_IMAG0179.JPG']"
   ]
  },
  {
   "cell_type": "code",
   "execution_count": 6,
   "metadata": {},
   "outputs": [
    {
     "data": {
      "text/plain": [
       "212265"
      ]
     },
     "execution_count": 6,
     "metadata": {},
     "output_type": "execute_result"
    }
   ],
   "source": [
    "len(df)"
   ]
  },
  {
   "cell_type": "code",
   "execution_count": 7,
   "metadata": {},
   "outputs": [],
   "source": [
    "elephant = df[df['label']=='elephant']\n",
    "wild_boar = df[df['label']=='wild_boar']\n",
    "gazellethomosons = df[df['label']=='gazellethomosons']\n",
    "squirrel = df[df['label']=='squirrel']\n",
    "hedgehog= df[df['label']=='hedgehog']\n",
    "\n",
    "guineafowl = df[df['label']=='guineafowl']\n",
    "moose = df[df['label']=='moose']\n",
    "bobcat = df[df['label']=='bobcat']\n",
    "bird = df[df['label']=='bird']\n",
    "fox = df[df['label']=='fox']\n",
    "\n",
    "giraffe = df[df['label']=='giraffe']\n",
    "buffalo = df[df['label']=='buffalo']\n",
    "hare = df[df['label']=='hare']\n",
    "vehicle = df[df['label']=='vehicle']\n",
    "wildebeest = df[df['label']=='wildebeest']\n",
    "\n",
    "cattle = df[df['label']=='cattle']\n",
    "skunk = df[df['label']=='skunk']\n",
    "lion = df[df['label']=='lion']\n",
    "zebra = df[df['label']=='zebra']\n",
    "black_bear = df[df['label']=='black_bear']"
   ]
  },
  {
   "cell_type": "code",
   "execution_count": 8,
   "metadata": {},
   "outputs": [],
   "source": [
    "elephant_2k = elephant.sample(n=5000,random_state=912,replace=False)\n",
    "wild_boar_2k = wild_boar.sample(n=5000,random_state=912,replace=False)\n",
    "gazellethomosons_2k = gazellethomosons.sample(n=5000,random_state=912,replace=False)\n",
    "squirrel_2k = squirrel.sample(n=5000,random_state=912,replace=False)\n",
    "hedgehog_2k = hedgehog.sample(n=5000,random_state=912,replace=False)\n",
    "\n",
    "guineafowl_2k = guineafowl.sample(n=5000,random_state=912,replace=False)\n",
    "moose_2k = moose.sample(n=5000,random_state=912,replace=False)\n",
    "bobcat_2k = bobcat.sample(n=5000,random_state=912,replace=False)\n",
    "bird_2k = bird.sample(n=5000,random_state=912,replace=False)\n",
    "fox_2k = fox.sample(n=5000,random_state=912,replace=False)\n",
    "\n",
    "giraffe_2k = giraffe.sample(n=5000,random_state=912,replace=False)\n",
    "buffalo_2k = buffalo.sample(n=5000,random_state=912,replace=False)\n",
    "hare_2k = hare.sample(n=5000, random_state=912,replace=False)\n",
    "vehicle_2k = vehicle.sample(n=5000,random_state=912,replace=False)\n",
    "wildebeest_2k = wildebeest.sample(n=5000,random_state=912,replace=False)\n",
    "\n",
    "cattle_2k = cattle.sample(n=5000,random_state=912,replace=False)\n",
    "skunk_2k = skunk.sample(n=5000,random_state=912,replace=False)\n",
    "lion_2k = lion.sample(n=5000,random_state=912,replace=False)\n",
    "zebra_2k = zebra.sample(n=5000,random_state=912,replace=False)\n",
    "black_bear_2k = black_bear.sample(n=5000,random_state=912,replace=False)"
   ]
  },
  {
   "cell_type": "code",
   "execution_count": 9,
   "metadata": {},
   "outputs": [],
   "source": [
    "elephant_2k = elephant.sample(n=2000,random_state=912,replace=False)\n",
    "wild_boar_2k = wild_boar.sample(n=2000,random_state=912,replace=False)\n",
    "gazellethomosons_2k = gazellethomosons.sample(n=2000,random_state=912,replace=False)\n",
    "squirrel_2k = squirrel.sample(n=2000,random_state=912,replace=False)\n",
    "hedgehog_2k = hedgehog.sample(n=2000,random_state=912,replace=False)\n",
    "\n",
    "guineafowl_2k = guineafowl.sample(n=2000,random_state=912,replace=False)\n",
    "moose_2k = moose.sample(n=2000,random_state=912,replace=False)\n",
    "bobcat_2k = bobcat.sample(n=2000,random_state=912,replace=False)\n",
    "bird_2k = bird.sample(n=2000,random_state=912,replace=False)\n",
    "fox_2k = fox.sample(n=2000,random_state=912,replace=False)\n",
    "\n",
    "giraffe_2k = giraffe.sample(n=2000,random_state=912,replace=False)\n",
    "buffalo_2k = buffalo.sample(n=2000,random_state=912,replace=False)\n",
    "hare_2k = hare.sample(n=2000, random_state=912,replace=False)\n",
    "vehicle_2k = vehicle.sample(n=2000,random_state=912,replace=False)\n",
    "wildebeest_2k = wildebeest.sample(n=2000,random_state=912,replace=False)\n",
    "\n",
    "cattle_2k = cattle.sample(n=2000,random_state=912,replace=False)\n",
    "skunk_2k = skunk.sample(n=2000,random_state=912,replace=False)\n",
    "lion_2k = lion.sample(n=2000,random_state=912,replace=False)\n",
    "zebra_2k = zebra.sample(n=2000,random_state=912,replace=False)\n",
    "black_bear_2k = black_bear.sample(n=2000,random_state=912,replace=False)"
   ]
  },
  {
   "cell_type": "code",
   "execution_count": 9,
   "metadata": {},
   "outputs": [
    {
     "data": {
      "text/plain": [
       "5000"
      ]
     },
     "execution_count": 9,
     "metadata": {},
     "output_type": "execute_result"
    }
   ],
   "source": [
    "len(cattle_2k)"
   ]
  },
  {
   "cell_type": "code",
   "execution_count": 10,
   "metadata": {},
   "outputs": [],
   "source": [
    "df_all = pd.concat([elephant_2k,wild_boar_2k,gazellethomosons_2k,squirrel_2k,hedgehog_2k,guineafowl_2k,moose_2k,bobcat_2k,bird_2k,fox_2k,giraffe_2k,buffalo_2k,hare_2k,vehicle_2k,wildebeest_2k,cattle_2k,skunk_2k,lion_2k,zebra_2k,black_bear_2k ])"
   ]
  },
  {
   "cell_type": "code",
   "execution_count": 11,
   "metadata": {},
   "outputs": [
    {
     "data": {
      "text/plain": [
       "100000"
      ]
     },
     "execution_count": 11,
     "metadata": {},
     "output_type": "execute_result"
    }
   ],
   "source": [
    "len(df_all)"
   ]
  },
  {
   "cell_type": "code",
   "execution_count": 12,
   "metadata": {},
   "outputs": [
    {
     "data": {
      "text/plain": [
       "<matplotlib.axes._subplots.AxesSubplot at 0x7ff0ddf12110>"
      ]
     },
     "execution_count": 12,
     "metadata": {},
     "output_type": "execute_result"
    },
    {
     "data": {
      "image/png": "[encoded data removed]",
      "text/plain": [
       "<Figure size 432x288 with 1 Axes>"
      ]
     },
     "metadata": {
      "needs_background": "light"
     },
     "output_type": "display_data"
    }
   ],
   "source": [
    "df_all['label'].value_counts().plot.bar()"
   ]
  },
  {
   "cell_type": "code",
   "execution_count": 13,
   "metadata": {},
   "outputs": [],
   "source": [
    "train_df, validate0_df = train_test_split(df_all, test_size=0.30, random_state=522)\n",
    "train_df = train_df.reset_index(drop=True)\n",
    "validate0_df = validate0_df.reset_index(drop=True)"
   ]
  },
  {
   "cell_type": "code",
   "execution_count": 14,
   "metadata": {},
   "outputs": [],
   "source": [
    "validate_df, test_df = train_test_split(validate0_df, test_size=0.30, random_state=626)\n",
    "validate_df = validate_df.reset_index(drop=True)\n",
    "test_df = test_df.reset_index(drop=True)"
   ]
  },
  {
   "cell_type": "code",
   "execution_count": 15,
   "metadata": {},
   "outputs": [
    {
     "data": {
      "text/plain": [
       "70000"
      ]
     },
     "execution_count": 15,
     "metadata": {},
     "output_type": "execute_result"
    }
   ],
   "source": [
    "len(train_df)"
   ]
  },
  {
   "cell_type": "markdown",
   "metadata": {},
   "source": [
    "### train set"
   ]
  },
  {
   "cell_type": "code",
   "execution_count": 60,
   "metadata": {},
   "outputs": [
    {
     "data": {
      "text/plain": [
       "(70000, 224, 224, 3)"
      ]
     },
     "execution_count": 60,
     "metadata": {},
     "output_type": "execute_result"
    }
   ],
   "source": [
    "imglist = train_df['image_id'].tolist()\n",
    "X_train = np.empty((len(imglist),224,224,3))\n",
    "X_train.shape"
   ]
  },
  {
   "cell_type": "code",
   "execution_count": 61,
   "metadata": {},
   "outputs": [
    {
     "data": {
      "text/plain": [
       "(70000, 1)"
      ]
     },
     "execution_count": 61,
     "metadata": {},
     "output_type": "execute_result"
    }
   ],
   "source": [
    "Y_train = np.empty((len(imglist),1))\n",
    "Y_train.shape"
   ]
  },
  {
   "cell_type": "code",
   "execution_count": null,
   "metadata": {},
   "outputs": [],
   "source": []
  },
  {
   "cell_type": "code",
   "execution_count": 62,
   "metadata": {},
   "outputs": [
    {
     "name": "stdout",
     "output_type": "stream",
     "text": [
      "1000\n",
      "2000\n",
      "3000\n",
      "4000\n",
      "5000\n",
      "6000\n",
      "7000\n",
      "8000\n",
      "9000\n",
      "10000\n",
      "11000\n",
      "12000\n",
      "13000\n",
      "14000\n",
      "15000\n",
      "16000\n",
      "17000\n",
      "18000\n",
      "19000\n",
      "20000\n",
      "21000\n",
      "22000\n",
      "23000\n",
      "24000\n",
      "25000\n",
      "26000\n",
      "27000\n",
      "28000\n",
      "29000\n",
      "30000\n",
      "31000\n",
      "32000\n",
      "33000\n",
      "34000\n",
      "35000\n",
      "36000\n",
      "37000\n",
      "38000\n",
      "39000\n",
      "40000\n",
      "41000\n",
      "42000\n",
      "43000\n",
      "44000\n",
      "45000\n",
      "46000\n",
      "47000\n",
      "48000\n",
      "49000\n",
      "50000\n",
      "51000\n",
      "52000\n",
      "53000\n",
      "54000\n",
      "55000\n",
      "56000\n",
      "57000\n",
      "58000\n",
      "59000\n",
      "60000\n",
      "61000\n",
      "62000\n",
      "63000\n",
      "64000\n",
      "65000\n",
      "66000\n",
      "67000\n",
      "68000\n",
      "69000\n",
      "70000\n",
      "Running time: 9240.742355823517 seconds\n"
     ]
    }
   ],
   "source": [
    "start = time()\n",
    "\n",
    "path = '/home/zxt/data/raw_data_all/'\n",
    "count =0\n",
    "nonelist=[]\n",
    "for img_name in imglist:\n",
    "    img_path = path + img_name\n",
    "    try:\n",
    "        img = image.load_img(img_path, target_size=(224,224))\n",
    "        X_train[count]=img\n",
    "        count+=1\n",
    "        if count % 1000 == 0:\n",
    "            print(count)        \n",
    "    except:\n",
    "        nonelist.append(img_path)\n",
    "        \n",
    "end = time()\n",
    "print(\"Running time: %s seconds\"%(end - start))"
   ]
  },
  {
   "cell_type": "code",
   "execution_count": 63,
   "metadata": {},
   "outputs": [
    {
     "data": {
      "text/plain": [
       "0"
      ]
     },
     "execution_count": 63,
     "metadata": {},
     "output_type": "execute_result"
    }
   ],
   "source": [
    "len(nonelist)"
   ]
  },
  {
   "cell_type": "code",
   "execution_count": 64,
   "metadata": {},
   "outputs": [
    {
     "data": {
      "text/plain": [
       "[]"
      ]
     },
     "execution_count": 64,
     "metadata": {},
     "output_type": "execute_result"
    }
   ],
   "source": [
    "nonelist"
   ]
  },
  {
   "cell_type": "code",
   "execution_count": 19,
   "metadata": {},
   "outputs": [],
   "source": [
    "path = '/home/zxt/data/raw_data_all/'"
   ]
  },
  {
   "cell_type": "code",
   "execution_count": null,
   "metadata": {},
   "outputs": [],
   "source": []
  },
  {
   "cell_type": "code",
   "execution_count": 66,
   "metadata": {},
   "outputs": [],
   "source": [
    "# train_df"
   ]
  },
  {
   "cell_type": "code",
   "execution_count": 74,
   "metadata": {},
   "outputs": [
    {
     "data": {
      "text/plain": [
       "(70000, 1)"
      ]
     },
     "execution_count": 74,
     "metadata": {},
     "output_type": "execute_result"
    }
   ],
   "source": [
    "label = train_df['label']\n",
    "Y_train = [i for i in label]\n",
    "Y_train = np.array(Y_train)\n",
    "Y_train = Y_train.reshape(len(Y_train),1)\n",
    "Y_train.shape"
   ]
  },
  {
   "cell_type": "code",
   "execution_count": 75,
   "metadata": {},
   "outputs": [
    {
     "data": {
      "text/plain": [
       "array([['hare'],\n",
       "       ['hedgehog'],\n",
       "       ['fox'],\n",
       "       ...,\n",
       "       ['gazellethomosons'],\n",
       "       ['vehicle'],\n",
       "       ['hare']], dtype='<U16')"
      ]
     },
     "execution_count": 75,
     "metadata": {},
     "output_type": "execute_result"
    }
   ],
   "source": [
    "Y_train"
   ]
  },
  {
   "cell_type": "code",
   "execution_count": 76,
   "metadata": {},
   "outputs": [
    {
     "data": {
      "text/plain": [
       "array([[[ 0.,  0.,  0.],\n",
       "        [ 0.,  0.,  0.],\n",
       "        [ 0.,  0.,  0.],\n",
       "        ...,\n",
       "        [ 0.,  0.,  0.],\n",
       "        [ 0.,  0.,  0.],\n",
       "        [ 0.,  0.,  0.]],\n",
       "\n",
       "       [[ 0.,  0.,  0.],\n",
       "        [ 0.,  0.,  0.],\n",
       "        [ 0.,  0.,  0.],\n",
       "        ...,\n",
       "        [ 0.,  0.,  0.],\n",
       "        [ 0.,  0.,  0.],\n",
       "        [ 0.,  0.,  0.]],\n",
       "\n",
       "       [[ 0.,  0.,  0.],\n",
       "        [ 0.,  0.,  0.],\n",
       "        [ 0.,  0.,  0.],\n",
       "        ...,\n",
       "        [ 0.,  0.,  0.],\n",
       "        [ 0.,  0.,  0.],\n",
       "        [ 0.,  0.,  0.]],\n",
       "\n",
       "       ...,\n",
       "\n",
       "       [[ 0.,  0.,  0.],\n",
       "        [ 0.,  0.,  0.],\n",
       "        [ 0.,  0.,  0.],\n",
       "        ...,\n",
       "        [29.,  0., 12.],\n",
       "        [ 0.,  0.,  0.],\n",
       "        [ 0.,  0.,  0.]],\n",
       "\n",
       "       [[ 0.,  0.,  0.],\n",
       "        [ 0.,  0.,  0.],\n",
       "        [ 0.,  0.,  0.],\n",
       "        ...,\n",
       "        [ 0.,  0.,  0.],\n",
       "        [ 0.,  0.,  0.],\n",
       "        [ 0.,  0.,  0.]],\n",
       "\n",
       "       [[ 0.,  0.,  0.],\n",
       "        [ 0.,  0.,  0.],\n",
       "        [ 0.,  0.,  0.],\n",
       "        ...,\n",
       "        [ 0.,  0.,  0.],\n",
       "        [ 0.,  0.,  0.],\n",
       "        [ 0.,  0.,  0.]]])"
      ]
     },
     "execution_count": 76,
     "metadata": {},
     "output_type": "execute_result"
    }
   ],
   "source": [
    "X_train[0]"
   ]
  },
  {
   "cell_type": "code",
   "execution_count": 77,
   "metadata": {},
   "outputs": [
    {
     "data": {
      "text/plain": [
       "70000"
      ]
     },
     "execution_count": 77,
     "metadata": {},
     "output_type": "execute_result"
    }
   ],
   "source": [
    "len(Y_train)"
   ]
  },
  {
   "cell_type": "code",
   "execution_count": 78,
   "metadata": {},
   "outputs": [
    {
     "data": {
      "text/plain": [
       "70000"
      ]
     },
     "execution_count": 78,
     "metadata": {},
     "output_type": "execute_result"
    }
   ],
   "source": [
    "len(X_train)"
   ]
  },
  {
   "cell_type": "code",
   "execution_count": 79,
   "metadata": {},
   "outputs": [
    {
     "data": {
      "text/plain": [
       "array([['hare'],\n",
       "       ['hedgehog'],\n",
       "       ['fox'],\n",
       "       ...,\n",
       "       ['gazellethomosons'],\n",
       "       ['vehicle'],\n",
       "       ['hare']], dtype='<U16')"
      ]
     },
     "execution_count": 79,
     "metadata": {},
     "output_type": "execute_result"
    }
   ],
   "source": [
    "Y_train"
   ]
  },
  {
   "cell_type": "code",
   "execution_count": 73,
   "metadata": {},
   "outputs": [],
   "source": [
    "np.save('/home/zxt/code/final/5k_new/X_train_224',X_train)\n",
    "np.save('/home/zxt/code/final/5k_new/Y_train_224',Y_train)"
   ]
  },
  {
   "cell_type": "markdown",
   "metadata": {},
   "source": [
    "### validate set"
   ]
  },
  {
   "cell_type": "code",
   "execution_count": 16,
   "metadata": {},
   "outputs": [
    {
     "data": {
      "text/plain": [
       "(21000, 2)"
      ]
     },
     "execution_count": 16,
     "metadata": {},
     "output_type": "execute_result"
    }
   ],
   "source": [
    "validate_df.shape"
   ]
  },
  {
   "cell_type": "code",
   "execution_count": 17,
   "metadata": {},
   "outputs": [
    {
     "data": {
      "text/plain": [
       "(21000, 224, 224, 3)"
      ]
     },
     "execution_count": 17,
     "metadata": {},
     "output_type": "execute_result"
    }
   ],
   "source": [
    "imglist = validate_df['image_id'].tolist()\n",
    "X_validate = np.empty((len(imglist),224,224,3))\n",
    "X_validate.shape"
   ]
  },
  {
   "cell_type": "code",
   "execution_count": 20,
   "metadata": {},
   "outputs": [
    {
     "name": "stdout",
     "output_type": "stream",
     "text": [
      "1000\n",
      "2000\n",
      "3000\n",
      "4000\n",
      "5000\n",
      "6000\n",
      "7000\n",
      "8000\n",
      "9000\n",
      "10000\n",
      "11000\n",
      "12000\n",
      "13000\n",
      "14000\n",
      "15000\n",
      "16000\n",
      "17000\n",
      "18000\n",
      "19000\n",
      "20000\n",
      "21000\n",
      "Running time: 3084.613314628601 seconds\n"
     ]
    }
   ],
   "source": [
    "start = time()\n",
    "count=0\n",
    "nonelist=[]\n",
    "for img_name in imglist:\n",
    "    img_path = path + img_name\n",
    "    try:\n",
    "        img = image.load_img(img_path, target_size=(224,224))\n",
    "        X_validate[count]=img\n",
    "        count+=1\n",
    "        if count % 1000 ==0:\n",
    "            print(count)\n",
    "    except:\n",
    "        nonelist.append(img_path)\n",
    "        \n",
    "end = time()\n",
    "print(\"Running time: %s seconds\"%(end - start))"
   ]
  },
  {
   "cell_type": "code",
   "execution_count": 21,
   "metadata": {},
   "outputs": [
    {
     "data": {
      "text/plain": [
       "0"
      ]
     },
     "execution_count": 21,
     "metadata": {},
     "output_type": "execute_result"
    }
   ],
   "source": [
    "len(nonelist)"
   ]
  },
  {
   "cell_type": "code",
   "execution_count": 22,
   "metadata": {},
   "outputs": [
    {
     "data": {
      "text/plain": [
       "[]"
      ]
     },
     "execution_count": 22,
     "metadata": {},
     "output_type": "execute_result"
    }
   ],
   "source": [
    "nonelist"
   ]
  },
  {
   "cell_type": "code",
   "execution_count": 23,
   "metadata": {},
   "outputs": [
    {
     "data": {
      "text/plain": [
       "(21000, 1)"
      ]
     },
     "execution_count": 23,
     "metadata": {},
     "output_type": "execute_result"
    }
   ],
   "source": [
    "label = validate_df['label']\n",
    "Y_validate = [i for i in label]\n",
    "Y_validate = np.array(Y_validate)\n",
    "Y_validate = Y_validate.reshape(len(Y_validate),1)\n",
    "Y_validate.shape"
   ]
  },
  {
   "cell_type": "code",
   "execution_count": 24,
   "metadata": {},
   "outputs": [
    {
     "data": {
      "text/plain": [
       "array([[[251., 241., 240.],\n",
       "        [254., 246., 243.],\n",
       "        [245., 240., 236.],\n",
       "        ...,\n",
       "        [245., 227., 203.],\n",
       "        [243., 225., 201.],\n",
       "        [243., 230., 211.]],\n",
       "\n",
       "       [[252., 244., 242.],\n",
       "        [250., 240., 238.],\n",
       "        [244., 230., 229.],\n",
       "        ...,\n",
       "        [243., 230., 213.],\n",
       "        [240., 227., 210.],\n",
       "        [243., 231., 209.]],\n",
       "\n",
       "       [[251., 243., 240.],\n",
       "        [250., 245., 239.],\n",
       "        [234., 226., 224.],\n",
       "        ...,\n",
       "        [246., 231., 210.],\n",
       "        [248., 232., 216.],\n",
       "        [243., 232., 212.]],\n",
       "\n",
       "       ...,\n",
       "\n",
       "       [[220., 220., 220.],\n",
       "        [220., 220., 220.],\n",
       "        [220., 220., 220.],\n",
       "        ...,\n",
       "        [221., 221., 221.],\n",
       "        [208., 208., 208.],\n",
       "        [217., 217., 217.]],\n",
       "\n",
       "       [[220., 220., 220.],\n",
       "        [220., 220., 220.],\n",
       "        [235., 235., 235.],\n",
       "        ...,\n",
       "        [219., 219., 219.],\n",
       "        [225., 225., 225.],\n",
       "        [218., 218., 220.]],\n",
       "\n",
       "       [[217., 215., 218.],\n",
       "        [220., 219., 224.],\n",
       "        [219., 219., 217.],\n",
       "        ...,\n",
       "        [223., 221., 222.],\n",
       "        [221., 219., 220.],\n",
       "        [220., 218., 221.]]])"
      ]
     },
     "execution_count": 24,
     "metadata": {},
     "output_type": "execute_result"
    }
   ],
   "source": [
    "X_validate[0]"
   ]
  },
  {
   "cell_type": "code",
   "execution_count": 25,
   "metadata": {},
   "outputs": [
    {
     "data": {
      "text/plain": [
       "array([['lion'],\n",
       "       ['bird'],\n",
       "       ['bird'],\n",
       "       ...,\n",
       "       ['guineafowl'],\n",
       "       ['gazellethomosons'],\n",
       "       ['buffalo']], dtype='<U16')"
      ]
     },
     "execution_count": 25,
     "metadata": {},
     "output_type": "execute_result"
    }
   ],
   "source": [
    "Y_validate"
   ]
  },
  {
   "cell_type": "code",
   "execution_count": 26,
   "metadata": {},
   "outputs": [],
   "source": [
    "np.save('/home/zxt/code/final/5k_new/X_validate_224',X_validate)\n",
    "np.save('/home/zxt/code/final/5k_new/Y_validate_224',Y_validate)"
   ]
  },
  {
   "cell_type": "markdown",
   "metadata": {},
   "source": [
    "### test set"
   ]
  },
  {
   "cell_type": "code",
   "execution_count": 27,
   "metadata": {},
   "outputs": [
    {
     "data": {
      "text/plain": [
       "(9000, 224, 224, 3)"
      ]
     },
     "execution_count": 27,
     "metadata": {},
     "output_type": "execute_result"
    }
   ],
   "source": [
    "imglist = test_df['image_id'].tolist()\n",
    "X_test = np.empty((len(imglist),224,224,3))\n",
    "X_test.shape"
   ]
  },
  {
   "cell_type": "code",
   "execution_count": 28,
   "metadata": {},
   "outputs": [
    {
     "name": "stdout",
     "output_type": "stream",
     "text": [
      "1000\n",
      "2000\n",
      "3000\n",
      "4000\n",
      "5000\n",
      "6000\n",
      "7000\n",
      "8000\n",
      "9000\n",
      "Runing time: 1230.7045090198517 seconds\n"
     ]
    }
   ],
   "source": [
    "start=time()\n",
    "\n",
    "count=0\n",
    "nonelist=[]\n",
    "for img_name in imglist:\n",
    "    img_path = path + img_name\n",
    "    try:\n",
    "        img = image.load_img(img_path, target_size=(224,224))\n",
    "        X_test[count]=img\n",
    "        count+=1\n",
    "        if count % 1000 == 0:\n",
    "            print(count)\n",
    "    except:\n",
    "        nonelist.append(img_path)\n",
    "        \n",
    "end=time()\n",
    "print(\"Runing time: %s seconds\"%(end-start))"
   ]
  },
  {
   "cell_type": "code",
   "execution_count": 29,
   "metadata": {},
   "outputs": [
    {
     "data": {
      "text/plain": [
       "0"
      ]
     },
     "execution_count": 29,
     "metadata": {},
     "output_type": "execute_result"
    }
   ],
   "source": [
    "len(nonelist)"
   ]
  },
  {
   "cell_type": "code",
   "execution_count": 30,
   "metadata": {},
   "outputs": [
    {
     "data": {
      "text/plain": [
       "[]"
      ]
     },
     "execution_count": 30,
     "metadata": {},
     "output_type": "execute_result"
    }
   ],
   "source": [
    "nonelist"
   ]
  },
  {
   "cell_type": "code",
   "execution_count": 31,
   "metadata": {},
   "outputs": [
    {
     "data": {
      "text/plain": [
       "(9000, 1)"
      ]
     },
     "execution_count": 31,
     "metadata": {},
     "output_type": "execute_result"
    }
   ],
   "source": [
    "label = test_df['label']\n",
    "Y_test = [i for i in label]\n",
    "Y_test = np.array(Y_test)\n",
    "Y_test = Y_test.reshape(len(Y_test),1)\n",
    "Y_test.shape"
   ]
  },
  {
   "cell_type": "code",
   "execution_count": 32,
   "metadata": {},
   "outputs": [
    {
     "data": {
      "text/html": [
       "<div>\n",
       "<style scoped>\n",
       "    .dataframe tbody tr th:only-of-type {\n",
       "        vertical-align: middle;\n",
       "    }\n",
       "\n",
       "    .dataframe tbody tr th {\n",
       "        vertical-align: top;\n",
       "    }\n",
       "\n",
       "    .dataframe thead th {\n",
       "        text-align: right;\n",
       "    }\n",
       "</style>\n",
       "<table border=\"1\" class=\"dataframe\">\n",
       "  <thead>\n",
       "    <tr style=\"text-align: right;\">\n",
       "      <th></th>\n",
       "      <th>image_id</th>\n",
       "      <th>label</th>\n",
       "    </tr>\n",
       "  </thead>\n",
       "  <tbody>\n",
       "    <tr>\n",
       "      <td>0</td>\n",
       "      <td>CA-26_08_17_2015_CA-26_0005157.jpg</td>\n",
       "      <td>fox</td>\n",
       "    </tr>\n",
       "    <tr>\n",
       "      <td>1</td>\n",
       "      <td>CA-02_09_15_2015_CA-02_0009674.jpg</td>\n",
       "      <td>black_bear</td>\n",
       "    </tr>\n",
       "  </tbody>\n",
       "</table>\n",
       "</div>"
      ],
      "text/plain": [
       "                             image_id       label\n",
       "0  CA-26_08_17_2015_CA-26_0005157.jpg         fox\n",
       "1  CA-02_09_15_2015_CA-02_0009674.jpg  black_bear"
      ]
     },
     "execution_count": 32,
     "metadata": {},
     "output_type": "execute_result"
    }
   ],
   "source": [
    "test_df[:2]"
   ]
  },
  {
   "cell_type": "code",
   "execution_count": 33,
   "metadata": {},
   "outputs": [
    {
     "data": {
      "text/plain": [
       "array([['fox'],\n",
       "       ['black_bear']], dtype='<U16')"
      ]
     },
     "execution_count": 33,
     "metadata": {},
     "output_type": "execute_result"
    }
   ],
   "source": [
    "Y_test[:2]"
   ]
  },
  {
   "cell_type": "code",
   "execution_count": 34,
   "metadata": {},
   "outputs": [
    {
     "data": {
      "text/plain": [
       "array([[[ 0.,  0.,  0.],\n",
       "        [ 0.,  0.,  0.],\n",
       "        [ 0.,  0.,  0.],\n",
       "        ...,\n",
       "        [ 0.,  0.,  0.],\n",
       "        [ 0.,  0.,  0.],\n",
       "        [ 0.,  0.,  0.]],\n",
       "\n",
       "       [[ 0.,  0.,  0.],\n",
       "        [ 0.,  0.,  0.],\n",
       "        [ 0.,  0.,  0.],\n",
       "        ...,\n",
       "        [ 0.,  0.,  0.],\n",
       "        [ 0.,  0.,  0.],\n",
       "        [ 0.,  0.,  0.]],\n",
       "\n",
       "       [[ 0.,  0.,  0.],\n",
       "        [ 0.,  0.,  0.],\n",
       "        [ 0.,  0.,  0.],\n",
       "        ...,\n",
       "        [ 0.,  0.,  0.],\n",
       "        [ 0.,  0.,  0.],\n",
       "        [ 0.,  0.,  0.]],\n",
       "\n",
       "       ...,\n",
       "\n",
       "       [[ 0.,  0.,  0.],\n",
       "        [ 0.,  0.,  0.],\n",
       "        [ 0.,  0.,  0.],\n",
       "        ...,\n",
       "        [29.,  0., 12.],\n",
       "        [ 0.,  0.,  0.],\n",
       "        [ 0.,  0.,  0.]],\n",
       "\n",
       "       [[ 0.,  0.,  0.],\n",
       "        [ 0.,  0.,  0.],\n",
       "        [ 0.,  0.,  0.],\n",
       "        ...,\n",
       "        [ 0.,  0.,  0.],\n",
       "        [ 0.,  0.,  0.],\n",
       "        [ 0.,  0.,  0.]],\n",
       "\n",
       "       [[ 0.,  0.,  0.],\n",
       "        [ 0.,  0.,  0.],\n",
       "        [ 0.,  0.,  0.],\n",
       "        ...,\n",
       "        [ 0.,  0.,  0.],\n",
       "        [ 0.,  0.,  0.],\n",
       "        [ 0.,  0.,  0.]]])"
      ]
     },
     "execution_count": 34,
     "metadata": {},
     "output_type": "execute_result"
    }
   ],
   "source": [
    "X_test[0]"
   ]
  },
  {
   "cell_type": "code",
   "execution_count": 35,
   "metadata": {},
   "outputs": [
    {
     "data": {
      "text/plain": [
       "array([['fox'],\n",
       "       ['black_bear'],\n",
       "       ['cattle'],\n",
       "       ...,\n",
       "       ['gazellethomosons'],\n",
       "       ['zebra'],\n",
       "       ['elephant']], dtype='<U16')"
      ]
     },
     "execution_count": 35,
     "metadata": {},
     "output_type": "execute_result"
    }
   ],
   "source": [
    "Y_test"
   ]
  },
  {
   "cell_type": "code",
   "execution_count": 37,
   "metadata": {},
   "outputs": [],
   "source": [
    "np.save('/home/zxt/code/final/5k_new/X_test_224',X_test)\n",
    "np.save('/home/zxt/code/final/5k_new/Y_test_224',Y_test)"
   ]
  },
  {
   "cell_type": "code",
   "execution_count": null,
   "metadata": {},
   "outputs": [],
   "source": []
  },
  {
   "cell_type": "code",
   "execution_count": null,
   "metadata": {},
   "outputs": [],
   "source": []
  },
  {
   "cell_type": "code",
   "execution_count": null,
   "metadata": {},
   "outputs": [],
   "source": []
  },
  {
   "cell_type": "code",
   "execution_count": null,
   "metadata": {},
   "outputs": [],
   "source": []
  },
  {
   "cell_type": "code",
   "execution_count": null,
   "metadata": {},
   "outputs": [],
   "source": []
  }
 ],
 "metadata": {
  "kernelspec": {
   "display_name": "Python 3",
   "language": "python",
   "name": "python3"
  },
  "language_info": {
   "codemirror_mode": {
    "name": "ipython",
    "version": 3
   },
   "file_extension": ".py",
   "mimetype": "text/x-python",
   "name": "python",
   "nbconvert_exporter": "python",
   "pygments_lexer": "ipython3",
   "version": "3.7.4"
  }
 },
 "nbformat": 4,
 "nbformat_minor": 4
}
