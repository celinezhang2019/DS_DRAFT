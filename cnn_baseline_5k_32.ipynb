{
 "cells": [
  {
   "cell_type": "markdown",
   "metadata": {},
   "source": [
    "## CNN BASELINE MODEL"
   ]
  },
  {
   "cell_type": "code",
   "execution_count": 1,
   "metadata": {},
   "outputs": [],
   "source": [
    "import os \n",
    "os.environ[\"CUDA_VISIBLE_DEVICES\"]=\"0,1,2,3\""
   ]
  },
  {
   "cell_type": "code",
   "execution_count": 2,
   "metadata": {},
   "outputs": [
    {
     "name": "stderr",
     "output_type": "stream",
     "text": [
      "Using TensorFlow backend.\n"
     ]
    }
   ],
   "source": [
    "import json\n",
    "\n",
    "import numpy as np\n",
    "import pandas as pd\n",
    "import keras\n",
    "from keras.callbacks import Callback\n",
    "from keras.datasets import cifar10\n",
    "from keras.preprocessing.image import ImageDataGenerator\n",
    "from keras.models import Sequential\n",
    "from keras.layers import Dense, Dropout, Activation, Flatten\n",
    "from keras.layers import Conv2D, MaxPooling2D\n",
    "from sklearn.metrics import confusion_matrix, f1_score, precision_score, recall_score\n",
    "from sklearn.model_selection import train_test_split"
   ]
  },
  {
   "cell_type": "markdown",
   "metadata": {},
   "source": [
    "### 1.Loading 224x224 dataset"
   ]
  },
  {
   "cell_type": "code",
   "execution_count": 4,
   "metadata": {},
   "outputs": [],
   "source": [
    "X_train = np.load('/home/zxt/data/32/5k/X_train.npy')\n",
    "X_validate = np.load('/home/zxt/data/32/5k/X_validate.npy')\n",
    "X_test = np.load('/home/zxt/data/32/5k/X_test.npy')\n",
    "Y_train = np.load('/home/zxt/data/32/5k/Y_train.npy')\n",
    "Y_validate = np.load('/home/zxt/data/32/5k/Y_validate.npy')\n",
    "Y_test = np.load('/home/zxt/data/32/5k/Y_test.npy')"
   ]
  },
  {
   "cell_type": "code",
   "execution_count": 5,
   "metadata": {},
   "outputs": [
    {
     "name": "stdout",
     "output_type": "stream",
     "text": [
      "X_train shape: (70000, 32, 32, 3)\n",
      "70000 train samples\n",
      "21000 validate samples\n",
      "9000 test samples\n"
     ]
    }
   ],
   "source": [
    "print('X_train shape:', X_train.shape)\n",
    "print(X_train.shape[0], 'train samples')\n",
    "print(X_validate.shape[0], 'validate samples')\n",
    "print(X_test.shape[0], 'test samples')"
   ]
  },
  {
   "cell_type": "code",
   "execution_count": 6,
   "metadata": {},
   "outputs": [],
   "source": [
    "# Convert the images to float and scale it to a range of 0 to 1\n",
    "# x_train = X_train.astype('float32')\n",
    "# x_validate = X_validate.astype('float32')\n",
    "# x_test = X_test.astype('float32')\n",
    "\n",
    "X_train /=255.\n",
    "X_validate /=  255.\n",
    "X_test /= 255."
   ]
  },
  {
   "cell_type": "code",
   "execution_count": 7,
   "metadata": {},
   "outputs": [],
   "source": [
    "# Y_train label\n",
    "for i in Y_train:\n",
    "    if i[0]=='elephant':\n",
    "        i[0]=0\n",
    "    if i[0]=='wild_boar':\n",
    "        i[0]=1\n",
    "    if i[0]=='gazellethomosons':\n",
    "        i[0]=2\n",
    "    if i[0]=='squirrel':\n",
    "        i[0]=3 \n",
    "    if i[0]=='hedgehog':\n",
    "        i[0]=4\n",
    "    if i[0]=='guineafowl':\n",
    "        i[0]=5\n",
    "    if i[0]=='moose':\n",
    "        i[0]=6\n",
    "    if i[0]=='bobcat':\n",
    "        i[0]=7   \n",
    "    if i[0]=='bird':\n",
    "        i[0]=8\n",
    "    if i[0]=='fox':\n",
    "        i[0]=9\n",
    "    if i[0]=='giraffe':\n",
    "        i[0]=10\n",
    "    if i[0]=='buffalo':\n",
    "        i[0]=11\n",
    "    if i[0]=='hare':\n",
    "        i[0]=12\n",
    "    if i[0]=='vehicle':\n",
    "        i[0]=13\n",
    "    if i[0]=='wildebeest':\n",
    "        i[0]=14\n",
    "    if i[0]=='cattle':\n",
    "        i[0]=15 \n",
    "    if i[0]=='skunk':\n",
    "        i[0]=16\n",
    "    if i[0]=='lion':\n",
    "        i[0]=17\n",
    "    if i[0]=='zebra':\n",
    "        i[0]=18\n",
    "    if i[0]=='black_bear':\n",
    "        i[0]=19"
   ]
  },
  {
   "cell_type": "code",
   "execution_count": 8,
   "metadata": {},
   "outputs": [],
   "source": [
    "for i in Y_validate:\n",
    "    if i[0]=='elephant':\n",
    "        i[0]=0\n",
    "    if i[0]=='wild_boar':\n",
    "        i[0]=1\n",
    "    if i[0]=='gazellethomosons':\n",
    "        i[0]=2\n",
    "    if i[0]=='squirrel':\n",
    "        i[0]=3 \n",
    "    if i[0]=='hedgehog':\n",
    "        i[0]=4\n",
    "    if i[0]=='guineafowl':\n",
    "        i[0]=5\n",
    "    if i[0]=='moose':\n",
    "        i[0]=6\n",
    "    if i[0]=='bobcat':\n",
    "        i[0]=7   \n",
    "    if i[0]=='bird':\n",
    "        i[0]=8\n",
    "    if i[0]=='fox':\n",
    "        i[0]=9\n",
    "    if i[0]=='giraffe':\n",
    "        i[0]=10\n",
    "    if i[0]=='buffalo':\n",
    "        i[0]=11\n",
    "    if i[0]=='hare':\n",
    "        i[0]=12\n",
    "    if i[0]=='vehicle':\n",
    "        i[0]=13\n",
    "    if i[0]=='wildebeest':\n",
    "        i[0]=14\n",
    "    if i[0]=='cattle':\n",
    "        i[0]=15 \n",
    "    if i[0]=='skunk':\n",
    "        i[0]=16\n",
    "    if i[0]=='lion':\n",
    "        i[0]=17\n",
    "    if i[0]=='zebra':\n",
    "        i[0]=18\n",
    "    if i[0]=='black_bear':\n",
    "        i[0]=19"
   ]
  },
  {
   "cell_type": "code",
   "execution_count": 9,
   "metadata": {},
   "outputs": [],
   "source": [
    "for i in Y_test:\n",
    "    if i[0]=='elephant':\n",
    "        i[0]=0\n",
    "    if i[0]=='wild_boar':\n",
    "        i[0]=1\n",
    "    if i[0]=='gazellethomosons':\n",
    "        i[0]=2\n",
    "    if i[0]=='squirrel':\n",
    "        i[0]=3 \n",
    "    if i[0]=='hedgehog':\n",
    "        i[0]=4\n",
    "    if i[0]=='guineafowl':\n",
    "        i[0]=5\n",
    "    if i[0]=='moose':\n",
    "        i[0]=6\n",
    "    if i[0]=='bobcat':\n",
    "        i[0]=7   \n",
    "    if i[0]=='bird':\n",
    "        i[0]=8\n",
    "    if i[0]=='fox':\n",
    "        i[0]=9\n",
    "    if i[0]=='giraffe':\n",
    "        i[0]=10\n",
    "    if i[0]=='buffalo':\n",
    "        i[0]=11\n",
    "    if i[0]=='hare':\n",
    "        i[0]=12\n",
    "    if i[0]=='vehicle':\n",
    "        i[0]=13\n",
    "    if i[0]=='wildebeest':\n",
    "        i[0]=14\n",
    "    if i[0]=='cattle':\n",
    "        i[0]=15 \n",
    "    if i[0]=='skunk':\n",
    "        i[0]=16\n",
    "    if i[0]=='lion':\n",
    "        i[0]=17\n",
    "    if i[0]=='zebra':\n",
    "        i[0]=18\n",
    "    if i[0]=='black_bear':\n",
    "        i[0]=19"
   ]
  },
  {
   "cell_type": "code",
   "execution_count": 10,
   "metadata": {},
   "outputs": [],
   "source": [
    "from keras.utils import np_utils\n",
    "y_train=np_utils.to_categorical(Y_train,20)\n",
    "y_valid=np_utils.to_categorical(Y_validate,20)\n",
    "y_test=np_utils.to_categorical(Y_test,20)\n"
   ]
  },
  {
   "cell_type": "code",
   "execution_count": 11,
   "metadata": {},
   "outputs": [
    {
     "data": {
      "text/plain": [
       "array([[0., 0., 0., ..., 0., 0., 0.],\n",
       "       [0., 0., 0., ..., 0., 0., 1.],\n",
       "       [0., 0., 0., ..., 0., 0., 0.],\n",
       "       ...,\n",
       "       [0., 0., 1., ..., 0., 0., 0.],\n",
       "       [0., 0., 0., ..., 0., 1., 0.],\n",
       "       [1., 0., 0., ..., 0., 0., 0.]], dtype=float32)"
      ]
     },
     "execution_count": 11,
     "metadata": {},
     "output_type": "execute_result"
    }
   ],
   "source": [
    "y_test"
   ]
  },
  {
   "cell_type": "markdown",
   "metadata": {},
   "source": [
    "### 2. Create Callback for F1 score"
   ]
  },
  {
   "cell_type": "code",
   "execution_count": 12,
   "metadata": {},
   "outputs": [],
   "source": [
    "class Metrics(Callback):\n",
    "\n",
    "    def on_train_begin(self, logs={}):\n",
    "        self.val_f1s = []\n",
    "        self.val_recalls = []\n",
    "        self.val_precisions = []\n",
    "\n",
    "    def on_epoch_end(self, epoch, logs={}):\n",
    "        X_val, y_val = self.validation_data[:2]\n",
    "        y_pred = self.model.predict(X_val)\n",
    "\n",
    "        y_pred_cat = keras.utils.to_categorical(\n",
    "            y_pred.argmax(axis=1),\n",
    "            num_classes=num_classes\n",
    "        )\n",
    "\n",
    "        _val_f1 = f1_score(y_val, y_pred_cat, average='macro')\n",
    "        _val_recall = recall_score(y_val, y_pred_cat, average='macro')\n",
    "        _val_precision = precision_score(y_val, y_pred_cat, average='macro')\n",
    "\n",
    "        self.val_f1s.append(_val_f1)\n",
    "        self.val_recalls.append(_val_recall)\n",
    "        self.val_precisions.append(_val_precision)\n",
    "\n",
    "        print((f\"val_f1: {_val_f1:.4f}\"\n",
    "               f\" - val_precision: {_val_precision:.4f}\"\n",
    "               f\" - val_recall: {_val_recall:.4f}\"))\n",
    "\n",
    "        return"
   ]
  },
  {
   "cell_type": "markdown",
   "metadata": {},
   "source": [
    "### 3. Creating and Training the Model¶"
   ]
  },
  {
   "cell_type": "code",
   "execution_count": 14,
   "metadata": {},
   "outputs": [],
   "source": [
    "batch_size = 128\n",
    "num_classes = 20\n",
    "epochs = 30\n",
    "save_dir = os.path.join(os.getcwd(), 'models')\n",
    "model_name = 'keras_cnn_5k_model.h5'"
   ]
  },
  {
   "cell_type": "code",
   "execution_count": 15,
   "metadata": {},
   "outputs": [],
   "source": [
    "model = Sequential()\n",
    "model.add(Conv2D(32, (3, 3), padding='same',\n",
    "                 input_shape=X_train.shape[1:]))\n",
    "model.add(Activation('relu'))\n",
    "model.add(Conv2D(32, (3, 3)))\n",
    "model.add(Activation('relu'))\n",
    "model.add(MaxPooling2D(pool_size=(2, 2)))\n",
    "model.add(Dropout(0.25))\n",
    "\n",
    "model.add(Conv2D(64, (3, 3), padding='same'))\n",
    "model.add(Activation('relu'))\n",
    "model.add(Conv2D(64, (3, 3)))\n",
    "model.add(Activation('relu'))\n",
    "model.add(MaxPooling2D(pool_size=(2, 2)))\n",
    "model.add(Dropout(0.25))\n",
    "\n",
    "model.add(Flatten())\n",
    "model.add(Dense(512))\n",
    "model.add(Activation('relu'))\n",
    "model.add(Dropout(0.5))\n",
    "model.add(Dense(num_classes))\n",
    "model.add(Activation('softmax'))"
   ]
  },
  {
   "cell_type": "code",
   "execution_count": 19,
   "metadata": {},
   "outputs": [],
   "source": [
    "os.environ[\"CUDA_VISIBLE_DEVICES\"]=\"0,1,2,3\"\n",
    "\n",
    "from keras.utils import multi_gpu_model\n",
    "parallel_model = multi_gpu_model(model,gpus=4,cpu_merge=True)\n",
    " \n"
   ]
  },
  {
   "cell_type": "code",
   "execution_count": 20,
   "metadata": {},
   "outputs": [
    {
     "name": "stdout",
     "output_type": "stream",
     "text": [
      "Train on 70000 samples, validate on 21000 samples\n",
      "Epoch 1/100\n",
      "70000/70000 [==============================] - 16s 228us/step - loss: 0.5669 - accuracy: 0.7993 - val_loss: 0.6417 - val_accuracy: 0.7872\n",
      "val_f1: 0.7857 - val_precision: 0.7896 - val_recall: 0.7884\n",
      "Epoch 2/100\n",
      "70000/70000 [==============================] - 16s 227us/step - loss: 0.5559 - accuracy: 0.8049 - val_loss: 0.6343 - val_accuracy: 0.7913\n",
      "val_f1: 0.7905 - val_precision: 0.7918 - val_recall: 0.7928\n",
      "Epoch 3/100\n",
      "70000/70000 [==============================] - 16s 225us/step - loss: 0.5532 - accuracy: 0.8046 - val_loss: 0.6239 - val_accuracy: 0.7956\n",
      "val_f1: 0.7948 - val_precision: 0.7967 - val_recall: 0.7971\n",
      "Epoch 4/100\n",
      "70000/70000 [==============================] - 16s 225us/step - loss: 0.5419 - accuracy: 0.8091 - val_loss: 0.6300 - val_accuracy: 0.7903\n",
      "val_f1: 0.7886 - val_precision: 0.7902 - val_recall: 0.7918\n",
      "Epoch 5/100\n",
      "70000/70000 [==============================] - 16s 226us/step - loss: 0.5302 - accuracy: 0.8126 - val_loss: 0.6222 - val_accuracy: 0.7970\n",
      "val_f1: 0.7962 - val_precision: 0.7979 - val_recall: 0.7985\n",
      "Epoch 6/100\n",
      "70000/70000 [==============================] - 16s 226us/step - loss: 0.5282 - accuracy: 0.8133 - val_loss: 0.6126 - val_accuracy: 0.7976\n",
      "val_f1: 0.7965 - val_precision: 0.8000 - val_recall: 0.7989\n",
      "Epoch 7/100\n",
      "70000/70000 [==============================] - 16s 225us/step - loss: 0.5230 - accuracy: 0.8161 - val_loss: 0.6145 - val_accuracy: 0.8007\n",
      "val_f1: 0.7995 - val_precision: 0.7992 - val_recall: 0.8023\n",
      "Epoch 8/100\n",
      "70000/70000 [==============================] - 16s 225us/step - loss: 0.5058 - accuracy: 0.8206 - val_loss: 0.6233 - val_accuracy: 0.7975\n",
      "val_f1: 0.7971 - val_precision: 0.7983 - val_recall: 0.7989\n",
      "Epoch 9/100\n",
      "70000/70000 [==============================] - 16s 226us/step - loss: 0.5081 - accuracy: 0.8204 - val_loss: 0.6201 - val_accuracy: 0.7976\n",
      "val_f1: 0.7961 - val_precision: 0.7996 - val_recall: 0.7990\n",
      "Epoch 10/100\n",
      "70000/70000 [==============================] - 16s 224us/step - loss: 0.4966 - accuracy: 0.8255 - val_loss: 0.6312 - val_accuracy: 0.7980\n",
      "val_f1: 0.7972 - val_precision: 0.7989 - val_recall: 0.7994\n",
      "Epoch 11/100\n",
      "70000/70000 [==============================] - 16s 226us/step - loss: 0.4931 - accuracy: 0.8255 - val_loss: 0.6273 - val_accuracy: 0.7997\n",
      "val_f1: 0.7994 - val_precision: 0.8012 - val_recall: 0.8012\n",
      "Epoch 12/100\n",
      "70000/70000 [==============================] - 16s 225us/step - loss: 0.4875 - accuracy: 0.8281 - val_loss: 0.6140 - val_accuracy: 0.8065\n",
      "val_f1: 0.8057 - val_precision: 0.8072 - val_recall: 0.8077\n",
      "Epoch 13/100\n",
      "70000/70000 [==============================] - 16s 225us/step - loss: 0.4817 - accuracy: 0.8309 - val_loss: 0.6142 - val_accuracy: 0.8040\n",
      "val_f1: 0.8030 - val_precision: 0.8046 - val_recall: 0.8052\n",
      "Epoch 14/100\n",
      "70000/70000 [==============================] - 16s 228us/step - loss: 0.4787 - accuracy: 0.8303 - val_loss: 0.6162 - val_accuracy: 0.8055\n",
      "val_f1: 0.8045 - val_precision: 0.8063 - val_recall: 0.8069\n",
      "Epoch 15/100\n",
      "70000/70000 [==============================] - 16s 225us/step - loss: 0.4706 - accuracy: 0.8333 - val_loss: 0.6117 - val_accuracy: 0.8063\n",
      "val_f1: 0.8061 - val_precision: 0.8086 - val_recall: 0.8075\n",
      "Epoch 16/100\n",
      "70000/70000 [==============================] - 16s 226us/step - loss: 0.4705 - accuracy: 0.8334 - val_loss: 0.6212 - val_accuracy: 0.8032\n",
      "val_f1: 0.8026 - val_precision: 0.8046 - val_recall: 0.8048\n",
      "Epoch 17/100\n",
      "70000/70000 [==============================] - 16s 225us/step - loss: 0.4607 - accuracy: 0.8367 - val_loss: 0.6121 - val_accuracy: 0.8060\n",
      "val_f1: 0.8058 - val_precision: 0.8108 - val_recall: 0.8073\n",
      "Epoch 18/100\n",
      "70000/70000 [==============================] - 16s 225us/step - loss: 0.4599 - accuracy: 0.8371 - val_loss: 0.5958 - val_accuracy: 0.8127\n",
      "val_f1: 0.8121 - val_precision: 0.8142 - val_recall: 0.8141\n",
      "Epoch 19/100\n",
      "70000/70000 [==============================] - 16s 225us/step - loss: 0.4567 - accuracy: 0.8376 - val_loss: 0.6084 - val_accuracy: 0.8085\n",
      "val_f1: 0.8076 - val_precision: 0.8074 - val_recall: 0.8100\n",
      "Epoch 20/100\n",
      "70000/70000 [==============================] - 16s 226us/step - loss: 0.4552 - accuracy: 0.8399 - val_loss: 0.6116 - val_accuracy: 0.8108\n",
      "val_f1: 0.8110 - val_precision: 0.8124 - val_recall: 0.8121\n",
      "Epoch 21/100\n",
      "70000/70000 [==============================] - 16s 225us/step - loss: 0.4473 - accuracy: 0.8415 - val_loss: 0.6044 - val_accuracy: 0.8119\n",
      "val_f1: 0.8111 - val_precision: 0.8125 - val_recall: 0.8133\n",
      "Epoch 22/100\n",
      "70000/70000 [==============================] - 16s 225us/step - loss: 0.4476 - accuracy: 0.8413 - val_loss: 0.6044 - val_accuracy: 0.8103\n",
      "val_f1: 0.8097 - val_precision: 0.8110 - val_recall: 0.8118\n",
      "Epoch 23/100\n",
      "70000/70000 [==============================] - 16s 225us/step - loss: 0.4354 - accuracy: 0.8462 - val_loss: 0.6066 - val_accuracy: 0.8091\n",
      "val_f1: 0.8081 - val_precision: 0.8089 - val_recall: 0.8104\n",
      "Epoch 24/100\n",
      "70000/70000 [==============================] - 16s 225us/step - loss: 0.4387 - accuracy: 0.8455 - val_loss: 0.6031 - val_accuracy: 0.8111\n",
      "val_f1: 0.8101 - val_precision: 0.8126 - val_recall: 0.8125\n",
      "Epoch 25/100\n",
      "70000/70000 [==============================] - 16s 225us/step - loss: 0.4354 - accuracy: 0.8469 - val_loss: 0.5940 - val_accuracy: 0.8126\n",
      "val_f1: 0.8119 - val_precision: 0.8131 - val_recall: 0.8140\n",
      "Epoch 26/100\n",
      "70000/70000 [==============================] - 16s 226us/step - loss: 0.4326 - accuracy: 0.8468 - val_loss: 0.6063 - val_accuracy: 0.8098\n",
      "val_f1: 0.8089 - val_precision: 0.8125 - val_recall: 0.8114\n",
      "Epoch 27/100\n",
      "70000/70000 [==============================] - 16s 225us/step - loss: 0.4306 - accuracy: 0.8498 - val_loss: 0.5825 - val_accuracy: 0.8172\n",
      "val_f1: 0.8169 - val_precision: 0.8187 - val_recall: 0.8184\n",
      "Epoch 28/100\n",
      "70000/70000 [==============================] - 16s 226us/step - loss: 0.4241 - accuracy: 0.8478 - val_loss: 0.6054 - val_accuracy: 0.8102\n",
      "val_f1: 0.8095 - val_precision: 0.8125 - val_recall: 0.8120\n",
      "Epoch 29/100\n",
      "70000/70000 [==============================] - 16s 225us/step - loss: 0.4145 - accuracy: 0.8546 - val_loss: 0.6035 - val_accuracy: 0.8140\n",
      "val_f1: 0.8133 - val_precision: 0.8147 - val_recall: 0.8153\n",
      "Epoch 30/100\n",
      "70000/70000 [==============================] - 16s 225us/step - loss: 0.4178 - accuracy: 0.8532 - val_loss: 0.6104 - val_accuracy: 0.8120\n",
      "val_f1: 0.8118 - val_precision: 0.8128 - val_recall: 0.8133\n",
      "Epoch 31/100\n",
      "70000/70000 [==============================] - 16s 227us/step - loss: 0.4152 - accuracy: 0.8532 - val_loss: 0.6067 - val_accuracy: 0.8137\n",
      "val_f1: 0.8136 - val_precision: 0.8152 - val_recall: 0.8149\n",
      "Epoch 32/100\n",
      "70000/70000 [==============================] - 16s 226us/step - loss: 0.4155 - accuracy: 0.8538 - val_loss: 0.6128 - val_accuracy: 0.8118\n",
      "val_f1: 0.8101 - val_precision: 0.8136 - val_recall: 0.8134\n",
      "Epoch 33/100\n",
      "70000/70000 [==============================] - 16s 225us/step - loss: 0.4107 - accuracy: 0.8551 - val_loss: 0.5895 - val_accuracy: 0.8169\n",
      "val_f1: 0.8166 - val_precision: 0.8186 - val_recall: 0.8182\n",
      "Epoch 34/100\n",
      "70000/70000 [==============================] - 16s 225us/step - loss: 0.4073 - accuracy: 0.8564 - val_loss: 0.6093 - val_accuracy: 0.8131\n",
      "val_f1: 0.8123 - val_precision: 0.8128 - val_recall: 0.8145\n",
      "Epoch 35/100\n",
      "70000/70000 [==============================] - 16s 225us/step - loss: 0.4041 - accuracy: 0.8581 - val_loss: 0.5875 - val_accuracy: 0.8175\n",
      "val_f1: 0.8174 - val_precision: 0.8187 - val_recall: 0.8187\n",
      "Epoch 36/100\n",
      "70000/70000 [==============================] - 16s 225us/step - loss: 0.4015 - accuracy: 0.8577 - val_loss: 0.6146 - val_accuracy: 0.8141\n",
      "val_f1: 0.8132 - val_precision: 0.8152 - val_recall: 0.8153\n",
      "Epoch 37/100\n",
      "70000/70000 [==============================] - 16s 225us/step - loss: 0.4035 - accuracy: 0.8567 - val_loss: 0.6125 - val_accuracy: 0.8153\n",
      "val_f1: 0.8149 - val_precision: 0.8151 - val_recall: 0.8167\n",
      "Epoch 38/100\n",
      "70000/70000 [==============================] - 16s 225us/step - loss: 0.3976 - accuracy: 0.8589 - val_loss: 0.5921 - val_accuracy: 0.8215\n",
      "val_f1: 0.8211 - val_precision: 0.8214 - val_recall: 0.8227\n",
      "Epoch 39/100\n",
      "70000/70000 [==============================] - 16s 225us/step - loss: 0.4012 - accuracy: 0.8594 - val_loss: 0.6029 - val_accuracy: 0.8149\n",
      "val_f1: 0.8141 - val_precision: 0.8148 - val_recall: 0.8164\n",
      "Epoch 40/100\n",
      "70000/70000 [==============================] - 16s 226us/step - loss: 0.3919 - accuracy: 0.8599 - val_loss: 0.5961 - val_accuracy: 0.8166\n",
      "val_f1: 0.8161 - val_precision: 0.8164 - val_recall: 0.8179\n",
      "Epoch 41/100\n",
      "70000/70000 [==============================] - 16s 225us/step - loss: 0.3927 - accuracy: 0.8617 - val_loss: 0.5985 - val_accuracy: 0.8163\n",
      "val_f1: 0.8159 - val_precision: 0.8167 - val_recall: 0.8177\n",
      "Epoch 42/100\n",
      "70000/70000 [==============================] - 16s 225us/step - loss: 0.3909 - accuracy: 0.8617 - val_loss: 0.5948 - val_accuracy: 0.8212\n",
      "val_f1: 0.8207 - val_precision: 0.8219 - val_recall: 0.8226\n",
      "Epoch 43/100\n",
      "70000/70000 [==============================] - 16s 226us/step - loss: 0.3848 - accuracy: 0.8634 - val_loss: 0.6023 - val_accuracy: 0.8178\n",
      "val_f1: 0.8175 - val_precision: 0.8192 - val_recall: 0.8192\n",
      "Epoch 44/100\n",
      "70000/70000 [==============================] - 16s 226us/step - loss: 0.3917 - accuracy: 0.8634 - val_loss: 0.5967 - val_accuracy: 0.8178\n",
      "val_f1: 0.8172 - val_precision: 0.8187 - val_recall: 0.8193\n",
      "Epoch 45/100\n",
      "70000/70000 [==============================] - 16s 226us/step - loss: 0.3795 - accuracy: 0.8662 - val_loss: 0.6028 - val_accuracy: 0.8132\n",
      "val_f1: 0.8125 - val_precision: 0.8146 - val_recall: 0.8149\n",
      "Epoch 46/100\n",
      "70000/70000 [==============================] - 16s 225us/step - loss: 0.3843 - accuracy: 0.8642 - val_loss: 0.5994 - val_accuracy: 0.8169\n",
      "val_f1: 0.8162 - val_precision: 0.8173 - val_recall: 0.8183\n",
      "Epoch 47/100\n",
      "70000/70000 [==============================] - 16s 225us/step - loss: 0.3753 - accuracy: 0.8686 - val_loss: 0.5980 - val_accuracy: 0.8202\n",
      "val_f1: 0.8205 - val_precision: 0.8222 - val_recall: 0.8212\n",
      "Epoch 48/100\n",
      "70000/70000 [==============================] - 16s 225us/step - loss: 0.3776 - accuracy: 0.8678 - val_loss: 0.6075 - val_accuracy: 0.8185\n",
      "val_f1: 0.8181 - val_precision: 0.8196 - val_recall: 0.8198\n",
      "Epoch 49/100\n",
      "70000/70000 [==============================] - 16s 227us/step - loss: 0.3772 - accuracy: 0.8672 - val_loss: 0.6065 - val_accuracy: 0.8225\n",
      "val_f1: 0.8223 - val_precision: 0.8242 - val_recall: 0.8239\n",
      "Epoch 50/100\n",
      "70000/70000 [==============================] - 16s 225us/step - loss: 0.3792 - accuracy: 0.8657 - val_loss: 0.6096 - val_accuracy: 0.8192\n",
      "val_f1: 0.8193 - val_precision: 0.8204 - val_recall: 0.8208\n",
      "Epoch 51/100\n",
      "70000/70000 [==============================] - 16s 225us/step - loss: 0.3716 - accuracy: 0.8693 - val_loss: 0.5969 - val_accuracy: 0.8162\n",
      "val_f1: 0.8155 - val_precision: 0.8160 - val_recall: 0.8176\n",
      "Epoch 52/100\n",
      "70000/70000 [==============================] - 16s 225us/step - loss: 0.3747 - accuracy: 0.8682 - val_loss: 0.5914 - val_accuracy: 0.8240\n",
      "val_f1: 0.8236 - val_precision: 0.8242 - val_recall: 0.8255\n",
      "Epoch 53/100\n",
      "70000/70000 [==============================] - 16s 225us/step - loss: 0.3728 - accuracy: 0.8686 - val_loss: 0.5967 - val_accuracy: 0.8209\n",
      "val_f1: 0.8199 - val_precision: 0.8204 - val_recall: 0.8221\n",
      "Epoch 54/100\n",
      "70000/70000 [==============================] - 16s 225us/step - loss: 0.3693 - accuracy: 0.8698 - val_loss: 0.5946 - val_accuracy: 0.8238\n",
      "val_f1: 0.8233 - val_precision: 0.8251 - val_recall: 0.8250\n",
      "Epoch 55/100\n",
      "70000/70000 [==============================] - 16s 226us/step - loss: 0.3679 - accuracy: 0.8702 - val_loss: 0.5916 - val_accuracy: 0.8234\n",
      "val_f1: 0.8230 - val_precision: 0.8240 - val_recall: 0.8250\n",
      "Epoch 56/100\n",
      "70000/70000 [==============================] - 16s 225us/step - loss: 0.3658 - accuracy: 0.8713 - val_loss: 0.5907 - val_accuracy: 0.8230\n",
      "val_f1: 0.8225 - val_precision: 0.8253 - val_recall: 0.8243\n",
      "Epoch 57/100\n",
      "70000/70000 [==============================] - 16s 225us/step - loss: 0.3658 - accuracy: 0.8693 - val_loss: 0.5888 - val_accuracy: 0.8241\n",
      "val_f1: 0.8234 - val_precision: 0.8240 - val_recall: 0.8255\n",
      "Epoch 58/100\n",
      "70000/70000 [==============================] - 16s 225us/step - loss: 0.3619 - accuracy: 0.8720 - val_loss: 0.5900 - val_accuracy: 0.8220\n",
      "val_f1: 0.8216 - val_precision: 0.8230 - val_recall: 0.8231\n",
      "Epoch 59/100\n",
      "70000/70000 [==============================] - 16s 225us/step - loss: 0.3611 - accuracy: 0.8726 - val_loss: 0.5982 - val_accuracy: 0.8230\n",
      "val_f1: 0.8227 - val_precision: 0.8244 - val_recall: 0.8243\n",
      "Epoch 60/100\n",
      "70000/70000 [==============================] - 16s 227us/step - loss: 0.3630 - accuracy: 0.8732 - val_loss: 0.5971 - val_accuracy: 0.8202\n",
      "val_f1: 0.8199 - val_precision: 0.8198 - val_recall: 0.8216\n",
      "Epoch 61/100\n",
      "70000/70000 [==============================] - 16s 225us/step - loss: 0.3589 - accuracy: 0.8728 - val_loss: 0.5928 - val_accuracy: 0.8219\n",
      "val_f1: 0.8212 - val_precision: 0.8227 - val_recall: 0.8230\n",
      "Epoch 62/100\n",
      "70000/70000 [==============================] - 16s 225us/step - loss: 0.3578 - accuracy: 0.8739 - val_loss: 0.6078 - val_accuracy: 0.8199\n",
      "val_f1: 0.8194 - val_precision: 0.8203 - val_recall: 0.8213\n",
      "Epoch 63/100\n",
      "70000/70000 [==============================] - 16s 225us/step - loss: 0.3573 - accuracy: 0.8754 - val_loss: 0.5909 - val_accuracy: 0.8233\n",
      "val_f1: 0.8229 - val_precision: 0.8250 - val_recall: 0.8247\n",
      "Epoch 64/100\n",
      "70000/70000 [==============================] - 16s 226us/step - loss: 0.3503 - accuracy: 0.8766 - val_loss: 0.6144 - val_accuracy: 0.8203\n",
      "val_f1: 0.8198 - val_precision: 0.8207 - val_recall: 0.8217\n",
      "Epoch 65/100\n",
      "70000/70000 [==============================] - 16s 225us/step - loss: 0.3566 - accuracy: 0.8738 - val_loss: 0.6187 - val_accuracy: 0.8194\n",
      "val_f1: 0.8190 - val_precision: 0.8208 - val_recall: 0.8207\n",
      "Epoch 66/100\n",
      "70000/70000 [==============================] - 16s 228us/step - loss: 0.3556 - accuracy: 0.8752 - val_loss: 0.6117 - val_accuracy: 0.8231\n",
      "val_f1: 0.8227 - val_precision: 0.8249 - val_recall: 0.8248\n",
      "Epoch 67/100\n",
      "70000/70000 [==============================] - 16s 225us/step - loss: 0.3544 - accuracy: 0.8754 - val_loss: 0.5936 - val_accuracy: 0.8248\n",
      "val_f1: 0.8247 - val_precision: 0.8263 - val_recall: 0.8259\n",
      "Epoch 68/100\n",
      "70000/70000 [==============================] - 16s 225us/step - loss: 0.3447 - accuracy: 0.8794 - val_loss: 0.6031 - val_accuracy: 0.8238\n",
      "val_f1: 0.8236 - val_precision: 0.8250 - val_recall: 0.8251\n",
      "Epoch 69/100\n",
      "70000/70000 [==============================] - 16s 225us/step - loss: 0.3498 - accuracy: 0.8770 - val_loss: 0.6132 - val_accuracy: 0.8226\n",
      "val_f1: 0.8216 - val_precision: 0.8234 - val_recall: 0.8239\n",
      "Epoch 70/100\n",
      "70000/70000 [==============================] - 16s 225us/step - loss: 0.3431 - accuracy: 0.8802 - val_loss: 0.6181 - val_accuracy: 0.8254\n",
      "val_f1: 0.8249 - val_precision: 0.8258 - val_recall: 0.8268\n",
      "Epoch 71/100\n",
      "70000/70000 [==============================] - 16s 226us/step - loss: 0.3498 - accuracy: 0.8767 - val_loss: 0.6044 - val_accuracy: 0.8240\n",
      "val_f1: 0.8238 - val_precision: 0.8247 - val_recall: 0.8252\n",
      "Epoch 72/100\n",
      "70000/70000 [==============================] - 16s 225us/step - loss: 0.3444 - accuracy: 0.8796 - val_loss: 0.6019 - val_accuracy: 0.8229\n",
      "val_f1: 0.8228 - val_precision: 0.8247 - val_recall: 0.8242\n",
      "Epoch 73/100\n",
      "70000/70000 [==============================] - 16s 225us/step - loss: 0.3479 - accuracy: 0.8779 - val_loss: 0.5956 - val_accuracy: 0.8262\n",
      "val_f1: 0.8262 - val_precision: 0.8276 - val_recall: 0.8276\n",
      "Epoch 74/100\n",
      "70000/70000 [==============================] - 16s 225us/step - loss: 0.3400 - accuracy: 0.8799 - val_loss: 0.6045 - val_accuracy: 0.8234\n",
      "val_f1: 0.8228 - val_precision: 0.8236 - val_recall: 0.8250\n",
      "Epoch 75/100\n",
      "70000/70000 [==============================] - 16s 225us/step - loss: 0.3411 - accuracy: 0.8786 - val_loss: 0.5981 - val_accuracy: 0.8247\n",
      "val_f1: 0.8245 - val_precision: 0.8252 - val_recall: 0.8260\n",
      "Epoch 76/100\n",
      "70000/70000 [==============================] - 16s 225us/step - loss: 0.3370 - accuracy: 0.8807 - val_loss: 0.6118 - val_accuracy: 0.8232\n",
      "val_f1: 0.8224 - val_precision: 0.8247 - val_recall: 0.8245\n",
      "Epoch 77/100\n",
      "70000/70000 [==============================] - 16s 227us/step - loss: 0.3438 - accuracy: 0.8798 - val_loss: 0.6083 - val_accuracy: 0.8260\n",
      "val_f1: 0.8258 - val_precision: 0.8279 - val_recall: 0.8272\n",
      "Epoch 78/100\n",
      "70000/70000 [==============================] - 16s 225us/step - loss: 0.3338 - accuracy: 0.8829 - val_loss: 0.5921 - val_accuracy: 0.8261\n",
      "val_f1: 0.8260 - val_precision: 0.8265 - val_recall: 0.8272\n",
      "Epoch 79/100\n",
      "70000/70000 [==============================] - 16s 224us/step - loss: 0.3339 - accuracy: 0.8834 - val_loss: 0.6090 - val_accuracy: 0.8255\n",
      "val_f1: 0.8248 - val_precision: 0.8262 - val_recall: 0.8268\n",
      "Epoch 80/100\n",
      "70000/70000 [==============================] - 16s 225us/step - loss: 0.3382 - accuracy: 0.8827 - val_loss: 0.6080 - val_accuracy: 0.8266\n",
      "val_f1: 0.8264 - val_precision: 0.8279 - val_recall: 0.8280\n",
      "Epoch 81/100\n",
      "70000/70000 [==============================] - 16s 225us/step - loss: 0.3346 - accuracy: 0.8814 - val_loss: 0.6051 - val_accuracy: 0.8223\n",
      "val_f1: 0.8219 - val_precision: 0.8226 - val_recall: 0.8237\n",
      "Epoch 82/100\n",
      "70000/70000 [==============================] - 16s 225us/step - loss: 0.3323 - accuracy: 0.8838 - val_loss: 0.5973 - val_accuracy: 0.8238\n",
      "val_f1: 0.8237 - val_precision: 0.8247 - val_recall: 0.8251\n",
      "Epoch 83/100\n",
      "70000/70000 [==============================] - 16s 227us/step - loss: 0.3342 - accuracy: 0.8839 - val_loss: 0.6047 - val_accuracy: 0.8278\n",
      "val_f1: 0.8271 - val_precision: 0.8277 - val_recall: 0.8291\n",
      "Epoch 84/100\n",
      "70000/70000 [==============================] - 16s 226us/step - loss: 0.3352 - accuracy: 0.8824 - val_loss: 0.6010 - val_accuracy: 0.8258\n",
      "val_f1: 0.8248 - val_precision: 0.8263 - val_recall: 0.8271\n",
      "Epoch 85/100\n",
      "70000/70000 [==============================] - 16s 225us/step - loss: 0.3290 - accuracy: 0.8841 - val_loss: 0.6074 - val_accuracy: 0.8277\n",
      "val_f1: 0.8273 - val_precision: 0.8288 - val_recall: 0.8291\n",
      "Epoch 86/100\n",
      "70000/70000 [==============================] - 16s 225us/step - loss: 0.3280 - accuracy: 0.8848 - val_loss: 0.6043 - val_accuracy: 0.8244\n",
      "val_f1: 0.8242 - val_precision: 0.8247 - val_recall: 0.8259\n",
      "Epoch 87/100\n",
      "70000/70000 [==============================] - 16s 226us/step - loss: 0.3301 - accuracy: 0.8841 - val_loss: 0.6135 - val_accuracy: 0.8228\n",
      "val_f1: 0.8224 - val_precision: 0.8234 - val_recall: 0.8243\n",
      "Epoch 88/100\n",
      "70000/70000 [==============================] - 16s 225us/step - loss: 0.3285 - accuracy: 0.8836 - val_loss: 0.6217 - val_accuracy: 0.8243\n",
      "val_f1: 0.8235 - val_precision: 0.8254 - val_recall: 0.8258\n",
      "Epoch 89/100\n",
      "70000/70000 [==============================] - 16s 225us/step - loss: 0.3324 - accuracy: 0.8836 - val_loss: 0.6271 - val_accuracy: 0.8251\n",
      "val_f1: 0.8246 - val_precision: 0.8268 - val_recall: 0.8263\n",
      "Epoch 90/100\n",
      "70000/70000 [==============================] - 16s 225us/step - loss: 0.3251 - accuracy: 0.8855 - val_loss: 0.6054 - val_accuracy: 0.8269\n",
      "val_f1: 0.8264 - val_precision: 0.8268 - val_recall: 0.8284\n",
      "Epoch 91/100\n",
      "70000/70000 [==============================] - 16s 225us/step - loss: 0.3256 - accuracy: 0.8865 - val_loss: 0.6172 - val_accuracy: 0.8169\n",
      "val_f1: 0.8167 - val_precision: 0.8196 - val_recall: 0.8184\n",
      "Epoch 92/100\n",
      "70000/70000 [==============================] - 16s 225us/step - loss: 0.3264 - accuracy: 0.8862 - val_loss: 0.6016 - val_accuracy: 0.8255\n",
      "val_f1: 0.8250 - val_precision: 0.8263 - val_recall: 0.8267\n",
      "Epoch 93/100\n",
      "70000/70000 [==============================] - 16s 225us/step - loss: 0.3264 - accuracy: 0.8853 - val_loss: 0.5979 - val_accuracy: 0.8292\n",
      "val_f1: 0.8294 - val_precision: 0.8307 - val_recall: 0.8306\n",
      "Epoch 94/100\n",
      "70000/70000 [==============================] - 16s 227us/step - loss: 0.3227 - accuracy: 0.8862 - val_loss: 0.6093 - val_accuracy: 0.8270\n",
      "val_f1: 0.8265 - val_precision: 0.8269 - val_recall: 0.8283\n",
      "Epoch 95/100\n",
      "70000/70000 [==============================] - 16s 226us/step - loss: 0.3201 - accuracy: 0.8881 - val_loss: 0.6035 - val_accuracy: 0.8273\n",
      "val_f1: 0.8265 - val_precision: 0.8285 - val_recall: 0.8287\n",
      "Epoch 96/100\n",
      "70000/70000 [==============================] - 16s 225us/step - loss: 0.3212 - accuracy: 0.8877 - val_loss: 0.6181 - val_accuracy: 0.8262\n",
      "val_f1: 0.8255 - val_precision: 0.8268 - val_recall: 0.8275\n",
      "Epoch 97/100\n",
      "70000/70000 [==============================] - 16s 225us/step - loss: 0.3162 - accuracy: 0.8891 - val_loss: 0.6147 - val_accuracy: 0.8211\n",
      "val_f1: 0.8206 - val_precision: 0.8212 - val_recall: 0.8227\n",
      "Epoch 98/100\n",
      "70000/70000 [==============================] - 16s 225us/step - loss: 0.3217 - accuracy: 0.8868 - val_loss: 0.6050 - val_accuracy: 0.8290\n",
      "val_f1: 0.8289 - val_precision: 0.8296 - val_recall: 0.8303\n",
      "Epoch 99/100\n",
      "70000/70000 [==============================] - 16s 225us/step - loss: 0.3175 - accuracy: 0.8893 - val_loss: 0.6263 - val_accuracy: 0.8296\n",
      "val_f1: 0.8296 - val_precision: 0.8300 - val_recall: 0.8309\n",
      "Epoch 100/100\n",
      "70000/70000 [==============================] - 16s 226us/step - loss: 0.3230 - accuracy: 0.8872 - val_loss: 0.6036 - val_accuracy: 0.8294\n",
      "val_f1: 0.8289 - val_precision: 0.8295 - val_recall: 0.8306\n"
     ]
    }
   ],
   "source": [
    "f1_metrics = Metrics()\n",
    "\n",
    "parallel_model.compile(\n",
    "    loss='categorical_crossentropy',\n",
    "    optimizer='adam',\n",
    "    metrics=['accuracy']\n",
    ")\n",
    "\n",
    "hist = model.fit(\n",
    "    X_train, \n",
    "    y_train,\n",
    "    batch_size=batch_size,\n",
    "    epochs=epochs,\n",
    "    callbacks=[f1_metrics],\n",
    "    validation_data=(X_validate, y_valid)\n",
    ")"
   ]
  },
  {
   "cell_type": "markdown",
   "metadata": {},
   "source": [
    "### 3."
   ]
  },
  {
   "cell_type": "code",
   "execution_count": 21,
   "metadata": {},
   "outputs": [],
   "source": [
    "model.save('/home/zxt/data/model/cnn_baseline_5k_32_128batchsize100epoch.h5')"
   ]
  },
  {
   "cell_type": "code",
   "execution_count": null,
   "metadata": {},
   "outputs": [],
   "source": []
  },
  {
   "cell_type": "markdown",
   "metadata": {},
   "source": [
    "### 4. Evaluation"
   ]
  },
  {
   "cell_type": "code",
   "execution_count": 22,
   "metadata": {},
   "outputs": [],
   "source": [
    "history_df = pd.DataFrame(hist.history)\n",
    "history_df['val_f1'] = f1_metrics.val_f1s\n",
    "history_df['val_precision'] = f1_metrics.val_precisions\n",
    "history_df['val_recall'] = f1_metrics.val_recalls\n",
    "\n",
    "# history_df[['loss', 'val_loss']].plot()\n",
    "# history_df[['acc', 'val_acc']].plot()\n",
    "# history_df[['val_f1', 'val_precision', 'val_recall']].plot()"
   ]
  },
  {
   "cell_type": "code",
   "execution_count": 26,
   "metadata": {},
   "outputs": [
    {
     "data": {
      "text/plain": [
       "<matplotlib.axes._subplots.AxesSubplot at 0x7fed4c08f610>"
      ]
     },
     "execution_count": 26,
     "metadata": {},
     "output_type": "execute_result"
    },
    {
     "data": {
      "image/png": "[encoded data removed]",
      "text/plain": [
       "<Figure size 432x288 with 1 Axes>"
      ]
     },
     "metadata": {
      "needs_background": "light"
     },
     "output_type": "display_data"
    }
   ],
   "source": [
    "history_df[['loss', 'val_loss']].plot()"
   ]
  },
  {
   "cell_type": "code",
   "execution_count": 24,
   "metadata": {},
   "outputs": [
    {
     "data": {
      "text/plain": [
       "<matplotlib.axes._subplots.AxesSubplot at 0x7fed4c16cd90>"
      ]
     },
     "execution_count": 24,
     "metadata": {},
     "output_type": "execute_result"
    },
    {
     "data": {
      "image/png": "[encoded data removed]",
      "text/plain": [
       "<Figure size 432x288 with 1 Axes>"
      ]
     },
     "metadata": {
      "needs_background": "light"
     },
     "output_type": "display_data"
    }
   ],
   "source": [
    "history_df[['val_f1', 'val_precision', 'val_recall']].plot()"
   ]
  },
  {
   "cell_type": "code",
   "execution_count": 25,
   "metadata": {},
   "outputs": [
    {
     "data": {
      "text/plain": [
       "<matplotlib.axes._subplots.AxesSubplot at 0x7fed4c104590>"
      ]
     },
     "execution_count": 25,
     "metadata": {},
     "output_type": "execute_result"
    },
    {
     "data": {
      "image/png": "[encoded data removed]",
      "text/plain": [
       "<Figure size 432x288 with 1 Axes>"
      ]
     },
     "metadata": {
      "needs_background": "light"
     },
     "output_type": "display_data"
    }
   ],
   "source": [
    "history_df[['accuracy', 'val_accuracy']].plot()"
   ]
  },
  {
   "cell_type": "markdown",
   "metadata": {},
   "source": [
    "### 5. Prediction"
   ]
  },
  {
   "cell_type": "code",
   "execution_count": 37,
   "metadata": {},
   "outputs": [
    {
     "name": "stdout",
     "output_type": "stream",
     "text": [
      "12600/12600 [==============================] - 2s 167us/step\n",
      "\n",
      "test loss 0.8068679785350013\n",
      "accuracy 0.7289682626724243\n"
     ]
    }
   ],
   "source": [
    "loss,accuracy = model.evaluate(X_test,y_test,)\n",
    "print('\\ntest loss',loss)\n",
    "print('accuracy',accuracy)"
   ]
  },
  {
   "cell_type": "code",
   "execution_count": null,
   "metadata": {},
   "outputs": [],
   "source": []
  },
  {
   "cell_type": "code",
   "execution_count": null,
   "metadata": {},
   "outputs": [],
   "source": []
  },
  {
   "cell_type": "code",
   "execution_count": null,
   "metadata": {},
   "outputs": [],
   "source": []
  }
 ],
 "metadata": {
  "kernelspec": {
   "display_name": "Python 3",
   "language": "python",
   "name": "python3"
  },
  "language_info": {
   "codemirror_mode": {
    "name": "ipython",
    "version": 3
   },
   "file_extension": ".py",
   "mimetype": "text/x-python",
   "name": "python",
   "nbconvert_exporter": "python",
   "pygments_lexer": "ipython3",
   "version": "3.7.4"
  }
 },
 "nbformat": 4,
 "nbformat_minor": 4
}
