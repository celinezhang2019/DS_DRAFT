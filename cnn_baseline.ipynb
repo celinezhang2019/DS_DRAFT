{
 "cells": [
  {
   "cell_type": "markdown",
   "metadata": {},
   "source": [
    "## CNN BASELINE MODEL"
   ]
  },
  {
   "cell_type": "code",
   "execution_count": 1,
   "metadata": {},
   "outputs": [],
   "source": [
    "import os \n",
    "os.environ[\"CUDA_VISIBLE_DEVICES\"]=\"0\""
   ]
  },
  {
   "cell_type": "code",
   "execution_count": 2,
   "metadata": {},
   "outputs": [
    {
     "name": "stderr",
     "output_type": "stream",
     "text": [
      "Using TensorFlow backend.\n"
     ]
    }
   ],
   "source": [
    "import json\n",
    "\n",
    "import numpy as np\n",
    "import pandas as pd\n",
    "import keras\n",
    "from keras.callbacks import Callback\n",
    "from keras.datasets import cifar10\n",
    "from keras.preprocessing.image import ImageDataGenerator\n",
    "from keras.models import Sequential\n",
    "from keras.layers import Dense, Dropout, Activation, Flatten\n",
    "from keras.layers import Conv2D, MaxPooling2D\n",
    "from sklearn.metrics import confusion_matrix, f1_score, precision_score, recall_score\n",
    "from sklearn.model_selection import train_test_split"
   ]
  },
  {
   "cell_type": "markdown",
   "metadata": {},
   "source": [
    "### 1.Loading 224x224 dataset"
   ]
  },
  {
   "cell_type": "code",
   "execution_count": 3,
   "metadata": {},
   "outputs": [],
   "source": [
    "X_train = np.load('/home/zxt/data/224/2k/X_train_224.npy')\n",
    "X_validate = np.load('/home/zxt/data/224/2k/X_validate_224.npy')\n",
    "X_test = np.load('/home/zxt/data/224/2k/X_test_224.npy')\n",
    "Y_train = np.load('/home/zxt/data/224/2k/Y_train_224.npy')\n",
    "Y_validate = np.load('/home/zxt/data/224/2k/Y_validate_224.npy')\n",
    "Y_test = np.load('/home/zxt/data/224/2k/Y_test_224.npy')"
   ]
  },
  {
   "cell_type": "code",
   "execution_count": 7,
   "metadata": {},
   "outputs": [
    {
     "name": "stdout",
     "output_type": "stream",
     "text": [
      "X_train shape: (28000, 224, 224, 3)\n",
      "28000 train samples\n",
      "8400 validate samples\n",
      "3600 test samples\n"
     ]
    }
   ],
   "source": [
    "print('X_train shape:', X_train.shape)\n",
    "print(X_train.shape[0], 'train samples')\n",
    "print(X_validate.shape[0], 'validate samples')\n",
    "print(X_test.shape[0], 'test samples')"
   ]
  },
  {
   "cell_type": "code",
   "execution_count": 11,
   "metadata": {},
   "outputs": [],
   "source": [
    "# Convert the images to float and scale it to a range of 0 to 1\n",
    "# x_train = X_train.astype('float32')\n",
    "# x_validate = X_validate.astype('float32')\n",
    "# x_test = X_test.astype('float32')\n",
    "\n",
    "X_train /=255.\n",
    "X_validate /=  255.\n",
    "X_test /= 255."
   ]
  },
  {
   "cell_type": "code",
   "execution_count": 13,
   "metadata": {},
   "outputs": [],
   "source": [
    "# X_train[1]"
   ]
  },
  {
   "cell_type": "code",
   "execution_count": 21,
   "metadata": {},
   "outputs": [],
   "source": [
    "# Y_train label\n",
    "for i in Y_train:\n",
    "    if i[0]=='elephant':\n",
    "        i[0]=0\n",
    "    if i[0]=='wild_boar':\n",
    "        i[0]=1\n",
    "    if i[0]=='gazellethomosons':\n",
    "        i[0]=2\n",
    "    if i[0]=='squirrel':\n",
    "        i[0]=3 \n",
    "    if i[0]=='hedgehog':\n",
    "        i[0]=4\n",
    "    if i[0]=='guineafowl':\n",
    "        i[0]=5\n",
    "    if i[0]=='moose':\n",
    "        i[0]=6\n",
    "    if i[0]=='bobcat':\n",
    "        i[0]=7   \n",
    "    if i[0]=='bird':\n",
    "        i[0]=8\n",
    "    if i[0]=='fox':\n",
    "        i[0]=9\n",
    "    if i[0]=='giraffe':\n",
    "        i[0]=10\n",
    "    if i[0]=='buffalo':\n",
    "        i[0]=11\n",
    "    if i[0]=='hare':\n",
    "        i[0]=12\n",
    "    if i[0]=='vehicle':\n",
    "        i[0]=13\n",
    "    if i[0]=='wildebeest':\n",
    "        i[0]=14\n",
    "    if i[0]=='cattle':\n",
    "        i[0]=15 \n",
    "    if i[0]=='skunk':\n",
    "        i[0]=16\n",
    "    if i[0]=='lion':\n",
    "        i[0]=17\n",
    "    if i[0]=='zebra':\n",
    "        i[0]=18\n",
    "    if i[0]=='black_bear':\n",
    "        i[0]=19"
   ]
  },
  {
   "cell_type": "code",
   "execution_count": 22,
   "metadata": {},
   "outputs": [],
   "source": [
    "for i in Y_validate:\n",
    "    if i[0]=='elephant':\n",
    "        i[0]=0\n",
    "    if i[0]=='wild_boar':\n",
    "        i[0]=1\n",
    "    if i[0]=='gazellethomosons':\n",
    "        i[0]=2\n",
    "    if i[0]=='squirrel':\n",
    "        i[0]=3 \n",
    "    if i[0]=='hedgehog':\n",
    "        i[0]=4\n",
    "    if i[0]=='guineafowl':\n",
    "        i[0]=5\n",
    "    if i[0]=='moose':\n",
    "        i[0]=6\n",
    "    if i[0]=='bobcat':\n",
    "        i[0]=7   \n",
    "    if i[0]=='bird':\n",
    "        i[0]=8\n",
    "    if i[0]=='fox':\n",
    "        i[0]=9\n",
    "    if i[0]=='giraffe':\n",
    "        i[0]=10\n",
    "    if i[0]=='buffalo':\n",
    "        i[0]=11\n",
    "    if i[0]=='hare':\n",
    "        i[0]=12\n",
    "    if i[0]=='vehicle':\n",
    "        i[0]=13\n",
    "    if i[0]=='wildebeest':\n",
    "        i[0]=14\n",
    "    if i[0]=='cattle':\n",
    "        i[0]=15 \n",
    "    if i[0]=='skunk':\n",
    "        i[0]=16\n",
    "    if i[0]=='lion':\n",
    "        i[0]=17\n",
    "    if i[0]=='zebra':\n",
    "        i[0]=18\n",
    "    if i[0]=='black_bear':\n",
    "        i[0]=19"
   ]
  },
  {
   "cell_type": "code",
   "execution_count": 23,
   "metadata": {},
   "outputs": [],
   "source": [
    "for i in Y_test:\n",
    "    if i[0]=='elephant':\n",
    "        i[0]=0\n",
    "    if i[0]=='wild_boar':\n",
    "        i[0]=1\n",
    "    if i[0]=='gazellethomosons':\n",
    "        i[0]=2\n",
    "    if i[0]=='squirrel':\n",
    "        i[0]=3 \n",
    "    if i[0]=='hedgehog':\n",
    "        i[0]=4\n",
    "    if i[0]=='guineafowl':\n",
    "        i[0]=5\n",
    "    if i[0]=='moose':\n",
    "        i[0]=6\n",
    "    if i[0]=='bobcat':\n",
    "        i[0]=7   \n",
    "    if i[0]=='bird':\n",
    "        i[0]=8\n",
    "    if i[0]=='fox':\n",
    "        i[0]=9\n",
    "    if i[0]=='giraffe':\n",
    "        i[0]=10\n",
    "    if i[0]=='buffalo':\n",
    "        i[0]=11\n",
    "    if i[0]=='hare':\n",
    "        i[0]=12\n",
    "    if i[0]=='vehicle':\n",
    "        i[0]=13\n",
    "    if i[0]=='wildebeest':\n",
    "        i[0]=14\n",
    "    if i[0]=='cattle':\n",
    "        i[0]=15 \n",
    "    if i[0]=='skunk':\n",
    "        i[0]=16\n",
    "    if i[0]=='lion':\n",
    "        i[0]=17\n",
    "    if i[0]=='zebra':\n",
    "        i[0]=18\n",
    "    if i[0]=='black_bear':\n",
    "        i[0]=19"
   ]
  },
  {
   "cell_type": "code",
   "execution_count": 27,
   "metadata": {},
   "outputs": [],
   "source": [
    "from keras.utils import np_utils\n",
    "y_train=np_utils.to_categorical(Y_train,20)\n",
    "y_valid=np_utils.to_categorical(Y_validate,20)\n",
    "y_test=np_utils.to_categorical(Y_test,20)\n"
   ]
  },
  {
   "cell_type": "markdown",
   "metadata": {},
   "source": [
    "### 2. Create Callback for F1 score"
   ]
  },
  {
   "cell_type": "code",
   "execution_count": 28,
   "metadata": {},
   "outputs": [],
   "source": [
    "class Metrics(Callback):\n",
    "\n",
    "    def on_train_begin(self, logs={}):\n",
    "        self.val_f1s = []\n",
    "        self.val_recalls = []\n",
    "        self.val_precisions = []\n",
    "\n",
    "    def on_epoch_end(self, epoch, logs={}):\n",
    "        X_val, y_val = self.validation_data[:2]\n",
    "        y_pred = self.model.predict(X_val)\n",
    "\n",
    "        y_pred_cat = keras.utils.to_categorical(\n",
    "            y_pred.argmax(axis=1),\n",
    "            num_classes=num_classes\n",
    "        )\n",
    "\n",
    "        _val_f1 = f1_score(y_val, y_pred_cat, average='macro')\n",
    "        _val_recall = recall_score(y_val, y_pred_cat, average='macro')\n",
    "        _val_precision = precision_score(y_val, y_pred_cat, average='macro')\n",
    "\n",
    "        self.val_f1s.append(_val_f1)\n",
    "        self.val_recalls.append(_val_recall)\n",
    "        self.val_precisions.append(_val_precision)\n",
    "\n",
    "        print((f\"val_f1: {_val_f1:.4f}\"\n",
    "               f\" - val_precision: {_val_precision:.4f}\"\n",
    "               f\" - val_recall: {_val_recall:.4f}\"))\n",
    "\n",
    "        return"
   ]
  },
  {
   "cell_type": "markdown",
   "metadata": {},
   "source": [
    "### 3. Creating and Training the Model¶"
   ]
  },
  {
   "cell_type": "code",
   "execution_count": 17,
   "metadata": {},
   "outputs": [],
   "source": [
    "batch_size = 64\n",
    "num_classes = 20\n",
    "epochs = 30\n",
    "save_dir = os.path.join(os.getcwd(), 'models')\n",
    "model_name = 'keras_cnn_2k_model.h5'"
   ]
  },
  {
   "cell_type": "code",
   "execution_count": 19,
   "metadata": {},
   "outputs": [],
   "source": [
    "model = Sequential()\n",
    "model.add(Conv2D(32, (3, 3), padding='same',\n",
    "                 input_shape=X_train.shape[1:]))\n",
    "model.add(Activation('relu'))\n",
    "model.add(Conv2D(32, (3, 3)))\n",
    "model.add(Activation('relu'))\n",
    "model.add(MaxPooling2D(pool_size=(2, 2)))\n",
    "model.add(Dropout(0.25))\n",
    "\n",
    "model.add(Conv2D(64, (3, 3), padding='same'))\n",
    "model.add(Activation('relu'))\n",
    "model.add(Conv2D(64, (3, 3)))\n",
    "model.add(Activation('relu'))\n",
    "model.add(MaxPooling2D(pool_size=(2, 2)))\n",
    "model.add(Dropout(0.25))\n",
    "\n",
    "model.add(Flatten())\n",
    "model.add(Dense(512))\n",
    "model.add(Activation('relu'))\n",
    "model.add(Dropout(0.5))\n",
    "model.add(Dense(num_classes))\n",
    "model.add(Activation('softmax'))"
   ]
  },
  {
   "cell_type": "code",
   "execution_count": null,
   "metadata": {},
   "outputs": [
    {
     "name": "stdout",
     "output_type": "stream",
     "text": [
      "Train on 28000 samples, validate on 8400 samples\n",
      "Epoch 1/30\n",
      "28000/28000 [==============================] - 307s 11ms/step - loss: 1.9697 - accuracy: 0.3591 - val_loss: 1.4125 - val_accuracy: 0.4986\n",
      "val_f1: 0.4840 - val_precision: 0.5179 - val_recall: 0.4972\n",
      "Epoch 2/30\n",
      "28000/28000 [==============================] - 284s 10ms/step - loss: 1.3797 - accuracy: 0.5109 - val_loss: 1.1846 - val_accuracy: 0.5868\n",
      "val_f1: 0.5745 - val_precision: 0.6152 - val_recall: 0.5852\n",
      "Epoch 3/30\n",
      "28000/28000 [==============================] - 285s 10ms/step - loss: 1.1395 - accuracy: 0.5986 - val_loss: 1.0529 - val_accuracy: 0.6248\n",
      "val_f1: 0.6102 - val_precision: 0.6441 - val_recall: 0.6240\n",
      "Epoch 4/30\n",
      "28000/28000 [==============================] - 285s 10ms/step - loss: 0.9204 - accuracy: 0.6699 - val_loss: 0.9834 - val_accuracy: 0.6658\n",
      "val_f1: 0.6595 - val_precision: 0.6769 - val_recall: 0.6646\n",
      "Epoch 5/30\n",
      "28000/28000 [==============================] - 284s 10ms/step - loss: 0.7580 - accuracy: 0.7319 - val_loss: 0.9444 - val_accuracy: 0.6811\n",
      "val_f1: 0.6754 - val_precision: 0.6972 - val_recall: 0.6800\n",
      "Epoch 6/30\n",
      "28000/28000 [==============================] - 285s 10ms/step - loss: 0.6110 - accuracy: 0.7836 - val_loss: 0.9336 - val_accuracy: 0.7061\n",
      "val_f1: 0.7021 - val_precision: 0.7140 - val_recall: 0.7047\n",
      "Epoch 7/30\n",
      "28000/28000 [==============================] - 285s 10ms/step - loss: 0.4961 - accuracy: 0.8265 - val_loss: 0.9590 - val_accuracy: 0.7180\n",
      "val_f1: 0.7143 - val_precision: 0.7212 - val_recall: 0.7162\n",
      "Epoch 8/30\n",
      "28000/28000 [==============================] - 285s 10ms/step - loss: 0.4098 - accuracy: 0.8581 - val_loss: 0.9680 - val_accuracy: 0.7296\n",
      "val_f1: 0.7259 - val_precision: 0.7280 - val_recall: 0.7285\n",
      "Epoch 9/30\n",
      "28000/28000 [==============================] - 285s 10ms/step - loss: 0.3477 - accuracy: 0.8800 - val_loss: 1.1044 - val_accuracy: 0.7270\n",
      "val_f1: 0.7217 - val_precision: 0.7297 - val_recall: 0.7262\n",
      "Epoch 10/30\n",
      "28000/28000 [==============================] - 285s 10ms/step - loss: 0.3006 - accuracy: 0.8955 - val_loss: 1.0946 - val_accuracy: 0.7315\n",
      "val_f1: 0.7275 - val_precision: 0.7325 - val_recall: 0.7308\n",
      "Epoch 11/30\n",
      "28000/28000 [==============================] - 285s 10ms/step - loss: 0.2560 - accuracy: 0.9125 - val_loss: 1.0789 - val_accuracy: 0.7385\n",
      "val_f1: 0.7359 - val_precision: 0.7425 - val_recall: 0.7375\n",
      "Epoch 12/30\n",
      "28000/28000 [==============================] - 285s 10ms/step - loss: 0.2288 - accuracy: 0.9219 - val_loss: 1.1527 - val_accuracy: 0.7401\n",
      "val_f1: 0.7366 - val_precision: 0.7386 - val_recall: 0.7389\n",
      "Epoch 13/30\n",
      "28000/28000 [==============================] - 285s 10ms/step - loss: 0.2055 - accuracy: 0.9307 - val_loss: 1.1155 - val_accuracy: 0.7418\n",
      "val_f1: 0.7383 - val_precision: 0.7406 - val_recall: 0.7407\n",
      "Epoch 14/30\n",
      "28000/28000 [==============================] - 285s 10ms/step - loss: 0.1909 - accuracy: 0.9362 - val_loss: 1.1767 - val_accuracy: 0.7463\n",
      "val_f1: 0.7422 - val_precision: 0.7438 - val_recall: 0.7453\n",
      "Epoch 15/30\n",
      "28000/28000 [==============================] - 284s 10ms/step - loss: 0.1825 - accuracy: 0.9387 - val_loss: 1.1626 - val_accuracy: 0.7419\n",
      "val_f1: 0.7376 - val_precision: 0.7405 - val_recall: 0.7410\n",
      "Epoch 16/30\n",
      "28000/28000 [==============================] - 285s 10ms/step - loss: 0.1565 - accuracy: 0.9476 - val_loss: 1.2732 - val_accuracy: 0.7468\n",
      "val_f1: 0.7445 - val_precision: 0.7489 - val_recall: 0.7455\n",
      "Epoch 17/30\n",
      "28000/28000 [==============================] - 285s 10ms/step - loss: 0.1456 - accuracy: 0.9512 - val_loss: 1.3318 - val_accuracy: 0.7470\n",
      "val_f1: 0.7439 - val_precision: 0.7491 - val_recall: 0.7460\n",
      "Epoch 18/30\n",
      "27968/28000 [============================>.] - ETA: 0s - loss: 0.1287 - accuracy: 0.9571"
     ]
    }
   ],
   "source": [
    "f1_metrics = Metrics()\n",
    "\n",
    "model.compile(\n",
    "    loss='categorical_crossentropy',\n",
    "    optimizer='adam',\n",
    "    metrics=['accuracy']\n",
    ")\n",
    "\n",
    "hist = model.fit(\n",
    "    X_train, \n",
    "    y_train,\n",
    "    batch_size=batch_size,\n",
    "    epochs=epochs,\n",
    "    callbacks=[f1_metrics],\n",
    "    validation_data=(X_validate, y_valid)\n",
    ")"
   ]
  },
  {
   "cell_type": "markdown",
   "metadata": {},
   "source": [
    "### 3."
   ]
  },
  {
   "cell_type": "code",
   "execution_count": null,
   "metadata": {},
   "outputs": [],
   "source": [
    "model.save('/home/zxt/data/model/cnn_baseline_2k_224.h5')"
   ]
  },
  {
   "cell_type": "code",
   "execution_count": null,
   "metadata": {},
   "outputs": [],
   "source": []
  },
  {
   "cell_type": "markdown",
   "metadata": {},
   "source": [
    "### 4. Evaluation"
   ]
  },
  {
   "cell_type": "code",
   "execution_count": null,
   "metadata": {},
   "outputs": [],
   "source": [
    "history_df = pd.DataFrame(hist.history)\n",
    "history_df['val_f1'] = f1_metrics.val_f1s\n",
    "history_df['val_precision'] = f1_metrics.val_precisions\n",
    "history_df['val_recall'] = f1_metrics.val_recalls\n",
    "\n",
    "history_df[['loss', 'val_loss']].plot()\n",
    "history_df[['acc', 'val_acc']].plot()\n",
    "history_df[['val_f1', 'val_precision', 'val_recall']].plot()"
   ]
  },
  {
   "cell_type": "markdown",
   "metadata": {},
   "source": [
    "### 5. Prediction"
   ]
  },
  {
   "cell_type": "code",
   "execution_count": null,
   "metadata": {},
   "outputs": [],
   "source": [
    "loss,accuracy = model.evaluate(X_test,y_test)\n",
    "print('\\ntest loss',loss)\n",
    "print('accuracy',accuracy)"
   ]
  },
  {
   "cell_type": "code",
   "execution_count": null,
   "metadata": {},
   "outputs": [],
   "source": []
  },
  {
   "cell_type": "code",
   "execution_count": null,
   "metadata": {},
   "outputs": [],
   "source": []
  },
  {
   "cell_type": "code",
   "execution_count": null,
   "metadata": {},
   "outputs": [],
   "source": []
  }
 ],
 "metadata": {
  "kernelspec": {
   "display_name": "Python 3",
   "language": "python",
   "name": "python3"
  },
  "language_info": {
   "codemirror_mode": {
    "name": "ipython",
    "version": 3
   },
   "file_extension": ".py",
   "mimetype": "text/x-python",
   "name": "python",
   "nbconvert_exporter": "python",
   "pygments_lexer": "ipython3",
   "version": "3.7.4"
  }
 },
 "nbformat": 4,
 "nbformat_minor": 4
}
