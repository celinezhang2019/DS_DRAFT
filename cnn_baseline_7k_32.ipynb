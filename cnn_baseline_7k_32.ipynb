{
 "cells": [
  {
   "cell_type": "markdown",
   "metadata": {},
   "source": [
    "## CNN BASELINE MODEL"
   ]
  },
  {
   "cell_type": "code",
   "execution_count": 1,
   "metadata": {},
   "outputs": [],
   "source": [
    "import os \n",
    "os.environ[\"CUDA_VISIBLE_DEVICES\"]=\"0,1\""
   ]
  },
  {
   "cell_type": "code",
   "execution_count": 2,
   "metadata": {},
   "outputs": [
    {
     "name": "stderr",
     "output_type": "stream",
     "text": [
      "Using TensorFlow backend.\n"
     ]
    }
   ],
   "source": [
    "import json\n",
    "\n",
    "import numpy as np\n",
    "import pandas as pd\n",
    "import keras\n",
    "from keras.callbacks import Callback\n",
    "from keras.datasets import cifar10\n",
    "from keras.preprocessing.image import ImageDataGenerator\n",
    "from keras.models import Sequential\n",
    "from keras.layers import Dense, Dropout, Activation, Flatten\n",
    "from keras.layers import Conv2D, MaxPooling2D\n",
    "from sklearn.metrics import confusion_matrix, f1_score, precision_score, recall_score\n",
    "from sklearn.model_selection import train_test_split"
   ]
  },
  {
   "cell_type": "markdown",
   "metadata": {},
   "source": [
    "### 1.Loading 224x224 dataset"
   ]
  },
  {
   "cell_type": "code",
   "execution_count": 3,
   "metadata": {},
   "outputs": [],
   "source": [
    "X_train = np.load('/home/zxt/data/32/7k/X_train.npy')\n",
    "X_validate = np.load('/home/zxt/data/32/7k/X_validate.npy')\n",
    "X_test = np.load('/home/zxt/data/32/7k/X_test.npy')\n",
    "Y_train = np.load('/home/zxt/data/32/7k/Y_train.npy')\n",
    "Y_validate = np.load('/home/zxt/data/32/7k/Y_validate.npy')\n",
    "Y_test = np.load('/home/zxt/data/32/7k/Y_test.npy')"
   ]
  },
  {
   "cell_type": "code",
   "execution_count": 4,
   "metadata": {},
   "outputs": [
    {
     "name": "stdout",
     "output_type": "stream",
     "text": [
      "X_train shape: (98000, 32, 32, 3)\n",
      "98000 train samples\n",
      "29400 validate samples\n",
      "12600 test samples\n"
     ]
    }
   ],
   "source": [
    "print('X_train shape:', X_train.shape)\n",
    "print(X_train.shape[0], 'train samples')\n",
    "print(X_validate.shape[0], 'validate samples')\n",
    "print(X_test.shape[0], 'test samples')"
   ]
  },
  {
   "cell_type": "code",
   "execution_count": 6,
   "metadata": {},
   "outputs": [],
   "source": [
    "# Convert the images to float and scale it to a range of 0 to 1\n",
    "# x_train = X_train.astype('float32')\n",
    "# x_validate = X_validate.astype('float32')\n",
    "# x_test = X_test.astype('float32')\n",
    "\n",
    "X_train /=255.\n",
    "X_validate /=  255.\n",
    "X_test /= 255."
   ]
  },
  {
   "cell_type": "code",
   "execution_count": 7,
   "metadata": {},
   "outputs": [],
   "source": [
    "# X_train[1]"
   ]
  },
  {
   "cell_type": "code",
   "execution_count": 8,
   "metadata": {},
   "outputs": [],
   "source": [
    "# Y_train label\n",
    "for i in Y_train:\n",
    "    if i[0]=='elephant':\n",
    "        i[0]=0\n",
    "    if i[0]=='wild_boar':\n",
    "        i[0]=1\n",
    "    if i[0]=='gazellethomosons':\n",
    "        i[0]=2\n",
    "    if i[0]=='squirrel':\n",
    "        i[0]=3 \n",
    "    if i[0]=='hedgehog':\n",
    "        i[0]=4\n",
    "    if i[0]=='guineafowl':\n",
    "        i[0]=5\n",
    "    if i[0]=='moose':\n",
    "        i[0]=6\n",
    "    if i[0]=='bobcat':\n",
    "        i[0]=7   \n",
    "    if i[0]=='bird':\n",
    "        i[0]=8\n",
    "    if i[0]=='fox':\n",
    "        i[0]=9\n",
    "    if i[0]=='giraffe':\n",
    "        i[0]=10\n",
    "    if i[0]=='buffalo':\n",
    "        i[0]=11\n",
    "    if i[0]=='hare':\n",
    "        i[0]=12\n",
    "    if i[0]=='vehicle':\n",
    "        i[0]=13\n",
    "    if i[0]=='wildebeest':\n",
    "        i[0]=14\n",
    "    if i[0]=='cattle':\n",
    "        i[0]=15 \n",
    "    if i[0]=='skunk':\n",
    "        i[0]=16\n",
    "    if i[0]=='lion':\n",
    "        i[0]=17\n",
    "    if i[0]=='zebra':\n",
    "        i[0]=18\n",
    "    if i[0]=='black_bear':\n",
    "        i[0]=19"
   ]
  },
  {
   "cell_type": "code",
   "execution_count": 9,
   "metadata": {},
   "outputs": [],
   "source": [
    "for i in Y_validate:\n",
    "    if i[0]=='elephant':\n",
    "        i[0]=0\n",
    "    if i[0]=='wild_boar':\n",
    "        i[0]=1\n",
    "    if i[0]=='gazellethomosons':\n",
    "        i[0]=2\n",
    "    if i[0]=='squirrel':\n",
    "        i[0]=3 \n",
    "    if i[0]=='hedgehog':\n",
    "        i[0]=4\n",
    "    if i[0]=='guineafowl':\n",
    "        i[0]=5\n",
    "    if i[0]=='moose':\n",
    "        i[0]=6\n",
    "    if i[0]=='bobcat':\n",
    "        i[0]=7   \n",
    "    if i[0]=='bird':\n",
    "        i[0]=8\n",
    "    if i[0]=='fox':\n",
    "        i[0]=9\n",
    "    if i[0]=='giraffe':\n",
    "        i[0]=10\n",
    "    if i[0]=='buffalo':\n",
    "        i[0]=11\n",
    "    if i[0]=='hare':\n",
    "        i[0]=12\n",
    "    if i[0]=='vehicle':\n",
    "        i[0]=13\n",
    "    if i[0]=='wildebeest':\n",
    "        i[0]=14\n",
    "    if i[0]=='cattle':\n",
    "        i[0]=15 \n",
    "    if i[0]=='skunk':\n",
    "        i[0]=16\n",
    "    if i[0]=='lion':\n",
    "        i[0]=17\n",
    "    if i[0]=='zebra':\n",
    "        i[0]=18\n",
    "    if i[0]=='black_bear':\n",
    "        i[0]=19"
   ]
  },
  {
   "cell_type": "code",
   "execution_count": 10,
   "metadata": {},
   "outputs": [],
   "source": [
    "for i in Y_test:\n",
    "    if i[0]=='elephant':\n",
    "        i[0]=0\n",
    "    if i[0]=='wild_boar':\n",
    "        i[0]=1\n",
    "    if i[0]=='gazellethomosons':\n",
    "        i[0]=2\n",
    "    if i[0]=='squirrel':\n",
    "        i[0]=3 \n",
    "    if i[0]=='hedgehog':\n",
    "        i[0]=4\n",
    "    if i[0]=='guineafowl':\n",
    "        i[0]=5\n",
    "    if i[0]=='moose':\n",
    "        i[0]=6\n",
    "    if i[0]=='bobcat':\n",
    "        i[0]=7   \n",
    "    if i[0]=='bird':\n",
    "        i[0]=8\n",
    "    if i[0]=='fox':\n",
    "        i[0]=9\n",
    "    if i[0]=='giraffe':\n",
    "        i[0]=10\n",
    "    if i[0]=='buffalo':\n",
    "        i[0]=11\n",
    "    if i[0]=='hare':\n",
    "        i[0]=12\n",
    "    if i[0]=='vehicle':\n",
    "        i[0]=13\n",
    "    if i[0]=='wildebeest':\n",
    "        i[0]=14\n",
    "    if i[0]=='cattle':\n",
    "        i[0]=15 \n",
    "    if i[0]=='skunk':\n",
    "        i[0]=16\n",
    "    if i[0]=='lion':\n",
    "        i[0]=17\n",
    "    if i[0]=='zebra':\n",
    "        i[0]=18\n",
    "    if i[0]=='black_bear':\n",
    "        i[0]=19"
   ]
  },
  {
   "cell_type": "code",
   "execution_count": 11,
   "metadata": {},
   "outputs": [],
   "source": [
    "from keras.utils import np_utils\n",
    "y_train=np_utils.to_categorical(Y_train,20)\n",
    "y_valid=np_utils.to_categorical(Y_validate,20)\n",
    "y_test=np_utils.to_categorical(Y_test,20)\n"
   ]
  },
  {
   "cell_type": "code",
   "execution_count": 12,
   "metadata": {},
   "outputs": [
    {
     "data": {
      "text/plain": [
       "array([[0., 0., 0., ..., 0., 0., 0.],\n",
       "       [0., 0., 0., ..., 0., 0., 1.],\n",
       "       [0., 1., 0., ..., 0., 0., 0.],\n",
       "       ...,\n",
       "       [0., 0., 0., ..., 0., 0., 0.],\n",
       "       [0., 0., 0., ..., 0., 0., 0.],\n",
       "       [0., 0., 0., ..., 0., 0., 0.]], dtype=float32)"
      ]
     },
     "execution_count": 12,
     "metadata": {},
     "output_type": "execute_result"
    }
   ],
   "source": [
    "y_test"
   ]
  },
  {
   "cell_type": "markdown",
   "metadata": {},
   "source": [
    "### 2. Create Callback for F1 score"
   ]
  },
  {
   "cell_type": "code",
   "execution_count": 13,
   "metadata": {},
   "outputs": [],
   "source": [
    "class Metrics(Callback):\n",
    "\n",
    "    def on_train_begin(self, logs={}):\n",
    "        self.val_f1s = []\n",
    "        self.val_recalls = []\n",
    "        self.val_precisions = []\n",
    "\n",
    "    def on_epoch_end(self, epoch, logs={}):\n",
    "        X_val, y_val = self.validation_data[:2]\n",
    "        y_pred = self.model.predict(X_val)\n",
    "\n",
    "        y_pred_cat = keras.utils.to_categorical(\n",
    "            y_pred.argmax(axis=1),\n",
    "            num_classes=num_classes\n",
    "        )\n",
    "\n",
    "        _val_f1 = f1_score(y_val, y_pred_cat, average='macro')\n",
    "        _val_recall = recall_score(y_val, y_pred_cat, average='macro')\n",
    "        _val_precision = precision_score(y_val, y_pred_cat, average='macro')\n",
    "\n",
    "        self.val_f1s.append(_val_f1)\n",
    "        self.val_recalls.append(_val_recall)\n",
    "        self.val_precisions.append(_val_precision)\n",
    "\n",
    "        print((f\"val_f1: {_val_f1:.4f}\"\n",
    "               f\" - val_precision: {_val_precision:.4f}\"\n",
    "               f\" - val_recall: {_val_recall:.4f}\"))\n",
    "\n",
    "        return"
   ]
  },
  {
   "cell_type": "markdown",
   "metadata": {},
   "source": [
    "### 3. Creating and Training the Model¶"
   ]
  },
  {
   "cell_type": "code",
   "execution_count": 27,
   "metadata": {},
   "outputs": [],
   "source": [
    "batch_size = 128\n",
    "num_classes = 20\n",
    "epochs = 100\n",
    "save_dir = os.path.join(os.getcwd(), 'models')\n",
    "model_name = 'keras_cnn_2k_model.h5'"
   ]
  },
  {
   "cell_type": "code",
   "execution_count": 28,
   "metadata": {},
   "outputs": [],
   "source": [
    "model = Sequential()\n",
    "model.add(Conv2D(32, (3, 3), padding='same',\n",
    "                 input_shape=X_train.shape[1:]))\n",
    "model.add(Activation('relu'))\n",
    "model.add(Conv2D(32, (3, 3)))\n",
    "model.add(Activation('relu'))\n",
    "model.add(MaxPooling2D(pool_size=(2, 2)))\n",
    "model.add(Dropout(0.25))\n",
    "\n",
    "model.add(Conv2D(64, (3, 3), padding='same'))\n",
    "model.add(Activation('relu'))\n",
    "model.add(Conv2D(64, (3, 3)))\n",
    "model.add(Activation('relu'))\n",
    "model.add(MaxPooling2D(pool_size=(2, 2)))\n",
    "model.add(Dropout(0.25))\n",
    "\n",
    "model.add(Flatten())\n",
    "model.add(Dense(512))\n",
    "model.add(Activation('relu'))\n",
    "model.add(Dropout(0.5))\n",
    "model.add(Dense(num_classes))\n",
    "model.add(Activation('softmax'))"
   ]
  },
  {
   "cell_type": "code",
   "execution_count": 29,
   "metadata": {},
   "outputs": [
    {
     "name": "stdout",
     "output_type": "stream",
     "text": [
      "Train on 98000 samples, validate on 29400 samples\n",
      "Epoch 1/100\n",
      "98000/98000 [==============================] - 23s 236us/step - loss: 2.3038 - accuracy: 0.2358 - val_loss: 2.0333 - val_accuracy: 0.3098\n",
      "val_f1: 0.2653 - val_precision: 0.2879 - val_recall: 0.3105\n",
      "Epoch 2/100\n",
      "98000/98000 [==============================] - 22s 227us/step - loss: 1.9962 - accuracy: 0.3198 - val_loss: 1.8158 - val_accuracy: 0.3802\n",
      "val_f1: 0.3496 - val_precision: 0.3754 - val_recall: 0.3814\n",
      "Epoch 3/100\n",
      "98000/98000 [==============================] - 23s 230us/step - loss: 1.8252 - accuracy: 0.3654 - val_loss: 1.6763 - val_accuracy: 0.4140\n",
      "val_f1: 0.3740 - val_precision: 0.4164 - val_recall: 0.4143\n",
      "Epoch 4/100\n",
      "98000/98000 [==============================] - 22s 229us/step - loss: 1.7252 - accuracy: 0.4018 - val_loss: 1.5931 - val_accuracy: 0.4529\n",
      "val_f1: 0.4342 - val_precision: 0.4508 - val_recall: 0.4532\n",
      "Epoch 5/100\n",
      "98000/98000 [==============================] - 22s 227us/step - loss: 1.6549 - accuracy: 0.4258 - val_loss: 1.5296 - val_accuracy: 0.4691\n",
      "val_f1: 0.4431 - val_precision: 0.4649 - val_recall: 0.4696\n",
      "Epoch 6/100\n",
      "98000/98000 [==============================] - 22s 226us/step - loss: 1.5989 - accuracy: 0.4466 - val_loss: 1.4475 - val_accuracy: 0.5009\n",
      "val_f1: 0.4810 - val_precision: 0.5029 - val_recall: 0.5011\n",
      "Epoch 7/100\n",
      "98000/98000 [==============================] - 22s 227us/step - loss: 1.5545 - accuracy: 0.4639 - val_loss: 1.4107 - val_accuracy: 0.5141\n",
      "val_f1: 0.4926 - val_precision: 0.5119 - val_recall: 0.5150\n",
      "Epoch 8/100\n",
      "98000/98000 [==============================] - 22s 225us/step - loss: 1.5131 - accuracy: 0.4787 - val_loss: 1.3697 - val_accuracy: 0.5347\n",
      "val_f1: 0.5178 - val_precision: 0.5308 - val_recall: 0.5354\n",
      "Epoch 9/100\n",
      "98000/98000 [==============================] - 22s 226us/step - loss: 1.4825 - accuracy: 0.4895 - val_loss: 1.3319 - val_accuracy: 0.5479\n",
      "val_f1: 0.5301 - val_precision: 0.5444 - val_recall: 0.5485\n",
      "Epoch 10/100\n",
      "98000/98000 [==============================] - 22s 226us/step - loss: 1.4486 - accuracy: 0.5007 - val_loss: 1.3232 - val_accuracy: 0.5519\n",
      "val_f1: 0.5374 - val_precision: 0.5474 - val_recall: 0.5524\n",
      "Epoch 11/100\n",
      "98000/98000 [==============================] - 22s 228us/step - loss: 1.4281 - accuracy: 0.5094 - val_loss: 1.2772 - val_accuracy: 0.5704\n",
      "val_f1: 0.5576 - val_precision: 0.5611 - val_recall: 0.5704\n",
      "Epoch 12/100\n",
      "98000/98000 [==============================] - 23s 233us/step - loss: 1.3984 - accuracy: 0.5179 - val_loss: 1.2487 - val_accuracy: 0.5731\n",
      "val_f1: 0.5548 - val_precision: 0.5782 - val_recall: 0.5741\n",
      "Epoch 13/100\n",
      "98000/98000 [==============================] - 22s 227us/step - loss: 1.3758 - accuracy: 0.5262 - val_loss: 1.2485 - val_accuracy: 0.5760\n",
      "val_f1: 0.5598 - val_precision: 0.5706 - val_recall: 0.5767\n",
      "Epoch 14/100\n",
      "98000/98000 [==============================] - 22s 225us/step - loss: 1.3490 - accuracy: 0.5349 - val_loss: 1.2030 - val_accuracy: 0.5909\n",
      "val_f1: 0.5742 - val_precision: 0.5888 - val_recall: 0.5917\n",
      "Epoch 15/100\n",
      "98000/98000 [==============================] - 22s 225us/step - loss: 1.3291 - accuracy: 0.5412 - val_loss: 1.1690 - val_accuracy: 0.6014\n",
      "val_f1: 0.5897 - val_precision: 0.5930 - val_recall: 0.6016\n",
      "Epoch 16/100\n",
      "98000/98000 [==============================] - 22s 225us/step - loss: 1.3113 - accuracy: 0.5458 - val_loss: 1.1835 - val_accuracy: 0.5970\n",
      "val_f1: 0.5838 - val_precision: 0.6023 - val_recall: 0.5976\n",
      "Epoch 17/100\n",
      "98000/98000 [==============================] - 22s 225us/step - loss: 1.2909 - accuracy: 0.5544 - val_loss: 1.1406 - val_accuracy: 0.6121\n",
      "val_f1: 0.6004 - val_precision: 0.6085 - val_recall: 0.6125\n",
      "Epoch 18/100\n",
      "98000/98000 [==============================] - 22s 228us/step - loss: 1.2749 - accuracy: 0.5579 - val_loss: 1.1221 - val_accuracy: 0.6146\n",
      "val_f1: 0.5989 - val_precision: 0.6143 - val_recall: 0.6152\n",
      "Epoch 19/100\n",
      "98000/98000 [==============================] - 22s 227us/step - loss: 1.2622 - accuracy: 0.5634 - val_loss: 1.1038 - val_accuracy: 0.6224\n",
      "val_f1: 0.6070 - val_precision: 0.6198 - val_recall: 0.6230\n",
      "Epoch 20/100\n",
      "98000/98000 [==============================] - 22s 225us/step - loss: 1.2449 - accuracy: 0.5693 - val_loss: 1.1027 - val_accuracy: 0.6261\n",
      "val_f1: 0.6146 - val_precision: 0.6241 - val_recall: 0.6268\n",
      "Epoch 21/100\n",
      "98000/98000 [==============================] - 22s 225us/step - loss: 1.2313 - accuracy: 0.5735 - val_loss: 1.0960 - val_accuracy: 0.6234\n",
      "val_f1: 0.6104 - val_precision: 0.6163 - val_recall: 0.6239\n",
      "Epoch 22/100\n",
      "98000/98000 [==============================] - 22s 225us/step - loss: 1.2195 - accuracy: 0.5778 - val_loss: 1.0834 - val_accuracy: 0.6306\n",
      "val_f1: 0.6185 - val_precision: 0.6261 - val_recall: 0.6313\n",
      "Epoch 23/100\n",
      "98000/98000 [==============================] - 22s 227us/step - loss: 1.2091 - accuracy: 0.5797 - val_loss: 1.0708 - val_accuracy: 0.6337\n",
      "val_f1: 0.6237 - val_precision: 0.6372 - val_recall: 0.6342\n",
      "Epoch 24/100\n",
      "98000/98000 [==============================] - 22s 225us/step - loss: 1.1976 - accuracy: 0.5849 - val_loss: 1.0544 - val_accuracy: 0.6400\n",
      "val_f1: 0.6284 - val_precision: 0.6367 - val_recall: 0.6406\n",
      "Epoch 25/100\n",
      "98000/98000 [==============================] - 22s 227us/step - loss: 1.1858 - accuracy: 0.5902 - val_loss: 1.0650 - val_accuracy: 0.6354\n",
      "val_f1: 0.6240 - val_precision: 0.6332 - val_recall: 0.6359\n",
      "Epoch 26/100\n",
      "98000/98000 [==============================] - 22s 226us/step - loss: 1.1730 - accuracy: 0.5919 - val_loss: 1.0272 - val_accuracy: 0.6482\n",
      "val_f1: 0.6362 - val_precision: 0.6446 - val_recall: 0.6489\n",
      "Epoch 27/100\n",
      "98000/98000 [==============================] - 22s 226us/step - loss: 1.1657 - accuracy: 0.5973 - val_loss: 1.0314 - val_accuracy: 0.6500\n",
      "val_f1: 0.6400 - val_precision: 0.6471 - val_recall: 0.6504\n",
      "Epoch 28/100\n",
      "98000/98000 [==============================] - 22s 226us/step - loss: 1.1580 - accuracy: 0.5970 - val_loss: 1.0165 - val_accuracy: 0.6514\n",
      "val_f1: 0.6405 - val_precision: 0.6485 - val_recall: 0.6519\n",
      "Epoch 29/100\n",
      "98000/98000 [==============================] - 22s 227us/step - loss: 1.1482 - accuracy: 0.6015 - val_loss: 1.0017 - val_accuracy: 0.6574\n",
      "val_f1: 0.6473 - val_precision: 0.6544 - val_recall: 0.6580\n",
      "Epoch 30/100\n",
      "98000/98000 [==============================] - 22s 227us/step - loss: 1.1425 - accuracy: 0.6029 - val_loss: 1.0028 - val_accuracy: 0.6598\n",
      "val_f1: 0.6481 - val_precision: 0.6594 - val_recall: 0.6606\n",
      "Epoch 31/100\n",
      "98000/98000 [==============================] - 22s 227us/step - loss: 1.1332 - accuracy: 0.6046 - val_loss: 0.9893 - val_accuracy: 0.6643\n",
      "val_f1: 0.6557 - val_precision: 0.6640 - val_recall: 0.6649\n",
      "Epoch 32/100\n",
      "98000/98000 [==============================] - 22s 226us/step - loss: 1.1306 - accuracy: 0.6080 - val_loss: 0.9847 - val_accuracy: 0.6614\n",
      "val_f1: 0.6504 - val_precision: 0.6582 - val_recall: 0.6619\n",
      "Epoch 33/100\n",
      "98000/98000 [==============================] - 22s 225us/step - loss: 1.1171 - accuracy: 0.6119 - val_loss: 0.9782 - val_accuracy: 0.6660\n",
      "val_f1: 0.6569 - val_precision: 0.6644 - val_recall: 0.6664\n",
      "Epoch 34/100\n",
      "98000/98000 [==============================] - 22s 225us/step - loss: 1.1134 - accuracy: 0.6142 - val_loss: 0.9712 - val_accuracy: 0.6693\n",
      "val_f1: 0.6601 - val_precision: 0.6667 - val_recall: 0.6700\n",
      "Epoch 35/100\n",
      "98000/98000 [==============================] - 22s 226us/step - loss: 1.1086 - accuracy: 0.6147 - val_loss: 0.9662 - val_accuracy: 0.6705\n",
      "val_f1: 0.6610 - val_precision: 0.6677 - val_recall: 0.6711\n",
      "Epoch 36/100\n",
      "98000/98000 [==============================] - 22s 225us/step - loss: 1.1017 - accuracy: 0.6163 - val_loss: 0.9653 - val_accuracy: 0.6676\n",
      "val_f1: 0.6569 - val_precision: 0.6638 - val_recall: 0.6683\n",
      "Epoch 37/100\n",
      "98000/98000 [==============================] - 22s 225us/step - loss: 1.0953 - accuracy: 0.6206 - val_loss: 0.9514 - val_accuracy: 0.6754\n",
      "val_f1: 0.6665 - val_precision: 0.6740 - val_recall: 0.6760\n",
      "Epoch 38/100\n",
      "98000/98000 [==============================] - 22s 225us/step - loss: 1.0885 - accuracy: 0.6214 - val_loss: 0.9524 - val_accuracy: 0.6748\n",
      "val_f1: 0.6674 - val_precision: 0.6764 - val_recall: 0.6754\n",
      "Epoch 39/100\n",
      "98000/98000 [==============================] - 22s 225us/step - loss: 1.0821 - accuracy: 0.6239 - val_loss: 0.9462 - val_accuracy: 0.6791\n",
      "val_f1: 0.6707 - val_precision: 0.6745 - val_recall: 0.6797\n",
      "Epoch 40/100\n",
      "98000/98000 [==============================] - 22s 225us/step - loss: 1.0768 - accuracy: 0.6256 - val_loss: 0.9329 - val_accuracy: 0.6812\n",
      "val_f1: 0.6736 - val_precision: 0.6783 - val_recall: 0.6816\n",
      "Epoch 41/100\n",
      "98000/98000 [==============================] - 22s 225us/step - loss: 1.0699 - accuracy: 0.6260 - val_loss: 0.9322 - val_accuracy: 0.6821\n",
      "val_f1: 0.6724 - val_precision: 0.6790 - val_recall: 0.6827\n",
      "Epoch 42/100\n",
      "98000/98000 [==============================] - 22s 226us/step - loss: 1.0646 - accuracy: 0.6295 - val_loss: 0.9237 - val_accuracy: 0.6829\n",
      "val_f1: 0.6757 - val_precision: 0.6819 - val_recall: 0.6833\n",
      "Epoch 43/100\n",
      "98000/98000 [==============================] - 22s 225us/step - loss: 1.0623 - accuracy: 0.6310 - val_loss: 0.9218 - val_accuracy: 0.6862\n",
      "val_f1: 0.6784 - val_precision: 0.6842 - val_recall: 0.6866\n",
      "Epoch 44/100\n",
      "98000/98000 [==============================] - 22s 228us/step - loss: 1.0569 - accuracy: 0.6316 - val_loss: 0.9366 - val_accuracy: 0.6814\n",
      "val_f1: 0.6718 - val_precision: 0.6819 - val_recall: 0.6821\n",
      "Epoch 45/100\n",
      "98000/98000 [==============================] - 22s 227us/step - loss: 1.0507 - accuracy: 0.6341 - val_loss: 0.9123 - val_accuracy: 0.6892\n",
      "val_f1: 0.6813 - val_precision: 0.6863 - val_recall: 0.6898\n",
      "Epoch 46/100\n",
      "98000/98000 [==============================] - 22s 227us/step - loss: 1.0464 - accuracy: 0.6336 - val_loss: 0.9277 - val_accuracy: 0.6808\n",
      "val_f1: 0.6731 - val_precision: 0.6828 - val_recall: 0.6816\n",
      "Epoch 47/100\n",
      "98000/98000 [==============================] - 22s 226us/step - loss: 1.0428 - accuracy: 0.6375 - val_loss: 0.9178 - val_accuracy: 0.6843\n",
      "val_f1: 0.6758 - val_precision: 0.6849 - val_recall: 0.6852\n",
      "Epoch 48/100\n",
      "98000/98000 [==============================] - 22s 226us/step - loss: 1.0379 - accuracy: 0.6396 - val_loss: 0.9115 - val_accuracy: 0.6863\n",
      "val_f1: 0.6797 - val_precision: 0.6866 - val_recall: 0.6868\n",
      "Epoch 49/100\n",
      "98000/98000 [==============================] - 22s 225us/step - loss: 1.0335 - accuracy: 0.6392 - val_loss: 0.8992 - val_accuracy: 0.6903\n",
      "val_f1: 0.6828 - val_precision: 0.6899 - val_recall: 0.6908\n",
      "Epoch 50/100\n",
      "98000/98000 [==============================] - 22s 225us/step - loss: 1.0286 - accuracy: 0.6421 - val_loss: 0.9010 - val_accuracy: 0.6947\n",
      "val_f1: 0.6878 - val_precision: 0.6941 - val_recall: 0.6952\n",
      "Epoch 51/100\n",
      "98000/98000 [==============================] - 22s 224us/step - loss: 1.0230 - accuracy: 0.6434 - val_loss: 0.9084 - val_accuracy: 0.6915\n",
      "val_f1: 0.6843 - val_precision: 0.6858 - val_recall: 0.6920\n",
      "Epoch 52/100\n",
      "98000/98000 [==============================] - 22s 225us/step - loss: 1.0200 - accuracy: 0.6446 - val_loss: 0.9031 - val_accuracy: 0.6917\n",
      "val_f1: 0.6836 - val_precision: 0.6898 - val_recall: 0.6924\n",
      "Epoch 53/100\n",
      "98000/98000 [==============================] - 22s 224us/step - loss: 1.0149 - accuracy: 0.6461 - val_loss: 0.8929 - val_accuracy: 0.6932\n",
      "val_f1: 0.6840 - val_precision: 0.6898 - val_recall: 0.6937\n",
      "Epoch 54/100\n",
      "98000/98000 [==============================] - 22s 226us/step - loss: 1.0080 - accuracy: 0.6479 - val_loss: 0.8961 - val_accuracy: 0.6951\n",
      "val_f1: 0.6886 - val_precision: 0.6941 - val_recall: 0.6956\n",
      "Epoch 55/100\n",
      "98000/98000 [==============================] - 22s 225us/step - loss: 1.0058 - accuracy: 0.6494 - val_loss: 0.8895 - val_accuracy: 0.6956\n",
      "val_f1: 0.6881 - val_precision: 0.6945 - val_recall: 0.6962\n",
      "Epoch 56/100\n",
      "98000/98000 [==============================] - 22s 227us/step - loss: 1.0105 - accuracy: 0.6479 - val_loss: 0.8779 - val_accuracy: 0.7034\n",
      "val_f1: 0.6978 - val_precision: 0.7024 - val_recall: 0.7038\n",
      "Epoch 57/100\n",
      "98000/98000 [==============================] - 22s 224us/step - loss: 1.0043 - accuracy: 0.6487 - val_loss: 0.8848 - val_accuracy: 0.6983\n",
      "val_f1: 0.6909 - val_precision: 0.6993 - val_recall: 0.6986\n",
      "Epoch 58/100\n",
      "98000/98000 [==============================] - 22s 225us/step - loss: 0.9946 - accuracy: 0.6521 - val_loss: 0.8776 - val_accuracy: 0.7005\n",
      "val_f1: 0.6929 - val_precision: 0.6986 - val_recall: 0.7011\n",
      "Epoch 59/100\n",
      "98000/98000 [==============================] - 22s 225us/step - loss: 0.9947 - accuracy: 0.6520 - val_loss: 0.8862 - val_accuracy: 0.6944\n",
      "val_f1: 0.6851 - val_precision: 0.6949 - val_recall: 0.6951\n",
      "Epoch 60/100\n",
      "98000/98000 [==============================] - 22s 225us/step - loss: 0.9881 - accuracy: 0.6552 - val_loss: 0.8652 - val_accuracy: 0.7043\n",
      "val_f1: 0.6957 - val_precision: 0.7020 - val_recall: 0.7048\n",
      "Epoch 61/100\n",
      "98000/98000 [==============================] - 22s 224us/step - loss: 0.9871 - accuracy: 0.6546 - val_loss: 0.8691 - val_accuracy: 0.7041\n",
      "val_f1: 0.6967 - val_precision: 0.7043 - val_recall: 0.7046\n",
      "Epoch 62/100\n",
      "98000/98000 [==============================] - 22s 227us/step - loss: 0.9826 - accuracy: 0.6569 - val_loss: 0.8769 - val_accuracy: 0.7005\n",
      "val_f1: 0.6928 - val_precision: 0.7001 - val_recall: 0.7011\n",
      "Epoch 63/100\n",
      "98000/98000 [==============================] - 22s 227us/step - loss: 0.9781 - accuracy: 0.6574 - val_loss: 0.8676 - val_accuracy: 0.7077\n",
      "val_f1: 0.7008 - val_precision: 0.7064 - val_recall: 0.7081\n",
      "Epoch 64/100\n",
      "98000/98000 [==============================] - 22s 227us/step - loss: 0.9800 - accuracy: 0.6576 - val_loss: 0.8601 - val_accuracy: 0.7065\n",
      "val_f1: 0.7003 - val_precision: 0.7049 - val_recall: 0.7071\n",
      "Epoch 65/100\n",
      "98000/98000 [==============================] - 22s 229us/step - loss: 0.9748 - accuracy: 0.6586 - val_loss: 0.8635 - val_accuracy: 0.7059\n",
      "val_f1: 0.6998 - val_precision: 0.7042 - val_recall: 0.7064\n",
      "Epoch 66/100\n",
      "98000/98000 [==============================] - 23s 230us/step - loss: 0.9708 - accuracy: 0.6598 - val_loss: 0.8734 - val_accuracy: 0.7034\n",
      "val_f1: 0.6975 - val_precision: 0.7049 - val_recall: 0.7040\n",
      "Epoch 67/100\n",
      "98000/98000 [==============================] - 22s 228us/step - loss: 0.9678 - accuracy: 0.6601 - val_loss: 0.8584 - val_accuracy: 0.7078\n",
      "val_f1: 0.7027 - val_precision: 0.7091 - val_recall: 0.7085\n",
      "Epoch 68/100\n",
      "98000/98000 [==============================] - 23s 231us/step - loss: 0.9637 - accuracy: 0.6634 - val_loss: 0.8655 - val_accuracy: 0.7059\n",
      "val_f1: 0.6989 - val_precision: 0.7020 - val_recall: 0.7064\n",
      "Epoch 69/100\n",
      "98000/98000 [==============================] - 22s 228us/step - loss: 0.9636 - accuracy: 0.6621 - val_loss: 0.8610 - val_accuracy: 0.7077\n",
      "val_f1: 0.7012 - val_precision: 0.7132 - val_recall: 0.7082\n",
      "Epoch 70/100\n",
      "98000/98000 [==============================] - 22s 229us/step - loss: 0.9625 - accuracy: 0.6629 - val_loss: 0.8783 - val_accuracy: 0.7013\n",
      "val_f1: 0.6935 - val_precision: 0.6997 - val_recall: 0.7017\n",
      "Epoch 71/100\n",
      "98000/98000 [==============================] - 22s 228us/step - loss: 0.9602 - accuracy: 0.6626 - val_loss: 0.8688 - val_accuracy: 0.7055\n",
      "val_f1: 0.6972 - val_precision: 0.7053 - val_recall: 0.7061\n",
      "Epoch 72/100\n",
      "98000/98000 [==============================] - 22s 228us/step - loss: 0.9584 - accuracy: 0.6649 - val_loss: 0.8530 - val_accuracy: 0.7118\n",
      "val_f1: 0.7059 - val_precision: 0.7129 - val_recall: 0.7124\n",
      "Epoch 73/100\n",
      "98000/98000 [==============================] - 22s 229us/step - loss: 0.9517 - accuracy: 0.6663 - val_loss: 0.8487 - val_accuracy: 0.7119\n",
      "val_f1: 0.7054 - val_precision: 0.7117 - val_recall: 0.7123\n",
      "Epoch 74/100\n",
      "98000/98000 [==============================] - 22s 228us/step - loss: 0.9502 - accuracy: 0.6650 - val_loss: 0.8384 - val_accuracy: 0.7129\n",
      "val_f1: 0.7058 - val_precision: 0.7139 - val_recall: 0.7133\n",
      "Epoch 75/100\n",
      "98000/98000 [==============================] - 22s 228us/step - loss: 0.9473 - accuracy: 0.6677 - val_loss: 0.8430 - val_accuracy: 0.7120\n",
      "val_f1: 0.7053 - val_precision: 0.7138 - val_recall: 0.7124\n",
      "Epoch 76/100\n",
      "98000/98000 [==============================] - 22s 228us/step - loss: 0.9495 - accuracy: 0.6684 - val_loss: 0.8426 - val_accuracy: 0.7123\n",
      "val_f1: 0.7051 - val_precision: 0.7163 - val_recall: 0.7130\n",
      "Epoch 77/100\n",
      "98000/98000 [==============================] - 22s 228us/step - loss: 0.9397 - accuracy: 0.6693 - val_loss: 0.8562 - val_accuracy: 0.7100\n",
      "val_f1: 0.7043 - val_precision: 0.7132 - val_recall: 0.7104\n",
      "Epoch 78/100\n",
      "98000/98000 [==============================] - 22s 229us/step - loss: 0.9402 - accuracy: 0.6706 - val_loss: 0.8443 - val_accuracy: 0.7140\n",
      "val_f1: 0.7068 - val_precision: 0.7147 - val_recall: 0.7145\n",
      "Epoch 79/100\n",
      "98000/98000 [==============================] - 22s 228us/step - loss: 0.9397 - accuracy: 0.6718 - val_loss: 0.8516 - val_accuracy: 0.7109\n",
      "val_f1: 0.7035 - val_precision: 0.7125 - val_recall: 0.7116\n",
      "Epoch 80/100\n",
      "98000/98000 [==============================] - 23s 230us/step - loss: 0.9404 - accuracy: 0.6705 - val_loss: 0.8491 - val_accuracy: 0.7137\n",
      "val_f1: 0.7074 - val_precision: 0.7126 - val_recall: 0.7142\n",
      "Epoch 81/100\n",
      "98000/98000 [==============================] - 22s 229us/step - loss: 0.9388 - accuracy: 0.6710 - val_loss: 0.8356 - val_accuracy: 0.7155\n",
      "val_f1: 0.7093 - val_precision: 0.7153 - val_recall: 0.7160\n",
      "Epoch 82/100\n",
      "98000/98000 [==============================] - 22s 229us/step - loss: 0.9322 - accuracy: 0.6743 - val_loss: 0.8378 - val_accuracy: 0.7163\n",
      "val_f1: 0.7093 - val_precision: 0.7160 - val_recall: 0.7169\n",
      "Epoch 83/100\n",
      "98000/98000 [==============================] - 22s 229us/step - loss: 0.9309 - accuracy: 0.6726 - val_loss: 0.8404 - val_accuracy: 0.7159\n",
      "val_f1: 0.7084 - val_precision: 0.7146 - val_recall: 0.7164\n",
      "Epoch 84/100\n",
      "98000/98000 [==============================] - 22s 229us/step - loss: 0.9294 - accuracy: 0.6730 - val_loss: 0.8317 - val_accuracy: 0.7182\n",
      "val_f1: 0.7115 - val_precision: 0.7184 - val_recall: 0.7188\n",
      "Epoch 85/100\n",
      "98000/98000 [==============================] - 22s 229us/step - loss: 0.9282 - accuracy: 0.6761 - val_loss: 0.8372 - val_accuracy: 0.7143\n",
      "val_f1: 0.7076 - val_precision: 0.7140 - val_recall: 0.7149\n",
      "Epoch 86/100\n",
      "98000/98000 [==============================] - 22s 229us/step - loss: 0.9254 - accuracy: 0.6755 - val_loss: 0.8414 - val_accuracy: 0.7136\n",
      "val_f1: 0.7061 - val_precision: 0.7136 - val_recall: 0.7143\n",
      "Epoch 87/100\n",
      "98000/98000 [==============================] - 22s 228us/step - loss: 0.9235 - accuracy: 0.6769 - val_loss: 0.8528 - val_accuracy: 0.7137\n",
      "val_f1: 0.7092 - val_precision: 0.7149 - val_recall: 0.7141\n",
      "Epoch 88/100\n",
      "98000/98000 [==============================] - 22s 229us/step - loss: 0.9236 - accuracy: 0.6766 - val_loss: 0.8334 - val_accuracy: 0.7169\n",
      "val_f1: 0.7109 - val_precision: 0.7199 - val_recall: 0.7175\n",
      "Epoch 89/100\n",
      "98000/98000 [==============================] - 22s 228us/step - loss: 0.9196 - accuracy: 0.6770 - val_loss: 0.8393 - val_accuracy: 0.7152\n",
      "val_f1: 0.7082 - val_precision: 0.7164 - val_recall: 0.7159\n",
      "Epoch 90/100\n",
      "98000/98000 [==============================] - 22s 229us/step - loss: 0.9173 - accuracy: 0.6793 - val_loss: 0.8265 - val_accuracy: 0.7202\n",
      "val_f1: 0.7148 - val_precision: 0.7209 - val_recall: 0.7206\n",
      "Epoch 91/100\n",
      "98000/98000 [==============================] - 22s 228us/step - loss: 0.9148 - accuracy: 0.6783 - val_loss: 0.8418 - val_accuracy: 0.7160\n",
      "val_f1: 0.7099 - val_precision: 0.7192 - val_recall: 0.7166\n",
      "Epoch 92/100\n",
      "98000/98000 [==============================] - 23s 230us/step - loss: 0.9168 - accuracy: 0.6787 - val_loss: 0.8186 - val_accuracy: 0.7220\n",
      "val_f1: 0.7162 - val_precision: 0.7223 - val_recall: 0.7224\n",
      "Epoch 93/100\n",
      "98000/98000 [==============================] - 22s 229us/step - loss: 0.9117 - accuracy: 0.6812 - val_loss: 0.8164 - val_accuracy: 0.7234\n",
      "val_f1: 0.7171 - val_precision: 0.7230 - val_recall: 0.7240\n",
      "Epoch 94/100\n",
      "98000/98000 [==============================] - 22s 229us/step - loss: 0.9065 - accuracy: 0.6822 - val_loss: 0.8212 - val_accuracy: 0.7238\n",
      "val_f1: 0.7183 - val_precision: 0.7264 - val_recall: 0.7245\n",
      "Epoch 95/100\n",
      "98000/98000 [==============================] - 22s 229us/step - loss: 0.9104 - accuracy: 0.6797 - val_loss: 0.8185 - val_accuracy: 0.7226\n",
      "val_f1: 0.7160 - val_precision: 0.7243 - val_recall: 0.7232\n",
      "Epoch 96/100\n",
      "98000/98000 [==============================] - 22s 229us/step - loss: 0.9071 - accuracy: 0.6811 - val_loss: 0.8452 - val_accuracy: 0.7120\n",
      "val_f1: 0.7043 - val_precision: 0.7148 - val_recall: 0.7128\n",
      "Epoch 97/100\n",
      "98000/98000 [==============================] - 22s 229us/step - loss: 0.9057 - accuracy: 0.6823 - val_loss: 0.8169 - val_accuracy: 0.7225\n",
      "val_f1: 0.7165 - val_precision: 0.7228 - val_recall: 0.7230\n",
      "Epoch 98/100\n",
      "98000/98000 [==============================] - 22s 229us/step - loss: 0.9059 - accuracy: 0.6818 - val_loss: 0.8222 - val_accuracy: 0.7244\n",
      "val_f1: 0.7197 - val_precision: 0.7251 - val_recall: 0.7250\n",
      "Epoch 99/100\n",
      "98000/98000 [==============================] - 22s 229us/step - loss: 0.8984 - accuracy: 0.6829 - val_loss: 0.8158 - val_accuracy: 0.7240\n",
      "val_f1: 0.7176 - val_precision: 0.7218 - val_recall: 0.7245\n",
      "Epoch 100/100\n",
      "98000/98000 [==============================] - 22s 228us/step - loss: 0.9005 - accuracy: 0.6849 - val_loss: 0.8198 - val_accuracy: 0.7232\n",
      "val_f1: 0.7170 - val_precision: 0.7235 - val_recall: 0.7238\n"
     ]
    }
   ],
   "source": [
    "f1_metrics = Metrics()\n",
    "\n",
    "model.compile(\n",
    "    loss='categorical_crossentropy',\n",
    "    optimizer='adam',\n",
    "    metrics=['accuracy']\n",
    ")\n",
    "\n",
    "hist = model.fit(\n",
    "    X_train, \n",
    "    y_train,\n",
    "    batch_size=batch_size,\n",
    "    epochs=epochs,\n",
    "    callbacks=[f1_metrics],\n",
    "    validation_data=(X_validate, y_valid)\n",
    ")"
   ]
  },
  {
   "cell_type": "markdown",
   "metadata": {},
   "source": [
    "### 3."
   ]
  },
  {
   "cell_type": "code",
   "execution_count": 30,
   "metadata": {},
   "outputs": [],
   "source": [
    "model.save('/home/zxt/data/model/cnn_baseline_7k_32_32batchsize100epoch.h5')"
   ]
  },
  {
   "cell_type": "code",
   "execution_count": null,
   "metadata": {},
   "outputs": [],
   "source": []
  },
  {
   "cell_type": "markdown",
   "metadata": {},
   "source": [
    "### 4. Evaluation"
   ]
  },
  {
   "cell_type": "code",
   "execution_count": 31,
   "metadata": {},
   "outputs": [],
   "source": [
    "history_df = pd.DataFrame(hist.history)\n",
    "history_df['val_f1'] = f1_metrics.val_f1s\n",
    "history_df['val_precision'] = f1_metrics.val_precisions\n",
    "history_df['val_recall'] = f1_metrics.val_recalls\n",
    "\n",
    "# history_df[['loss', 'val_loss']].plot()\n",
    "# history_df[['acc', 'val_acc']].plot()\n",
    "# history_df[['val_f1', 'val_precision', 'val_recall']].plot()"
   ]
  },
  {
   "cell_type": "code",
   "execution_count": 32,
   "metadata": {},
   "outputs": [
    {
     "data": {
      "text/plain": [
       "<matplotlib.axes._subplots.AxesSubplot at 0x7fdcdc0a5910>"
      ]
     },
     "execution_count": 32,
     "metadata": {},
     "output_type": "execute_result"
    },
    {
     "data": {
      "image/png": "[encoded data removed]",
      "text/plain": [
       "<Figure size 432x288 with 1 Axes>"
      ]
     },
     "metadata": {
      "needs_background": "light"
     },
     "output_type": "display_data"
    }
   ],
   "source": [
    "history_df[['loss', 'val_loss']].plot()"
   ]
  },
  {
   "cell_type": "code",
   "execution_count": 33,
   "metadata": {},
   "outputs": [
    {
     "data": {
      "text/plain": [
       "<matplotlib.axes._subplots.AxesSubplot at 0x7fdcdc13eb50>"
      ]
     },
     "execution_count": 33,
     "metadata": {},
     "output_type": "execute_result"
    },
    {
     "data": {
      "image/png": "[encoded data removed]",
      "text/plain": [
       "<Figure size 432x288 with 1 Axes>"
      ]
     },
     "metadata": {
      "needs_background": "light"
     },
     "output_type": "display_data"
    }
   ],
   "source": [
    "history_df[['val_f1', 'val_precision', 'val_recall']].plot()"
   ]
  },
  {
   "cell_type": "code",
   "execution_count": 36,
   "metadata": {},
   "outputs": [
    {
     "data": {
      "text/plain": [
       "<matplotlib.axes._subplots.AxesSubplot at 0x7fdc85792c50>"
      ]
     },
     "execution_count": 36,
     "metadata": {},
     "output_type": "execute_result"
    },
    {
     "data": {
      "image/png": "[encoded data removed]",
      "text/plain": [
       "<Figure size 432x288 with 1 Axes>"
      ]
     },
     "metadata": {
      "needs_background": "light"
     },
     "output_type": "display_data"
    }
   ],
   "source": [
    "history_df[['accuracy', 'val_accuracy']].plot()"
   ]
  },
  {
   "cell_type": "markdown",
   "metadata": {},
   "source": [
    "### 5. Prediction"
   ]
  },
  {
   "cell_type": "code",
   "execution_count": 37,
   "metadata": {},
   "outputs": [
    {
     "name": "stdout",
     "output_type": "stream",
     "text": [
      "12600/12600 [==============================] - 2s 167us/step\n",
      "\n",
      "test loss 0.8068679785350013\n",
      "accuracy 0.7289682626724243\n"
     ]
    }
   ],
   "source": [
    "loss,accuracy = model.evaluate(X_test,y_test,)\n",
    "print('\\ntest loss',loss)\n",
    "print('accuracy',accuracy)"
   ]
  },
  {
   "cell_type": "code",
   "execution_count": null,
   "metadata": {},
   "outputs": [],
   "source": []
  },
  {
   "cell_type": "code",
   "execution_count": null,
   "metadata": {},
   "outputs": [],
   "source": []
  },
  {
   "cell_type": "code",
   "execution_count": null,
   "metadata": {},
   "outputs": [],
   "source": []
  }
 ],
 "metadata": {
  "kernelspec": {
   "display_name": "Python 3",
   "language": "python",
   "name": "python3"
  },
  "language_info": {
   "codemirror_mode": {
    "name": "ipython",
    "version": 3
   },
   "file_extension": ".py",
   "mimetype": "text/x-python",
   "name": "python",
   "nbconvert_exporter": "python",
   "pygments_lexer": "ipython3",
   "version": "3.7.4"
  }
 },
 "nbformat": 4,
 "nbformat_minor": 4
}
