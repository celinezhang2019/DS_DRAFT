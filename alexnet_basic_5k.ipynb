{
 "cells": [
  {
   "cell_type": "code",
   "execution_count": 44,
   "metadata": {},
   "outputs": [],
   "source": [
    "%%capture\n",
    "import keras\n",
    "import keras.backend as K\n",
    "from keras.models import Model\n",
    "from keras.layers import Input, Dense, Conv2D, Conv3D, DepthwiseConv2D, SeparableConv2D, Conv3DTranspose\n",
    "from keras.layers import Flatten, MaxPool2D, AvgPool2D, GlobalAvgPool2D, UpSampling2D, BatchNormalization\n",
    "from keras.layers import Concatenate, Add, Dropout, ReLU, Lambda, Activation, LeakyReLU, PReLU\n",
    "from keras.utils import np_utils\n",
    "from IPython.display import SVG\n",
    "from keras.utils.vis_utils import model_to_dot\n",
    "from keras.optimizers import SGD\n",
    "from time import time\n",
    "from keras.callbacks import EarlyStopping\n",
    "from sklearn.metrics import confusion_matrix, f1_score, precision_score, recall_score\n",
    "from keras.callbacks import Callback\n",
    "\n",
    "import numpy as np\n",
    "import pandas as pd\n",
    "import matplotlib, os, math\n",
    "\n",
    "os.environ[\"CUDA_VISIBLE_DEVICES\"]=\"1\""
   ]
  },
  {
   "cell_type": "markdown",
   "metadata": {},
   "source": [
    "### 1.Prepare data"
   ]
  },
  {
   "cell_type": "code",
   "execution_count": 2,
   "metadata": {},
   "outputs": [
    {
     "name": "stdout",
     "output_type": "stream",
     "text": [
      "Loading X_train...\n",
      "Running time: 845.2834408283234 seconds\n"
     ]
    }
   ],
   "source": [
    "from time import time\n",
    "import numpy as np\n",
    "\n",
    "start_time = time()\n",
    "\n",
    "print('Loading X_train...')\n",
    "X_train = np.load('/home/zxt/data/22_category/224/5k/X_train.npy')\n",
    "\n",
    "\n",
    "end_time = time()\n",
    "print('Running time: %s seconds'%(end_time - start_time))"
   ]
  },
  {
   "cell_type": "code",
   "execution_count": 4,
   "metadata": {},
   "outputs": [
    {
     "data": {
      "text/plain": [
       "88000"
      ]
     },
     "execution_count": 4,
     "metadata": {},
     "output_type": "execute_result"
    }
   ],
   "source": [
    "len(X_train)"
   ]
  },
  {
   "cell_type": "code",
   "execution_count": 5,
   "metadata": {},
   "outputs": [
    {
     "name": "stdout",
     "output_type": "stream",
     "text": [
      "Loading X_validate...\n",
      "Loading X_test...\n",
      "Loading labels...\n",
      "Running time: 210.90929794311523 seconds\n"
     ]
    }
   ],
   "source": [
    "from time import time\n",
    "import numpy as np\n",
    "\n",
    "start_time = time()\n",
    "\n",
    "print('Loading X_validate...')\n",
    "X_validate = np.load('/home/zxt/data/22_category/224/5k/X_validate.npy')\n",
    "\n",
    "print('Loading X_test...')\n",
    "X_test = np.load('/home/zxt/data/22_category/224/5k/X_test.npy')\n",
    "\n",
    "print('Loading labels...')\n",
    "Y_train = np.load('/home/zxt/data/22_category/224/5k/Y_train.npy')\n",
    "Y_validate = np.load('/home/zxt/data/22_category/224/5k/Y_validate.npy')\n",
    "Y_test = np.load('/home/zxt/data/22_category/224/5k/Y_test.npy')\n",
    "\n",
    "end_time = time()\n",
    "print('Running time: %s seconds'%(end_time - start_time))"
   ]
  },
  {
   "cell_type": "code",
   "execution_count": null,
   "metadata": {},
   "outputs": [],
   "source": [
    "# X_train = np.vstack((X_train_part1,X_train_part2,X_train_part3,X_train_part4,X_train_part5,X_train_part6,X_train_part7))"
   ]
  },
  {
   "cell_type": "code",
   "execution_count": null,
   "metadata": {},
   "outputs": [],
   "source": [
    "# X_validate = np.vstack((X_validate_part1, X_validate_part2))"
   ]
  },
  {
   "cell_type": "code",
   "execution_count": 6,
   "metadata": {},
   "outputs": [
    {
     "name": "stdout",
     "output_type": "stream",
     "text": [
      "X_train shape: (88000, 224, 224, 3)\n",
      "88000 train samples\n",
      "11000 validate samples\n",
      "11000 test samples\n"
     ]
    }
   ],
   "source": [
    "print('X_train shape:', X_train.shape)\n",
    "print(X_train.shape[0], 'train samples')\n",
    "print(X_validate.shape[0], 'validate samples')\n",
    "print(X_test.shape[0], 'test samples')"
   ]
  },
  {
   "cell_type": "code",
   "execution_count": 7,
   "metadata": {},
   "outputs": [],
   "source": [
    "X_train /=255.\n",
    "X_validate /=  255.\n",
    "X_test /= 255."
   ]
  },
  {
   "cell_type": "code",
   "execution_count": 14,
   "metadata": {},
   "outputs": [],
   "source": [
    "# Y_train label\n",
    "for i in Y_train:\n",
    "    if i[0]=='elephant':\n",
    "        i[0]=0\n",
    "    if i[0]=='wild_boar':\n",
    "        i[0]=1\n",
    "    if i[0]=='gazellethomosons':\n",
    "        i[0]=2\n",
    "    if i[0]=='squirrel':\n",
    "        i[0]=3 \n",
    "    if i[0]=='hedgehog':\n",
    "        i[0]=4\n",
    "    if i[0]=='guineafowl':\n",
    "        i[0]=5\n",
    "    if i[0]=='moose':\n",
    "        i[0]=6\n",
    "    if i[0]=='bobcat':\n",
    "        i[0]=7   \n",
    "    if i[0]=='bird':\n",
    "        i[0]=8\n",
    "    if i[0]=='fox':\n",
    "        i[0]=9\n",
    "    if i[0]=='giraffe':\n",
    "        i[0]=10\n",
    "    if i[0]=='buffalo':\n",
    "        i[0]=11\n",
    "    if i[0]=='hare':\n",
    "        i[0]=12\n",
    "    if i[0]=='vehicle':\n",
    "        i[0]=13\n",
    "    if i[0]=='wildebeest':\n",
    "        i[0]=14\n",
    "    if i[0]=='cattle':\n",
    "        i[0]=15 \n",
    "    if i[0]=='skunk':\n",
    "        i[0]=16\n",
    "    if i[0]=='lion':\n",
    "        i[0]=17\n",
    "    if i[0]=='zebra':\n",
    "        i[0]=18\n",
    "    if i[0]=='black_bear':\n",
    "        i[0]=19\n",
    "    if i[0]=='racoon':\n",
    "        i[0]=20\n",
    "    if i[0]=='coyote':\n",
    "        i[0]=21       "
   ]
  },
  {
   "cell_type": "code",
   "execution_count": 15,
   "metadata": {},
   "outputs": [],
   "source": [
    "for i in Y_validate:\n",
    "    if i[0]=='elephant':\n",
    "        i[0]=0\n",
    "    if i[0]=='wild_boar':\n",
    "        i[0]=1\n",
    "    if i[0]=='gazellethomosons':\n",
    "        i[0]=2\n",
    "    if i[0]=='squirrel':\n",
    "        i[0]=3 \n",
    "    if i[0]=='hedgehog':\n",
    "        i[0]=4\n",
    "    if i[0]=='guineafowl':\n",
    "        i[0]=5\n",
    "    if i[0]=='moose':\n",
    "        i[0]=6\n",
    "    if i[0]=='bobcat':\n",
    "        i[0]=7   \n",
    "    if i[0]=='bird':\n",
    "        i[0]=8\n",
    "    if i[0]=='fox':\n",
    "        i[0]=9\n",
    "    if i[0]=='giraffe':\n",
    "        i[0]=10\n",
    "    if i[0]=='buffalo':\n",
    "        i[0]=11\n",
    "    if i[0]=='hare':\n",
    "        i[0]=12\n",
    "    if i[0]=='vehicle':\n",
    "        i[0]=13\n",
    "    if i[0]=='wildebeest':\n",
    "        i[0]=14\n",
    "    if i[0]=='cattle':\n",
    "        i[0]=15 \n",
    "    if i[0]=='skunk':\n",
    "        i[0]=16\n",
    "    if i[0]=='lion':\n",
    "        i[0]=17\n",
    "    if i[0]=='zebra':\n",
    "        i[0]=18\n",
    "    if i[0]=='black_bear':\n",
    "        i[0]=19\n",
    "    if i[0]=='racoon':\n",
    "        i[0]=20\n",
    "    if i[0]=='coyote':\n",
    "        i[0]=21    "
   ]
  },
  {
   "cell_type": "code",
   "execution_count": 16,
   "metadata": {},
   "outputs": [],
   "source": [
    "for i in Y_test:\n",
    "    if i[0]=='elephant':\n",
    "        i[0]=0\n",
    "    if i[0]=='wild_boar':\n",
    "        i[0]=1\n",
    "    if i[0]=='gazellethomosons':\n",
    "        i[0]=2\n",
    "    if i[0]=='squirrel':\n",
    "        i[0]=3 \n",
    "    if i[0]=='hedgehog':\n",
    "        i[0]=4\n",
    "    if i[0]=='guineafowl':\n",
    "        i[0]=5\n",
    "    if i[0]=='moose':\n",
    "        i[0]=6\n",
    "    if i[0]=='bobcat':\n",
    "        i[0]=7   \n",
    "    if i[0]=='bird':\n",
    "        i[0]=8\n",
    "    if i[0]=='fox':\n",
    "        i[0]=9\n",
    "    if i[0]=='giraffe':\n",
    "        i[0]=10\n",
    "    if i[0]=='buffalo':\n",
    "        i[0]=11\n",
    "    if i[0]=='hare':\n",
    "        i[0]=12\n",
    "    if i[0]=='vehicle':\n",
    "        i[0]=13\n",
    "    if i[0]=='wildebeest':\n",
    "        i[0]=14\n",
    "    if i[0]=='cattle':\n",
    "        i[0]=15 \n",
    "    if i[0]=='skunk':\n",
    "        i[0]=16\n",
    "    if i[0]=='lion':\n",
    "        i[0]=17\n",
    "    if i[0]=='zebra':\n",
    "        i[0]=18\n",
    "    if i[0]=='black_bear':\n",
    "        i[0]=19\n",
    "    if i[0]=='racoon':\n",
    "        i[0]=20\n",
    "    if i[0]=='coyote':\n",
    "        i[0]=21    "
   ]
  },
  {
   "cell_type": "code",
   "execution_count": 17,
   "metadata": {},
   "outputs": [],
   "source": [
    "# one-hot encoder[only accpet int]\n",
    "y_train=np_utils.to_categorical(Y_train,22)\n",
    "y_validate=np_utils.to_categorical(Y_validate,22)\n",
    "y_test=np_utils.to_categorical(Y_test,22)"
   ]
  },
  {
   "cell_type": "code",
   "execution_count": 18,
   "metadata": {},
   "outputs": [
    {
     "data": {
      "text/plain": [
       "array([[0., 0., 0., ..., 0., 0., 0.],\n",
       "       [0., 0., 0., ..., 0., 0., 0.],\n",
       "       [0., 0., 0., ..., 0., 0., 0.],\n",
       "       ...,\n",
       "       [0., 0., 0., ..., 0., 0., 0.],\n",
       "       [0., 0., 0., ..., 0., 0., 0.],\n",
       "       [0., 0., 0., ..., 0., 0., 1.]], dtype=float32)"
      ]
     },
     "execution_count": 18,
     "metadata": {},
     "output_type": "execute_result"
    }
   ],
   "source": [
    "y_test"
   ]
  },
  {
   "cell_type": "markdown",
   "metadata": {},
   "source": [
    "### 2.Model structure"
   ]
  },
  {
   "cell_type": "code",
   "execution_count": 46,
   "metadata": {},
   "outputs": [],
   "source": [
    "def alexnet(input_shape, n_classes):\n",
    "    input = Input(input_shape)\n",
    "  \n",
    "    # actually batch normalization didn't exist back then\n",
    "    # they used LRN (Local Response Normalization) for regularization\n",
    "    x = Conv2D(96, 11, strides=4, padding='same', activation='relu')(input)\n",
    "    x = BatchNormalization()(x)\n",
    "    x = MaxPool2D(3, strides=2)(x)\n",
    "  \n",
    "    x = Conv2D(256, 5, padding='same', activation='relu')(x)\n",
    "    x = BatchNormalization()(x)\n",
    "    x = MaxPool2D(3, strides=2)(x)\n",
    "  \n",
    "    x = Conv2D(384, 3, strides=1, padding='same', activation='relu')(x)\n",
    "  \n",
    "    x = Conv2D(384, 3, strides=1, padding='same', activation='relu')(x)\n",
    "  \n",
    "    x = Conv2D(256, 3, strides=1, padding='same', activation='relu')(x)\n",
    "    x = BatchNormalization()(x)\n",
    "    x = MaxPool2D(3, strides=2)(x)\n",
    "  \n",
    "    x = Flatten()(x)\n",
    "    x = Dense(4096, activation='relu')(x)\n",
    "    x = Dense(4096, activation='relu')(x)\n",
    "  \n",
    "    output = Dense(n_classes, activation='softmax')(x)\n",
    "  \n",
    "    model = Model(input, output)\n",
    "    return model"
   ]
  },
  {
   "cell_type": "code",
   "execution_count": 47,
   "metadata": {},
   "outputs": [],
   "source": [
    "# prevent overfitting\n",
    "early_stopping = EarlyStopping(monitor='val_loss', patience=20, verbose=1)"
   ]
  },
  {
   "cell_type": "code",
   "execution_count": 48,
   "metadata": {},
   "outputs": [],
   "source": [
    "from keras.callbacks import Callback\n",
    "class Metrics(Callback):\n",
    "\n",
    "    def on_train_begin(self, logs={}):\n",
    "        self.val_f1s = []\n",
    "        self.val_recalls = []\n",
    "        self.val_precisions = []\n",
    "\n",
    "    def on_epoch_end(self, epoch, logs={}):\n",
    "        X_val, y_val = self.validation_data[:2]\n",
    "        y_pred = self.model.predict(X_val)\n",
    "\n",
    "        y_pred_cat = keras.utils.to_categorical(\n",
    "            y_pred.argmax(axis=1),\n",
    "            num_classes=num_classes\n",
    "        )\n",
    "\n",
    "        _val_f1 = f1_score(y_val, y_pred_cat, average='macro')\n",
    "        _val_recall = recall_score(y_val, y_pred_cat, average='macro')\n",
    "        _val_precision = precision_score(y_val, y_pred_cat, average='macro')\n",
    "\n",
    "        self.val_f1s.append(_val_f1)\n",
    "        self.val_recalls.append(_val_recall)\n",
    "        self.val_precisions.append(_val_precision)\n",
    "\n",
    "        print((f\"val_f1: {_val_f1:.4f}\"\n",
    "               f\" - val_precision: {_val_precision:.4f}\"\n",
    "               f\" - val_recall: {_val_recall:.4f}\"))\n",
    "\n",
    "        return"
   ]
  },
  {
   "cell_type": "markdown",
   "metadata": {},
   "source": [
    "### 3.Modeling"
   ]
  },
  {
   "cell_type": "code",
   "execution_count": 49,
   "metadata": {},
   "outputs": [],
   "source": [
    "num_train_samples = len(Y_train)\n",
    "num_val_samples = len(Y_validate)\n",
    "batch_size = 128\n",
    "epochs = 30\n",
    "n_classes = 22\n",
    "input_shape = 224,224,3"
   ]
  },
  {
   "cell_type": "code",
   "execution_count": 50,
   "metadata": {},
   "outputs": [
    {
     "name": "stdout",
     "output_type": "stream",
     "text": [
      "Model: \"model_1\"\n",
      "_________________________________________________________________\n",
      "Layer (type)                 Output Shape              Param #   \n",
      "=================================================================\n",
      "input_1 (InputLayer)         (None, 224, 224, 3)       0         \n",
      "_________________________________________________________________\n",
      "conv2d_1 (Conv2D)            (None, 56, 56, 96)        34944     \n",
      "_________________________________________________________________\n",
      "batch_normalization_1 (Batch (None, 56, 56, 96)        384       \n",
      "_________________________________________________________________\n",
      "max_pooling2d_1 (MaxPooling2 (None, 27, 27, 96)        0         \n",
      "_________________________________________________________________\n",
      "conv2d_2 (Conv2D)            (None, 27, 27, 256)       614656    \n",
      "_________________________________________________________________\n",
      "batch_normalization_2 (Batch (None, 27, 27, 256)       1024      \n",
      "_________________________________________________________________\n",
      "max_pooling2d_2 (MaxPooling2 (None, 13, 13, 256)       0         \n",
      "_________________________________________________________________\n",
      "conv2d_3 (Conv2D)            (None, 13, 13, 384)       885120    \n",
      "_________________________________________________________________\n",
      "conv2d_4 (Conv2D)            (None, 13, 13, 384)       1327488   \n",
      "_________________________________________________________________\n",
      "conv2d_5 (Conv2D)            (None, 13, 13, 256)       884992    \n",
      "_________________________________________________________________\n",
      "batch_normalization_3 (Batch (None, 13, 13, 256)       1024      \n",
      "_________________________________________________________________\n",
      "max_pooling2d_3 (MaxPooling2 (None, 6, 6, 256)         0         \n",
      "_________________________________________________________________\n",
      "flatten_1 (Flatten)          (None, 9216)              0         \n",
      "_________________________________________________________________\n",
      "dense_1 (Dense)              (None, 4096)              37752832  \n",
      "_________________________________________________________________\n",
      "dense_2 (Dense)              (None, 4096)              16781312  \n",
      "_________________________________________________________________\n",
      "dense_3 (Dense)              (None, 22)                90134     \n",
      "=================================================================\n",
      "Total params: 58,373,910\n",
      "Trainable params: 58,372,694\n",
      "Non-trainable params: 1,216\n",
      "_________________________________________________________________\n"
     ]
    }
   ],
   "source": [
    "K.clear_session()\n",
    "model = alexnet(input_shape, n_classes)\n",
    "model.summary()"
   ]
  },
  {
   "cell_type": "code",
   "execution_count": 51,
   "metadata": {},
   "outputs": [],
   "source": [
    "model.compile(loss='categorical_crossentropy',optimizer='sgd',metrics=['accuracy'])"
   ]
  },
  {
   "cell_type": "code",
   "execution_count": 52,
   "metadata": {},
   "outputs": [],
   "source": [
    "num_classes = 22\n",
    "f1_metrics = Metrics()"
   ]
  },
  {
   "cell_type": "code",
   "execution_count": 53,
   "metadata": {},
   "outputs": [
    {
     "name": "stdout",
     "output_type": "stream",
     "text": [
      "Train on 88000 samples, validate on 11000 samples\n",
      "Epoch 1/30\n",
      "88000/88000 [==============================] - 409s 5ms/step - loss: 1.4538 - accuracy: 0.5178 - val_loss: 1.6099 - val_accuracy: 0.4446\n",
      "val_f1: 0.4251 - val_precision: 0.5555 - val_recall: 0.4424\n",
      "Epoch 2/30\n",
      "88000/88000 [==============================] - 408s 5ms/step - loss: 0.9626 - accuracy: 0.6715 - val_loss: 1.2950 - val_accuracy: 0.5644\n",
      "val_f1: 0.5637 - val_precision: 0.6264 - val_recall: 0.5652\n",
      "Epoch 3/30\n",
      "88000/88000 [==============================] - 408s 5ms/step - loss: 0.7596 - accuracy: 0.7385 - val_loss: 0.7757 - val_accuracy: 0.7357\n",
      "val_f1: 0.7311 - val_precision: 0.7415 - val_recall: 0.7344\n",
      "Epoch 4/30\n",
      "88000/88000 [==============================] - 408s 5ms/step - loss: 0.6113 - accuracy: 0.7920 - val_loss: 1.2740 - val_accuracy: 0.5705\n",
      "val_f1: 0.5592 - val_precision: 0.6441 - val_recall: 0.5707\n",
      "Epoch 5/30\n",
      "88000/88000 [==============================] - 408s 5ms/step - loss: 0.4934 - accuracy: 0.8331 - val_loss: 0.8222 - val_accuracy: 0.7211\n",
      "val_f1: 0.7194 - val_precision: 0.7450 - val_recall: 0.7202\n",
      "Epoch 6/30\n",
      "88000/88000 [==============================] - 408s 5ms/step - loss: 0.3953 - accuracy: 0.8680 - val_loss: 0.6914 - val_accuracy: 0.7737\n",
      "val_f1: 0.7686 - val_precision: 0.7820 - val_recall: 0.7720\n",
      "Epoch 7/30\n",
      "88000/88000 [==============================] - 407s 5ms/step - loss: 0.3156 - accuracy: 0.8948 - val_loss: 0.6122 - val_accuracy: 0.8019\n",
      "val_f1: 0.7991 - val_precision: 0.8109 - val_recall: 0.8013\n",
      "Epoch 8/30\n",
      "88000/88000 [==============================] - 408s 5ms/step - loss: 0.2528 - accuracy: 0.9170 - val_loss: 0.8146 - val_accuracy: 0.7425\n",
      "val_f1: 0.7351 - val_precision: 0.7727 - val_recall: 0.7406\n",
      "Epoch 9/30\n",
      "88000/88000 [==============================] - 408s 5ms/step - loss: 0.2057 - accuracy: 0.9332 - val_loss: 0.5967 - val_accuracy: 0.8094\n",
      "val_f1: 0.8077 - val_precision: 0.8174 - val_recall: 0.8091\n",
      "Epoch 10/30\n",
      "88000/88000 [==============================] - 408s 5ms/step - loss: 0.1660 - accuracy: 0.9475 - val_loss: 0.6008 - val_accuracy: 0.8142\n",
      "val_f1: 0.8133 - val_precision: 0.8281 - val_recall: 0.8125\n",
      "Epoch 11/30\n",
      "88000/88000 [==============================] - 408s 5ms/step - loss: 0.1336 - accuracy: 0.9583 - val_loss: 0.5984 - val_accuracy: 0.8225\n",
      "val_f1: 0.8192 - val_precision: 0.8252 - val_recall: 0.8222\n",
      "Epoch 12/30\n",
      "88000/88000 [==============================] - 408s 5ms/step - loss: 0.1084 - accuracy: 0.9665 - val_loss: 0.6098 - val_accuracy: 0.8228\n",
      "val_f1: 0.8194 - val_precision: 0.8237 - val_recall: 0.8218\n",
      "Epoch 13/30\n",
      "88000/88000 [==============================] - 407s 5ms/step - loss: 0.0868 - accuracy: 0.9739 - val_loss: 0.5749 - val_accuracy: 0.8348\n",
      "val_f1: 0.8356 - val_precision: 0.8412 - val_recall: 0.8343\n",
      "Epoch 14/30\n",
      "88000/88000 [==============================] - 408s 5ms/step - loss: 0.0731 - accuracy: 0.9782 - val_loss: 0.5737 - val_accuracy: 0.8466\n",
      "val_f1: 0.8443 - val_precision: 0.8496 - val_recall: 0.8460\n",
      "Epoch 15/30\n",
      "88000/88000 [==============================] - 407s 5ms/step - loss: 0.0593 - accuracy: 0.9827 - val_loss: 0.5507 - val_accuracy: 0.8550\n",
      "val_f1: 0.8525 - val_precision: 0.8573 - val_recall: 0.8537\n",
      "Epoch 16/30\n",
      "88000/88000 [==============================] - 408s 5ms/step - loss: 0.0507 - accuracy: 0.9858 - val_loss: 0.5612 - val_accuracy: 0.8450\n",
      "val_f1: 0.8436 - val_precision: 0.8479 - val_recall: 0.8438\n",
      "Epoch 17/30\n",
      "88000/88000 [==============================] - 408s 5ms/step - loss: 0.0424 - accuracy: 0.9881 - val_loss: 0.5599 - val_accuracy: 0.8578\n",
      "val_f1: 0.8555 - val_precision: 0.8575 - val_recall: 0.8565\n",
      "Epoch 18/30\n",
      "88000/88000 [==============================] - 409s 5ms/step - loss: 0.0353 - accuracy: 0.9902 - val_loss: 0.5923 - val_accuracy: 0.8521\n",
      "val_f1: 0.8518 - val_precision: 0.8559 - val_recall: 0.8513\n",
      "Epoch 19/30\n",
      "88000/88000 [==============================] - 408s 5ms/step - loss: 0.0287 - accuracy: 0.9925 - val_loss: 0.5683 - val_accuracy: 0.8509\n",
      "val_f1: 0.8520 - val_precision: 0.8572 - val_recall: 0.8508\n",
      "Epoch 20/30\n",
      "88000/88000 [==============================] - 409s 5ms/step - loss: 0.0260 - accuracy: 0.9929 - val_loss: 0.6339 - val_accuracy: 0.8508\n",
      "val_f1: 0.8500 - val_precision: 0.8551 - val_recall: 0.8502\n",
      "Epoch 21/30\n",
      "88000/88000 [==============================] - 408s 5ms/step - loss: 0.0208 - accuracy: 0.9946 - val_loss: 0.6524 - val_accuracy: 0.8426\n",
      "val_f1: 0.8412 - val_precision: 0.8487 - val_recall: 0.8419\n",
      "Epoch 22/30\n",
      "88000/88000 [==============================] - 408s 5ms/step - loss: 0.0185 - accuracy: 0.9955 - val_loss: 0.6155 - val_accuracy: 0.8555\n",
      "val_f1: 0.8539 - val_precision: 0.8580 - val_recall: 0.8545\n",
      "Epoch 23/30\n",
      "88000/88000 [==============================] - 408s 5ms/step - loss: 0.0144 - accuracy: 0.9966 - val_loss: 0.5930 - val_accuracy: 0.8606\n",
      "val_f1: 0.8596 - val_precision: 0.8612 - val_recall: 0.8597\n",
      "Epoch 24/30\n",
      "88000/88000 [==============================] - 409s 5ms/step - loss: 0.0121 - accuracy: 0.9975 - val_loss: 0.5526 - val_accuracy: 0.8718\n",
      "val_f1: 0.8704 - val_precision: 0.8707 - val_recall: 0.8709\n",
      "Epoch 25/30\n",
      "88000/88000 [==============================] - 409s 5ms/step - loss: 0.0089 - accuracy: 0.9983 - val_loss: 0.5696 - val_accuracy: 0.8699\n",
      "val_f1: 0.8687 - val_precision: 0.8691 - val_recall: 0.8692\n",
      "Epoch 26/30\n",
      "88000/88000 [==============================] - 408s 5ms/step - loss: 0.0081 - accuracy: 0.9985 - val_loss: 0.5988 - val_accuracy: 0.8655\n",
      "val_f1: 0.8644 - val_precision: 0.8657 - val_recall: 0.8646\n",
      "Epoch 27/30\n",
      "88000/88000 [==============================] - 410s 5ms/step - loss: 0.0055 - accuracy: 0.9991 - val_loss: 0.5910 - val_accuracy: 0.8741\n",
      "val_f1: 0.8725 - val_precision: 0.8734 - val_recall: 0.8731\n",
      "Epoch 28/30\n",
      "88000/88000 [==============================] - 409s 5ms/step - loss: 0.0052 - accuracy: 0.9992 - val_loss: 0.5822 - val_accuracy: 0.8745\n",
      "val_f1: 0.8730 - val_precision: 0.8735 - val_recall: 0.8737\n",
      "Epoch 29/30\n",
      "88000/88000 [==============================] - 409s 5ms/step - loss: 0.0035 - accuracy: 0.9995 - val_loss: 0.5894 - val_accuracy: 0.8764\n",
      "val_f1: 0.8749 - val_precision: 0.8753 - val_recall: 0.8755\n",
      "Epoch 30/30\n",
      "88000/88000 [==============================] - 409s 5ms/step - loss: 0.0028 - accuracy: 0.9997 - val_loss: 0.5881 - val_accuracy: 0.8763\n",
      "val_f1: 0.8746 - val_precision: 0.8749 - val_recall: 0.8754\n"
     ]
    }
   ],
   "source": [
    "hist = model.fit(\n",
    "    X_train, \n",
    "    y_train,\n",
    "    batch_size=batch_size,\n",
    "    epochs=epochs,\n",
    "    callbacks=[early_stopping,f1_metrics],\n",
    "    validation_data = (X_validate,y_validate))"
   ]
  },
  {
   "cell_type": "code",
   "execution_count": 30,
   "metadata": {},
   "outputs": [],
   "source": [
    "# parallel_model.save('/home/zxt/data/model/alex_basic_5k_224.h5')"
   ]
  },
  {
   "cell_type": "code",
   "execution_count": 54,
   "metadata": {},
   "outputs": [],
   "source": [
    "model.save('/home/zxt/data/model/22category/alex_basic_5k_224_model.h5')"
   ]
  },
  {
   "cell_type": "markdown",
   "metadata": {},
   "source": [
    "### 4.Evaluation"
   ]
  },
  {
   "cell_type": "code",
   "execution_count": 56,
   "metadata": {},
   "outputs": [
    {
     "data": {
      "text/plain": [
       "<matplotlib.axes._subplots.AxesSubplot at 0x7f1a202526d0>"
      ]
     },
     "execution_count": 56,
     "metadata": {},
     "output_type": "execute_result"
    },
    {
     "data": {
      "image/png": "[encoded data removed]",
      "text/plain": [
       "<Figure size 432x288 with 1 Axes>"
      ]
     },
     "metadata": {
      "needs_background": "light"
     },
     "output_type": "display_data"
    },
    {
     "data": {
      "image/png": "[encoded data removed]",
      "text/plain": [
       "<Figure size 432x288 with 1 Axes>"
      ]
     },
     "metadata": {
      "needs_background": "light"
     },
     "output_type": "display_data"
    }
   ],
   "source": [
    "history_df = pd.DataFrame(hist.history)\n",
    "history_df[['loss', 'val_loss']].plot()\n",
    "history_df[['accuracy', 'val_accuracy']].plot()"
   ]
  },
  {
   "cell_type": "markdown",
   "metadata": {},
   "source": [
    "### 5.Prediction on X_test dataset"
   ]
  },
  {
   "cell_type": "code",
   "execution_count": 57,
   "metadata": {},
   "outputs": [
    {
     "name": "stdout",
     "output_type": "stream",
     "text": [
      "11000/11000 [==============================] - 30s 3ms/step\n",
      "\n",
      "test loss 0.5714851094321771\n",
      "accuracy 0.8818181753158569\n"
     ]
    }
   ],
   "source": [
    "loss,accuracy = model.evaluate(X_test,y_test)\n",
    "print('\\ntest loss',loss)\n",
    "print('accuracy',accuracy)"
   ]
  },
  {
   "cell_type": "code",
   "execution_count": 58,
   "metadata": {},
   "outputs": [],
   "source": [
    "y_pred = model.predict(X_test,batch_size=1)"
   ]
  },
  {
   "cell_type": "code",
   "execution_count": 59,
   "metadata": {},
   "outputs": [
    {
     "data": {
      "text/plain": [
       "array([[2.12097371e-11, 1.96104634e-06, 1.65879268e-12, ...,\n",
       "        1.21747107e-07, 1.37775729e-07, 1.61385360e-05],\n",
       "       [2.82556189e-16, 1.04115785e-10, 2.79985513e-15, ...,\n",
       "        6.69837963e-10, 2.11930269e-15, 1.35345669e-15],\n",
       "       [1.03178397e-01, 3.04111445e-12, 4.38267962e-05, ...,\n",
       "        6.61038735e-09, 2.47501575e-10, 2.56470812e-04],\n",
       "       ...,\n",
       "       [2.91945180e-03, 2.32942270e-08, 3.01505054e-07, ...,\n",
       "        4.07548768e-08, 8.36885249e-12, 4.17542303e-12],\n",
       "       [2.00133059e-06, 2.51893301e-14, 1.31395424e-07, ...,\n",
       "        6.32455202e-16, 7.83224527e-12, 3.54174134e-12],\n",
       "       [1.99071784e-03, 1.71902582e-06, 2.38246736e-04, ...,\n",
       "        1.01439980e-07, 7.25726422e-05, 2.26718172e-01]], dtype=float32)"
      ]
     },
     "execution_count": 59,
     "metadata": {},
     "output_type": "execute_result"
    }
   ],
   "source": [
    "y_pred"
   ]
  },
  {
   "cell_type": "markdown",
   "metadata": {},
   "source": [
    "### 6.Check each categoryaccuracy"
   ]
  },
  {
   "cell_type": "code",
   "execution_count": 60,
   "metadata": {},
   "outputs": [],
   "source": [
    "a = list(y_pred)\n",
    "y_prediction=[]\n",
    "for i in a:\n",
    "    j =list(i)\n",
    "    y_prediction.append(j.index(max(j)))"
   ]
  },
  {
   "cell_type": "code",
   "execution_count": 61,
   "metadata": {},
   "outputs": [
    {
     "data": {
      "text/plain": [
       "[9, 16, 18, 10, 4]"
      ]
     },
     "execution_count": 61,
     "metadata": {},
     "output_type": "execute_result"
    }
   ],
   "source": [
    "y_prediction[:5]"
   ]
  },
  {
   "cell_type": "code",
   "execution_count": 62,
   "metadata": {},
   "outputs": [
    {
     "data": {
      "text/plain": [
       "array([['9'],\n",
       "       ['16'],\n",
       "       ['14'],\n",
       "       ['10'],\n",
       "       ['4']], dtype='<U16')"
      ]
     },
     "execution_count": 62,
     "metadata": {},
     "output_type": "execute_result"
    }
   ],
   "source": [
    "Y_test[:5]"
   ]
  },
  {
   "cell_type": "code",
   "execution_count": 63,
   "metadata": {},
   "outputs": [],
   "source": [
    "# array to dataframe\n",
    "y_real=pd.DataFrame(Y_test,columns=['label'])"
   ]
  },
  {
   "cell_type": "code",
   "execution_count": 65,
   "metadata": {},
   "outputs": [
    {
     "data": {
      "text/html": [
       "<div>\n",
       "<style scoped>\n",
       "    .dataframe tbody tr th:only-of-type {\n",
       "        vertical-align: middle;\n",
       "    }\n",
       "\n",
       "    .dataframe tbody tr th {\n",
       "        vertical-align: top;\n",
       "    }\n",
       "\n",
       "    .dataframe thead th {\n",
       "        text-align: right;\n",
       "    }\n",
       "</style>\n",
       "<table border=\"1\" class=\"dataframe\">\n",
       "  <thead>\n",
       "    <tr style=\"text-align: right;\">\n",
       "      <th></th>\n",
       "      <th>label</th>\n",
       "    </tr>\n",
       "  </thead>\n",
       "  <tbody>\n",
       "    <tr>\n",
       "      <td>0</td>\n",
       "      <td>9</td>\n",
       "    </tr>\n",
       "    <tr>\n",
       "      <td>1</td>\n",
       "      <td>16</td>\n",
       "    </tr>\n",
       "  </tbody>\n",
       "</table>\n",
       "</div>"
      ],
      "text/plain": [
       "  label\n",
       "0     9\n",
       "1    16"
      ]
     },
     "execution_count": 65,
     "metadata": {},
     "output_type": "execute_result"
    }
   ],
   "source": [
    "y_real.head(2)"
   ]
  },
  {
   "cell_type": "code",
   "execution_count": 66,
   "metadata": {},
   "outputs": [],
   "source": [
    "y_predict = pd.DataFrame(y_prediction,columns=['label_pre'])"
   ]
  },
  {
   "cell_type": "code",
   "execution_count": 67,
   "metadata": {},
   "outputs": [
    {
     "data": {
      "text/html": [
       "<div>\n",
       "<style scoped>\n",
       "    .dataframe tbody tr th:only-of-type {\n",
       "        vertical-align: middle;\n",
       "    }\n",
       "\n",
       "    .dataframe tbody tr th {\n",
       "        vertical-align: top;\n",
       "    }\n",
       "\n",
       "    .dataframe thead th {\n",
       "        text-align: right;\n",
       "    }\n",
       "</style>\n",
       "<table border=\"1\" class=\"dataframe\">\n",
       "  <thead>\n",
       "    <tr style=\"text-align: right;\">\n",
       "      <th></th>\n",
       "      <th>label_pre</th>\n",
       "    </tr>\n",
       "  </thead>\n",
       "  <tbody>\n",
       "    <tr>\n",
       "      <td>0</td>\n",
       "      <td>9</td>\n",
       "    </tr>\n",
       "    <tr>\n",
       "      <td>1</td>\n",
       "      <td>16</td>\n",
       "    </tr>\n",
       "  </tbody>\n",
       "</table>\n",
       "</div>"
      ],
      "text/plain": [
       "   label_pre\n",
       "0          9\n",
       "1         16"
      ]
     },
     "execution_count": 67,
     "metadata": {},
     "output_type": "execute_result"
    }
   ],
   "source": [
    "\n",
    "y_predict.head(2)"
   ]
  },
  {
   "cell_type": "code",
   "execution_count": 69,
   "metadata": {},
   "outputs": [],
   "source": [
    "prediction_df = pd.concat([y_real,y_predict],axis=1)\n",
    "prediction_df['label']=prediction_df['label'].astype(int)\n",
    "prediction_df['diff']=prediction_df['label']-prediction_df['label_pre']\n"
   ]
  },
  {
   "cell_type": "code",
   "execution_count": 70,
   "metadata": {},
   "outputs": [
    {
     "data": {
      "text/html": [
       "<div>\n",
       "<style scoped>\n",
       "    .dataframe tbody tr th:only-of-type {\n",
       "        vertical-align: middle;\n",
       "    }\n",
       "\n",
       "    .dataframe tbody tr th {\n",
       "        vertical-align: top;\n",
       "    }\n",
       "\n",
       "    .dataframe thead th {\n",
       "        text-align: right;\n",
       "    }\n",
       "</style>\n",
       "<table border=\"1\" class=\"dataframe\">\n",
       "  <thead>\n",
       "    <tr style=\"text-align: right;\">\n",
       "      <th></th>\n",
       "      <th>label</th>\n",
       "      <th>label_pre</th>\n",
       "      <th>diff</th>\n",
       "    </tr>\n",
       "  </thead>\n",
       "  <tbody>\n",
       "    <tr>\n",
       "      <td>0</td>\n",
       "      <td>9</td>\n",
       "      <td>9</td>\n",
       "      <td>0</td>\n",
       "    </tr>\n",
       "    <tr>\n",
       "      <td>1</td>\n",
       "      <td>16</td>\n",
       "      <td>16</td>\n",
       "      <td>0</td>\n",
       "    </tr>\n",
       "    <tr>\n",
       "      <td>2</td>\n",
       "      <td>14</td>\n",
       "      <td>18</td>\n",
       "      <td>-4</td>\n",
       "    </tr>\n",
       "    <tr>\n",
       "      <td>3</td>\n",
       "      <td>10</td>\n",
       "      <td>10</td>\n",
       "      <td>0</td>\n",
       "    </tr>\n",
       "    <tr>\n",
       "      <td>4</td>\n",
       "      <td>4</td>\n",
       "      <td>4</td>\n",
       "      <td>0</td>\n",
       "    </tr>\n",
       "    <tr>\n",
       "      <td>...</td>\n",
       "      <td>...</td>\n",
       "      <td>...</td>\n",
       "      <td>...</td>\n",
       "    </tr>\n",
       "    <tr>\n",
       "      <td>10995</td>\n",
       "      <td>1</td>\n",
       "      <td>1</td>\n",
       "      <td>0</td>\n",
       "    </tr>\n",
       "    <tr>\n",
       "      <td>10996</td>\n",
       "      <td>15</td>\n",
       "      <td>15</td>\n",
       "      <td>0</td>\n",
       "    </tr>\n",
       "    <tr>\n",
       "      <td>10997</td>\n",
       "      <td>18</td>\n",
       "      <td>18</td>\n",
       "      <td>0</td>\n",
       "    </tr>\n",
       "    <tr>\n",
       "      <td>10998</td>\n",
       "      <td>11</td>\n",
       "      <td>11</td>\n",
       "      <td>0</td>\n",
       "    </tr>\n",
       "    <tr>\n",
       "      <td>10999</td>\n",
       "      <td>21</td>\n",
       "      <td>13</td>\n",
       "      <td>8</td>\n",
       "    </tr>\n",
       "  </tbody>\n",
       "</table>\n",
       "<p>11000 rows × 3 columns</p>\n",
       "</div>"
      ],
      "text/plain": [
       "       label  label_pre  diff\n",
       "0          9          9     0\n",
       "1         16         16     0\n",
       "2         14         18    -4\n",
       "3         10         10     0\n",
       "4          4          4     0\n",
       "...      ...        ...   ...\n",
       "10995      1          1     0\n",
       "10996     15         15     0\n",
       "10997     18         18     0\n",
       "10998     11         11     0\n",
       "10999     21         13     8\n",
       "\n",
       "[11000 rows x 3 columns]"
      ]
     },
     "execution_count": 70,
     "metadata": {},
     "output_type": "execute_result"
    }
   ],
   "source": [
    "prediction_df"
   ]
  },
  {
   "cell_type": "code",
   "execution_count": 71,
   "metadata": {},
   "outputs": [],
   "source": [
    "prediction_df.to_csv(r'/home/zxt/data/results/prediction_df.csv',index=False)"
   ]
  },
  {
   "cell_type": "code",
   "execution_count": 72,
   "metadata": {},
   "outputs": [
    {
     "name": "stdout",
     "output_type": "stream",
     "text": [
      "elephant acc:      0.855\n",
      "wild_boar acc:      0.799\n",
      "gazellethomosons acc:      0.950\n",
      "squirrel acc:      0.924\n",
      "hedgehog acc:      0.998\n",
      "guineafowl acc:      0.962\n",
      "moose acc:      0.991\n",
      "bobcat acc:      0.683\n",
      "bird acc:      0.877\n",
      "fox acc:      0.839\n",
      "giraffe acc:      0.921\n",
      "buffalo acc:      0.868\n",
      "hare acc:      0.971\n",
      "vehicle acc:      0.911\n",
      "wildebeest acc:      0.779\n",
      "cattle acc:      0.778\n",
      "skunk acc:      0.918\n",
      "lion acc:      0.822\n",
      "zebra acc:      0.848\n",
      "black_bear acc:      0.861\n",
      "racoon acc:      0.961\n",
      "coyote acc:      0.891\n"
     ]
    }
   ],
   "source": [
    "onehot_keylist = ['elephant','wild_boar','gazellethomosons','squirrel','hedgehog','guineafowl','moose','bobcat','bird',\n",
    "                  'fox','giraffe','buffalo','hare','vehicle','wildebeest','cattle','skunk','lion','zebra','black_bear',\n",
    "                  'racoon','coyote']\n",
    "onehot_dict = {'elephant':0,'wild_boar':1,'gazellethomosons':2,'squirrel':3,'hedgehog':4,'guineafowl':5,'moose':6,'bobcat':7,\n",
    "              'bird':8,'fox':9,'giraffe':10,'buffalo':11,'hare':12,'vehicle':13,'wildebeest':14,'cattle':15,'skunk':16,'lion':17,\n",
    "              'zebra':18,'black_bear':19,'racoon':20,'coyote':21}\n",
    "\n",
    "for animal in onehot_keylist:\n",
    "    name = animal\n",
    "    animal = prediction_df[prediction_df['label']== onehot_dict[animal]]\n",
    "    acc = animal.loc[:,'diff'].value_counts()[0]/len(animal)\n",
    "    print(\"%s acc: %10.3f\" %(name,acc) )"
   ]
  },
  {
   "cell_type": "code",
   "execution_count": null,
   "metadata": {},
   "outputs": [],
   "source": []
  }
 ],
 "metadata": {
  "kernelspec": {
   "display_name": "Python 3",
   "language": "python",
   "name": "python3"
  },
  "language_info": {
   "codemirror_mode": {
    "name": "ipython",
    "version": 3
   },
   "file_extension": ".py",
   "mimetype": "text/x-python",
   "name": "python",
   "nbconvert_exporter": "python",
   "pygments_lexer": "ipython3",
   "version": "3.7.4"
  }
 },
 "nbformat": 4,
 "nbformat_minor": 4
}
