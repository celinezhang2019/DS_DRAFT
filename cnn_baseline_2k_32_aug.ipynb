{
 "cells": [
  {
   "cell_type": "markdown",
   "metadata": {},
   "source": [
    "## CNN BASELINE MODEL"
   ]
  },
  {
   "cell_type": "code",
   "execution_count": 33,
   "metadata": {},
   "outputs": [],
   "source": [
    "import os \n",
    "os.environ[\"CUDA_VISIBLE_DEVICES\"]=\"0,1\""
   ]
  },
  {
   "cell_type": "code",
   "execution_count": 34,
   "metadata": {},
   "outputs": [],
   "source": [
    "import json\n",
    "\n",
    "import numpy as np\n",
    "import pandas as pd\n",
    "import keras\n",
    "from keras.callbacks import Callback\n",
    "from keras.datasets import cifar10\n",
    "from keras.preprocessing.image import ImageDataGenerator\n",
    "from keras.models import Sequential\n",
    "from keras.layers import Dense, Dropout, Activation, Flatten\n",
    "from keras.layers import Conv2D, MaxPooling2D\n",
    "from sklearn.metrics import confusion_matrix, f1_score, precision_score, recall_score\n",
    "from sklearn.model_selection import train_test_split"
   ]
  },
  {
   "cell_type": "markdown",
   "metadata": {},
   "source": [
    "### 1.Loading 32x32 dataset"
   ]
  },
  {
   "cell_type": "code",
   "execution_count": 35,
   "metadata": {},
   "outputs": [],
   "source": [
    "X_train = np.load('/home/zxt/data/22_category/32/2k/X_train.npy')\n",
    "X_validate = np.load('/home/zxt/data/22_category/32/2k/X_validate.npy')\n",
    "X_test = np.load('/home/zxt/data/22_category/32/2k/X_test.npy')\n",
    "Y_train = np.load('/home/zxt/data/22_category/32/2k/Y_train.npy')\n",
    "Y_validate = np.load('/home/zxt/data/22_category/32/2k/Y_validate.npy')\n",
    "Y_test = np.load('/home/zxt/data/22_category/32/2k/Y_test.npy')"
   ]
  },
  {
   "cell_type": "code",
   "execution_count": 36,
   "metadata": {},
   "outputs": [
    {
     "name": "stdout",
     "output_type": "stream",
     "text": [
      "X_train shape: (35200, 32, 32, 3)\n",
      "35200 train samples\n",
      "4400 validate samples\n",
      "4400 test samples\n"
     ]
    }
   ],
   "source": [
    "print('X_train shape:', X_train.shape)\n",
    "print(X_train.shape[0], 'train samples')\n",
    "print(X_validate.shape[0], 'validate samples')\n",
    "print(X_test.shape[0], 'test samples')"
   ]
  },
  {
   "cell_type": "code",
   "execution_count": 37,
   "metadata": {},
   "outputs": [],
   "source": [
    "# Convert the images to float and scale it to a range of 0 to 1\n",
    "# x_train = X_train.astype('float32')\n",
    "# x_validate = X_validate.astype('float32')\n",
    "# x_test = X_test.astype('float32')\n",
    "\n",
    "X_train /=255.\n",
    "X_validate /=  255.\n",
    "X_test /= 255."
   ]
  },
  {
   "cell_type": "code",
   "execution_count": 38,
   "metadata": {},
   "outputs": [],
   "source": [
    "# Y_train label\n",
    "for i in Y_train:\n",
    "    if i[0]=='elephant':\n",
    "        i[0]=0\n",
    "    if i[0]=='wild_boar':\n",
    "        i[0]=1\n",
    "    if i[0]=='gazellethomosons':\n",
    "        i[0]=2\n",
    "    if i[0]=='squirrel':\n",
    "        i[0]=3 \n",
    "    if i[0]=='hedgehog':\n",
    "        i[0]=4\n",
    "    if i[0]=='guineafowl':\n",
    "        i[0]=5\n",
    "    if i[0]=='moose':\n",
    "        i[0]=6\n",
    "    if i[0]=='bobcat':\n",
    "        i[0]=7   \n",
    "    if i[0]=='bird':\n",
    "        i[0]=8\n",
    "    if i[0]=='fox':\n",
    "        i[0]=9\n",
    "    if i[0]=='giraffe':\n",
    "        i[0]=10\n",
    "    if i[0]=='buffalo':\n",
    "        i[0]=11\n",
    "    if i[0]=='hare':\n",
    "        i[0]=12\n",
    "    if i[0]=='vehicle':\n",
    "        i[0]=13\n",
    "    if i[0]=='wildebeest':\n",
    "        i[0]=14\n",
    "    if i[0]=='cattle':\n",
    "        i[0]=15 \n",
    "    if i[0]=='skunk':\n",
    "        i[0]=16\n",
    "    if i[0]=='lion':\n",
    "        i[0]=17\n",
    "    if i[0]=='zebra':\n",
    "        i[0]=18\n",
    "    if i[0]=='black_bear':\n",
    "        i[0]=19\n",
    "    if i[0]=='racoon':\n",
    "        i[0]=20\n",
    "    if i[0]=='coyote':\n",
    "        i[0]=21"
   ]
  },
  {
   "cell_type": "code",
   "execution_count": 39,
   "metadata": {},
   "outputs": [],
   "source": [
    "for i in Y_validate:\n",
    "    if i[0]=='elephant':\n",
    "        i[0]=0\n",
    "    if i[0]=='wild_boar':\n",
    "        i[0]=1\n",
    "    if i[0]=='gazellethomosons':\n",
    "        i[0]=2\n",
    "    if i[0]=='squirrel':\n",
    "        i[0]=3 \n",
    "    if i[0]=='hedgehog':\n",
    "        i[0]=4\n",
    "    if i[0]=='guineafowl':\n",
    "        i[0]=5\n",
    "    if i[0]=='moose':\n",
    "        i[0]=6\n",
    "    if i[0]=='bobcat':\n",
    "        i[0]=7   \n",
    "    if i[0]=='bird':\n",
    "        i[0]=8\n",
    "    if i[0]=='fox':\n",
    "        i[0]=9\n",
    "    if i[0]=='giraffe':\n",
    "        i[0]=10\n",
    "    if i[0]=='buffalo':\n",
    "        i[0]=11\n",
    "    if i[0]=='hare':\n",
    "        i[0]=12\n",
    "    if i[0]=='vehicle':\n",
    "        i[0]=13\n",
    "    if i[0]=='wildebeest':\n",
    "        i[0]=14\n",
    "    if i[0]=='cattle':\n",
    "        i[0]=15 \n",
    "    if i[0]=='skunk':\n",
    "        i[0]=16\n",
    "    if i[0]=='lion':\n",
    "        i[0]=17\n",
    "    if i[0]=='zebra':\n",
    "        i[0]=18\n",
    "    if i[0]=='black_bear':\n",
    "        i[0]=19\n",
    "    if i[0]=='racoon':\n",
    "        i[0]=20\n",
    "    if i[0]=='coyote':\n",
    "        i[0]=21"
   ]
  },
  {
   "cell_type": "code",
   "execution_count": 40,
   "metadata": {},
   "outputs": [],
   "source": [
    "for i in Y_test:\n",
    "    if i[0]=='elephant':\n",
    "        i[0]=0\n",
    "    if i[0]=='wild_boar':\n",
    "        i[0]=1\n",
    "    if i[0]=='gazellethomosons':\n",
    "        i[0]=2\n",
    "    if i[0]=='squirrel':\n",
    "        i[0]=3 \n",
    "    if i[0]=='hedgehog':\n",
    "        i[0]=4\n",
    "    if i[0]=='guineafowl':\n",
    "        i[0]=5\n",
    "    if i[0]=='moose':\n",
    "        i[0]=6\n",
    "    if i[0]=='bobcat':\n",
    "        i[0]=7   \n",
    "    if i[0]=='bird':\n",
    "        i[0]=8\n",
    "    if i[0]=='fox':\n",
    "        i[0]=9\n",
    "    if i[0]=='giraffe':\n",
    "        i[0]=10\n",
    "    if i[0]=='buffalo':\n",
    "        i[0]=11\n",
    "    if i[0]=='hare':\n",
    "        i[0]=12\n",
    "    if i[0]=='vehicle':\n",
    "        i[0]=13\n",
    "    if i[0]=='wildebeest':\n",
    "        i[0]=14\n",
    "    if i[0]=='cattle':\n",
    "        i[0]=15 \n",
    "    if i[0]=='skunk':\n",
    "        i[0]=16\n",
    "    if i[0]=='lion':\n",
    "        i[0]=17\n",
    "    if i[0]=='zebra':\n",
    "        i[0]=18\n",
    "    if i[0]=='black_bear':\n",
    "        i[0]=19\n",
    "    if i[0]=='racoon':\n",
    "        i[0]=20\n",
    "    if i[0]=='coyote':\n",
    "        i[0]=21"
   ]
  },
  {
   "cell_type": "code",
   "execution_count": 41,
   "metadata": {},
   "outputs": [],
   "source": [
    "from keras.utils import np_utils\n",
    "y_train=np_utils.to_categorical(Y_train,22)\n",
    "y_valid=np_utils.to_categorical(Y_validate,22)\n",
    "y_test=np_utils.to_categorical(Y_test,22)"
   ]
  },
  {
   "cell_type": "code",
   "execution_count": 42,
   "metadata": {},
   "outputs": [
    {
     "data": {
      "text/plain": [
       "array([[0., 0., 0., ..., 0., 0., 0.],\n",
       "       [0., 0., 0., ..., 0., 0., 0.],\n",
       "       [0., 0., 0., ..., 0., 0., 0.],\n",
       "       ...,\n",
       "       [0., 0., 0., ..., 0., 0., 0.],\n",
       "       [0., 0., 0., ..., 0., 0., 0.],\n",
       "       [0., 0., 0., ..., 1., 0., 0.]], dtype=float32)"
      ]
     },
     "execution_count": 42,
     "metadata": {},
     "output_type": "execute_result"
    }
   ],
   "source": [
    "y_test"
   ]
  },
  {
   "cell_type": "markdown",
   "metadata": {},
   "source": [
    "### 2. Create Callback for F1 score"
   ]
  },
  {
   "cell_type": "code",
   "execution_count": 43,
   "metadata": {},
   "outputs": [],
   "source": [
    "class Metrics(Callback):\n",
    "\n",
    "    def on_train_begin(self, logs={}):\n",
    "        self.val_f1s = []\n",
    "        self.val_recalls = []\n",
    "        self.val_precisions = []\n",
    "\n",
    "    def on_epoch_end(self, epoch, logs={}):\n",
    "        X_val, y_val = self.validation_data[:2]\n",
    "        y_pred = self.model.predict(X_val)\n",
    "\n",
    "        y_pred_cat = keras.utils.to_categorical(\n",
    "            y_pred.argmax(axis=1),\n",
    "            num_classes=num_classes\n",
    "        )\n",
    "\n",
    "        _val_f1 = f1_score(y_val, y_pred_cat, average='macro')\n",
    "        _val_recall = recall_score(y_val, y_pred_cat, average='macro')\n",
    "        _val_precision = precision_score(y_val, y_pred_cat, average='macro')\n",
    "\n",
    "        self.val_f1s.append(_val_f1)\n",
    "        self.val_recalls.append(_val_recall)\n",
    "        self.val_precisions.append(_val_precision)\n",
    "\n",
    "        print((f\"val_f1: {_val_f1:.4f}\"\n",
    "               f\" - val_precision: {_val_precision:.4f}\"\n",
    "               f\" - val_recall: {_val_recall:.4f}\"))\n",
    "\n",
    "        return"
   ]
  },
  {
   "cell_type": "markdown",
   "metadata": {},
   "source": [
    "### 3. Creating and Training the Model¶"
   ]
  },
  {
   "cell_type": "code",
   "execution_count": 44,
   "metadata": {},
   "outputs": [],
   "source": [
    "batch_size = 64\n",
    "num_classes = 22\n",
    "epochs = 30\n",
    "save_dir = os.path.join(os.getcwd(), 'models')\n",
    "model_name = 'keras_cnn_2k_aug_model.h5'"
   ]
  },
  {
   "cell_type": "code",
   "execution_count": 45,
   "metadata": {},
   "outputs": [],
   "source": [
    "model = Sequential()\n",
    "model.add(Conv2D(32, (3, 3), padding='same',\n",
    "                 input_shape=X_train.shape[1:]))\n",
    "model.add(Activation('relu'))\n",
    "model.add(Conv2D(32, (3, 3)))\n",
    "model.add(Activation('relu'))\n",
    "model.add(MaxPooling2D(pool_size=(2, 2)))\n",
    "model.add(Dropout(0.25))\n",
    "\n",
    "model.add(Conv2D(64, (3, 3), padding='same'))\n",
    "model.add(Activation('relu'))\n",
    "model.add(Conv2D(64, (3, 3)))\n",
    "model.add(Activation('relu'))\n",
    "model.add(MaxPooling2D(pool_size=(2, 2)))\n",
    "model.add(Dropout(0.25))\n",
    "\n",
    "model.add(Flatten())\n",
    "model.add(Dense(512))\n",
    "model.add(Activation('relu'))\n",
    "model.add(Dropout(0.5))\n",
    "model.add(Dense(num_classes))\n",
    "model.add(Activation('softmax'))"
   ]
  },
  {
   "cell_type": "code",
   "execution_count": 46,
   "metadata": {},
   "outputs": [],
   "source": [
    "os.environ[\"CUDA_VISIBLE_DEVICES\"]=\"0,1\"\n",
    "\n",
    "from keras.utils import multi_gpu_model\n",
    "parallel_model = multi_gpu_model(model,gpus=2,cpu_merge=True)"
   ]
  },
  {
   "cell_type": "markdown",
   "metadata": {},
   "source": [
    "#### Data Augmentation"
   ]
  },
  {
   "cell_type": "code",
   "execution_count": 47,
   "metadata": {},
   "outputs": [],
   "source": [
    "image_datagen = ImageDataGenerator(\n",
    "    rotation_range=30,\n",
    "    width_shift_range=0.2,\n",
    "    height_shift_range=0.2,\n",
    "    shear_range=0.2,\n",
    "    zoom_range=0.2,\n",
    "    horizontal_flip=True,\n",
    "    brightness_range=[0.2,1],\n",
    "    fill_mode=\"nearest\")"
   ]
  },
  {
   "cell_type": "code",
   "execution_count": 48,
   "metadata": {},
   "outputs": [],
   "source": [
    "#training the image preprocessing\n",
    "image_datagen.fit(X_train, augment=True)"
   ]
  },
  {
   "cell_type": "code",
   "execution_count": 49,
   "metadata": {},
   "outputs": [
    {
     "name": "stdout",
     "output_type": "stream",
     "text": [
      "Train on 35200 samples, validate on 4400 samples\n",
      "Epoch 1/30\n",
      "35200/35200 [==============================] - 11s 322us/step - loss: 1.9410 - accuracy: 0.3430 - val_loss: 1.4607 - val_accuracy: 0.4932\n",
      "val_f1: 0.4589 - val_precision: 0.5224 - val_recall: 0.4948\n",
      "Epoch 2/30\n",
      "35200/35200 [==============================] - 10s 297us/step - loss: 1.4662 - accuracy: 0.4867 - val_loss: 1.2938 - val_accuracy: 0.5509\n",
      "val_f1: 0.5271 - val_precision: 0.5653 - val_recall: 0.5516\n",
      "Epoch 3/30\n",
      "35200/35200 [==============================] - 10s 297us/step - loss: 1.3173 - accuracy: 0.5370 - val_loss: 1.1845 - val_accuracy: 0.5889\n",
      "val_f1: 0.5645 - val_precision: 0.6122 - val_recall: 0.5903\n",
      "Epoch 4/30\n",
      "35200/35200 [==============================] - 11s 302us/step - loss: 1.2099 - accuracy: 0.5796 - val_loss: 1.1009 - val_accuracy: 0.6275\n",
      "val_f1: 0.6085 - val_precision: 0.6302 - val_recall: 0.6274\n",
      "Epoch 5/30\n",
      "35200/35200 [==============================] - 11s 301us/step - loss: 1.1273 - accuracy: 0.6078 - val_loss: 1.0444 - val_accuracy: 0.6434\n",
      "val_f1: 0.6279 - val_precision: 0.6443 - val_recall: 0.6430\n",
      "Epoch 6/30\n",
      "35200/35200 [==============================] - 10s 297us/step - loss: 1.0575 - accuracy: 0.6325 - val_loss: 1.0305 - val_accuracy: 0.6577\n",
      "val_f1: 0.6444 - val_precision: 0.6630 - val_recall: 0.6568\n",
      "Epoch 7/30\n",
      "35200/35200 [==============================] - 10s 291us/step - loss: 1.0005 - accuracy: 0.6519 - val_loss: 0.9712 - val_accuracy: 0.6725\n",
      "val_f1: 0.6627 - val_precision: 0.6745 - val_recall: 0.6713\n",
      "Epoch 8/30\n",
      "35200/35200 [==============================] - 10s 290us/step - loss: 0.9496 - accuracy: 0.6697 - val_loss: 0.9350 - val_accuracy: 0.6861\n",
      "val_f1: 0.6762 - val_precision: 0.6801 - val_recall: 0.6863\n",
      "Epoch 9/30\n",
      "35200/35200 [==============================] - 11s 303us/step - loss: 0.8993 - accuracy: 0.6892 - val_loss: 0.9135 - val_accuracy: 0.7018\n",
      "val_f1: 0.6915 - val_precision: 0.6981 - val_recall: 0.7008\n",
      "Epoch 10/30\n",
      "35200/35200 [==============================] - 10s 295us/step - loss: 0.8640 - accuracy: 0.6991 - val_loss: 0.8924 - val_accuracy: 0.7016\n",
      "val_f1: 0.6908 - val_precision: 0.7025 - val_recall: 0.7014\n",
      "Epoch 11/30\n",
      "35200/35200 [==============================] - 10s 295us/step - loss: 0.8254 - accuracy: 0.7114 - val_loss: 0.8709 - val_accuracy: 0.7086\n",
      "val_f1: 0.6980 - val_precision: 0.7052 - val_recall: 0.7095\n",
      "Epoch 12/30\n",
      "35200/35200 [==============================] - 10s 293us/step - loss: 0.7938 - accuracy: 0.7236 - val_loss: 0.8741 - val_accuracy: 0.7089\n",
      "val_f1: 0.7013 - val_precision: 0.7043 - val_recall: 0.7090\n",
      "Epoch 13/30\n",
      "35200/35200 [==============================] - 10s 284us/step - loss: 0.7620 - accuracy: 0.7343 - val_loss: 0.8583 - val_accuracy: 0.7102\n",
      "val_f1: 0.6993 - val_precision: 0.7090 - val_recall: 0.7096\n",
      "Epoch 14/30\n",
      "35200/35200 [==============================] - 10s 295us/step - loss: 0.7362 - accuracy: 0.7425 - val_loss: 0.8253 - val_accuracy: 0.7259\n",
      "val_f1: 0.7195 - val_precision: 0.7233 - val_recall: 0.7256\n",
      "Epoch 15/30\n",
      "35200/35200 [==============================] - 10s 298us/step - loss: 0.7166 - accuracy: 0.7508 - val_loss: 0.8458 - val_accuracy: 0.7216\n",
      "val_f1: 0.7132 - val_precision: 0.7159 - val_recall: 0.7208\n",
      "Epoch 16/30\n",
      "35200/35200 [==============================] - 11s 299us/step - loss: 0.6938 - accuracy: 0.7530 - val_loss: 0.8413 - val_accuracy: 0.7261\n",
      "val_f1: 0.7203 - val_precision: 0.7215 - val_recall: 0.7265\n",
      "Epoch 17/30\n",
      "35200/35200 [==============================] - 11s 299us/step - loss: 0.6761 - accuracy: 0.7613 - val_loss: 0.8423 - val_accuracy: 0.7307\n",
      "val_f1: 0.7222 - val_precision: 0.7251 - val_recall: 0.7303\n",
      "Epoch 18/30\n",
      "35200/35200 [==============================] - 11s 299us/step - loss: 0.6455 - accuracy: 0.7719 - val_loss: 0.8559 - val_accuracy: 0.7325\n",
      "val_f1: 0.7250 - val_precision: 0.7256 - val_recall: 0.7325\n",
      "Epoch 19/30\n",
      "35200/35200 [==============================] - 10s 298us/step - loss: 0.6374 - accuracy: 0.7761 - val_loss: 0.8101 - val_accuracy: 0.7434\n",
      "val_f1: 0.7360 - val_precision: 0.7393 - val_recall: 0.7431\n",
      "Epoch 20/30\n",
      "35200/35200 [==============================] - 10s 297us/step - loss: 0.6199 - accuracy: 0.7836 - val_loss: 0.8330 - val_accuracy: 0.7425\n",
      "val_f1: 0.7355 - val_precision: 0.7362 - val_recall: 0.7429\n",
      "Epoch 21/30\n",
      "35200/35200 [==============================] - 10s 298us/step - loss: 0.6064 - accuracy: 0.7861 - val_loss: 0.8043 - val_accuracy: 0.7495\n",
      "val_f1: 0.7444 - val_precision: 0.7462 - val_recall: 0.7489\n",
      "Epoch 22/30\n",
      "35200/35200 [==============================] - 10s 298us/step - loss: 0.6032 - accuracy: 0.7877 - val_loss: 0.7945 - val_accuracy: 0.7398\n",
      "val_f1: 0.7331 - val_precision: 0.7376 - val_recall: 0.7396\n",
      "Epoch 23/30\n",
      "35200/35200 [==============================] - 11s 299us/step - loss: 0.5819 - accuracy: 0.7931 - val_loss: 0.8232 - val_accuracy: 0.7391\n",
      "val_f1: 0.7346 - val_precision: 0.7373 - val_recall: 0.7398\n",
      "Epoch 24/30\n",
      "35200/35200 [==============================] - 10s 298us/step - loss: 0.5676 - accuracy: 0.8026 - val_loss: 0.8265 - val_accuracy: 0.7434\n",
      "val_f1: 0.7378 - val_precision: 0.7421 - val_recall: 0.7441\n",
      "Epoch 25/30\n",
      "35200/35200 [==============================] - 11s 299us/step - loss: 0.5607 - accuracy: 0.8012 - val_loss: 0.8102 - val_accuracy: 0.7459\n",
      "val_f1: 0.7407 - val_precision: 0.7469 - val_recall: 0.7467\n",
      "Epoch 26/30\n",
      "35200/35200 [==============================] - 10s 297us/step - loss: 0.5477 - accuracy: 0.8088 - val_loss: 0.7995 - val_accuracy: 0.7475\n",
      "val_f1: 0.7427 - val_precision: 0.7434 - val_recall: 0.7481\n",
      "Epoch 27/30\n",
      "35200/35200 [==============================] - 10s 298us/step - loss: 0.5402 - accuracy: 0.8110 - val_loss: 0.8416 - val_accuracy: 0.7425\n",
      "val_f1: 0.7393 - val_precision: 0.7398 - val_recall: 0.7433\n",
      "Epoch 28/30\n",
      "35200/35200 [==============================] - 10s 298us/step - loss: 0.5259 - accuracy: 0.8144 - val_loss: 0.8365 - val_accuracy: 0.7520\n",
      "val_f1: 0.7477 - val_precision: 0.7490 - val_recall: 0.7524\n",
      "Epoch 29/30\n",
      "35200/35200 [==============================] - 10s 297us/step - loss: 0.5240 - accuracy: 0.8136 - val_loss: 0.8139 - val_accuracy: 0.7480\n",
      "val_f1: 0.7451 - val_precision: 0.7501 - val_recall: 0.7488\n",
      "Epoch 30/30\n",
      "35200/35200 [==============================] - 11s 298us/step - loss: 0.5061 - accuracy: 0.8203 - val_loss: 0.8002 - val_accuracy: 0.7561\n",
      "val_f1: 0.7521 - val_precision: 0.7552 - val_recall: 0.7576\n"
     ]
    }
   ],
   "source": [
    "f1_metrics = Metrics()\n",
    "\n",
    "parallel_model.compile(\n",
    "    loss='categorical_crossentropy',\n",
    "    optimizer='adam',\n",
    "    metrics=['accuracy']\n",
    ")\n",
    "\n",
    "hist = parallel_model.fit(\n",
    "    X_train, \n",
    "    y_train,\n",
    "    batch_size=batch_size,\n",
    "    epochs=epochs,\n",
    "    callbacks=[f1_metrics],\n",
    "    validation_data=(X_validate, y_valid)\n",
    ")"
   ]
  },
  {
   "cell_type": "markdown",
   "metadata": {},
   "source": [
    "### 3."
   ]
  },
  {
   "cell_type": "code",
   "execution_count": 23,
   "metadata": {},
   "outputs": [],
   "source": [
    "model.save('/home/zxt/data/model/cnn_baseline_2k_32_64batchsize30epoch.h5')"
   ]
  },
  {
   "cell_type": "code",
   "execution_count": null,
   "metadata": {},
   "outputs": [],
   "source": []
  },
  {
   "cell_type": "markdown",
   "metadata": {},
   "source": [
    "### 4. Evaluation"
   ]
  },
  {
   "cell_type": "code",
   "execution_count": 50,
   "metadata": {},
   "outputs": [],
   "source": [
    "history_df = pd.DataFrame(hist.history)\n",
    "history_df['val_f1'] = f1_metrics.val_f1s\n",
    "history_df['val_precision'] = f1_metrics.val_precisions\n",
    "history_df['val_recall'] = f1_metrics.val_recalls\n",
    "\n",
    "# history_df[['loss', 'val_loss']].plot()\n",
    "# history_df[['acc', 'val_acc']].plot()\n",
    "# history_df[['val_f1', 'val_precision', 'val_recall']].plot()"
   ]
  },
  {
   "cell_type": "code",
   "execution_count": 51,
   "metadata": {},
   "outputs": [
    {
     "data": {
      "text/plain": [
       "<matplotlib.axes._subplots.AxesSubplot at 0x7faebebd2550>"
      ]
     },
     "execution_count": 51,
     "metadata": {},
     "output_type": "execute_result"
    },
    {
     "data": {
      "image/png": "[encoded data removed]",
      "text/plain": [
       "<Figure size 432x288 with 1 Axes>"
      ]
     },
     "metadata": {
      "needs_background": "light"
     },
     "output_type": "display_data"
    }
   ],
   "source": [
    "history_df[['loss', 'val_loss']].plot()"
   ]
  },
  {
   "cell_type": "code",
   "execution_count": 52,
   "metadata": {},
   "outputs": [
    {
     "data": {
      "text/plain": [
       "<matplotlib.axes._subplots.AxesSubplot at 0x7faebeacbe50>"
      ]
     },
     "execution_count": 52,
     "metadata": {},
     "output_type": "execute_result"
    },
    {
     "data": {
      "image/png": "[encoded data removed]",
      "text/plain": [
       "<Figure size 432x288 with 1 Axes>"
      ]
     },
     "metadata": {
      "needs_background": "light"
     },
     "output_type": "display_data"
    }
   ],
   "source": [
    "history_df[['val_f1', 'val_precision', 'val_recall']].plot()"
   ]
  },
  {
   "cell_type": "code",
   "execution_count": 53,
   "metadata": {},
   "outputs": [
    {
     "data": {
      "text/plain": [
       "<matplotlib.axes._subplots.AxesSubplot at 0x7faebea48390>"
      ]
     },
     "execution_count": 53,
     "metadata": {},
     "output_type": "execute_result"
    },
    {
     "data": {
      "image/png": "[encoded data removed]",
      "text/plain": [
       "<Figure size 432x288 with 1 Axes>"
      ]
     },
     "metadata": {
      "needs_background": "light"
     },
     "output_type": "display_data"
    }
   ],
   "source": [
    "history_df[['accuracy', 'val_accuracy']].plot()"
   ]
  },
  {
   "cell_type": "markdown",
   "metadata": {},
   "source": [
    "### 5. Prediction"
   ]
  },
  {
   "cell_type": "code",
   "execution_count": 54,
   "metadata": {},
   "outputs": [
    {
     "name": "stdout",
     "output_type": "stream",
     "text": [
      "4400/4400 [==============================] - 1s 195us/step\n",
      "\n",
      "test loss 0.7567141168767756\n",
      "accuracy 0.7711363434791565\n"
     ]
    }
   ],
   "source": [
    "loss,accuracy = parallel_model.evaluate(X_test,y_test)\n",
    "print('\\ntest loss',loss)\n",
    "print('accuracy',accuracy)"
   ]
  },
  {
   "cell_type": "code",
   "execution_count": null,
   "metadata": {},
   "outputs": [],
   "source": []
  },
  {
   "cell_type": "code",
   "execution_count": null,
   "metadata": {},
   "outputs": [],
   "source": []
  },
  {
   "cell_type": "code",
   "execution_count": null,
   "metadata": {},
   "outputs": [],
   "source": []
  }
 ],
 "metadata": {
  "kernelspec": {
   "display_name": "Python 3",
   "language": "python",
   "name": "python3"
  },
  "language_info": {
   "codemirror_mode": {
    "name": "ipython",
    "version": 3
   },
   "file_extension": ".py",
   "mimetype": "text/x-python",
   "name": "python",
   "nbconvert_exporter": "python",
   "pygments_lexer": "ipython3",
   "version": "3.7.4"
  }
 },
 "nbformat": 4,
 "nbformat_minor": 4
}
