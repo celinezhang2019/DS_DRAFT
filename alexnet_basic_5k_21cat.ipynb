{
 "cells": [
  {
   "cell_type": "code",
   "execution_count": 1,
   "metadata": {},
   "outputs": [],
   "source": [
    "%%capture\n",
    "import keras\n",
    "import keras.backend as K\n",
    "from keras.models import Model\n",
    "from keras.layers import Input, Dense, Conv2D, Conv3D, DepthwiseConv2D, SeparableConv2D, Conv3DTranspose\n",
    "from keras.layers import Flatten, MaxPool2D, AvgPool2D, GlobalAvgPool2D, UpSampling2D, BatchNormalization\n",
    "from keras.layers import Concatenate, Add, Dropout, ReLU, Lambda, Activation, LeakyReLU, PReLU\n",
    "from keras.utils import np_utils\n",
    "from IPython.display import SVG\n",
    "from keras.utils.vis_utils import model_to_dot\n",
    "from keras.optimizers import SGD\n",
    "from time import time\n",
    "from keras.callbacks import EarlyStopping\n",
    "from sklearn.metrics import confusion_matrix, f1_score, precision_score, recall_score\n",
    "from keras.callbacks import Callback\n",
    "\n",
    "import numpy as np\n",
    "import pandas as pd\n",
    "import matplotlib, os, math\n",
    "\n",
    "os.environ[\"CUDA_VISIBLE_DEVICES\"]=\"1\""
   ]
  },
  {
   "cell_type": "markdown",
   "metadata": {},
   "source": [
    "### 1.Prepare data"
   ]
  },
  {
   "cell_type": "code",
   "execution_count": 2,
   "metadata": {},
   "outputs": [
    {
     "name": "stdout",
     "output_type": "stream",
     "text": [
      "Loading X_train...\n",
      "Running time: 909.4823398590088 seconds\n"
     ]
    }
   ],
   "source": [
    "from time import time\n",
    "import numpy as np\n",
    "\n",
    "start_time = time()\n",
    "\n",
    "print('Loading X_train...')\n",
    "X_train = np.load('/home/zxt/data/21_category/224/5k/X_train.npy')\n",
    "\n",
    "\n",
    "end_time = time()\n",
    "print('Running time: %s seconds'%(end_time - start_time))"
   ]
  },
  {
   "cell_type": "code",
   "execution_count": 3,
   "metadata": {},
   "outputs": [
    {
     "data": {
      "text/plain": [
       "94500"
      ]
     },
     "execution_count": 3,
     "metadata": {},
     "output_type": "execute_result"
    }
   ],
   "source": [
    "len(X_train)"
   ]
  },
  {
   "cell_type": "code",
   "execution_count": 4,
   "metadata": {},
   "outputs": [
    {
     "name": "stdout",
     "output_type": "stream",
     "text": [
      "Loading X_validate...\n",
      "Loading X_test...\n",
      "Loading labels...\n",
      "Running time: 100.68361759185791 seconds\n"
     ]
    }
   ],
   "source": [
    "from time import time\n",
    "import numpy as np\n",
    "\n",
    "start_time = time()\n",
    "\n",
    "print('Loading X_validate...')\n",
    "X_validate = np.load('/home/zxt/data/21_category/224/5k/X_validate.npy')\n",
    "\n",
    "print('Loading X_test...')\n",
    "X_test = np.load('/home/zxt/data/21_category/224/5k/X_test.npy')\n",
    "\n",
    "print('Loading labels...')\n",
    "Y_train = np.load('/home/zxt/data/21_category/224/5k/Y_train.npy')\n",
    "Y_validate = np.load('/home/zxt/data/21_category/224/5k/Y_validate.npy')\n",
    "Y_test = np.load('/home/zxt/data/21_category/224/5k/Y_test.npy')\n",
    "\n",
    "end_time = time()\n",
    "print('Running time: %s seconds'%(end_time - start_time))"
   ]
  },
  {
   "cell_type": "code",
   "execution_count": null,
   "metadata": {},
   "outputs": [],
   "source": [
    "# X_validate = np.vstack((X_validate_part1, X_validate_part2))"
   ]
  },
  {
   "cell_type": "code",
   "execution_count": 5,
   "metadata": {},
   "outputs": [
    {
     "name": "stdout",
     "output_type": "stream",
     "text": [
      "X_train shape: (94500, 224, 224, 3)\n",
      "94500 train samples\n",
      "5250 validate samples\n",
      "5250 test samples\n"
     ]
    }
   ],
   "source": [
    "print('X_train shape:', X_train.shape)\n",
    "print(X_train.shape[0], 'train samples')\n",
    "print(X_validate.shape[0], 'validate samples')\n",
    "print(X_test.shape[0], 'test samples')"
   ]
  },
  {
   "cell_type": "code",
   "execution_count": 6,
   "metadata": {},
   "outputs": [],
   "source": [
    "X_train /=255.\n",
    "X_validate /=  255.\n",
    "X_test /= 255."
   ]
  },
  {
   "cell_type": "code",
   "execution_count": 11,
   "metadata": {},
   "outputs": [],
   "source": [
    "# Y_train label\n",
    "for i in Y_train:\n",
    "    if i[0]=='elephant':\n",
    "        i[0]=0\n",
    "    if i[0]=='wild_boar':\n",
    "        i[0]=1\n",
    "    if i[0]=='gazellethomosons':\n",
    "        i[0]=2\n",
    "    if i[0]=='squirrel':\n",
    "        i[0]=3 \n",
    "    if i[0]=='hedgehog':\n",
    "        i[0]=4\n",
    "    if i[0]=='guineafowl':\n",
    "        i[0]=5\n",
    "    if i[0]=='moose':\n",
    "        i[0]=6\n",
    "    if i[0]=='coyote':\n",
    "        i[0]=7   \n",
    "    if i[0]=='bird':\n",
    "        i[0]=8\n",
    "    if i[0]=='fox':\n",
    "        i[0]=9\n",
    "    if i[0]=='giraffe':\n",
    "        i[0]=10\n",
    "    if i[0]=='buffalo':\n",
    "        i[0]=11\n",
    "    if i[0]=='hare':\n",
    "        i[0]=12\n",
    "    if i[0]=='vehicle':\n",
    "        i[0]=13\n",
    "    if i[0]=='wildebeest':\n",
    "        i[0]=14\n",
    "    if i[0]=='cattle':\n",
    "        i[0]=15 \n",
    "    if i[0]=='skunk':\n",
    "        i[0]=16\n",
    "    if i[0]=='lion':\n",
    "        i[0]=17\n",
    "    if i[0]=='zebra':\n",
    "        i[0]=18\n",
    "    if i[0]=='black_bear':\n",
    "        i[0]=19\n",
    "    if i[0]=='racoon':\n",
    "        i[0]=20  "
   ]
  },
  {
   "cell_type": "code",
   "execution_count": 12,
   "metadata": {},
   "outputs": [],
   "source": [
    "for i in Y_validate:\n",
    "    if i[0]=='elephant':\n",
    "        i[0]=0\n",
    "    if i[0]=='wild_boar':\n",
    "        i[0]=1\n",
    "    if i[0]=='gazellethomosons':\n",
    "        i[0]=2\n",
    "    if i[0]=='squirrel':\n",
    "        i[0]=3 \n",
    "    if i[0]=='hedgehog':\n",
    "        i[0]=4\n",
    "    if i[0]=='guineafowl':\n",
    "        i[0]=5\n",
    "    if i[0]=='moose':\n",
    "        i[0]=6\n",
    "    if i[0]=='coyote':\n",
    "        i[0]=7   \n",
    "    if i[0]=='bird':\n",
    "        i[0]=8\n",
    "    if i[0]=='fox':\n",
    "        i[0]=9\n",
    "    if i[0]=='giraffe':\n",
    "        i[0]=10\n",
    "    if i[0]=='buffalo':\n",
    "        i[0]=11\n",
    "    if i[0]=='hare':\n",
    "        i[0]=12\n",
    "    if i[0]=='vehicle':\n",
    "        i[0]=13\n",
    "    if i[0]=='wildebeest':\n",
    "        i[0]=14\n",
    "    if i[0]=='cattle':\n",
    "        i[0]=15 \n",
    "    if i[0]=='skunk':\n",
    "        i[0]=16\n",
    "    if i[0]=='lion':\n",
    "        i[0]=17\n",
    "    if i[0]=='zebra':\n",
    "        i[0]=18\n",
    "    if i[0]=='black_bear':\n",
    "        i[0]=19\n",
    "    if i[0]=='racoon':\n",
    "        i[0]=20   "
   ]
  },
  {
   "cell_type": "code",
   "execution_count": 13,
   "metadata": {},
   "outputs": [],
   "source": [
    "for i in Y_test:\n",
    "    if i[0]=='elephant':\n",
    "        i[0]=0\n",
    "    if i[0]=='wild_boar':\n",
    "        i[0]=1\n",
    "    if i[0]=='gazellethomosons':\n",
    "        i[0]=2\n",
    "    if i[0]=='squirrel':\n",
    "        i[0]=3 \n",
    "    if i[0]=='hedgehog':\n",
    "        i[0]=4\n",
    "    if i[0]=='guineafowl':\n",
    "        i[0]=5\n",
    "    if i[0]=='moose':\n",
    "        i[0]=6\n",
    "    if i[0]=='coyote':\n",
    "        i[0]=7   \n",
    "    if i[0]=='bird':\n",
    "        i[0]=8\n",
    "    if i[0]=='fox':\n",
    "        i[0]=9\n",
    "    if i[0]=='giraffe':\n",
    "        i[0]=10\n",
    "    if i[0]=='buffalo':\n",
    "        i[0]=11\n",
    "    if i[0]=='hare':\n",
    "        i[0]=12\n",
    "    if i[0]=='vehicle':\n",
    "        i[0]=13\n",
    "    if i[0]=='wildebeest':\n",
    "        i[0]=14\n",
    "    if i[0]=='cattle':\n",
    "        i[0]=15 \n",
    "    if i[0]=='skunk':\n",
    "        i[0]=16\n",
    "    if i[0]=='lion':\n",
    "        i[0]=17\n",
    "    if i[0]=='zebra':\n",
    "        i[0]=18\n",
    "    if i[0]=='black_bear':\n",
    "        i[0]=19\n",
    "    if i[0]=='racoon':\n",
    "        i[0]=20 "
   ]
  },
  {
   "cell_type": "code",
   "execution_count": 14,
   "metadata": {},
   "outputs": [],
   "source": [
    "# one-hot encoder[only accpet int]\n",
    "y_train=np_utils.to_categorical(Y_train,21)\n",
    "y_validate=np_utils.to_categorical(Y_validate,21)\n",
    "y_test=np_utils.to_categorical(Y_test,21)"
   ]
  },
  {
   "cell_type": "code",
   "execution_count": 15,
   "metadata": {},
   "outputs": [
    {
     "data": {
      "text/plain": [
       "array([[0., 0., 0., ..., 0., 0., 0.],\n",
       "       [0., 0., 0., ..., 0., 0., 0.],\n",
       "       [0., 0., 0., ..., 0., 0., 0.],\n",
       "       ...,\n",
       "       [0., 0., 0., ..., 0., 0., 0.],\n",
       "       [0., 0., 0., ..., 0., 0., 0.],\n",
       "       [0., 0., 0., ..., 0., 0., 0.]], dtype=float32)"
      ]
     },
     "execution_count": 15,
     "metadata": {},
     "output_type": "execute_result"
    }
   ],
   "source": [
    "y_test"
   ]
  },
  {
   "cell_type": "markdown",
   "metadata": {},
   "source": [
    "### 2.Model structure"
   ]
  },
  {
   "cell_type": "code",
   "execution_count": 16,
   "metadata": {},
   "outputs": [],
   "source": [
    "def alexnet(input_shape, n_classes):\n",
    "    input = Input(input_shape)\n",
    "  \n",
    "    # actually batch normalization didn't exist back then\n",
    "    # they used LRN (Local Response Normalization) for regularization\n",
    "    x = Conv2D(96, 11, strides=4, padding='same', activation='relu')(input)\n",
    "    x = BatchNormalization()(x)\n",
    "    x = MaxPool2D(3, strides=2)(x)\n",
    "  \n",
    "    x = Conv2D(256, 5, padding='same', activation='relu')(x)\n",
    "    x = BatchNormalization()(x)\n",
    "    x = MaxPool2D(3, strides=2)(x)\n",
    "  \n",
    "    x = Conv2D(384, 3, strides=1, padding='same', activation='relu')(x)\n",
    "  \n",
    "    x = Conv2D(384, 3, strides=1, padding='same', activation='relu')(x)\n",
    "  \n",
    "    x = Conv2D(256, 3, strides=1, padding='same', activation='relu')(x)\n",
    "    x = BatchNormalization()(x)\n",
    "    x = MaxPool2D(3, strides=2)(x)\n",
    "  \n",
    "    x = Flatten()(x)\n",
    "    x = Dense(4096, activation='relu')(x)\n",
    "    x = Dense(4096, activation='relu')(x)\n",
    "  \n",
    "    output = Dense(n_classes, activation='softmax')(x)\n",
    "  \n",
    "    model = Model(input, output)\n",
    "    return model"
   ]
  },
  {
   "cell_type": "code",
   "execution_count": 17,
   "metadata": {},
   "outputs": [],
   "source": [
    "# prevent overfitting\n",
    "early_stopping = EarlyStopping(monitor='val_loss', patience=20, verbose=1)"
   ]
  },
  {
   "cell_type": "code",
   "execution_count": 18,
   "metadata": {},
   "outputs": [],
   "source": [
    "from keras.callbacks import Callback\n",
    "class Metrics(Callback):\n",
    "\n",
    "    def on_train_begin(self, logs={}):\n",
    "        self.val_f1s = []\n",
    "        self.val_recalls = []\n",
    "        self.val_precisions = []\n",
    "\n",
    "    def on_epoch_end(self, epoch, logs={}):\n",
    "        X_val, y_val = self.validation_data[:2]\n",
    "        y_pred = self.model.predict(X_val)\n",
    "\n",
    "        y_pred_cat = keras.utils.to_categorical(\n",
    "            y_pred.argmax(axis=1),\n",
    "            num_classes=num_classes\n",
    "        )\n",
    "\n",
    "        _val_f1 = f1_score(y_val, y_pred_cat, average='macro')\n",
    "        _val_recall = recall_score(y_val, y_pred_cat, average='macro')\n",
    "        _val_precision = precision_score(y_val, y_pred_cat, average='macro')\n",
    "\n",
    "        self.val_f1s.append(_val_f1)\n",
    "        self.val_recalls.append(_val_recall)\n",
    "        self.val_precisions.append(_val_precision)\n",
    "\n",
    "        print((f\"val_f1: {_val_f1:.4f}\"\n",
    "               f\" - val_precision: {_val_precision:.4f}\"\n",
    "               f\" - val_recall: {_val_recall:.4f}\"))\n",
    "\n",
    "        return"
   ]
  },
  {
   "cell_type": "markdown",
   "metadata": {},
   "source": [
    "### 3.Modeling"
   ]
  },
  {
   "cell_type": "code",
   "execution_count": 19,
   "metadata": {},
   "outputs": [],
   "source": [
    "num_train_samples = len(Y_train)\n",
    "num_val_samples = len(Y_validate)\n",
    "batch_size = 128\n",
    "epochs = 100\n",
    "n_classes = 21\n",
    "input_shape = 224,224,3"
   ]
  },
  {
   "cell_type": "code",
   "execution_count": 20,
   "metadata": {},
   "outputs": [
    {
     "name": "stdout",
     "output_type": "stream",
     "text": [
      "Model: \"model_1\"\n",
      "_________________________________________________________________\n",
      "Layer (type)                 Output Shape              Param #   \n",
      "=================================================================\n",
      "input_1 (InputLayer)         (None, 224, 224, 3)       0         \n",
      "_________________________________________________________________\n",
      "conv2d_1 (Conv2D)            (None, 56, 56, 96)        34944     \n",
      "_________________________________________________________________\n",
      "batch_normalization_1 (Batch (None, 56, 56, 96)        384       \n",
      "_________________________________________________________________\n",
      "max_pooling2d_1 (MaxPooling2 (None, 27, 27, 96)        0         \n",
      "_________________________________________________________________\n",
      "conv2d_2 (Conv2D)            (None, 27, 27, 256)       614656    \n",
      "_________________________________________________________________\n",
      "batch_normalization_2 (Batch (None, 27, 27, 256)       1024      \n",
      "_________________________________________________________________\n",
      "max_pooling2d_2 (MaxPooling2 (None, 13, 13, 256)       0         \n",
      "_________________________________________________________________\n",
      "conv2d_3 (Conv2D)            (None, 13, 13, 384)       885120    \n",
      "_________________________________________________________________\n",
      "conv2d_4 (Conv2D)            (None, 13, 13, 384)       1327488   \n",
      "_________________________________________________________________\n",
      "conv2d_5 (Conv2D)            (None, 13, 13, 256)       884992    \n",
      "_________________________________________________________________\n",
      "batch_normalization_3 (Batch (None, 13, 13, 256)       1024      \n",
      "_________________________________________________________________\n",
      "max_pooling2d_3 (MaxPooling2 (None, 6, 6, 256)         0         \n",
      "_________________________________________________________________\n",
      "flatten_1 (Flatten)          (None, 9216)              0         \n",
      "_________________________________________________________________\n",
      "dense_1 (Dense)              (None, 4096)              37752832  \n",
      "_________________________________________________________________\n",
      "dense_2 (Dense)              (None, 4096)              16781312  \n",
      "_________________________________________________________________\n",
      "dense_3 (Dense)              (None, 21)                86037     \n",
      "=================================================================\n",
      "Total params: 58,369,813\n",
      "Trainable params: 58,368,597\n",
      "Non-trainable params: 1,216\n",
      "_________________________________________________________________\n"
     ]
    }
   ],
   "source": [
    "K.clear_session()\n",
    "model = alexnet(input_shape, n_classes)\n",
    "model.summary()"
   ]
  },
  {
   "cell_type": "code",
   "execution_count": 23,
   "metadata": {},
   "outputs": [],
   "source": [
    "model.compile(loss='categorical_crossentropy',optimizer='sgd',metrics=['accuracy'])"
   ]
  },
  {
   "cell_type": "code",
   "execution_count": 24,
   "metadata": {},
   "outputs": [],
   "source": [
    "num_classes = 21\n",
    "f1_metrics = Metrics()"
   ]
  },
  {
   "cell_type": "code",
   "execution_count": 25,
   "metadata": {},
   "outputs": [
    {
     "name": "stdout",
     "output_type": "stream",
     "text": [
      "Train on 94500 samples, validate on 5250 samples\n",
      "Epoch 1/100\n",
      "94500/94500 [==============================] - 449s 5ms/step - loss: 1.3692 - accuracy: 0.5443 - val_loss: 1.5844 - val_accuracy: 0.4771\n",
      "val_f1: 0.4514 - val_precision: 0.6050 - val_recall: 0.4747\n",
      "Epoch 2/100\n",
      "94500/94500 [==============================] - 425s 5ms/step - loss: 0.8585 - accuracy: 0.7061 - val_loss: 0.9755 - val_accuracy: 0.6665\n",
      "val_f1: 0.6712 - val_precision: 0.7089 - val_recall: 0.6689\n",
      "Epoch 3/100\n",
      "94500/94500 [==============================] - 426s 5ms/step - loss: 0.6546 - accuracy: 0.7754 - val_loss: 1.8290 - val_accuracy: 0.4164\n",
      "val_f1: 0.4115 - val_precision: 0.6519 - val_recall: 0.4154\n",
      "Epoch 4/100\n",
      "94500/94500 [==============================] - 426s 5ms/step - loss: 0.5094 - accuracy: 0.8258 - val_loss: 1.2066 - val_accuracy: 0.5674\n",
      "val_f1: 0.5638 - val_precision: 0.6683 - val_recall: 0.5730\n",
      "Epoch 5/100\n",
      "94500/94500 [==============================] - 426s 5ms/step - loss: 0.3944 - accuracy: 0.8662 - val_loss: 0.9245 - val_accuracy: 0.6853\n",
      "val_f1: 0.6860 - val_precision: 0.7713 - val_recall: 0.6867\n",
      "Epoch 6/100\n",
      "94500/94500 [==============================] - 426s 5ms/step - loss: 0.3075 - accuracy: 0.8964 - val_loss: 0.8020 - val_accuracy: 0.7349\n",
      "val_f1: 0.7386 - val_precision: 0.7970 - val_recall: 0.7350\n",
      "Epoch 7/100\n",
      "94500/94500 [==============================] - 426s 5ms/step - loss: 0.2354 - accuracy: 0.9236 - val_loss: 0.6401 - val_accuracy: 0.8004\n",
      "val_f1: 0.8069 - val_precision: 0.8367 - val_recall: 0.8030\n",
      "Epoch 8/100\n",
      "94500/94500 [==============================] - 426s 5ms/step - loss: 0.1846 - accuracy: 0.9401 - val_loss: 0.4813 - val_accuracy: 0.8537\n",
      "val_f1: 0.8543 - val_precision: 0.8601 - val_recall: 0.8539\n",
      "Epoch 9/100\n",
      "94500/94500 [==============================] - 426s 5ms/step - loss: 0.1401 - accuracy: 0.9568 - val_loss: 0.7774 - val_accuracy: 0.7728\n",
      "val_f1: 0.7750 - val_precision: 0.8106 - val_recall: 0.7704\n",
      "Epoch 10/100\n",
      "94500/94500 [==============================] - 426s 5ms/step - loss: 0.1104 - accuracy: 0.9663 - val_loss: 0.5166 - val_accuracy: 0.8493\n",
      "val_f1: 0.8501 - val_precision: 0.8586 - val_recall: 0.8511\n",
      "Epoch 11/100\n",
      "94500/94500 [==============================] - 426s 5ms/step - loss: 0.0863 - accuracy: 0.9747 - val_loss: 0.4709 - val_accuracy: 0.8655\n",
      "val_f1: 0.8651 - val_precision: 0.8689 - val_recall: 0.8657\n",
      "Epoch 12/100\n",
      "94500/94500 [==============================] - 426s 5ms/step - loss: 0.0695 - accuracy: 0.9801 - val_loss: 0.4692 - val_accuracy: 0.8709\n",
      "val_f1: 0.8706 - val_precision: 0.8749 - val_recall: 0.8716\n",
      "Epoch 13/100\n",
      "94500/94500 [==============================] - 426s 5ms/step - loss: 0.0563 - accuracy: 0.9838 - val_loss: 0.4835 - val_accuracy: 0.8688\n",
      "val_f1: 0.8686 - val_precision: 0.8726 - val_recall: 0.8696\n",
      "Epoch 14/100\n",
      "94500/94500 [==============================] - 426s 5ms/step - loss: 0.0457 - accuracy: 0.9876 - val_loss: 0.5095 - val_accuracy: 0.8659\n",
      "val_f1: 0.8653 - val_precision: 0.8695 - val_recall: 0.8669\n",
      "Epoch 15/100\n",
      "94500/94500 [==============================] - 426s 5ms/step - loss: 0.0360 - accuracy: 0.9904 - val_loss: 0.4381 - val_accuracy: 0.8890\n",
      "val_f1: 0.8890 - val_precision: 0.8912 - val_recall: 0.8893\n",
      "Epoch 16/100\n",
      "94500/94500 [==============================] - 426s 5ms/step - loss: 0.0301 - accuracy: 0.9919 - val_loss: 0.4238 - val_accuracy: 0.8935\n",
      "val_f1: 0.8939 - val_precision: 0.8955 - val_recall: 0.8934\n",
      "Epoch 17/100\n",
      "94500/94500 [==============================] - 427s 5ms/step - loss: 0.0238 - accuracy: 0.9939 - val_loss: 0.4496 - val_accuracy: 0.8863\n",
      "val_f1: 0.8863 - val_precision: 0.8876 - val_recall: 0.8869\n",
      "Epoch 18/100\n",
      "94500/94500 [==============================] - 427s 5ms/step - loss: 0.0191 - accuracy: 0.9957 - val_loss: 0.4542 - val_accuracy: 0.8918\n",
      "val_f1: 0.8919 - val_precision: 0.8929 - val_recall: 0.8919\n",
      "Epoch 19/100\n",
      "94500/94500 [==============================] - 427s 5ms/step - loss: 0.0170 - accuracy: 0.9960 - val_loss: 0.9596 - val_accuracy: 0.7920\n",
      "val_f1: 0.7901 - val_precision: 0.8496 - val_recall: 0.7898\n",
      "Epoch 20/100\n",
      "94500/94500 [==============================] - 427s 5ms/step - loss: 0.0161 - accuracy: 0.9964 - val_loss: 0.4434 - val_accuracy: 0.8977\n",
      "val_f1: 0.8973 - val_precision: 0.8977 - val_recall: 0.8980\n",
      "Epoch 21/100\n",
      "94500/94500 [==============================] - 427s 5ms/step - loss: 0.0112 - accuracy: 0.9976 - val_loss: 0.4510 - val_accuracy: 0.8973\n",
      "val_f1: 0.8971 - val_precision: 0.8975 - val_recall: 0.8978\n",
      "Epoch 22/100\n",
      "94500/94500 [==============================] - 427s 5ms/step - loss: 0.0098 - accuracy: 0.9979 - val_loss: 0.4534 - val_accuracy: 0.8998\n",
      "val_f1: 0.8997 - val_precision: 0.8998 - val_recall: 0.9003\n",
      "Epoch 23/100\n",
      "94500/94500 [==============================] - 428s 5ms/step - loss: 0.0086 - accuracy: 0.9982 - val_loss: 0.4637 - val_accuracy: 0.9006\n",
      "val_f1: 0.9004 - val_precision: 0.9009 - val_recall: 0.9008\n",
      "Epoch 24/100\n",
      "94500/94500 [==============================] - 429s 5ms/step - loss: 0.0059 - accuracy: 0.9989 - val_loss: 0.4604 - val_accuracy: 0.9008\n",
      "val_f1: 0.9004 - val_precision: 0.9004 - val_recall: 0.9011\n",
      "Epoch 25/100\n",
      "94500/94500 [==============================] - 428s 5ms/step - loss: 0.0051 - accuracy: 0.9991 - val_loss: 0.4594 - val_accuracy: 0.9000\n",
      "val_f1: 0.8998 - val_precision: 0.8996 - val_recall: 0.9005\n",
      "Epoch 26/100\n",
      "94500/94500 [==============================] - 428s 5ms/step - loss: 0.0045 - accuracy: 0.9991 - val_loss: 0.4729 - val_accuracy: 0.9000\n",
      "val_f1: 0.8997 - val_precision: 0.8991 - val_recall: 0.9010\n",
      "Epoch 27/100\n",
      "94500/94500 [==============================] - 429s 5ms/step - loss: 0.0042 - accuracy: 0.9994 - val_loss: 0.4647 - val_accuracy: 0.9015\n",
      "val_f1: 0.9014 - val_precision: 0.9012 - val_recall: 0.9019\n",
      "Epoch 28/100\n",
      "94500/94500 [==============================] - 429s 5ms/step - loss: 0.0030 - accuracy: 0.9997 - val_loss: 0.4800 - val_accuracy: 0.9042\n",
      "val_f1: 0.9041 - val_precision: 0.9041 - val_recall: 0.9045\n",
      "Epoch 29/100\n",
      "94500/94500 [==============================] - 429s 5ms/step - loss: 0.0022 - accuracy: 0.9998 - val_loss: 0.4898 - val_accuracy: 0.8996\n",
      "val_f1: 0.8992 - val_precision: 0.8992 - val_recall: 0.8998\n",
      "Epoch 30/100\n",
      "94500/94500 [==============================] - 428s 5ms/step - loss: 0.0019 - accuracy: 0.9999 - val_loss: 0.4761 - val_accuracy: 0.9040\n",
      "val_f1: 0.9038 - val_precision: 0.9036 - val_recall: 0.9045\n",
      "Epoch 31/100\n",
      "94500/94500 [==============================] - 429s 5ms/step - loss: 0.0013 - accuracy: 1.0000 - val_loss: 0.4893 - val_accuracy: 0.9038\n",
      "val_f1: 0.9036 - val_precision: 0.9035 - val_recall: 0.9042\n",
      "Epoch 32/100\n",
      "94500/94500 [==============================] - 429s 5ms/step - loss: 0.0012 - accuracy: 1.0000 - val_loss: 0.4873 - val_accuracy: 0.9036\n",
      "val_f1: 0.9035 - val_precision: 0.9040 - val_recall: 0.9037\n",
      "Epoch 33/100\n",
      "94500/94500 [==============================] - 429s 5ms/step - loss: 0.0017 - accuracy: 0.9998 - val_loss: 0.4888 - val_accuracy: 0.9038\n",
      "val_f1: 0.9037 - val_precision: 0.9037 - val_recall: 0.9042\n",
      "Epoch 34/100\n",
      "94500/94500 [==============================] - 429s 5ms/step - loss: 0.0011 - accuracy: 0.9999 - val_loss: 0.4917 - val_accuracy: 0.9048\n",
      "val_f1: 0.9045 - val_precision: 0.9045 - val_recall: 0.9050\n",
      "Epoch 35/100\n",
      "94500/94500 [==============================] - 429s 5ms/step - loss: 0.0013 - accuracy: 0.9999 - val_loss: 0.4929 - val_accuracy: 0.9032\n",
      "val_f1: 0.9031 - val_precision: 0.9028 - val_recall: 0.9038\n",
      "Epoch 36/100\n",
      "94500/94500 [==============================] - 429s 5ms/step - loss: 9.2499e-04 - accuracy: 1.0000 - val_loss: 0.4893 - val_accuracy: 0.9061\n",
      "val_f1: 0.9060 - val_precision: 0.9059 - val_recall: 0.9064\n",
      "Epoch 37/100\n",
      "94500/94500 [==============================] - 429s 5ms/step - loss: 8.4444e-04 - accuracy: 1.0000 - val_loss: 0.4936 - val_accuracy: 0.9051\n",
      "val_f1: 0.9050 - val_precision: 0.9053 - val_recall: 0.9055\n",
      "Epoch 38/100\n",
      "94500/94500 [==============================] - 429s 5ms/step - loss: 8.1512e-04 - accuracy: 1.0000 - val_loss: 0.5019 - val_accuracy: 0.9046\n",
      "val_f1: 0.9042 - val_precision: 0.9041 - val_recall: 0.9048\n",
      "Epoch 39/100\n",
      "94500/94500 [==============================] - 429s 5ms/step - loss: 8.0014e-04 - accuracy: 1.0000 - val_loss: 0.4992 - val_accuracy: 0.9057\n",
      "val_f1: 0.9055 - val_precision: 0.9054 - val_recall: 0.9061\n",
      "Epoch 40/100\n",
      "94500/94500 [==============================] - 429s 5ms/step - loss: 7.1029e-04 - accuracy: 1.0000 - val_loss: 0.5009 - val_accuracy: 0.9051\n",
      "val_f1: 0.9049 - val_precision: 0.9048 - val_recall: 0.9054\n",
      "Epoch 41/100\n",
      "94500/94500 [==============================] - 429s 5ms/step - loss: 7.5990e-04 - accuracy: 1.0000 - val_loss: 0.5027 - val_accuracy: 0.9051\n",
      "val_f1: 0.9049 - val_precision: 0.9050 - val_recall: 0.9055\n",
      "Epoch 42/100\n",
      "94500/94500 [==============================] - 428s 5ms/step - loss: 6.2366e-04 - accuracy: 1.0000 - val_loss: 0.5072 - val_accuracy: 0.9040\n",
      "val_f1: 0.9037 - val_precision: 0.9035 - val_recall: 0.9045\n",
      "Epoch 43/100\n",
      "94500/94500 [==============================] - 428s 5ms/step - loss: 7.8520e-04 - accuracy: 0.9999 - val_loss: 0.5055 - val_accuracy: 0.9044\n",
      "val_f1: 0.9041 - val_precision: 0.9041 - val_recall: 0.9046\n",
      "Epoch 44/100\n",
      "58752/94500 [=================>............] - ETA: 2:37 - loss: 5.2960e-04 - accuracy: 1.0000"
     ]
    },
    {
     "ename": "KeyboardInterrupt",
     "evalue": "",
     "output_type": "error",
     "traceback": [
      "\u001b[0;31m---------------------------------------------------------------------------\u001b[0m",
      "\u001b[0;31mKeyboardInterrupt\u001b[0m                         Traceback (most recent call last)",
      "\u001b[0;32m<ipython-input-25-c4ec4f5d7b24>\u001b[0m in \u001b[0;36m<module>\u001b[0;34m\u001b[0m\n\u001b[1;32m      5\u001b[0m     \u001b[0mepochs\u001b[0m\u001b[0;34m=\u001b[0m\u001b[0mepochs\u001b[0m\u001b[0;34m,\u001b[0m\u001b[0;34m\u001b[0m\u001b[0;34m\u001b[0m\u001b[0m\n\u001b[1;32m      6\u001b[0m     \u001b[0mcallbacks\u001b[0m\u001b[0;34m=\u001b[0m\u001b[0;34m[\u001b[0m\u001b[0mearly_stopping\u001b[0m\u001b[0;34m,\u001b[0m\u001b[0mf1_metrics\u001b[0m\u001b[0;34m]\u001b[0m\u001b[0;34m,\u001b[0m\u001b[0;34m\u001b[0m\u001b[0;34m\u001b[0m\u001b[0m\n\u001b[0;32m----> 7\u001b[0;31m     validation_data = (X_validate,y_validate))\n\u001b[0m",
      "\u001b[0;32m~/anaconda3/lib/python3.7/site-packages/keras/engine/training.py\u001b[0m in \u001b[0;36mfit\u001b[0;34m(self, x, y, batch_size, epochs, verbose, callbacks, validation_split, validation_data, shuffle, class_weight, sample_weight, initial_epoch, steps_per_epoch, validation_steps, validation_freq, max_queue_size, workers, use_multiprocessing, **kwargs)\u001b[0m\n\u001b[1;32m   1237\u001b[0m                                         \u001b[0msteps_per_epoch\u001b[0m\u001b[0;34m=\u001b[0m\u001b[0msteps_per_epoch\u001b[0m\u001b[0;34m,\u001b[0m\u001b[0;34m\u001b[0m\u001b[0;34m\u001b[0m\u001b[0m\n\u001b[1;32m   1238\u001b[0m                                         \u001b[0mvalidation_steps\u001b[0m\u001b[0;34m=\u001b[0m\u001b[0mvalidation_steps\u001b[0m\u001b[0;34m,\u001b[0m\u001b[0;34m\u001b[0m\u001b[0;34m\u001b[0m\u001b[0m\n\u001b[0;32m-> 1239\u001b[0;31m                                         validation_freq=validation_freq)\n\u001b[0m\u001b[1;32m   1240\u001b[0m \u001b[0;34m\u001b[0m\u001b[0m\n\u001b[1;32m   1241\u001b[0m     def evaluate(self,\n",
      "\u001b[0;32m~/anaconda3/lib/python3.7/site-packages/keras/engine/training_arrays.py\u001b[0m in \u001b[0;36mfit_loop\u001b[0;34m(model, fit_function, fit_inputs, out_labels, batch_size, epochs, verbose, callbacks, val_function, val_inputs, shuffle, initial_epoch, steps_per_epoch, validation_steps, validation_freq)\u001b[0m\n\u001b[1;32m    194\u001b[0m                     \u001b[0mins_batch\u001b[0m\u001b[0;34m[\u001b[0m\u001b[0mi\u001b[0m\u001b[0;34m]\u001b[0m \u001b[0;34m=\u001b[0m \u001b[0mins_batch\u001b[0m\u001b[0;34m[\u001b[0m\u001b[0mi\u001b[0m\u001b[0;34m]\u001b[0m\u001b[0;34m.\u001b[0m\u001b[0mtoarray\u001b[0m\u001b[0;34m(\u001b[0m\u001b[0;34m)\u001b[0m\u001b[0;34m\u001b[0m\u001b[0;34m\u001b[0m\u001b[0m\n\u001b[1;32m    195\u001b[0m \u001b[0;34m\u001b[0m\u001b[0m\n\u001b[0;32m--> 196\u001b[0;31m                 \u001b[0mouts\u001b[0m \u001b[0;34m=\u001b[0m \u001b[0mfit_function\u001b[0m\u001b[0;34m(\u001b[0m\u001b[0mins_batch\u001b[0m\u001b[0;34m)\u001b[0m\u001b[0;34m\u001b[0m\u001b[0;34m\u001b[0m\u001b[0m\n\u001b[0m\u001b[1;32m    197\u001b[0m                 \u001b[0mouts\u001b[0m \u001b[0;34m=\u001b[0m \u001b[0mto_list\u001b[0m\u001b[0;34m(\u001b[0m\u001b[0mouts\u001b[0m\u001b[0;34m)\u001b[0m\u001b[0;34m\u001b[0m\u001b[0;34m\u001b[0m\u001b[0m\n\u001b[1;32m    198\u001b[0m                 \u001b[0;32mfor\u001b[0m \u001b[0ml\u001b[0m\u001b[0;34m,\u001b[0m \u001b[0mo\u001b[0m \u001b[0;32min\u001b[0m \u001b[0mzip\u001b[0m\u001b[0;34m(\u001b[0m\u001b[0mout_labels\u001b[0m\u001b[0;34m,\u001b[0m \u001b[0mouts\u001b[0m\u001b[0;34m)\u001b[0m\u001b[0;34m:\u001b[0m\u001b[0;34m\u001b[0m\u001b[0;34m\u001b[0m\u001b[0m\n",
      "\u001b[0;32m~/anaconda3/lib/python3.7/site-packages/tensorflow_core/python/keras/backend.py\u001b[0m in \u001b[0;36m__call__\u001b[0;34m(self, inputs)\u001b[0m\n\u001b[1;32m   3732\u001b[0m               'You must feed a value for placeholder %s' % (tensor,))\n\u001b[1;32m   3733\u001b[0m       \u001b[0;32mif\u001b[0m \u001b[0;32mnot\u001b[0m \u001b[0misinstance\u001b[0m\u001b[0;34m(\u001b[0m\u001b[0mvalue\u001b[0m\u001b[0;34m,\u001b[0m \u001b[0mops\u001b[0m\u001b[0;34m.\u001b[0m\u001b[0mTensor\u001b[0m\u001b[0;34m)\u001b[0m\u001b[0;34m:\u001b[0m\u001b[0;34m\u001b[0m\u001b[0;34m\u001b[0m\u001b[0m\n\u001b[0;32m-> 3734\u001b[0;31m         \u001b[0mvalue\u001b[0m \u001b[0;34m=\u001b[0m \u001b[0mops\u001b[0m\u001b[0;34m.\u001b[0m\u001b[0mconvert_to_tensor\u001b[0m\u001b[0;34m(\u001b[0m\u001b[0mvalue\u001b[0m\u001b[0;34m,\u001b[0m \u001b[0mdtype\u001b[0m\u001b[0;34m=\u001b[0m\u001b[0mtensor\u001b[0m\u001b[0;34m.\u001b[0m\u001b[0mdtype\u001b[0m\u001b[0;34m)\u001b[0m\u001b[0;34m\u001b[0m\u001b[0;34m\u001b[0m\u001b[0m\n\u001b[0m\u001b[1;32m   3735\u001b[0m       \u001b[0;32mif\u001b[0m \u001b[0mvalue\u001b[0m\u001b[0;34m.\u001b[0m\u001b[0mdtype\u001b[0m \u001b[0;34m!=\u001b[0m \u001b[0mtensor\u001b[0m\u001b[0;34m.\u001b[0m\u001b[0mdtype\u001b[0m\u001b[0;34m:\u001b[0m\u001b[0;34m\u001b[0m\u001b[0;34m\u001b[0m\u001b[0m\n\u001b[1;32m   3736\u001b[0m         \u001b[0;31m# Temporary workaround due to `convert_to_tensor` not casting floats.\u001b[0m\u001b[0;34m\u001b[0m\u001b[0;34m\u001b[0m\u001b[0;34m\u001b[0m\u001b[0m\n",
      "\u001b[0;32m~/anaconda3/lib/python3.7/site-packages/tensorflow_core/python/framework/ops.py\u001b[0m in \u001b[0;36mconvert_to_tensor\u001b[0;34m(value, dtype, name, preferred_dtype, dtype_hint)\u001b[0m\n\u001b[1;32m   1182\u001b[0m   preferred_dtype = deprecation.deprecated_argument_lookup(\n\u001b[1;32m   1183\u001b[0m       \"dtype_hint\", dtype_hint, \"preferred_dtype\", preferred_dtype)\n\u001b[0;32m-> 1184\u001b[0;31m   \u001b[0;32mreturn\u001b[0m \u001b[0mconvert_to_tensor_v2\u001b[0m\u001b[0;34m(\u001b[0m\u001b[0mvalue\u001b[0m\u001b[0;34m,\u001b[0m \u001b[0mdtype\u001b[0m\u001b[0;34m,\u001b[0m \u001b[0mpreferred_dtype\u001b[0m\u001b[0;34m,\u001b[0m \u001b[0mname\u001b[0m\u001b[0;34m)\u001b[0m\u001b[0;34m\u001b[0m\u001b[0;34m\u001b[0m\u001b[0m\n\u001b[0m\u001b[1;32m   1185\u001b[0m \u001b[0;34m\u001b[0m\u001b[0m\n\u001b[1;32m   1186\u001b[0m \u001b[0;34m\u001b[0m\u001b[0m\n",
      "\u001b[0;32m~/anaconda3/lib/python3.7/site-packages/tensorflow_core/python/framework/ops.py\u001b[0m in \u001b[0;36mconvert_to_tensor_v2\u001b[0;34m(value, dtype, dtype_hint, name)\u001b[0m\n\u001b[1;32m   1240\u001b[0m       \u001b[0mname\u001b[0m\u001b[0;34m=\u001b[0m\u001b[0mname\u001b[0m\u001b[0;34m,\u001b[0m\u001b[0;34m\u001b[0m\u001b[0;34m\u001b[0m\u001b[0m\n\u001b[1;32m   1241\u001b[0m       \u001b[0mpreferred_dtype\u001b[0m\u001b[0;34m=\u001b[0m\u001b[0mdtype_hint\u001b[0m\u001b[0;34m,\u001b[0m\u001b[0;34m\u001b[0m\u001b[0;34m\u001b[0m\u001b[0m\n\u001b[0;32m-> 1242\u001b[0;31m       as_ref=False)\n\u001b[0m\u001b[1;32m   1243\u001b[0m \u001b[0;34m\u001b[0m\u001b[0m\n\u001b[1;32m   1244\u001b[0m \u001b[0;34m\u001b[0m\u001b[0m\n",
      "\u001b[0;32m~/anaconda3/lib/python3.7/site-packages/tensorflow_core/python/framework/ops.py\u001b[0m in \u001b[0;36minternal_convert_to_tensor\u001b[0;34m(value, dtype, name, as_ref, preferred_dtype, ctx, accept_composite_tensors)\u001b[0m\n\u001b[1;32m   1294\u001b[0m \u001b[0;34m\u001b[0m\u001b[0m\n\u001b[1;32m   1295\u001b[0m     \u001b[0;32mif\u001b[0m \u001b[0mret\u001b[0m \u001b[0;32mis\u001b[0m \u001b[0;32mNone\u001b[0m\u001b[0;34m:\u001b[0m\u001b[0;34m\u001b[0m\u001b[0;34m\u001b[0m\u001b[0m\n\u001b[0;32m-> 1296\u001b[0;31m       \u001b[0mret\u001b[0m \u001b[0;34m=\u001b[0m \u001b[0mconversion_func\u001b[0m\u001b[0;34m(\u001b[0m\u001b[0mvalue\u001b[0m\u001b[0;34m,\u001b[0m \u001b[0mdtype\u001b[0m\u001b[0;34m=\u001b[0m\u001b[0mdtype\u001b[0m\u001b[0;34m,\u001b[0m \u001b[0mname\u001b[0m\u001b[0;34m=\u001b[0m\u001b[0mname\u001b[0m\u001b[0;34m,\u001b[0m \u001b[0mas_ref\u001b[0m\u001b[0;34m=\u001b[0m\u001b[0mas_ref\u001b[0m\u001b[0;34m)\u001b[0m\u001b[0;34m\u001b[0m\u001b[0;34m\u001b[0m\u001b[0m\n\u001b[0m\u001b[1;32m   1297\u001b[0m \u001b[0;34m\u001b[0m\u001b[0m\n\u001b[1;32m   1298\u001b[0m     \u001b[0;32mif\u001b[0m \u001b[0mret\u001b[0m \u001b[0;32mis\u001b[0m \u001b[0mNotImplemented\u001b[0m\u001b[0;34m:\u001b[0m\u001b[0;34m\u001b[0m\u001b[0;34m\u001b[0m\u001b[0m\n",
      "\u001b[0;32m~/anaconda3/lib/python3.7/site-packages/tensorflow_core/python/framework/tensor_conversion_registry.py\u001b[0m in \u001b[0;36m_default_conversion_function\u001b[0;34m(***failed resolving arguments***)\u001b[0m\n\u001b[1;32m     50\u001b[0m \u001b[0;32mdef\u001b[0m \u001b[0m_default_conversion_function\u001b[0m\u001b[0;34m(\u001b[0m\u001b[0mvalue\u001b[0m\u001b[0;34m,\u001b[0m \u001b[0mdtype\u001b[0m\u001b[0;34m,\u001b[0m \u001b[0mname\u001b[0m\u001b[0;34m,\u001b[0m \u001b[0mas_ref\u001b[0m\u001b[0;34m)\u001b[0m\u001b[0;34m:\u001b[0m\u001b[0;34m\u001b[0m\u001b[0;34m\u001b[0m\u001b[0m\n\u001b[1;32m     51\u001b[0m   \u001b[0;32mdel\u001b[0m \u001b[0mas_ref\u001b[0m  \u001b[0;31m# Unused.\u001b[0m\u001b[0;34m\u001b[0m\u001b[0;34m\u001b[0m\u001b[0m\n\u001b[0;32m---> 52\u001b[0;31m   \u001b[0;32mreturn\u001b[0m \u001b[0mconstant_op\u001b[0m\u001b[0;34m.\u001b[0m\u001b[0mconstant\u001b[0m\u001b[0;34m(\u001b[0m\u001b[0mvalue\u001b[0m\u001b[0;34m,\u001b[0m \u001b[0mdtype\u001b[0m\u001b[0;34m,\u001b[0m \u001b[0mname\u001b[0m\u001b[0;34m=\u001b[0m\u001b[0mname\u001b[0m\u001b[0;34m)\u001b[0m\u001b[0;34m\u001b[0m\u001b[0;34m\u001b[0m\u001b[0m\n\u001b[0m\u001b[1;32m     53\u001b[0m \u001b[0;34m\u001b[0m\u001b[0m\n\u001b[1;32m     54\u001b[0m \u001b[0;34m\u001b[0m\u001b[0m\n",
      "\u001b[0;32m~/anaconda3/lib/python3.7/site-packages/tensorflow_core/python/framework/constant_op.py\u001b[0m in \u001b[0;36mconstant\u001b[0;34m(value, dtype, shape, name)\u001b[0m\n\u001b[1;32m    225\u001b[0m   \"\"\"\n\u001b[1;32m    226\u001b[0m   return _constant_impl(value, dtype, shape, name, verify_shape=False,\n\u001b[0;32m--> 227\u001b[0;31m                         allow_broadcast=True)\n\u001b[0m\u001b[1;32m    228\u001b[0m \u001b[0;34m\u001b[0m\u001b[0m\n\u001b[1;32m    229\u001b[0m \u001b[0;34m\u001b[0m\u001b[0m\n",
      "\u001b[0;32m~/anaconda3/lib/python3.7/site-packages/tensorflow_core/python/framework/constant_op.py\u001b[0m in \u001b[0;36m_constant_impl\u001b[0;34m(value, dtype, shape, name, verify_shape, allow_broadcast)\u001b[0m\n\u001b[1;32m    233\u001b[0m   \u001b[0mctx\u001b[0m \u001b[0;34m=\u001b[0m \u001b[0mcontext\u001b[0m\u001b[0;34m.\u001b[0m\u001b[0mcontext\u001b[0m\u001b[0;34m(\u001b[0m\u001b[0;34m)\u001b[0m\u001b[0;34m\u001b[0m\u001b[0;34m\u001b[0m\u001b[0m\n\u001b[1;32m    234\u001b[0m   \u001b[0;32mif\u001b[0m \u001b[0mctx\u001b[0m\u001b[0;34m.\u001b[0m\u001b[0mexecuting_eagerly\u001b[0m\u001b[0;34m(\u001b[0m\u001b[0;34m)\u001b[0m\u001b[0;34m:\u001b[0m\u001b[0;34m\u001b[0m\u001b[0;34m\u001b[0m\u001b[0m\n\u001b[0;32m--> 235\u001b[0;31m     \u001b[0mt\u001b[0m \u001b[0;34m=\u001b[0m \u001b[0mconvert_to_eager_tensor\u001b[0m\u001b[0;34m(\u001b[0m\u001b[0mvalue\u001b[0m\u001b[0;34m,\u001b[0m \u001b[0mctx\u001b[0m\u001b[0;34m,\u001b[0m \u001b[0mdtype\u001b[0m\u001b[0;34m)\u001b[0m\u001b[0;34m\u001b[0m\u001b[0;34m\u001b[0m\u001b[0m\n\u001b[0m\u001b[1;32m    236\u001b[0m     \u001b[0;32mif\u001b[0m \u001b[0mshape\u001b[0m \u001b[0;32mis\u001b[0m \u001b[0;32mNone\u001b[0m\u001b[0;34m:\u001b[0m\u001b[0;34m\u001b[0m\u001b[0;34m\u001b[0m\u001b[0m\n\u001b[1;32m    237\u001b[0m       \u001b[0;32mreturn\u001b[0m \u001b[0mt\u001b[0m\u001b[0;34m\u001b[0m\u001b[0;34m\u001b[0m\u001b[0m\n",
      "\u001b[0;32m~/anaconda3/lib/python3.7/site-packages/tensorflow_core/python/framework/constant_op.py\u001b[0m in \u001b[0;36mconvert_to_eager_tensor\u001b[0;34m(value, ctx, dtype)\u001b[0m\n\u001b[1;32m     94\u001b[0m       \u001b[0mdtype\u001b[0m \u001b[0;34m=\u001b[0m \u001b[0mdtypes\u001b[0m\u001b[0;34m.\u001b[0m\u001b[0mas_dtype\u001b[0m\u001b[0;34m(\u001b[0m\u001b[0mdtype\u001b[0m\u001b[0;34m)\u001b[0m\u001b[0;34m.\u001b[0m\u001b[0mas_datatype_enum\u001b[0m\u001b[0;34m\u001b[0m\u001b[0;34m\u001b[0m\u001b[0m\n\u001b[1;32m     95\u001b[0m   \u001b[0mctx\u001b[0m\u001b[0;34m.\u001b[0m\u001b[0mensure_initialized\u001b[0m\u001b[0;34m(\u001b[0m\u001b[0;34m)\u001b[0m\u001b[0;34m\u001b[0m\u001b[0;34m\u001b[0m\u001b[0m\n\u001b[0;32m---> 96\u001b[0;31m   \u001b[0;32mreturn\u001b[0m \u001b[0mops\u001b[0m\u001b[0;34m.\u001b[0m\u001b[0mEagerTensor\u001b[0m\u001b[0;34m(\u001b[0m\u001b[0mvalue\u001b[0m\u001b[0;34m,\u001b[0m \u001b[0mctx\u001b[0m\u001b[0;34m.\u001b[0m\u001b[0mdevice_name\u001b[0m\u001b[0;34m,\u001b[0m \u001b[0mdtype\u001b[0m\u001b[0;34m)\u001b[0m\u001b[0;34m\u001b[0m\u001b[0;34m\u001b[0m\u001b[0m\n\u001b[0m\u001b[1;32m     97\u001b[0m \u001b[0;34m\u001b[0m\u001b[0m\n\u001b[1;32m     98\u001b[0m \u001b[0;34m\u001b[0m\u001b[0m\n",
      "\u001b[0;31mKeyboardInterrupt\u001b[0m: "
     ]
    }
   ],
   "source": [
    "hist = model.fit(\n",
    "    X_train, \n",
    "    y_train,\n",
    "    batch_size=batch_size,\n",
    "    epochs=epochs,\n",
    "    callbacks=[early_stopping,f1_metrics],\n",
    "    validation_data = (X_validate,y_validate))"
   ]
  },
  {
   "cell_type": "code",
   "execution_count": 30,
   "metadata": {},
   "outputs": [],
   "source": [
    "# parallel_model.save('/home/zxt/data/model/alex_basic_5k_224.h5')"
   ]
  },
  {
   "cell_type": "code",
   "execution_count": 26,
   "metadata": {},
   "outputs": [],
   "source": [
    "model.save('/home/zxt/data/model/21category/alex_basic_5k_224_model.h5')"
   ]
  },
  {
   "cell_type": "markdown",
   "metadata": {},
   "source": [
    "### 4.Evaluation"
   ]
  },
  {
   "cell_type": "code",
   "execution_count": 27,
   "metadata": {},
   "outputs": [
    {
     "ename": "NameError",
     "evalue": "name 'hist' is not defined",
     "output_type": "error",
     "traceback": [
      "\u001b[0;31m---------------------------------------------------------------------------\u001b[0m",
      "\u001b[0;31mNameError\u001b[0m                                 Traceback (most recent call last)",
      "\u001b[0;32m<ipython-input-27-9ee472e8ddd0>\u001b[0m in \u001b[0;36m<module>\u001b[0;34m\u001b[0m\n\u001b[0;32m----> 1\u001b[0;31m \u001b[0mhistory_df\u001b[0m \u001b[0;34m=\u001b[0m \u001b[0mpd\u001b[0m\u001b[0;34m.\u001b[0m\u001b[0mDataFrame\u001b[0m\u001b[0;34m(\u001b[0m\u001b[0mhist\u001b[0m\u001b[0;34m.\u001b[0m\u001b[0mhistory\u001b[0m\u001b[0;34m)\u001b[0m\u001b[0;34m\u001b[0m\u001b[0;34m\u001b[0m\u001b[0m\n\u001b[0m\u001b[1;32m      2\u001b[0m \u001b[0mhistory_df\u001b[0m\u001b[0;34m[\u001b[0m\u001b[0;34m[\u001b[0m\u001b[0;34m'loss'\u001b[0m\u001b[0;34m,\u001b[0m \u001b[0;34m'val_loss'\u001b[0m\u001b[0;34m]\u001b[0m\u001b[0;34m]\u001b[0m\u001b[0;34m.\u001b[0m\u001b[0mplot\u001b[0m\u001b[0;34m(\u001b[0m\u001b[0;34m)\u001b[0m\u001b[0;34m\u001b[0m\u001b[0;34m\u001b[0m\u001b[0m\n\u001b[1;32m      3\u001b[0m \u001b[0mhistory_df\u001b[0m\u001b[0;34m[\u001b[0m\u001b[0;34m[\u001b[0m\u001b[0;34m'accuracy'\u001b[0m\u001b[0;34m,\u001b[0m \u001b[0;34m'val_accuracy'\u001b[0m\u001b[0;34m]\u001b[0m\u001b[0;34m]\u001b[0m\u001b[0;34m.\u001b[0m\u001b[0mplot\u001b[0m\u001b[0;34m(\u001b[0m\u001b[0;34m)\u001b[0m\u001b[0;34m\u001b[0m\u001b[0;34m\u001b[0m\u001b[0m\n",
      "\u001b[0;31mNameError\u001b[0m: name 'hist' is not defined"
     ]
    }
   ],
   "source": [
    "history_df = pd.DataFrame(hist.history)\n",
    "history_df[['loss', 'val_loss']].plot()\n",
    "history_df[['accuracy', 'val_accuracy']].plot()"
   ]
  },
  {
   "cell_type": "markdown",
   "metadata": {},
   "source": [
    "### 5.Prediction on X_test dataset"
   ]
  },
  {
   "cell_type": "code",
   "execution_count": 28,
   "metadata": {},
   "outputs": [
    {
     "name": "stdout",
     "output_type": "stream",
     "text": [
      "5250/5250 [==============================] - 11s 2ms/step\n",
      "\n",
      "test loss 0.489455084386326\n",
      "accuracy 0.9074285626411438\n"
     ]
    }
   ],
   "source": [
    "loss,accuracy = model.evaluate(X_test,y_test)\n",
    "print('\\ntest loss',loss)\n",
    "print('accuracy',accuracy)"
   ]
  },
  {
   "cell_type": "code",
   "execution_count": 29,
   "metadata": {},
   "outputs": [],
   "source": [
    "y_pred = model.predict(X_test,batch_size=1)"
   ]
  },
  {
   "cell_type": "code",
   "execution_count": 30,
   "metadata": {},
   "outputs": [
    {
     "data": {
      "text/plain": [
       "array([[4.8132285e-09, 1.7941906e-08, 5.1421116e-12, ..., 1.4136230e-09,\n",
       "        7.8386717e-13, 1.0653484e-09],\n",
       "       [7.1362444e-11, 2.3809670e-09, 2.9026877e-15, ..., 3.0008346e-10,\n",
       "        4.8786825e-10, 2.7714447e-11],\n",
       "       [7.0330959e-12, 3.5752894e-09, 7.4230934e-11, ..., 8.0918087e-14,\n",
       "        1.0880810e-09, 2.8406225e-10],\n",
       "       ...,\n",
       "       [1.0683399e-10, 1.3301432e-07, 9.9817257e-09, ..., 6.8673046e-11,\n",
       "        2.0485328e-14, 6.6858076e-05],\n",
       "       [1.9701302e-08, 1.0886635e-11, 7.8831018e-11, ..., 1.0174849e-14,\n",
       "        3.9884657e-08, 2.4080984e-14],\n",
       "       [8.9193620e-08, 3.3112660e-03, 1.2191908e-08, ..., 1.4292359e-08,\n",
       "        1.1597029e-07, 2.0739940e-01]], dtype=float32)"
      ]
     },
     "execution_count": 30,
     "metadata": {},
     "output_type": "execute_result"
    }
   ],
   "source": [
    "y_pred"
   ]
  },
  {
   "cell_type": "markdown",
   "metadata": {},
   "source": [
    "### 6.Check each categoryaccuracy"
   ]
  },
  {
   "cell_type": "code",
   "execution_count": 31,
   "metadata": {},
   "outputs": [],
   "source": [
    "a = list(y_pred)\n",
    "y_prediction=[]\n",
    "for i in a:\n",
    "    j =list(i)\n",
    "    y_prediction.append(j.index(max(j)))"
   ]
  },
  {
   "cell_type": "code",
   "execution_count": 32,
   "metadata": {},
   "outputs": [
    {
     "data": {
      "text/plain": [
       "[13, 7, 12, 2, 0]"
      ]
     },
     "execution_count": 32,
     "metadata": {},
     "output_type": "execute_result"
    }
   ],
   "source": [
    "y_prediction[:5]"
   ]
  },
  {
   "cell_type": "code",
   "execution_count": 33,
   "metadata": {},
   "outputs": [
    {
     "data": {
      "text/plain": [
       "array([['13'],\n",
       "       ['7'],\n",
       "       ['12'],\n",
       "       ['2'],\n",
       "       ['0']], dtype='<U16')"
      ]
     },
     "execution_count": 33,
     "metadata": {},
     "output_type": "execute_result"
    }
   ],
   "source": [
    "Y_test[:5]"
   ]
  },
  {
   "cell_type": "code",
   "execution_count": 34,
   "metadata": {},
   "outputs": [],
   "source": [
    "# array to dataframe\n",
    "y_real=pd.DataFrame(Y_test,columns=['label'])"
   ]
  },
  {
   "cell_type": "code",
   "execution_count": 35,
   "metadata": {},
   "outputs": [
    {
     "data": {
      "text/html": [
       "<div>\n",
       "<style scoped>\n",
       "    .dataframe tbody tr th:only-of-type {\n",
       "        vertical-align: middle;\n",
       "    }\n",
       "\n",
       "    .dataframe tbody tr th {\n",
       "        vertical-align: top;\n",
       "    }\n",
       "\n",
       "    .dataframe thead th {\n",
       "        text-align: right;\n",
       "    }\n",
       "</style>\n",
       "<table border=\"1\" class=\"dataframe\">\n",
       "  <thead>\n",
       "    <tr style=\"text-align: right;\">\n",
       "      <th></th>\n",
       "      <th>label</th>\n",
       "    </tr>\n",
       "  </thead>\n",
       "  <tbody>\n",
       "    <tr>\n",
       "      <td>0</td>\n",
       "      <td>13</td>\n",
       "    </tr>\n",
       "    <tr>\n",
       "      <td>1</td>\n",
       "      <td>7</td>\n",
       "    </tr>\n",
       "  </tbody>\n",
       "</table>\n",
       "</div>"
      ],
      "text/plain": [
       "  label\n",
       "0    13\n",
       "1     7"
      ]
     },
     "execution_count": 35,
     "metadata": {},
     "output_type": "execute_result"
    }
   ],
   "source": [
    "y_real.head(2)"
   ]
  },
  {
   "cell_type": "code",
   "execution_count": 36,
   "metadata": {},
   "outputs": [],
   "source": [
    "y_predict = pd.DataFrame(y_prediction,columns=['label_pre'])"
   ]
  },
  {
   "cell_type": "code",
   "execution_count": 37,
   "metadata": {},
   "outputs": [
    {
     "data": {
      "text/html": [
       "<div>\n",
       "<style scoped>\n",
       "    .dataframe tbody tr th:only-of-type {\n",
       "        vertical-align: middle;\n",
       "    }\n",
       "\n",
       "    .dataframe tbody tr th {\n",
       "        vertical-align: top;\n",
       "    }\n",
       "\n",
       "    .dataframe thead th {\n",
       "        text-align: right;\n",
       "    }\n",
       "</style>\n",
       "<table border=\"1\" class=\"dataframe\">\n",
       "  <thead>\n",
       "    <tr style=\"text-align: right;\">\n",
       "      <th></th>\n",
       "      <th>label_pre</th>\n",
       "    </tr>\n",
       "  </thead>\n",
       "  <tbody>\n",
       "    <tr>\n",
       "      <td>0</td>\n",
       "      <td>13</td>\n",
       "    </tr>\n",
       "    <tr>\n",
       "      <td>1</td>\n",
       "      <td>7</td>\n",
       "    </tr>\n",
       "  </tbody>\n",
       "</table>\n",
       "</div>"
      ],
      "text/plain": [
       "   label_pre\n",
       "0         13\n",
       "1          7"
      ]
     },
     "execution_count": 37,
     "metadata": {},
     "output_type": "execute_result"
    }
   ],
   "source": [
    "\n",
    "y_predict.head(2)"
   ]
  },
  {
   "cell_type": "code",
   "execution_count": 38,
   "metadata": {},
   "outputs": [],
   "source": [
    "prediction_df = pd.concat([y_real,y_predict],axis=1)\n",
    "prediction_df['label']=prediction_df['label'].astype(int)\n",
    "prediction_df['diff']=prediction_df['label']-prediction_df['label_pre']\n"
   ]
  },
  {
   "cell_type": "code",
   "execution_count": 39,
   "metadata": {},
   "outputs": [
    {
     "data": {
      "text/html": [
       "<div>\n",
       "<style scoped>\n",
       "    .dataframe tbody tr th:only-of-type {\n",
       "        vertical-align: middle;\n",
       "    }\n",
       "\n",
       "    .dataframe tbody tr th {\n",
       "        vertical-align: top;\n",
       "    }\n",
       "\n",
       "    .dataframe thead th {\n",
       "        text-align: right;\n",
       "    }\n",
       "</style>\n",
       "<table border=\"1\" class=\"dataframe\">\n",
       "  <thead>\n",
       "    <tr style=\"text-align: right;\">\n",
       "      <th></th>\n",
       "      <th>label</th>\n",
       "      <th>label_pre</th>\n",
       "      <th>diff</th>\n",
       "    </tr>\n",
       "  </thead>\n",
       "  <tbody>\n",
       "    <tr>\n",
       "      <td>0</td>\n",
       "      <td>13</td>\n",
       "      <td>13</td>\n",
       "      <td>0</td>\n",
       "    </tr>\n",
       "    <tr>\n",
       "      <td>1</td>\n",
       "      <td>7</td>\n",
       "      <td>7</td>\n",
       "      <td>0</td>\n",
       "    </tr>\n",
       "    <tr>\n",
       "      <td>2</td>\n",
       "      <td>12</td>\n",
       "      <td>12</td>\n",
       "      <td>0</td>\n",
       "    </tr>\n",
       "    <tr>\n",
       "      <td>3</td>\n",
       "      <td>2</td>\n",
       "      <td>2</td>\n",
       "      <td>0</td>\n",
       "    </tr>\n",
       "    <tr>\n",
       "      <td>4</td>\n",
       "      <td>0</td>\n",
       "      <td>0</td>\n",
       "      <td>0</td>\n",
       "    </tr>\n",
       "    <tr>\n",
       "      <td>...</td>\n",
       "      <td>...</td>\n",
       "      <td>...</td>\n",
       "      <td>...</td>\n",
       "    </tr>\n",
       "    <tr>\n",
       "      <td>5245</td>\n",
       "      <td>12</td>\n",
       "      <td>12</td>\n",
       "      <td>0</td>\n",
       "    </tr>\n",
       "    <tr>\n",
       "      <td>5246</td>\n",
       "      <td>11</td>\n",
       "      <td>11</td>\n",
       "      <td>0</td>\n",
       "    </tr>\n",
       "    <tr>\n",
       "      <td>5247</td>\n",
       "      <td>15</td>\n",
       "      <td>15</td>\n",
       "      <td>0</td>\n",
       "    </tr>\n",
       "    <tr>\n",
       "      <td>5248</td>\n",
       "      <td>13</td>\n",
       "      <td>13</td>\n",
       "      <td>0</td>\n",
       "    </tr>\n",
       "    <tr>\n",
       "      <td>5249</td>\n",
       "      <td>16</td>\n",
       "      <td>16</td>\n",
       "      <td>0</td>\n",
       "    </tr>\n",
       "  </tbody>\n",
       "</table>\n",
       "<p>5250 rows × 3 columns</p>\n",
       "</div>"
      ],
      "text/plain": [
       "      label  label_pre  diff\n",
       "0        13         13     0\n",
       "1         7          7     0\n",
       "2        12         12     0\n",
       "3         2          2     0\n",
       "4         0          0     0\n",
       "...     ...        ...   ...\n",
       "5245     12         12     0\n",
       "5246     11         11     0\n",
       "5247     15         15     0\n",
       "5248     13         13     0\n",
       "5249     16         16     0\n",
       "\n",
       "[5250 rows x 3 columns]"
      ]
     },
     "execution_count": 39,
     "metadata": {},
     "output_type": "execute_result"
    }
   ],
   "source": [
    "prediction_df"
   ]
  },
  {
   "cell_type": "code",
   "execution_count": 71,
   "metadata": {},
   "outputs": [],
   "source": [
    "prediction_df.to_csv(r'/home/zxt/data/results/prediction_df.csv',index=False)"
   ]
  },
  {
   "cell_type": "code",
   "execution_count": 40,
   "metadata": {},
   "outputs": [
    {
     "name": "stdout",
     "output_type": "stream",
     "text": [
      "elephant acc:      0.849\n",
      "wild_boar acc:      0.826\n",
      "gazellethomosons acc:      0.945\n",
      "squirrel acc:      0.943\n",
      "hedgehog acc:      0.996\n",
      "guineafowl acc:      0.968\n",
      "moose acc:      0.989\n",
      "coyote acc:      0.905\n",
      "bird acc:      0.886\n",
      "fox acc:      0.915\n",
      "giraffe acc:      0.944\n",
      "buffalo acc:      0.883\n",
      "hare acc:      0.973\n",
      "vehicle acc:      0.950\n",
      "wildebeest acc:      0.789\n",
      "cattle acc:      0.740\n",
      "skunk acc:      0.949\n",
      "lion acc:      0.876\n",
      "zebra acc:      0.833\n",
      "black_bear acc:      0.891\n",
      "racoon acc:      0.961\n"
     ]
    }
   ],
   "source": [
    "onehot_keylist = ['elephant','wild_boar','gazellethomosons','squirrel','hedgehog','guineafowl','moose','coyote','bird',\n",
    "                  'fox','giraffe','buffalo','hare','vehicle','wildebeest','cattle','skunk','lion','zebra','black_bear',\n",
    "                  'racoon']\n",
    "onehot_dict = {'elephant':0,'wild_boar':1,'gazellethomosons':2,'squirrel':3,'hedgehog':4,'guineafowl':5,'moose':6,'coyote':7,\n",
    "              'bird':8,'fox':9,'giraffe':10,'buffalo':11,'hare':12,'vehicle':13,'wildebeest':14,'cattle':15,'skunk':16,'lion':17,\n",
    "              'zebra':18,'black_bear':19,'racoon':20}\n",
    "\n",
    "for animal in onehot_keylist:\n",
    "    name = animal\n",
    "    animal = prediction_df[prediction_df['label']== onehot_dict[animal]]\n",
    "    acc = animal.loc[:,'diff'].value_counts()[0]/len(animal)\n",
    "    print(\"%s acc: %10.3f\" %(name,acc) )"
   ]
  },
  {
   "cell_type": "code",
   "execution_count": null,
   "metadata": {},
   "outputs": [],
   "source": []
  }
 ],
 "metadata": {
  "kernelspec": {
   "display_name": "Python 3",
   "language": "python",
   "name": "python3"
  },
  "language_info": {
   "codemirror_mode": {
    "name": "ipython",
    "version": 3
   },
   "file_extension": ".py",
   "mimetype": "text/x-python",
   "name": "python",
   "nbconvert_exporter": "python",
   "pygments_lexer": "ipython3",
   "version": "3.7.4"
  }
 },
 "nbformat": 4,
 "nbformat_minor": 4
}
